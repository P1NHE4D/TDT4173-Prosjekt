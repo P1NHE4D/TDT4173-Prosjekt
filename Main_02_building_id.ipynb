{
 "cells": [
  {
   "cell_type": "code",
   "execution_count": 1,
   "id": "0521cf02-e108-4128-86b8-a9140653f1e1",
   "metadata": {},
   "outputs": [],
   "source": [
    "import pandas as pd\n",
    "import json\n",
    "import numpy as np\n",
    "import data_imputation as di\n",
    "import scoring_functions as sf"
   ]
  },
  {
   "cell_type": "markdown",
   "id": "15e9b980-f7a4-424f-93ce-94d395cf27d8",
   "metadata": {
    "jp-MarkdownHeadingCollapsed": true,
    "tags": []
   },
   "source": [
    "# Load data"
   ]
  },
  {
   "cell_type": "code",
   "execution_count": 2,
   "id": "1bfed2f9-54c9-4ca2-90f2-315a8bcbdbec",
   "metadata": {},
   "outputs": [],
   "source": [
    "apartments_train = pd.read_csv('data/apartments_train.csv')\n",
    "buildings_train = pd.read_csv('data/buildings_train.csv')\n",
    "apartments_test = pd.read_csv('data/apartments_test.csv')\n",
    "buildings_test = pd.read_csv('data/buildings_test.csv')\n",
    "\n",
    "# load meta info\n",
    "with open('data/apartments_meta.json') as f:\n",
    "    apartments_meta = json.load(f)\n",
    "    \n",
    "with open('data/buildings_meta.json') as f:\n",
    "    buildings_meta = json.load(f)\n",
    "\n",
    "meta_info = apartments_meta + buildings_meta"
   ]
  },
  {
   "cell_type": "code",
   "execution_count": 3,
   "id": "c531ee69-24ff-4bfc-b002-37adc3b9050a",
   "metadata": {},
   "outputs": [],
   "source": [
    "train = pd.merge(\n",
    "    apartments_train, \n",
    "    buildings_train.set_index('id'), \n",
    "    how='left', \n",
    "    left_on='building_id', \n",
    "    right_index=True\n",
    ")\n",
    "test = pd.merge(\n",
    "    apartments_test, \n",
    "    buildings_test.set_index('id'), \n",
    "    how='left', \n",
    "    left_on='building_id', \n",
    "    right_index=True\n",
    ")"
   ]
  },
  {
   "cell_type": "code",
   "execution_count": 4,
   "id": "85e07bbb-3167-4c59-bdb5-328bae016888",
   "metadata": {},
   "outputs": [],
   "source": [
    "ind = test[test[\"longitude\"].isna()].index\n",
    "test.at[ind, \"latitude\"] = 55.56776345324702\n",
    "test.at[ind, \"longitude\"] = 37.48171529826662"
   ]
  },
  {
   "cell_type": "code",
   "execution_count": 5,
   "id": "a545851f-845f-4951-8334-d519364c3c1d",
   "metadata": {},
   "outputs": [],
   "source": [
    "ind = train[train.district.isna()].index\n",
    "train.at[ind, \"district\"] = 12\n",
    "ind = test[test.district.isna()].index\n",
    "test.at[ind, \"district\"] = 12"
   ]
  },
  {
   "cell_type": "code",
   "execution_count": 6,
   "id": "058e2d08-d2bf-4f40-b07b-5c0053f01b76",
   "metadata": {},
   "outputs": [],
   "source": [
    "train[\"log_price\"] = np.log1p(train.price)\n",
    "train[\"price_per_m2\"] = train.price / train.area_total"
   ]
  },
  {
   "cell_type": "markdown",
   "id": "e8a118e6-9b00-49a3-ad69-fe5cc426717f",
   "metadata": {
    "tags": []
   },
   "source": [
    "# Feature Engineering"
   ]
  },
  {
   "cell_type": "code",
   "execution_count": 103,
   "id": "7d36cc68-9661-4df2-b091-3b08a2233cba",
   "metadata": {},
   "outputs": [],
   "source": [
    "import feature_engineering as fe\n",
    "\n",
    "def construct_features(data, feature_config):\n",
    "    if feature_config[\"distance_to_center\"]:\n",
    "        fe.distance_to_center_feature(data)\n",
    "    if feature_config[\"distance_to_metro\"]:\n",
    "        add_metro_lines = feature_config[\"add_metro_lines\"]\n",
    "        fe.distance_to_metro_feature(data, add_metro_lines)\n",
    "    if feature_config[\"distance_to_hospital\"]:\n",
    "        fe.distance_to_hospital_feature(data)\n",
    "    if feature_config[\"bathrooms\"]:\n",
    "        fe.bathrooms_feature(data)\n",
    "    if feature_config[\"bearing\"]:\n",
    "        fe.bearing_feature(data)\n",
    "    if feature_config[\"elevator\"]:\n",
    "        fe.elevator_feature(data)\n",
    "    if feature_config[\"has_seller\"]:\n",
    "        fe.has_seller_feature(data)\n",
    "    if feature_config[\"room_size_avg\"]:\n",
    "        fe.room_size_avg_feature(data)\n",
    "    if feature_config[\"area_total_bins\"]:\n",
    "        fe.area_total_bins_feature(data)\n",
    "    if feature_config[\"distance_to_airport\"]:\n",
    "        fe.distance_to_airport_feature(data)\n",
    "    if feature_config[\"distance_to_state_uni\"]:\n",
    "        fe.distance_to_state_university_feature(data)\n",
    "    if feature_config[\"distance_to_tech_uni\"]:\n",
    "        fe.distance_to_tech_uni_feature(data)\n",
    "    if feature_config[\"area_total_log\"]:\n",
    "        fe.area_total_log_feature(data)\n",
    "    if feature_config[\"remaining_area\"]:\n",
    "        fe.remaining_area_feature(data)\n",
    "    if feature_config[\"box_areas\"]:\n",
    "        add_loc_dummys(data)\n",
    "    fe.wealthy_districts_features(data, feature_config)\n",
    "    return data"
   ]
  },
  {
   "cell_type": "code",
   "execution_count": 104,
   "id": "888179cf-94f0-4644-b7fc-b8d40a6f0c53",
   "metadata": {},
   "outputs": [],
   "source": [
    "def add_loc_dummys(data):\n",
    "    locs_with_high_corr = ['loc_37.625_55.725',\n",
    "                           'loc_37.6_55.725',\n",
    "                           'loc_37.6_55.75',\n",
    "                           'loc_37.575_55.7',\n",
    "                           'loc_37.575_55.725',\n",
    "                           'loc_37.575_55.75',\n",
    "                           'loc_37.55_55.7',\n",
    "                           'loc_37.55_55.725']\n",
    "    for lon in np.arange(37.45, 37.65, 0.025):\n",
    "        for lat in np.arange(55.6, 55.8, 0.025):\n",
    "            column_name = \"loc_\" + str(round(lon, 3)) + \"_\" + str(round(lat, 3))\n",
    "            if column_name in locs_with_high_corr:\n",
    "                data[column_name] = 0\n",
    "                indexes = data[\n",
    "                    (lon < data['longitude']) & (data['longitude'] < lon + 0.025) & (lat < data['latitude']) & (\n",
    "                                data['latitude'] < lat + 0.025)\n",
    "                    ].index\n",
    "\n",
    "                data.loc[indexes, column_name] = 1"
   ]
  },
  {
   "cell_type": "markdown",
   "id": "fc3b3152-587c-46b5-b681-be8093acb306",
   "metadata": {
    "tags": []
   },
   "source": [
    "# Imputation"
   ]
  },
  {
   "cell_type": "code",
   "execution_count": 8,
   "id": "2f4df68f-3caa-46cc-a2c9-3b91e72021c3",
   "metadata": {},
   "outputs": [],
   "source": [
    "def impute_area_living_bins(train_data, test_data):\n",
    "    feature = \"area_living\"\n",
    "    di.impute_with_bin_mean(data=train_data, train_data=train_data, test_data=test_data, feature=feature, bin_feature=\"area_total\")\n",
    "    di.impute_with_bin_mean(data=test_data, train_data=train_data, test_data=test_data, feature=feature, bin_feature=\"area_total\")\n",
    "    d = train_data[train_data.area_living.isna()]\n",
    "    for ind, row in d.iterrows():\n",
    "        train_data.at[ind, feature] = 0.85 * row.area_total\n",
    "    d = test_data[test_data.area_living.isna()]\n",
    "    for ind, row in d.iterrows():\n",
    "        test_data.at[ind, feature] = 0.85 * row.area_total\n",
    "    print(\"Remaining nan values in {} for {}: {}\".format(\"train_data\", feature, len(train_data[train_data[feature].isna()])))\n",
    "    print(\"Remaining nan values in {} for {}: {}\".format(\"test_data\", feature, len(test_data[test_data[feature].isna()])))\n",
    "    return train_data, test_data"
   ]
  },
  {
   "cell_type": "code",
   "execution_count": 9,
   "id": "8b100b63-9cb5-47e8-9b51-b7b005f7fcbd",
   "metadata": {},
   "outputs": [],
   "source": [
    "def impute_area_kitchen_bins(train_data, test_data):\n",
    "    feature = \"area_kitchen\"\n",
    "    di.impute_with_bin_mean(data=train_data, train_data=train_data, test_data=test_data, feature=feature, bin_feature=\"area_total\")\n",
    "    di.impute_with_bin_mean(data=test_data, train_data=train_data, test_data=test_data, feature=feature, bin_feature=\"area_total\")\n",
    "    d = train_data[train_data.area_kitchen.isna()]\n",
    "    for ind, row in d.iterrows():\n",
    "        train_data.at[ind, feature] = 0.05 * row.area_total\n",
    "    d = test_data[test_data.area_kitchen.isna()]\n",
    "    for ind, row in d.iterrows():\n",
    "        test_data.at[ind, feature] = 0.05 * row.area_total\n",
    "    print(\"Remaining nan values in {} for {}: {}\".format(\"train_data\", feature, len(train_data[train_data[feature].isna()])))\n",
    "    print(\"Remaining nan values in {} for {}: {}\".format(\"test_data\", feature, len(test_data[test_data[feature].isna()])))\n",
    "    return train_data, test_data"
   ]
  },
  {
   "cell_type": "code",
   "execution_count": 10,
   "id": "16f12253-fbd9-4ec3-b727-2f8610e4c8d3",
   "metadata": {},
   "outputs": [],
   "source": [
    "def impute_bathrooms_bins(train_data, test_data):\n",
    "    feature = \"bathrooms\"\n",
    "    di.impute_with_bin_mean(data=train_data, train_data=train_data, test_data=test_data, feature=feature, bin_feature=\"area_total\")\n",
    "    di.impute_with_bin_mean(data=test_data, train_data=train_data, test_data=test_data, feature=feature, bin_feature=\"area_total\")\n",
    "    ind = train_data[train_data.area_total <= 800].index\n",
    "    train_data.at[ind, feature] = 5\n",
    "    ind = train_data[train_data.area_total > 800].index\n",
    "    train_data.at[ind, feature] = 6\n",
    "    ind = test_data[test_data.area_total <= 800].index\n",
    "    test_data.at[ind, feature] = 5\n",
    "    ind = test_data[test_data.area_total > 800].index\n",
    "    test_data.at[ind, feature] = 6\n",
    "    print(\"Remaining nan values in {} for {}: {}\".format(\"train_data\", feature, len(train_data[train_data[feature].isna()])))\n",
    "    print(\"Remaining nan values in {} for {}: {}\".format(\"test_data\", feature, len(test_data[test_data[feature].isna()])))\n",
    "    return train_data, test_data"
   ]
  },
  {
   "cell_type": "code",
   "execution_count": 11,
   "id": "8f970b5d-17bd-431c-9472-b934abf2bf47",
   "metadata": {},
   "outputs": [],
   "source": [
    "def impute_constructed_bins(train_data, test_data):\n",
    "    feature = \"constructed\"\n",
    "    d = train_data[train_data.constructed.isna()]\n",
    "    ind = d[d.new == 1].index\n",
    "    train_data.at[ind, feature] = 2021\n",
    "    d = test_data[test_data.constructed.isna()]\n",
    "    ind = d[d.new == 1].index\n",
    "    test_data.at[ind, feature] = 2021\n",
    "    di.impute_with_bin_mean(data=train_data, train_data=train_data, test_data=test_data, feature=feature, bins=12, bin_feature=\"district\")\n",
    "    di.impute_with_bin_mean(data=test_data, train_data=train_data, test_data=test_data, feature=feature, bins=12, bin_feature=\"district\")\n",
    "    print(\"Remaining nan values in {} for {}: {}\".format(\"train_data\", feature, len(train_data[train_data[feature].isna()])))\n",
    "    print(\"Remaining nan values in {} for {}: {}\".format(\"test_data\", feature, len(test_data[test_data[feature].isna()])))\n",
    "    return train_data, test_data"
   ]
  },
  {
   "cell_type": "code",
   "execution_count": 12,
   "id": "c7028327-b0aa-4b4b-ad93-911a7a1255ce",
   "metadata": {},
   "outputs": [],
   "source": [
    "def impute_material_bins(train_data, test_data):\n",
    "    feature = \"material\"\n",
    "    di.impute_with_bin_mean(data=train_data, train_data=train_data, test_data=test_data, feature=feature, bins=20, bin_feature=\"constructed\")\n",
    "    di.impute_with_bin_mean(data=test_data, train_data=train_data, test_data=test_data, feature=feature, bins=20, bin_feature=\"constructed\")\n",
    "    print(\"Remaining nan values in {} for {}: {}\".format(\"train_data\", feature, len(train_data[train_data[feature].isna()])))\n",
    "    print(\"Remaining nan values in {} for {}: {}\".format(\"test_data\", feature, len(test_data[test_data[feature].isna()])))\n",
    "    return train_data, test_data"
   ]
  },
  {
   "cell_type": "code",
   "execution_count": 13,
   "id": "0c147af8-cd50-47ae-a5e8-f77edbedca88",
   "metadata": {},
   "outputs": [],
   "source": [
    "def impute_material_category(train_data, test_data):\n",
    "    feature = \"material\"\n",
    "    ind = train_data[train_data.material.isna()].index\n",
    "    train_data.at[ind, feature] = 7\n",
    "    ind = test_data[test_data.material.isna()].index\n",
    "    test_data.at[ind, feature] = 7\n",
    "    print(\"Remaining nan values in {} for {}: {}\".format(\"train_data\", feature, len(train_data[train_data[feature].isna()])))\n",
    "    print(\"Remaining nan values in {} for {}: {}\".format(\"test_data\", feature, len(test_data[test_data[feature].isna()])))\n",
    "    return train_data, test_data"
   ]
  },
  {
   "cell_type": "code",
   "execution_count": 14,
   "id": "ad7ad689-c64c-4cc7-94b8-cdfdbb39816d",
   "metadata": {},
   "outputs": [],
   "source": [
    "def impute_heating_bins(train_data, test_data):\n",
    "    feature = \"heating\"\n",
    "    di.impute_with_bin_mean(data=train_data, train_data=train_data, test_data=test_data, feature=feature, bins=20, bin_feature=\"constructed\")\n",
    "    di.impute_with_bin_mean(data=test_data, train_data=train_data, test_data=test_data, feature=feature, bins=20, bin_feature=\"constructed\")\n",
    "    print(\"Remaining nan values in {} for {}: {}\".format(\"train_data\", feature, len(train_data[train_data[feature].isna()])))\n",
    "    print(\"Remaining nan values in {} for {}: {}\".format(\"test_data\", feature, len(test_data[test_data[feature].isna()])))\n",
    "    return train_data, test_data"
   ]
  },
  {
   "cell_type": "code",
   "execution_count": 15,
   "id": "8637cc4e-0a39-4cc5-ad27-767707435d1b",
   "metadata": {},
   "outputs": [],
   "source": [
    "def impute_heating_category(train_data, test_data):\n",
    "    feature = \"heating\"\n",
    "    ind = train_data[train_data.heating.isna()].index\n",
    "    train_data.at[ind, feature] = 4\n",
    "    ind = test_data[test_data.heating.isna()].index\n",
    "    test_data.at[ind, feature] = 4\n",
    "    print(\"Remaining nan values in {} for {}: {}\".format(\"train_data\", feature, len(train_data[train_data[feature].isna()])))\n",
    "    print(\"Remaining nan values in {} for {}: {}\".format(\"test_data\", feature, len(test_data[test_data[feature].isna()])))\n",
    "    return train_data, test_data"
   ]
  },
  {
   "cell_type": "code",
   "execution_count": 16,
   "id": "f6e6a242-c2ac-49ba-b8d3-ca8a45a373c6",
   "metadata": {},
   "outputs": [],
   "source": [
    "def impute_parking_bins(train_data, test_data):\n",
    "    feature = \"parking\"\n",
    "    di.impute_with_bin_mean(data=train_data, train_data=train_data, test_data=test_data, feature=feature, bin_feature=\"area_total\")\n",
    "    di.impute_with_bin_mean(data=test_data, train_data=train_data, test_data=test_data, feature=feature, bin_feature=\"area_total\")\n",
    "    ind = train_data[train_data.parking.isna()].index\n",
    "    train_data.at[ind, feature] = 0\n",
    "    ind = test_data[test_data.parking.isna()].index\n",
    "    test_data.at[ind, feature] = 0\n",
    "    print(\"Remaining nan values in {} for {}: {}\".format(\"train_data\", feature, len(train_data[train_data[feature].isna()])))\n",
    "    print(\"Remaining nan values in {} for {}: {}\".format(\"test_data\", feature, len(test_data[test_data[feature].isna()])))\n",
    "    return train_data, test_data"
   ]
  },
  {
   "cell_type": "code",
   "execution_count": 17,
   "id": "e570ae4c-00a2-4b71-ae39-83546632a09c",
   "metadata": {},
   "outputs": [],
   "source": [
    "def impute_parking_category(train_data, test_data):\n",
    "    feature = \"parking\"\n",
    "    ind = train_data[train_data.parking.isna()].index\n",
    "    train_data.at[ind, feature] = 3\n",
    "    ind = test_data[test_data.parking.isna()].index\n",
    "    test_data.at[ind, feature] = 3\n",
    "    print(\"Remaining nan values in {} for {}: {}\".format(\"train_data\", feature, len(train_data[train_data[feature].isna()])))\n",
    "    print(\"Remaining nan values in {} for {}: {}\".format(\"test_data\", feature, len(test_data[test_data[feature].isna()])))\n",
    "    return train_data, test_data"
   ]
  },
  {
   "cell_type": "code",
   "execution_count": 18,
   "id": "6ca7bb9d-def8-4bf4-a0ea-f5a8e817cbf5",
   "metadata": {},
   "outputs": [],
   "source": [
    "def impute_elevator_without_bins(train_data, test_data):\n",
    "    feature = \"elevator_without\"\n",
    "    di.impute_with_bin_mean(data=train_data, train_data=train_data, test_data=test_data, feature=feature, bins=20, bin_feature=\"stories\")\n",
    "    di.impute_with_bin_mean(data=test_data, train_data=train_data, test_data=test_data, feature=feature, bins=20, bin_feature=\"stories\")\n",
    "    print(\"Remaining nan values in {} for {}: {}\".format(\"train_data\", feature, len(train_data[train_data[feature].isna()])))\n",
    "    print(\"Remaining nan values in {} for {}: {}\".format(\"test_data\", feature, len(test_data[test_data[feature].isna()])))\n",
    "    return train_data, test_data"
   ]
  },
  {
   "cell_type": "code",
   "execution_count": 19,
   "id": "58b79cda-3f21-45e7-afe5-8fa4a9caeb86",
   "metadata": {},
   "outputs": [],
   "source": [
    "def impute_remaining_nans(train_data, test_data):\n",
    "    train_data.loc[:, \"seller\"] = train_data.loc[:, \"seller\"].fillna(4)\n",
    "    test_data.loc[:, \"seller\"] = test_data.loc[:, \"seller\"].fillna(4)\n",
    "    train_data.loc[:, \"layout\"] = train_data.loc[:, \"layout\"].fillna(3)\n",
    "    test_data.loc[:, \"layout\"] = test_data.loc[:, \"layout\"].fillna(3)\n",
    "    train_data.loc[:, \"condition\"] = train_data.loc[:, \"condition\"].fillna(4)\n",
    "    test_data.loc[:, \"condition\"] = test_data.loc[:, \"condition\"].fillna(4)\n",
    "    print(\"Remaining nan values in {} for {}: {}\".format(\"train_data\", \"seller\", len(train_data[train_data.seller.isna()])))\n",
    "    print(\"Remaining nan values in {} for {}: {}\".format(\"test_data\", \"seller\", len(test_data[test_data.seller.isna()])))\n",
    "    print(\"Remaining nan values in {} for {}: {}\".format(\"train_data\", \"layout\", len(train_data[train_data.layout.isna()])))\n",
    "    print(\"Remaining nan values in {} for {}: {}\".format(\"test_data\", \"layout\", len(test_data[test_data.layout.isna()])))\n",
    "    print(\"Remaining nan values in {} for {}: {}\".format(\"train_data\", \"condition\", len(train_data[train_data.condition.isna()])))\n",
    "    print(\"Remaining nan values in {} for {}: {}\".format(\"test_data\", \"condition\", len(test_data[test_data.condition.isna()])))\n",
    "    feats = [\"ceiling\", \"bathrooms_shared\", \"bathrooms_private\", \"windows_court\", \"windows_street\", \"garbage_chute\", \"balconies\", \"loggias\", \"phones\", \"elevator_passenger\", \"elevator_service\"]\n",
    "    for feat in feats:\n",
    "        di.impute_with_bin_mean(data=train_data, train_data=train_data, test_data=test_data, feature=feat, bin_feature=\"area_total\")\n",
    "        di.impute_with_bin_mean(data=test_data, train_data=train_data, test_data=test_data, feature=feat, bin_feature=\"area_total\")\n",
    "        fill_value = train_data[train_data[feat].notna()][feat].mean(axis=0).round()\n",
    "        train_data.loc[:, feat] = train_data.loc[:, feat].fillna(fill_value)\n",
    "        fill_value = test_data[test_data[feat].notna()][feat].mean(axis=0).round()\n",
    "        test_data.loc[:, feat] = test_data.loc[:, feat].fillna(fill_value)\n",
    "        print(\"Remaining nan values in {} for {}: {}\".format(\"train_data\", feat, len(train_data[train_data[feat].isna()])))\n",
    "        print(\"Remaining nan values in {} for {}: {}\".format(\"test_data\", feat, len(test_data[test_data[feat].isna()])))\n",
    "        \n",
    "    return train_data, test_data"
   ]
  },
  {
   "cell_type": "markdown",
   "id": "f09cafa9-ecbf-481b-8a37-57b2ac688b06",
   "metadata": {
    "jp-MarkdownHeadingCollapsed": true,
    "tags": []
   },
   "source": [
    "# Outliers"
   ]
  },
  {
   "cell_type": "code",
   "execution_count": 20,
   "id": "0bf30c2d-e546-47b5-92ed-7e5915db313c",
   "metadata": {},
   "outputs": [],
   "source": [
    "def remove_outliers(train_data):\n",
    "    pass"
   ]
  },
  {
   "cell_type": "code",
   "execution_count": 21,
   "id": "f583085f-4606-4876-9836-0da73e8efa67",
   "metadata": {},
   "outputs": [],
   "source": [
    "def remove_min_max_outliers(train_data, test_data, features):\n",
    "    t = train_data.copy()\n",
    "    test_feat_min_max = pd.DataFrame({\"max\": test_data.describe().loc[\"max\"], \"min\": test_data.describe().loc[\"min\"]}).T\n",
    "    for feature in features:\n",
    "        max_val = test_feat_min_max[feature][\"max\"]\n",
    "        min_val = test_feat_min_max[feature][\"min\"]\n",
    "        max_ind = t[t[feature] > max_val].index\n",
    "        min_ind = t[t[feature] < min_val].index\n",
    "        t.drop(max_ind, inplace=True)\n",
    "        t.drop(min_ind, inplace=True)\n",
    "\n",
    "    print(\"Samples before: {} | Samples after: {}\".format(len(train_data), len(t)))\n",
    "    return t"
   ]
  },
  {
   "cell_type": "markdown",
   "id": "c5014ec1-0f6a-4dbd-a0cc-ba8893f9ce6a",
   "metadata": {
    "jp-MarkdownHeadingCollapsed": true,
    "tags": []
   },
   "source": [
    "# Categorical Data"
   ]
  },
  {
   "cell_type": "code",
   "execution_count": 22,
   "id": "a89d42ff-058d-4857-a50f-acf0ec8ecb1c",
   "metadata": {},
   "outputs": [],
   "source": [
    "def one_hot_encoding(train_data, test_data, config):\n",
    "    district_categories = {\n",
    "        3: \"East\",\n",
    "        6: \"South-West\",\n",
    "        5: \"South\",\n",
    "        4: \"South-East\",\n",
    "        0: \"Central\",\n",
    "        2: \"North-East\",\n",
    "        1: \"North\",\n",
    "        8: \"North-West\",\n",
    "        7: \"West\",\n",
    "        11: \"Novomoskovsk\",\n",
    "        10: \"Troitsk\",\n",
    "        9: \"Zelenograd\",\n",
    "        12: \"Other_district\"\n",
    "    }\n",
    "    material_categories = {\n",
    "        0: \"Bricks\",\n",
    "        1: \"Wood\",\n",
    "        2: \"Monolith\",\n",
    "        3: \"Panel\",\n",
    "        4: \"Block\",\n",
    "        5: \"Monolithic_brick\",\n",
    "        6: \"Stalin_project\",\n",
    "        7: \"Other_material\"\n",
    "    }\n",
    "    heating_categories = {\n",
    "        0: \"Central\",\n",
    "        1: \"Individual\",\n",
    "        2: \"Boiler\",\n",
    "        3: \"Autonomous_boiler\",\n",
    "        4: \"Other_heating\"\n",
    "    }\n",
    "    parking_categories = {\n",
    "        0: \"Ground\",\n",
    "        1: \"Underground\",\n",
    "        2: \"Multilevel\",\n",
    "        3: \"No_parking\"\n",
    "    }\n",
    "    seller_categories = {\n",
    "        0: \"Owner\",\n",
    "        1: \"Company\",\n",
    "        2: \"Agents\",\n",
    "        3: \"Developer\",\n",
    "        4: \"Other_seller\"\n",
    "    }\n",
    "    layout_categoires = {\n",
    "        0: \"Adjacent\",\n",
    "        1: \"Isolated\",\n",
    "        2: \"Adjacent_isolated\",\n",
    "        3: \"Other_layout\"\n",
    "    }\n",
    "    condition_categories = {\n",
    "        0: \"Undecorated\",\n",
    "        1: \"Decorated\",\n",
    "        2: \"Euro_repair\",\n",
    "        3: \"Special_design\",\n",
    "        4: \"Other_condition\"\n",
    "    }\n",
    "    categorical_features = {\n",
    "        \"parking\": parking_categories,\n",
    "        \"heating\": heating_categories,\n",
    "        \"material\": material_categories,\n",
    "        \"district\": district_categories,\n",
    "        \"seller\": seller_categories,\n",
    "        \"layout\": layout_categoires,\n",
    "        \"condition\": condition_categories\n",
    "    }\n",
    "    for feat in config[\"one_hot_encode_features\"]:\n",
    "        fe.one_hot_encode(train_data, categorical_features[feat], feat, remove_org=False)\n",
    "        fe.one_hot_encode(test_data, categorical_features[feat], feat, remove_org=False)\n",
    "    return train_data, test_data"
   ]
  },
  {
   "cell_type": "markdown",
   "id": "d6f94402-4010-4bd4-91e0-930c8572ab0b",
   "metadata": {
    "tags": []
   },
   "source": [
    "# Feature Selection"
   ]
  },
  {
   "cell_type": "code",
   "execution_count": 118,
   "id": "bf8607cb-72cc-4a5f-8740-292a0cb0365c",
   "metadata": {},
   "outputs": [],
   "source": [
    "def get_features(train_data, nan_threshold, corr_threshold):\n",
    "    nan_count = [len(train_data[train_data[feature].isna()]) for feature in train_data.corr()[\"log_price\"].index]\n",
    "    corr_df = pd.DataFrame(\n",
    "        {\n",
    "            \"corr\": train_data.corr(method=\"spearman\")[\"log_price\"], \n",
    "            \"nan_count\": nan_count,\n",
    "            \"nan_percentage\": (np.array(nan_count) / train_data.shape[0])\n",
    "        }\n",
    "    ).sort_values(by=\"nan_count\", ascending=False)\n",
    "    rel_feats = corr_df[(corr_df.nan_percentage <= nan_threshold) & (corr_df[\"corr\"].abs() >= corr_threshold)]\n",
    "    return rel_feats.index\n"
   ]
  },
  {
   "cell_type": "markdown",
   "id": "ffb2a252-91f7-454b-9131-668bb693f4d8",
   "metadata": {
    "tags": []
   },
   "source": [
    "# Training"
   ]
  },
  {
   "cell_type": "code",
   "execution_count": 24,
   "id": "537cf883-d9ab-4831-a335-65487d3ed4db",
   "metadata": {},
   "outputs": [],
   "source": [
    "from sklearn.neighbors import BallTree\n",
    "from tqdm import tqdm\n",
    "def val_split_using_test(train_data, test_data, target_features, ratio=0.2):\n",
    "    \"\"\"Use buildings close to test buildings as val set?\"\"\"\n",
    "    d_train = train_data.copy()\n",
    "    d_test = test_data.copy()\n",
    "    \n",
    "    val_sample_count = round(ratio * train_data.shape[0])\n",
    "    features = [\"area_total\", \"latitude\", \"longitude\", \"floor\", \"rooms\", \"district\"]\n",
    "    test_samples = d_test.sample(n=val_sample_count)\n",
    "    val_set = []\n",
    "    for i, test_sample in tqdm(test_samples.iterrows(), total=val_sample_count):\n",
    "        tree = BallTree(d_train[features])\n",
    "        ind = tree.query([test_sample[features]], return_distance=False)[0][0]\n",
    "        val_set.append(d_train.loc[ind])\n",
    "        d_train.drop(index=ind, inplace=True)\n",
    "        d_train.reset_index(drop=True, inplace=True)\n",
    "    d_val =  pd.DataFrame(val_set).reset_index()\n",
    "    train_y = d_train[target_features]\n",
    "    val_y = d_val[target_features]\n",
    "    return d_train, d_val, train_y, val_y"
   ]
  },
  {
   "cell_type": "code",
   "execution_count": 92,
   "id": "49f196c1-06c4-465f-a922-72ccf43e52a3",
   "metadata": {},
   "outputs": [
    {
     "name": "stdout",
     "output_type": "stream",
     "text": [
      "6776 23142 23142\n"
     ]
    },
    {
     "name": "stderr",
     "output_type": "stream",
     "text": [
      "100%|█████████████████████████████████████████████████████████████████████████████████████████████████████████████████████████████████████████████████████████████████████████████████████████████████████| 5/5 [00:00<00:00, 39.01it/s]"
     ]
    },
    {
     "name": "stdout",
     "output_type": "stream",
     "text": [
      "6776 16280 16280\n",
      "6776 16280 16280\n",
      "6776 16280 16280\n",
      "6776 16280 16280\n",
      "6776 16280 16280\n"
     ]
    },
    {
     "name": "stderr",
     "output_type": "stream",
     "text": [
      "\n"
     ]
    }
   ],
   "source": [
    "def val_split_using_building_id(train_data, target_features, ratio=0.2):\n",
    "    \"\"\"Split cleanly by building_id\"\"\"    \n",
    "    X = train_data.copy()\n",
    "    #y = train_data[target_features].copy()\n",
    "    \n",
    "    \n",
    "    for i, (building_id_train, building_id_val) in tqdm(enumerate(kf.split(train_data.building_id.unique())), total=5):\n",
    "        train_indices = train_data[train_data.building_id.isin(building_id_train)].index\n",
    "        val_indices = train_data[train_data.building_id.isin(building_id_val)].index\n",
    "        X_train = train_data.loc[train_indices]\n",
    "        X_val = train_data.loc[val_indices]\n",
    "        print(len(building_id_train)+len(building_id_val) ,len(train_indices)+len(val_indices), len(X_train)+len(X_val))\n",
    "    #\n",
    "\n",
    "\n",
    "    return X_train, X_val, X_train[target_features], X_val[target_features] #, y_train, y_val\n",
    "\n",
    "X_train_g, X_val_g, y_train_g, y_val_g = val_split_using_building_id(train_data, [\"log_price\", \"price_per_m2\", \"price\"], config[\"split_ratio\"])\n"
   ]
  },
  {
   "cell_type": "code",
   "execution_count": 64,
   "id": "d62f40b4-0d32-4473-9ce3-6f75977ccd4f",
   "metadata": {},
   "outputs": [
    {
     "data": {
      "text/html": [
       "<div>\n",
       "<style scoped>\n",
       "    .dataframe tbody tr th:only-of-type {\n",
       "        vertical-align: middle;\n",
       "    }\n",
       "\n",
       "    .dataframe tbody tr th {\n",
       "        vertical-align: top;\n",
       "    }\n",
       "\n",
       "    .dataframe thead th {\n",
       "        text-align: right;\n",
       "    }\n",
       "</style>\n",
       "<table border=\"1\" class=\"dataframe\">\n",
       "  <thead>\n",
       "    <tr style=\"text-align: right;\">\n",
       "      <th></th>\n",
       "      <th>id</th>\n",
       "      <th>seller</th>\n",
       "      <th>price</th>\n",
       "      <th>area_total</th>\n",
       "      <th>area_kitchen</th>\n",
       "      <th>area_living</th>\n",
       "      <th>floor</th>\n",
       "      <th>rooms</th>\n",
       "      <th>layout</th>\n",
       "      <th>ceiling</th>\n",
       "      <th>...</th>\n",
       "      <th>Other_seller</th>\n",
       "      <th>Undecorated</th>\n",
       "      <th>Decorated</th>\n",
       "      <th>Euro_repair</th>\n",
       "      <th>Special_design</th>\n",
       "      <th>Other_condition</th>\n",
       "      <th>Adjacent</th>\n",
       "      <th>Isolated</th>\n",
       "      <th>Adjacent_isolated</th>\n",
       "      <th>Other_layout</th>\n",
       "    </tr>\n",
       "  </thead>\n",
       "  <tbody>\n",
       "    <tr>\n",
       "      <th>0</th>\n",
       "      <td>0</td>\n",
       "      <td>3.0</td>\n",
       "      <td>7139520.0</td>\n",
       "      <td>59.2</td>\n",
       "      <td>12.5</td>\n",
       "      <td>31.0</td>\n",
       "      <td>2.0</td>\n",
       "      <td>2.0</td>\n",
       "      <td>3.0</td>\n",
       "      <td>2.65</td>\n",
       "      <td>...</td>\n",
       "      <td>0</td>\n",
       "      <td>0</td>\n",
       "      <td>0</td>\n",
       "      <td>0</td>\n",
       "      <td>0</td>\n",
       "      <td>1</td>\n",
       "      <td>0</td>\n",
       "      <td>0</td>\n",
       "      <td>0</td>\n",
       "      <td>1</td>\n",
       "    </tr>\n",
       "    <tr>\n",
       "      <th>1</th>\n",
       "      <td>1</td>\n",
       "      <td>4.0</td>\n",
       "      <td>10500000.0</td>\n",
       "      <td>88.0</td>\n",
       "      <td>14.2</td>\n",
       "      <td>48.0</td>\n",
       "      <td>18.0</td>\n",
       "      <td>3.0</td>\n",
       "      <td>1.0</td>\n",
       "      <td>3.00</td>\n",
       "      <td>...</td>\n",
       "      <td>1</td>\n",
       "      <td>0</td>\n",
       "      <td>0</td>\n",
       "      <td>0</td>\n",
       "      <td>1</td>\n",
       "      <td>0</td>\n",
       "      <td>0</td>\n",
       "      <td>1</td>\n",
       "      <td>0</td>\n",
       "      <td>0</td>\n",
       "    </tr>\n",
       "    <tr>\n",
       "      <th>2</th>\n",
       "      <td>2</td>\n",
       "      <td>3.0</td>\n",
       "      <td>9019650.0</td>\n",
       "      <td>78.5</td>\n",
       "      <td>22.5</td>\n",
       "      <td>40.8</td>\n",
       "      <td>12.0</td>\n",
       "      <td>3.0</td>\n",
       "      <td>3.0</td>\n",
       "      <td>2.65</td>\n",
       "      <td>...</td>\n",
       "      <td>0</td>\n",
       "      <td>0</td>\n",
       "      <td>0</td>\n",
       "      <td>0</td>\n",
       "      <td>0</td>\n",
       "      <td>1</td>\n",
       "      <td>0</td>\n",
       "      <td>0</td>\n",
       "      <td>0</td>\n",
       "      <td>1</td>\n",
       "    </tr>\n",
       "    <tr>\n",
       "      <th>3</th>\n",
       "      <td>3</td>\n",
       "      <td>4.0</td>\n",
       "      <td>10500000.0</td>\n",
       "      <td>88.0</td>\n",
       "      <td>14.0</td>\n",
       "      <td>48.0</td>\n",
       "      <td>18.0</td>\n",
       "      <td>3.0</td>\n",
       "      <td>3.0</td>\n",
       "      <td>3.00</td>\n",
       "      <td>...</td>\n",
       "      <td>1</td>\n",
       "      <td>0</td>\n",
       "      <td>0</td>\n",
       "      <td>1</td>\n",
       "      <td>0</td>\n",
       "      <td>0</td>\n",
       "      <td>0</td>\n",
       "      <td>0</td>\n",
       "      <td>0</td>\n",
       "      <td>1</td>\n",
       "    </tr>\n",
       "    <tr>\n",
       "      <th>4</th>\n",
       "      <td>4</td>\n",
       "      <td>4.0</td>\n",
       "      <td>13900000.0</td>\n",
       "      <td>78.0</td>\n",
       "      <td>17.0</td>\n",
       "      <td>35.0</td>\n",
       "      <td>7.0</td>\n",
       "      <td>2.0</td>\n",
       "      <td>1.0</td>\n",
       "      <td>2.90</td>\n",
       "      <td>...</td>\n",
       "      <td>1</td>\n",
       "      <td>0</td>\n",
       "      <td>0</td>\n",
       "      <td>0</td>\n",
       "      <td>1</td>\n",
       "      <td>0</td>\n",
       "      <td>0</td>\n",
       "      <td>1</td>\n",
       "      <td>0</td>\n",
       "      <td>0</td>\n",
       "    </tr>\n",
       "    <tr>\n",
       "      <th>...</th>\n",
       "      <td>...</td>\n",
       "      <td>...</td>\n",
       "      <td>...</td>\n",
       "      <td>...</td>\n",
       "      <td>...</td>\n",
       "      <td>...</td>\n",
       "      <td>...</td>\n",
       "      <td>...</td>\n",
       "      <td>...</td>\n",
       "      <td>...</td>\n",
       "      <td>...</td>\n",
       "      <td>...</td>\n",
       "      <td>...</td>\n",
       "      <td>...</td>\n",
       "      <td>...</td>\n",
       "      <td>...</td>\n",
       "      <td>...</td>\n",
       "      <td>...</td>\n",
       "      <td>...</td>\n",
       "      <td>...</td>\n",
       "      <td>...</td>\n",
       "    </tr>\n",
       "    <tr>\n",
       "      <th>23280</th>\n",
       "      <td>23280</td>\n",
       "      <td>4.0</td>\n",
       "      <td>13300000.0</td>\n",
       "      <td>65.0</td>\n",
       "      <td>16.0</td>\n",
       "      <td>32.0</td>\n",
       "      <td>3.0</td>\n",
       "      <td>2.0</td>\n",
       "      <td>3.0</td>\n",
       "      <td>3.00</td>\n",
       "      <td>...</td>\n",
       "      <td>1</td>\n",
       "      <td>0</td>\n",
       "      <td>0</td>\n",
       "      <td>0</td>\n",
       "      <td>1</td>\n",
       "      <td>0</td>\n",
       "      <td>0</td>\n",
       "      <td>0</td>\n",
       "      <td>0</td>\n",
       "      <td>1</td>\n",
       "    </tr>\n",
       "    <tr>\n",
       "      <th>23281</th>\n",
       "      <td>23281</td>\n",
       "      <td>3.0</td>\n",
       "      <td>15854300.0</td>\n",
       "      <td>56.9</td>\n",
       "      <td>9.6</td>\n",
       "      <td>36.5</td>\n",
       "      <td>6.0</td>\n",
       "      <td>2.0</td>\n",
       "      <td>3.0</td>\n",
       "      <td>3.00</td>\n",
       "      <td>...</td>\n",
       "      <td>0</td>\n",
       "      <td>0</td>\n",
       "      <td>0</td>\n",
       "      <td>0</td>\n",
       "      <td>0</td>\n",
       "      <td>1</td>\n",
       "      <td>0</td>\n",
       "      <td>0</td>\n",
       "      <td>0</td>\n",
       "      <td>1</td>\n",
       "    </tr>\n",
       "    <tr>\n",
       "      <th>23282</th>\n",
       "      <td>23282</td>\n",
       "      <td>4.0</td>\n",
       "      <td>19800000.0</td>\n",
       "      <td>73.4</td>\n",
       "      <td>23.0</td>\n",
       "      <td>29.3</td>\n",
       "      <td>16.0</td>\n",
       "      <td>2.0</td>\n",
       "      <td>3.0</td>\n",
       "      <td>3.00</td>\n",
       "      <td>...</td>\n",
       "      <td>1</td>\n",
       "      <td>0</td>\n",
       "      <td>0</td>\n",
       "      <td>0</td>\n",
       "      <td>0</td>\n",
       "      <td>1</td>\n",
       "      <td>0</td>\n",
       "      <td>0</td>\n",
       "      <td>0</td>\n",
       "      <td>1</td>\n",
       "    </tr>\n",
       "    <tr>\n",
       "      <th>23283</th>\n",
       "      <td>23283</td>\n",
       "      <td>0.0</td>\n",
       "      <td>29999000.0</td>\n",
       "      <td>100.8</td>\n",
       "      <td>20.0</td>\n",
       "      <td>NaN</td>\n",
       "      <td>4.0</td>\n",
       "      <td>3.0</td>\n",
       "      <td>3.0</td>\n",
       "      <td>3.00</td>\n",
       "      <td>...</td>\n",
       "      <td>0</td>\n",
       "      <td>0</td>\n",
       "      <td>0</td>\n",
       "      <td>0</td>\n",
       "      <td>0</td>\n",
       "      <td>1</td>\n",
       "      <td>0</td>\n",
       "      <td>0</td>\n",
       "      <td>0</td>\n",
       "      <td>1</td>\n",
       "    </tr>\n",
       "    <tr>\n",
       "      <th>23284</th>\n",
       "      <td>23284</td>\n",
       "      <td>0.0</td>\n",
       "      <td>10950000.0</td>\n",
       "      <td>57.7</td>\n",
       "      <td>8.4</td>\n",
       "      <td>NaN</td>\n",
       "      <td>4.0</td>\n",
       "      <td>2.0</td>\n",
       "      <td>3.0</td>\n",
       "      <td>3.00</td>\n",
       "      <td>...</td>\n",
       "      <td>0</td>\n",
       "      <td>0</td>\n",
       "      <td>0</td>\n",
       "      <td>0</td>\n",
       "      <td>0</td>\n",
       "      <td>1</td>\n",
       "      <td>0</td>\n",
       "      <td>0</td>\n",
       "      <td>0</td>\n",
       "      <td>1</td>\n",
       "    </tr>\n",
       "  </tbody>\n",
       "</table>\n",
       "<p>18562 rows × 102 columns</p>\n",
       "</div>"
      ],
      "text/plain": [
       "          id  seller       price  area_total  area_kitchen  area_living  \\\n",
       "0          0     3.0   7139520.0        59.2          12.5         31.0   \n",
       "1          1     4.0  10500000.0        88.0          14.2         48.0   \n",
       "2          2     3.0   9019650.0        78.5          22.5         40.8   \n",
       "3          3     4.0  10500000.0        88.0          14.0         48.0   \n",
       "4          4     4.0  13900000.0        78.0          17.0         35.0   \n",
       "...      ...     ...         ...         ...           ...          ...   \n",
       "23280  23280     4.0  13300000.0        65.0          16.0         32.0   \n",
       "23281  23281     3.0  15854300.0        56.9           9.6         36.5   \n",
       "23282  23282     4.0  19800000.0        73.4          23.0         29.3   \n",
       "23283  23283     0.0  29999000.0       100.8          20.0          NaN   \n",
       "23284  23284     0.0  10950000.0        57.7           8.4          NaN   \n",
       "\n",
       "       floor  rooms  layout  ceiling  ...  Other_seller  Undecorated  \\\n",
       "0        2.0    2.0     3.0     2.65  ...             0            0   \n",
       "1       18.0    3.0     1.0     3.00  ...             1            0   \n",
       "2       12.0    3.0     3.0     2.65  ...             0            0   \n",
       "3       18.0    3.0     3.0     3.00  ...             1            0   \n",
       "4        7.0    2.0     1.0     2.90  ...             1            0   \n",
       "...      ...    ...     ...      ...  ...           ...          ...   \n",
       "23280    3.0    2.0     3.0     3.00  ...             1            0   \n",
       "23281    6.0    2.0     3.0     3.00  ...             0            0   \n",
       "23282   16.0    2.0     3.0     3.00  ...             1            0   \n",
       "23283    4.0    3.0     3.0     3.00  ...             0            0   \n",
       "23284    4.0    2.0     3.0     3.00  ...             0            0   \n",
       "\n",
       "       Decorated  Euro_repair  Special_design  Other_condition  Adjacent  \\\n",
       "0              0            0               0                1         0   \n",
       "1              0            0               1                0         0   \n",
       "2              0            0               0                1         0   \n",
       "3              0            1               0                0         0   \n",
       "4              0            0               1                0         0   \n",
       "...          ...          ...             ...              ...       ...   \n",
       "23280          0            0               1                0         0   \n",
       "23281          0            0               0                1         0   \n",
       "23282          0            0               0                1         0   \n",
       "23283          0            0               0                1         0   \n",
       "23284          0            0               0                1         0   \n",
       "\n",
       "       Isolated  Adjacent_isolated  Other_layout  \n",
       "0             0                  0             1  \n",
       "1             1                  0             0  \n",
       "2             0                  0             1  \n",
       "3             0                  0             1  \n",
       "4             1                  0             0  \n",
       "...         ...                ...           ...  \n",
       "23280         0                  0             1  \n",
       "23281         0                  0             1  \n",
       "23282         0                  0             1  \n",
       "23283         0                  0             1  \n",
       "23284         0                  0             1  \n",
       "\n",
       "[18562 rows x 102 columns]"
      ]
     },
     "execution_count": 64,
     "metadata": {},
     "output_type": "execute_result"
    }
   ],
   "source": []
  },
  {
   "cell_type": "code",
   "execution_count": 25,
   "id": "a0c1bd2e-5dc2-47be-8b51-65d2c6541d96",
   "metadata": {},
   "outputs": [],
   "source": [
    "from sklearn.model_selection import KFold\n",
    "from tqdm import tqdm\n",
    "\n",
    "def cross_validation(models, train_data, features, model_targets, k=5):\n",
    "    \n",
    "    rsmle_scores = {}\n",
    "    \n",
    "    for model_name, model in models.items():\n",
    "        model_scores, model_train_scores = single_model_cross_validation(model=model, k=k, X_train=train_data[features], y_train=train_data[[\"log_price\", \"price_per_m2\", \"price\"]], target_feature=model_targets[model_name])\n",
    "        print(\"Model: {} | Mean train rsmle: {} | Standard deviation: {}\".format(model_name, model_train_scores.mean(), model_train_scores.std()))\n",
    "        print(\"Model: {} | Mean val rsmle: {} | Standard deviation: {}\".format(model_name, model_scores.mean(), model_scores.std()))\n",
    "        rsmle_scores[model_name] = model_scores.mean()\n",
    "    return rsmle_scores\n",
    "    \n",
    "def single_model_cross_validation(model, k, X_train, y_train, target_feature):\n",
    "    kf = KFold(\n",
    "        n_splits=k,\n",
    "        shuffle=True,\n",
    "        random_state=42\n",
    "    )\n",
    "    scores = []\n",
    "    train_scores = []\n",
    "    train_data = X_train.values\n",
    "    area_total_values = X_train.area_total.values\n",
    "    ground_truth = y_train[target_feature].values\n",
    "    for i, (train_index, test_index) in tqdm(enumerate(kf.split(train_data)), total=k):\n",
    "        model.fit(train_data[train_index], ground_truth[train_index])\n",
    "        train_pred = model.predict(train_data[train_index])\n",
    "        test_pred = model.predict(train_data[test_index])\n",
    "        if target_feature == \"log_price\":\n",
    "            y_true = (np.e ** ground_truth[test_index]) - 1\n",
    "            test_pred = (np.e ** test_pred) - 1\n",
    "            y_true_train = (np.e ** ground_truth[train_index]) - 1\n",
    "            train_pred = (np.e ** train_pred) - 1\n",
    "        elif target_feature == \"price_per_m2\":\n",
    "            y_true = ground_truth[test_index] * area_total_values[test_index]\n",
    "            test_pred = test_pred * area_total_values[test_index]\n",
    "            y_true_train = ground_truth[train_index] * area_total_values[train_index]\n",
    "            train_pred = train_pred * area_total_values[train_index]\n",
    "        else:\n",
    "            raise Exception(\"Unknown target feature!\")\n",
    "        train_rsmle = sf.root_mean_squared_log_error(y_true=y_true_train, y_pred=train_pred)\n",
    "        rsmle = sf.root_mean_squared_log_error(y_true=y_true, y_pred=test_pred)\n",
    "        scores.append(rsmle)\n",
    "        train_scores.append(train_rsmle)\n",
    "    train_scores = np.array(train_scores)\n",
    "    scores = np.array(scores)\n",
    "    return scores, train_scores"
   ]
  },
  {
   "cell_type": "code",
   "execution_count": 120,
   "id": "f5ee5ab9-c54b-4048-a380-1076ac20e104",
   "metadata": {},
   "outputs": [
    {
     "name": "stderr",
     "output_type": "stream",
     "text": [
      "100%|█████████████████████████████████████████████████████████████████████████████████████████████████████████████████████████████████████████████████████████████████████████████████████████████████████| 5/5 [00:00<00:00, 69.96it/s]\n",
      "100%|█████████████████████████████████████████████████████████████████████████████████████████████████████████████████████████████████████████████████████████████████████████████████████████████████████| 5/5 [00:00<00:00, 61.25it/s]"
     ]
    },
    {
     "name": "stdout",
     "output_type": "stream",
     "text": [
      "[   0    1    2 ... 6787 6788 6790]           id  seller        price  area_total  area_kitchen  area_living  \\\n",
      "2          2     3.0    9019650.0        78.5          22.5         40.8   \n",
      "5          5     3.0    5464800.0        36.0           5.8         21.6   \n",
      "7          7     NaN    5950000.0        37.6           9.8         19.0   \n",
      "8          8     NaN    8700000.0       106.9          12.8         67.9   \n",
      "9          9     NaN   10990000.0        63.6          10.4         32.5   \n",
      "...      ...     ...          ...         ...           ...          ...   \n",
      "23276  23276     NaN   13300000.0        53.0           5.0         33.0   \n",
      "23277  23277     3.0    4874760.0        19.8           5.1          9.4   \n",
      "23279  23279     3.0  157500000.0       355.4           NaN          NaN   \n",
      "23283  23283     0.0   29999000.0       100.8          20.0          NaN   \n",
      "23284  23284     0.0   10950000.0        57.7           8.4          NaN   \n",
      "\n",
      "       floor  rooms  layout  ceiling  ...  loc_37.575_55.725  \\\n",
      "2       12.0    3.0     NaN     2.65  ...                  0   \n",
      "5        1.0    2.0     NaN     2.65  ...                  0   \n",
      "7       16.0    1.0     NaN      NaN  ...                  0   \n",
      "8       21.0    3.0     1.0     2.80  ...                  0   \n",
      "9        7.0    2.0     1.0      NaN  ...                  0   \n",
      "...      ...    ...     ...      ...  ...                ...   \n",
      "23276    9.0    2.0     0.0      NaN  ...                  0   \n",
      "23277   17.0    1.0     NaN     2.80  ...                  0   \n",
      "23279   33.0    5.0     NaN      NaN  ...                  0   \n",
      "23283    4.0    3.0     NaN      NaN  ...                  0   \n",
      "23284    4.0    2.0     NaN      NaN  ...                  0   \n",
      "\n",
      "       loc_37.575_55.75  loc_37.6_55.725  loc_37.6_55.75  loc_37.625_55.725  \\\n",
      "2                     0                0               0                  0   \n",
      "5                     0                0               0                  0   \n",
      "7                     0                0               0                  0   \n",
      "8                     0                0               0                  0   \n",
      "9                     0                0               0                  0   \n",
      "...                 ...              ...             ...                ...   \n",
      "23276                 0                0               0                  0   \n",
      "23277                 0                0               0                  0   \n",
      "23279                 0                0               0                  0   \n",
      "23283                 0                0               0                  0   \n",
      "23284                 0                0               0                  0   \n",
      "\n",
      "       is_in_khamovniki  is_in_yakimanka  is_in_arbat  is_in_presnensky  \\\n",
      "2                   0.0              0.0          0.0               0.0   \n",
      "5                   0.0              0.0          0.0               0.0   \n",
      "7                   0.0              0.0          0.0               0.0   \n",
      "8                   0.0              0.0          0.0               0.0   \n",
      "9                   0.0              0.0          0.0               0.0   \n",
      "...                 ...              ...          ...               ...   \n",
      "23276               0.0              0.0          0.0               0.0   \n",
      "23277               0.0              0.0          0.0               0.0   \n",
      "23279               0.0              0.0          0.0               0.0   \n",
      "23283               0.0              0.0          0.0               0.0   \n",
      "23284               0.0              0.0          0.0               0.0   \n",
      "\n",
      "       is_in_tverskoy  \n",
      "2                 0.0  \n",
      "5                 0.0  \n",
      "7                 0.0  \n",
      "8                 0.0  \n",
      "9                 0.0  \n",
      "...               ...  \n",
      "23276             0.0  \n",
      "23277             0.0  \n",
      "23279             0.0  \n",
      "23283             0.0  \n",
      "23284             0.0  \n",
      "\n",
      "[13107 rows x 71 columns]\n",
      "[   0    1    2 ... 6788 6789 6790]           id  seller       price  area_total  area_kitchen  area_living  \\\n",
      "0          0     3.0   7139520.0       59.20          12.5         31.0   \n",
      "1          1     NaN  10500000.0       88.00          14.2         48.0   \n",
      "3          3     NaN  10500000.0       88.00          14.0         48.0   \n",
      "4          4     NaN  13900000.0       78.00          17.0         35.0   \n",
      "5          5     3.0   5464800.0       36.00           5.8         21.6   \n",
      "...      ...     ...         ...         ...           ...          ...   \n",
      "23275  23275     NaN  24504064.0       79.60           NaN         45.7   \n",
      "23276  23276     NaN  13300000.0       53.00           5.0         33.0   \n",
      "23278  23278     3.0  80291302.0      209.72           NaN          NaN   \n",
      "23280  23280     NaN  13300000.0       65.00          16.0         32.0   \n",
      "23284  23284     0.0  10950000.0       57.70           8.4          NaN   \n",
      "\n",
      "       floor  rooms  layout  ceiling  ...  loc_37.575_55.725  \\\n",
      "0        2.0    2.0     NaN     2.65  ...                  0   \n",
      "1       18.0    3.0     1.0      NaN  ...                  0   \n",
      "3       18.0    3.0     NaN      NaN  ...                  0   \n",
      "4        7.0    2.0     1.0     2.90  ...                  0   \n",
      "5        1.0    2.0     NaN     2.65  ...                  0   \n",
      "...      ...    ...     ...      ...  ...                ...   \n",
      "23275    9.0    2.0     NaN      NaN  ...                  0   \n",
      "23276    9.0    2.0     0.0      NaN  ...                  0   \n",
      "23278   32.0    4.0     NaN      NaN  ...                  0   \n",
      "23280    3.0    2.0     NaN     3.00  ...                  0   \n",
      "23284    4.0    2.0     NaN      NaN  ...                  0   \n",
      "\n",
      "       loc_37.575_55.75  loc_37.6_55.725  loc_37.6_55.75  loc_37.625_55.725  \\\n",
      "0                     0                0               0                  0   \n",
      "1                     0                0               0                  0   \n",
      "3                     0                0               0                  0   \n",
      "4                     0                0               0                  0   \n",
      "5                     0                0               0                  0   \n",
      "...                 ...              ...             ...                ...   \n",
      "23275                 0                0               0                  0   \n",
      "23276                 0                0               0                  0   \n",
      "23278                 0                0               0                  0   \n",
      "23280                 0                0               0                  0   \n",
      "23284                 0                0               0                  0   \n",
      "\n",
      "       is_in_khamovniki  is_in_yakimanka  is_in_arbat  is_in_presnensky  \\\n",
      "0                   0.0              0.0          0.0               0.0   \n",
      "1                   0.0              0.0          0.0               0.0   \n",
      "3                   0.0              0.0          0.0               0.0   \n",
      "4                   0.0              0.0          0.0               0.0   \n",
      "5                   0.0              0.0          0.0               0.0   \n",
      "...                 ...              ...          ...               ...   \n",
      "23275               0.0              0.0          0.0               0.0   \n",
      "23276               0.0              0.0          0.0               0.0   \n",
      "23278               0.0              0.0          0.0               1.0   \n",
      "23280               0.0              0.0          0.0               0.0   \n",
      "23284               0.0              0.0          0.0               0.0   \n",
      "\n",
      "       is_in_tverskoy  \n",
      "0                 0.0  \n",
      "1                 0.0  \n",
      "3                 0.0  \n",
      "4                 0.0  \n",
      "5                 0.0  \n",
      "...               ...  \n",
      "23275             0.0  \n",
      "23276             0.0  \n",
      "23278             0.0  \n",
      "23280             0.0  \n",
      "23284             0.0  \n",
      "\n",
      "[13059 rows x 71 columns]\n",
      "[   1    2    3 ... 6783 6786 6789]           id  seller        price  area_total  area_kitchen  area_living  \\\n",
      "0          0     3.0    7139520.0       59.20          12.5         31.0   \n",
      "1          1     NaN   10500000.0       88.00          14.2         48.0   \n",
      "2          2     3.0    9019650.0       78.50          22.5         40.8   \n",
      "3          3     NaN   10500000.0       88.00          14.0         48.0   \n",
      "4          4     NaN   13900000.0       78.00          17.0         35.0   \n",
      "...      ...     ...          ...         ...           ...          ...   \n",
      "23277  23277     3.0    4874760.0       19.80           5.1          9.4   \n",
      "23278  23278     3.0   80291302.0      209.72           NaN          NaN   \n",
      "23279  23279     3.0  157500000.0      355.40           NaN          NaN   \n",
      "23280  23280     NaN   13300000.0       65.00          16.0         32.0   \n",
      "23283  23283     0.0   29999000.0      100.80          20.0          NaN   \n",
      "\n",
      "       floor  rooms  layout  ceiling  ...  loc_37.575_55.725  \\\n",
      "0        2.0    2.0     NaN     2.65  ...                  0   \n",
      "1       18.0    3.0     1.0      NaN  ...                  0   \n",
      "2       12.0    3.0     NaN     2.65  ...                  0   \n",
      "3       18.0    3.0     NaN      NaN  ...                  0   \n",
      "4        7.0    2.0     1.0     2.90  ...                  0   \n",
      "...      ...    ...     ...      ...  ...                ...   \n",
      "23277   17.0    1.0     NaN     2.80  ...                  0   \n",
      "23278   32.0    4.0     NaN      NaN  ...                  0   \n",
      "23279   33.0    5.0     NaN      NaN  ...                  0   \n",
      "23280    3.0    2.0     NaN     3.00  ...                  0   \n",
      "23283    4.0    3.0     NaN      NaN  ...                  0   \n",
      "\n",
      "       loc_37.575_55.75  loc_37.6_55.725  loc_37.6_55.75  loc_37.625_55.725  \\\n",
      "0                     0                0               0                  0   \n",
      "1                     0                0               0                  0   \n",
      "2                     0                0               0                  0   \n",
      "3                     0                0               0                  0   \n",
      "4                     0                0               0                  0   \n",
      "...                 ...              ...             ...                ...   \n",
      "23277                 0                0               0                  0   \n",
      "23278                 0                0               0                  0   \n",
      "23279                 0                0               0                  0   \n",
      "23280                 0                0               0                  0   \n",
      "23283                 0                0               0                  0   \n",
      "\n",
      "       is_in_khamovniki  is_in_yakimanka  is_in_arbat  is_in_presnensky  \\\n",
      "0                   0.0              0.0          0.0               0.0   \n",
      "1                   0.0              0.0          0.0               0.0   \n",
      "2                   0.0              0.0          0.0               0.0   \n",
      "3                   0.0              0.0          0.0               0.0   \n",
      "4                   0.0              0.0          0.0               0.0   \n",
      "...                 ...              ...          ...               ...   \n",
      "23277               0.0              0.0          0.0               0.0   \n",
      "23278               0.0              0.0          0.0               1.0   \n",
      "23279               0.0              0.0          0.0               0.0   \n",
      "23280               0.0              0.0          0.0               0.0   \n",
      "23283               0.0              0.0          0.0               0.0   \n",
      "\n",
      "       is_in_tverskoy  \n",
      "0                 0.0  \n",
      "1                 0.0  \n",
      "2                 0.0  \n",
      "3                 0.0  \n",
      "4                 0.0  \n",
      "...               ...  \n",
      "23277             0.0  \n",
      "23278             0.0  \n",
      "23279             0.0  \n",
      "23280             0.0  \n",
      "23283             0.0  \n",
      "\n",
      "[12840 rows x 71 columns]\n",
      "[   0    3    4 ... 6788 6789 6790]           id  seller        price  area_total  area_kitchen  area_living  \\\n",
      "0          0     3.0    7139520.0       59.20          12.5         31.0   \n",
      "1          1     NaN   10500000.0       88.00          14.2         48.0   \n",
      "2          2     3.0    9019650.0       78.50          22.5         40.8   \n",
      "3          3     NaN   10500000.0       88.00          14.0         48.0   \n",
      "4          4     NaN   13900000.0       78.00          17.0         35.0   \n",
      "...      ...     ...          ...         ...           ...          ...   \n",
      "23278  23278     3.0   80291302.0      209.72           NaN          NaN   \n",
      "23279  23279     3.0  157500000.0      355.40           NaN          NaN   \n",
      "23280  23280     NaN   13300000.0       65.00          16.0         32.0   \n",
      "23283  23283     0.0   29999000.0      100.80          20.0          NaN   \n",
      "23284  23284     0.0   10950000.0       57.70           8.4          NaN   \n",
      "\n",
      "       floor  rooms  layout  ceiling  ...  loc_37.575_55.725  \\\n",
      "0        2.0    2.0     NaN     2.65  ...                  0   \n",
      "1       18.0    3.0     1.0      NaN  ...                  0   \n",
      "2       12.0    3.0     NaN     2.65  ...                  0   \n",
      "3       18.0    3.0     NaN      NaN  ...                  0   \n",
      "4        7.0    2.0     1.0     2.90  ...                  0   \n",
      "...      ...    ...     ...      ...  ...                ...   \n",
      "23278   32.0    4.0     NaN      NaN  ...                  0   \n",
      "23279   33.0    5.0     NaN      NaN  ...                  0   \n",
      "23280    3.0    2.0     NaN     3.00  ...                  0   \n",
      "23283    4.0    3.0     NaN      NaN  ...                  0   \n",
      "23284    4.0    2.0     NaN      NaN  ...                  0   \n",
      "\n",
      "       loc_37.575_55.75  loc_37.6_55.725  loc_37.6_55.75  loc_37.625_55.725  \\\n",
      "0                     0                0               0                  0   \n",
      "1                     0                0               0                  0   \n",
      "2                     0                0               0                  0   \n",
      "3                     0                0               0                  0   \n",
      "4                     0                0               0                  0   \n",
      "...                 ...              ...             ...                ...   \n",
      "23278                 0                0               0                  0   \n",
      "23279                 0                0               0                  0   \n",
      "23280                 0                0               0                  0   \n",
      "23283                 0                0               0                  0   \n",
      "23284                 0                0               0                  0   \n",
      "\n",
      "       is_in_khamovniki  is_in_yakimanka  is_in_arbat  is_in_presnensky  \\\n",
      "0                   0.0              0.0          0.0               0.0   \n",
      "1                   0.0              0.0          0.0               0.0   \n",
      "2                   0.0              0.0          0.0               0.0   \n",
      "3                   0.0              0.0          0.0               0.0   \n",
      "4                   0.0              0.0          0.0               0.0   \n",
      "...                 ...              ...          ...               ...   \n",
      "23278               0.0              0.0          0.0               1.0   \n",
      "23279               0.0              0.0          0.0               0.0   \n",
      "23280               0.0              0.0          0.0               0.0   \n",
      "23283               0.0              0.0          0.0               0.0   \n",
      "23284               0.0              0.0          0.0               0.0   \n",
      "\n",
      "       is_in_tverskoy  \n",
      "0                 0.0  \n",
      "1                 0.0  \n",
      "2                 0.0  \n",
      "3                 0.0  \n",
      "4                 0.0  \n",
      "...               ...  \n",
      "23278             0.0  \n",
      "23279             0.0  \n",
      "23280             0.0  \n",
      "23283             0.0  \n",
      "23284             0.0  \n",
      "\n",
      "[13114 rows x 71 columns]\n",
      "[   0    1    2 ... 6788 6789 6790]           id  seller        price  area_total  area_kitchen  area_living  \\\n",
      "0          0     3.0    7139520.0       59.20          12.5         31.0   \n",
      "1          1     NaN   10500000.0       88.00          14.2         48.0   \n",
      "2          2     3.0    9019650.0       78.50          22.5         40.8   \n",
      "3          3     NaN   10500000.0       88.00          14.0         48.0   \n",
      "4          4     NaN   13900000.0       78.00          17.0         35.0   \n",
      "...      ...     ...          ...         ...           ...          ...   \n",
      "23278  23278     3.0   80291302.0      209.72           NaN          NaN   \n",
      "23279  23279     3.0  157500000.0      355.40           NaN          NaN   \n",
      "23280  23280     NaN   13300000.0       65.00          16.0         32.0   \n",
      "23283  23283     0.0   29999000.0      100.80          20.0          NaN   \n",
      "23284  23284     0.0   10950000.0       57.70           8.4          NaN   \n",
      "\n",
      "       floor  rooms  layout  ceiling  ...  loc_37.575_55.725  \\\n",
      "0        2.0    2.0     NaN     2.65  ...                  0   \n",
      "1       18.0    3.0     1.0      NaN  ...                  0   \n",
      "2       12.0    3.0     NaN     2.65  ...                  0   \n",
      "3       18.0    3.0     NaN      NaN  ...                  0   \n",
      "4        7.0    2.0     1.0     2.90  ...                  0   \n",
      "...      ...    ...     ...      ...  ...                ...   \n",
      "23278   32.0    4.0     NaN      NaN  ...                  0   \n",
      "23279   33.0    5.0     NaN      NaN  ...                  0   \n",
      "23280    3.0    2.0     NaN     3.00  ...                  0   \n",
      "23283    4.0    3.0     NaN      NaN  ...                  0   \n",
      "23284    4.0    2.0     NaN      NaN  ...                  0   \n",
      "\n",
      "       loc_37.575_55.75  loc_37.6_55.725  loc_37.6_55.75  loc_37.625_55.725  \\\n",
      "0                     0                0               0                  0   \n",
      "1                     0                0               0                  0   \n",
      "2                     0                0               0                  0   \n",
      "3                     0                0               0                  0   \n",
      "4                     0                0               0                  0   \n",
      "...                 ...              ...             ...                ...   \n",
      "23278                 0                0               0                  0   \n",
      "23279                 0                0               0                  0   \n",
      "23280                 0                0               0                  0   \n",
      "23283                 0                0               0                  0   \n",
      "23284                 0                0               0                  0   \n",
      "\n",
      "       is_in_khamovniki  is_in_yakimanka  is_in_arbat  is_in_presnensky  \\\n",
      "0                   0.0              0.0          0.0               0.0   \n",
      "1                   0.0              0.0          0.0               0.0   \n",
      "2                   0.0              0.0          0.0               0.0   \n",
      "3                   0.0              0.0          0.0               0.0   \n",
      "4                   0.0              0.0          0.0               0.0   \n",
      "...                 ...              ...          ...               ...   \n",
      "23278               0.0              0.0          0.0               1.0   \n",
      "23279               0.0              0.0          0.0               0.0   \n",
      "23280               0.0              0.0          0.0               0.0   \n",
      "23283               0.0              0.0          0.0               0.0   \n",
      "23284               0.0              0.0          0.0               0.0   \n",
      "\n",
      "       is_in_tverskoy  \n",
      "0                 0.0  \n",
      "1                 0.0  \n",
      "2                 0.0  \n",
      "3                 0.0  \n",
      "4                 0.0  \n",
      "...               ...  \n",
      "23278             0.0  \n",
      "23279             0.0  \n",
      "23280             0.0  \n",
      "23283             0.0  \n",
      "23284             0.0  \n",
      "\n",
      "[13612 rows x 71 columns]\n"
     ]
    },
    {
     "name": "stderr",
     "output_type": "stream",
     "text": [
      "\n"
     ]
    }
   ],
   "source": [
    "# delete\n",
    "def single_model_cross_validation_building_id(model, k, X_train, y_train, target_feature):\n",
    "    kf = KFold(\n",
    "        n_splits=k,\n",
    "        shuffle=True,\n",
    "        random_state=42\n",
    "    )\n",
    "    scores = []\n",
    "    train_scores = []\n",
    "    train_data = X_train.values\n",
    "    area_total_values = X_train.area_total.values\n",
    "    ground_truth = y_train[target_feature].values\n",
    "    for i, (train_index, test_index) in tqdm(enumerate(kf.split(train_data)), total=k):\n",
    "        model.fit(train_data[train_index], ground_truth[train_index])\n",
    "        train_pred = model.predict(train_data[train_index])\n",
    "        test_pred = model.predict(train_data[test_index])\n",
    "        if target_feature == \"log_price\":\n",
    "            y_true = (np.e ** ground_truth[test_index]) - 1\n",
    "            test_pred = (np.e ** test_pred) - 1\n",
    "            y_true_train = (np.e ** ground_truth[train_index]) - 1\n",
    "            train_pred = (np.e ** train_pred) - 1\n",
    "        elif target_feature == \"price_per_m2\":\n",
    "            y_true = ground_truth[test_index] * area_total_values[test_index]\n",
    "            test_pred = test_pred * area_total_values[test_index]\n",
    "            y_true_train = ground_truth[train_index] * area_total_values[train_index]\n",
    "            train_pred = train_pred * area_total_values[train_index]\n",
    "        else:\n",
    "            raise Exception(\"Unknown target feature!\")\n",
    "        train_rsmle = sf.root_mean_squared_log_error(y_true=y_true_train, y_pred=train_pred)\n",
    "        rsmle = sf.root_mean_squared_log_error(y_true=y_true, y_pred=test_pred)\n",
    "        scores.append(rsmle)\n",
    "        train_scores.append(train_rsmle)\n",
    "    train_scores = np.array(train_scores)\n",
    "    scores = np.array(scores)\n",
    "    return scores, train_scores\n",
    "kf = KFold(\n",
    "        n_splits=5,\n",
    "        shuffle=True,\n",
    "        random_state=42\n",
    "    )\n",
    "for i, (building_id_train, building_id_val) in tqdm(enumerate(kf.split(train_data.building_id.unique())), total=5):\n",
    "    train_indices = train_data[train_data.building_id.isin(building_id_train)].index\n",
    "    val_indices = train_data[train_data.building_id.isin(building_id_val)].index\n",
    "    X_train = train_data.loc[train_indices]\n",
    "    X_val = train_data.loc[val_indices]\n",
    "    #print(len(building_id_train)+len(building_id_val) ,len(train_indices)+len(val_indices), len(X_train)+len(X_val))\n",
    "\n",
    "    \n",
    "len(train_data.index), len(train_data.building_id.unique()), len(train_data)\n",
    "for i, (building_id_train, building_id_val) in tqdm(enumerate(kf.split(train_data.building_id.unique())), total=5):\n",
    "    print(building_id_train, train_data[train_data.building_id.isin(building_id_train)])"
   ]
  },
  {
   "cell_type": "code",
   "execution_count": 26,
   "id": "7117c222-2a47-4f0d-a859-f5b0a1fc4a77",
   "metadata": {},
   "outputs": [],
   "source": [
    "def train_models(X_train, X_val, y_train, y_val, models, model_config):\n",
    "    rsmle_scores = {}\n",
    "    val_preds = []\n",
    "    for model_name, model in models.items():\n",
    "        target_value = model_config[model_name]\n",
    "        model.fit(X_train, y_train[target_value])\n",
    "        train_pred = model.predict(X_train)\n",
    "        val_pred = model.predict(X_val)\n",
    "        if target_value == \"log_price\":\n",
    "            train_pred = (np.e ** train_pred) - 1\n",
    "            val_pred = (np.e ** val_pred) - 1\n",
    "        elif target_value == \"price_per_m2\":\n",
    "            train_pred *= X_train.area_total\n",
    "            val_pred *= X_val.area_total\n",
    "        rsmle_train = sf.root_mean_squared_log_error(y_true=y_train[\"price\"], y_pred=train_pred)\n",
    "        rsmle_val = sf.root_mean_squared_log_error(y_true=y_val[\"price\"], y_pred=val_pred)\n",
    "        # rsmle_scores[\"{}_train\".format(model_name)] = rsmle_train\n",
    "        rsmle_scores[model_name] = rsmle_val\n",
    "        print(\"Model: {} | RSMLE Train: {} | RSMLE Val: {}\".format(model_name, rsmle_train, rsmle_val))\n",
    "        val_preds.append(val_pred)\n",
    "    \n",
    "    # averaging\n",
    "    acc = pd.DataFrame(rsmle_scores, index=[0])\n",
    "    acc = acc.T\n",
    "    acc.columns = [\"rsmle\"]\n",
    "    avg_prediction = np.average(val_preds, \n",
    "        weights = 1 / acc['rsmle'] ** 4,\n",
    "        axis=0\n",
    "    )\n",
    "    avg_rsmle = sf.root_mean_squared_log_error(y_true=y_val[\"price\"], y_pred=avg_prediction)\n",
    "    print(\"Avg. RSMLE Val: {}\".format(avg_rsmle))\n",
    "    \n",
    "    return rsmle_scores"
   ]
  },
  {
   "cell_type": "code",
   "execution_count": 105,
   "id": "5bef618c-418b-4f35-8884-8f8e259d2158",
   "metadata": {},
   "outputs": [
    {
     "name": "stdout",
     "output_type": "stream",
     "text": [
      "Constructing features...\n"
     ]
    }
   ],
   "source": [
    "feature_config = {\n",
    "    \"distance_to_center\": True,\n",
    "    \"distance_to_metro\": True, # slight improvement\n",
    "    \"distance_to_hospital\": True, \n",
    "    \"elevator\": False, # not improving\n",
    "    \"has_seller\": False, # deteriorating\n",
    "    \"bathrooms\": False, # not improving\n",
    "    \"bearing\": True, # slight improvement\n",
    "    \"top_floor\": False,\n",
    "    \"distance_to_airport\": False, # no improvement\n",
    "    \"add_metro_lines\": True, # slight improvement\n",
    "    \"room_size_avg\": False, # deteriorating\n",
    "    \"area_total_bins\": False, # not improving\n",
    "    \"area_total_log\": False, # not improving,\n",
    "    \"remaining_area\": False, # deteriorates significantly,\n",
    "    \"distance_to_state_uni\": True, #improved slightly\n",
    "    \"distance_to_tech_uni\": True, # improved slightly\n",
    "    \"is_in_khamovniki\": True, # improving\n",
    "    \"is_in_yakimanka\": True, # improving\n",
    "    \"is_in_arbat\": True,\n",
    "    \"is_in_presnensky\": True,\n",
    "    \"is_in_tverskoy\": True,\n",
    "    \"distance_to_ulitsa_ostozhenka\": False,\n",
    "    \"box_areas\":True #\n",
    "}\n",
    "\n",
    "print(\"Constructing features...\")\n",
    "train_with_feats = train.copy()\n",
    "test_with_feats = test.copy()\n",
    "train_data = construct_features(train_with_feats, feature_config)\n",
    "test_data = construct_features(test_with_feats, feature_config)"
   ]
  },
  {
   "cell_type": "code",
   "execution_count": 106,
   "id": "39619cae-862c-4d4e-b15f-01b9a8cb04ec",
   "metadata": {},
   "outputs": [
    {
     "data": {
      "text/plain": [
       "Index(['id', 'seller', 'price', 'area_total', 'area_kitchen', 'area_living',\n",
       "       'floor', 'rooms', 'layout', 'ceiling', 'bathrooms_shared',\n",
       "       'bathrooms_private', 'windows_court', 'windows_street', 'balconies',\n",
       "       'loggias', 'condition', 'phones', 'building_id', 'new', 'latitude',\n",
       "       'longitude', 'district', 'street', 'address', 'constructed', 'material',\n",
       "       'stories', 'elevator_without', 'elevator_passenger', 'elevator_service',\n",
       "       'parking', 'garbage_chute', 'heating', 'log_price', 'price_per_m2',\n",
       "       'distance_to_center', 'distance_to_metro', 'metro_line_1',\n",
       "       'metro_line_2', 'metro_line_3', 'metro_line_4', 'metro_line_5',\n",
       "       'metro_line_6', 'metro_line_7', 'metro_line_8', 'metro_line_9',\n",
       "       'metro_line_10', 'metro_line_11', 'metro_line_12', 'metro_line_13',\n",
       "       'metro_line_14', 'metro_line_15', 'number_of_metro_lines',\n",
       "       'distance_to_hospital', 'bearing', 'distance_to_state_uni',\n",
       "       'distance_to_tech_uni', 'loc_37.55_55.7', 'loc_37.55_55.725',\n",
       "       'loc_37.575_55.7', 'loc_37.575_55.725', 'loc_37.575_55.75',\n",
       "       'loc_37.6_55.725', 'loc_37.6_55.75', 'loc_37.625_55.725',\n",
       "       'is_in_khamovniki', 'is_in_yakimanka', 'is_in_arbat',\n",
       "       'is_in_presnensky', 'is_in_tverskoy'],\n",
       "      dtype='object')"
      ]
     },
     "execution_count": 106,
     "metadata": {},
     "output_type": "execute_result"
    }
   ],
   "source": []
  },
  {
   "cell_type": "code",
   "execution_count": 28,
   "id": "c0b97efd-3f97-41ce-ac7c-2b76cf98c739",
   "metadata": {},
   "outputs": [],
   "source": [
    "def prepare_data(train_data, test_data, config):\n",
    "    \n",
    "    ###### data imputation ######\n",
    "    print(\"Imputing missing data...\")\n",
    "    if config[\"area_living\"] == \"impute_bins\":\n",
    "        train_data, test_data = impute_area_living_bins(train_data, test_data)\n",
    "    if config[\"area_kitchen\"] == \"impute_bins\":\n",
    "        train_data, test_data = impute_area_kitchen_bins(train_data, test_data)\n",
    "    if config[\"bathrooms\"] == \"impute_bins\":\n",
    "        train_data, test_data = impute_bathrooms_bins(train_data, test_data)\n",
    "    if config[\"constructed\"] == \"impute_bins\":\n",
    "        train_data, test_data = impute_constructed_bins(train_data, test_data)\n",
    "    if config[\"material\"] == \"impute_bins\":\n",
    "        train_data, test_data = impute_material_bins(train_data, test_data)\n",
    "    elif config[\"material\"] == \"impute_category\":\n",
    "        train_data, test_data = impute_material_category(train_data, test_data)\n",
    "    if config[\"heating\"] == \"impute_bins\":\n",
    "        train_data, test_data = impute_heating_bins(train_data, test_data)\n",
    "    elif config[\"heating\"] == \"impute_category\":\n",
    "        train_data, test_data = impute_heating_category(train_data, test_data)\n",
    "    if config[\"parking\"] == \"impute_bins\":\n",
    "        train_data, test_data = impute_parking_bins(train_data, test_data)\n",
    "    elif config[\"parking\"] == \"impute_category\":\n",
    "        train_data, test_data = impute_parking_category(train_data, test_data)\n",
    "    if config[\"elevator_without\"] == \"impute_bins\":\n",
    "        train_data, test_data = impute_elevator_without_bins(train_data, test_data)\n",
    "    train_data, test_data = impute_remaining_nans(train_data, test_data)\n",
    "    \n",
    "    \n",
    "    ###### categorical features ######\n",
    "    print(\"One-hot-encoding categorical features...\")\n",
    "    if config[\"one_hot_encoding\"]:\n",
    "        train_data, test_data = one_hot_encoding(train_data, test_data, config)\n",
    "    \n",
    "    ###### feature selection ######\n",
    "    print(\"Feature selection...\")\n",
    "    features = get_features(train_data=train_data, nan_threshold=config[\"nan_threshold\"], corr_threshold=config[\"corr_threshold\"])\n",
    "    features = features.drop([\"id\", \"building_id\", \"heating\", \"material\", \"log_price\", \"price\", \"price_per_m2\", \"parking\", \"district\"], errors=\"ignore\")\n",
    "    features = features.drop(config[\"drop_features\"], errors=\"ignore\")\n",
    "    print(\"Features: {}\".format(features.to_numpy()))\n",
    "    \n",
    "    ###### outliers ######\n",
    "    print(\"Removing outliers...\")\n",
    "    if config[\"remove_outliers\"]:\n",
    "        train_data = remove_outliers(train_data)\n",
    "    if config[\"remove_min_max_outliers\"]:\n",
    "        train_data = remove_min_max_outliers(train_data, test_data, features)\n",
    "    return train_data, test_data, features"
   ]
  },
  {
   "cell_type": "code",
   "execution_count": 29,
   "id": "1651cbf5-d82c-46e7-bed3-9f1948bb0453",
   "metadata": {},
   "outputs": [],
   "source": [
    "from sklearn.model_selection import train_test_split\n",
    "\n",
    "def training(config):\n",
    "    train_data = train_with_feats.copy()\n",
    "    test_data = test_with_feats.copy()\n",
    "    \n",
    "    ###### prepare data ######\n",
    "    train_data, test_data, features = prepare_data(train_data, test_data, config)\n",
    "    \n",
    "    ###### training ######\n",
    "    if config[\"training_method\"] == \"based_on_test\":\n",
    "        X_train, X_val, y_train, y_val = val_split_using_test(train_data, test_data, [\"log_price\", \"price_per_m2\", \"price\"], config[\"split_ratio\"])\n",
    "        scores = train_models(X_train[features], X_val[features], y_train, y_val, config[\"models\"], config[\"model_targets\"])\n",
    "    elif config[\"training_method\"] == \"based_on_building_id\":\n",
    "        X_train, X_val, y_train, y_val = val_split_using_building_id(train_data, [\"log_price\", \"price_per_m2\", \"price\"], config[\"split_ratio\"])\n",
    "        scores = train_models(X_train[features], X_val[features], y_train, y_val, config[\"models\"], config[\"model_targets\"])\n",
    "    elif config[\"training_method\"] == \"cross_validation\":\n",
    "        scores = cross_validation(models=config[\"models\"], train_data=train_data, features=features, model_targets=config[\"model_targets\"])\n",
    "    elif config[\"training_method\"] == \"random\":\n",
    "        X_train, X_val, y_train, y_val = train_test_split(train_data[features], train_data[[\"log_price\", \"price_per_m2\", \"price\"]], test_size=config[\"split_ratio\"])\n",
    "        scores = train_models(X_train, X_val, y_train, y_val, config[\"models\"], config[\"model_targets\"])\n",
    "    elif config[\"training_method\"] == \"kfold_stacking\":\n",
    "        scores = kfold_stacking(train_data[features], train_data[[\"log_price\", \"price_per_m2\", \"price\"]], config[\"models\"], config[\"model_targets\"])\n",
    "    else:\n",
    "        pass\n",
    "    \n",
    "    ###### prediction ######\n",
    "    if config[\"predict\"]:\n",
    "        predictions = []\n",
    "        for model_name, model in config[\"models\"].items():\n",
    "            target_feature = config[\"model_targets\"][model_name]\n",
    "            if config[\"retrain_on_full_dataset\"]:\n",
    "                model.fit(train_data[features], train_data[target_feature])\n",
    "            model_pred = model.predict(test_data[features])\n",
    "            if target_feature == \"log_price\":\n",
    "                model_pred = (np.e ** model_pred) - 1\n",
    "            else:\n",
    "                model_pred *= test_data.area_total\n",
    "            predictions.append(model_pred)\n",
    "        if config[\"predict_method\"] == \"weighted_average\":\n",
    "            if not scores:\n",
    "                raise Exception(\"Scores missing. Averaging not possible.\")\n",
    "            else:\n",
    "                scores = pd.DataFrame(scores, index=[0]).T\n",
    "                scores.columns = [\"rsmle\"]\n",
    "                pred = np.average(predictions, \n",
    "                    weights = 1 / scores['rsmle'] ** 4,\n",
    "                    axis=0\n",
    "                )\n",
    "        pred = np.mean(predictions, axis=0)\n",
    "        submission = pd.DataFrame()\n",
    "        submission['id'] = test_data.id\n",
    "        submission['price_prediction'] = pred\n",
    "        submission.to_csv('submission.csv', index=False)\n",
    "    \n",
    "    return scores"
   ]
  },
  {
   "cell_type": "markdown",
   "id": "00bf2a67-eb4b-4eda-be8a-7818bb992c5a",
   "metadata": {
    "tags": []
   },
   "source": [
    "# Models"
   ]
  },
  {
   "cell_type": "code",
   "execution_count": 30,
   "id": "ff645af6-cde9-4fdc-877e-2fce51ceb967",
   "metadata": {},
   "outputs": [],
   "source": [
    "from sklearn.ensemble import RandomForestRegressor\n",
    "import lightgbm as lgbm\n",
    "from catboost import CatBoostRegressor\n",
    "from sklearn.ensemble import GradientBoostingRegressor\n",
    "from sklearn.tree import DecisionTreeRegressor\n",
    "\n",
    "model1 = RandomForestRegressor(\n",
    "    n_estimators=200,\n",
    "    criterion='mse',\n",
    "    n_jobs=2,\n",
    "    random_state=42,\n",
    "    #max_features=24,\n",
    "    #max_features='log2',\n",
    "    #max_features=41,\n",
    "    max_features=55,\n",
    "    bootstrap=False,\n",
    "    max_depth=23,\n",
    "    #max_depth=24,\n",
    "    #max_depth=28,\n",
    "    min_samples_split=2,\n",
    "    #min_samples_split=5,\n",
    "    #min_samples_split=3,\n",
    "    #min_samples_leaf=2\n",
    "    min_samples_leaf=1,\n",
    "    min_weight_fraction_leaf=1.6746306849395426e-07\n",
    ")\n",
    "# params={'max_depth': 23, 'min_samples_split': 2, 'max_features': 55, 'min_samples_leaf': 1, 'min_weight_fraction_leaf': 1.6746306849395426e-07}\n",
    "\n",
    "model2 = lgbm.LGBMRegressor(\n",
    "    random_state=42,\n",
    "    learning_rate=0.1,\n",
    "    n_estimators=3000,\n",
    "    boosting_type='gbdt',\n",
    "    n_jobs=2,\n",
    "    num_leaves=20, # 20 previous\n",
    "    #num_leaves=214,\n",
    "    #min_data_in_leaf=25, # 25 previous\n",
    "    #min_data_in_leaf=19,\n",
    "    #min_data_int_leaf=7\n",
    "    min_data_in_leaf=12,\n",
    "    #max_depth=25,\n",
    "    max_depth=17,\n",
    "    #max_depth=33,\n",
    "    #max_bin=150, # 150 previous\n",
    "    #max_bin=354,\n",
    "    #max_bin=156,\n",
    "    max_bin=160,\n",
    "    #min_child_samples=53,\n",
    "    #min_child_samples=61,\n",
    "    min_child_samples=99,\n",
    "    #reg_alpha=0.0010639765274088186,\n",
    "    #reg_alpha=0.049327251551963845,\n",
    "    reg_alpha=2.1439788525591673e-07,\n",
    "    #reg_lambda=9.735845024294461\n",
    "    #reg_lambda=0.004337386035445012\n",
    "    reg_lambda=1.0826317913353088e-07,\n",
    ")\n",
    "# test_val_split\n",
    "# params={'num_leaves': 119, 'min_data_in_leaf': 12, 'max_depth': 15, 'max_bin': 160, 'lambda_l1': 2.1439788525591673e-07, 'lambda_l2': 1.0826317913353088e-07, 'min_child_samples': 99}\n",
    "\n",
    "model3 = CatBoostRegressor(\n",
    "    n_estimators=2000,\n",
    "    #learning_rate=0.2,\n",
    "    learning_rate=0.22343174523534018,\n",
    "    #l2_leaf_reg=3,\n",
    "    #l2_leaf_reg=0.00814449542977775,\n",
    "    l2_leaf_reg=0.0001351899206097861,\n",
    "    #bagging_temperature=1,\n",
    "    #bagging_temperature=20,\n",
    "    bagging_temperature=8,\n",
    "    #min_data_in_leaf=21,\n",
    "    min_data_in_leaf=14,\n",
    "    thread_count=2,\n",
    "    depth=7,\n",
    "    #depth=10,\n",
    "    silent=True,\n",
    "    random_seed=42,\n",
    ")\n",
    "# 'depth': 10, 'l2_leaf_reg': 0.0001351899206097861, 'bagging_temperature': 8, 'min_data_in_leaf': 14\n",
    "\n",
    "model4 = GradientBoostingRegressor(\n",
    "    #learning_rate=0.2\n",
    "    learning_rate=0.3830043942496965,\n",
    "    n_estimators=100,\n",
    "    criterion='friedman_mse',\n",
    "    #subsample=0.9,\n",
    "    max_depth=10,\n",
    "    #max_depth=28,\n",
    "    #min_samples_split=18,\n",
    "    subsample=0.9115382776453557,\n",
    "    #min_samples_leaf=11\n",
    ")\n",
    "# test_val_split\n",
    "# params={'subsample': 240, 'max_depth': 28, 'min_samples_split': 18, 'subsample': 0.9115382776453557, 'learning_rate': 0.3830043942496965, 'min_samples_leaf': 11}\n",
    "\n",
    "models = {\n",
    "    \"random_forest\": model1,\n",
    "    \"lgbm\": model2,\n",
    "    \"cat_boost\": model3,\n",
    "    \"gbm\": model4,\n",
    "}"
   ]
  },
  {
   "cell_type": "code",
   "execution_count": 107,
   "id": "4a4342fb-f457-43be-9066-86637043a8b8",
   "metadata": {},
   "outputs": [],
   "source": [
    "model_targets = {\n",
    "    \"random_forest\": \"price_per_m2\",\n",
    "    \"lgbm\": \"log_price\",\n",
    "    \"cat_boost\": \"log_price\",\n",
    "    \"gbm\": \"log_price\",\n",
    "    #\"xgb\": \"price_per_m2\",\n",
    "    #\"dec_tree\": \"price_per_m2\"\n",
    "}\n",
    "\n",
    "config = {\n",
    "    \"feature_config\": feature_config,\n",
    "    \"models\": models,\n",
    "    \"model_targets\": model_targets,\n",
    "    \"drop_features\": [\"area_living\", \"area_kitchen\", \"distance_to_ulitsa_ostozhenka\", \"parking\", \"material\", \"seller\", \"layout\", \"condition\"],\n",
    "    \"area_living\": \"no\", # deteriorating\n",
    "    \"area_kitchen\": \"no\", # deteriorating\n",
    "    \"bathrooms\": \"no\", # not improving \n",
    "    \"constructed\": \"impute_bins\", # impute_bins (significant improvement)\n",
    "    \"material\": \"impute_bins\", # impute_bins, impute_category (signitifcant improvement)\n",
    "    \"heating\": \"impute_category\", # impute_bins, impute_category (deteriorating)\n",
    "    \"parking\": \"impute_category\", # impute_bins, impute_category\n",
    "    \"elevator_without\": \"no\", # deteriorating\n",
    "    \"remove_outliers\": False,\n",
    "    \"remove_min_max_outliers\": True,\n",
    "    \"one_hot_encoding\": True,\n",
    "    \"one_hot_encode_features\": [\"parking\", \"district\", \"material\", \"seller\", \"condition\", \"layout\"],\n",
    "    \"nan_threshold\": 0,\n",
    "    \"corr_threshold\": 0,\n",
    "    \"training_method\": \"cross_validation\", # random, cross_validation, kfold_stacking\n",
    "    \"predict\": True,\n",
    "    \"retrain_on_full_dataset\": True,\n",
    "    \"predict_method\": \"average\", #average\n",
    "    \"split_ratio\": 0.2,\n",
    "}"
   ]
  },
  {
   "cell_type": "code",
   "execution_count": 32,
   "id": "3d5cd304-c0aa-4135-86c2-dffff5a7d358",
   "metadata": {},
   "outputs": [
    {
     "name": "stdout",
     "output_type": "stream",
     "text": [
      "Imputing missing data...\n",
      "Remaining nan values in train_data for constructed: 0\n",
      "Remaining nan values in test_data for constructed: 0\n",
      "Remaining nan values in train_data for material: 0\n",
      "Remaining nan values in test_data for material: 0\n",
      "Remaining nan values in train_data for heating: 0\n",
      "Remaining nan values in test_data for heating: 0\n",
      "Remaining nan values in train_data for parking: 0\n",
      "Remaining nan values in test_data for parking: 0\n",
      "Remaining nan values in train_data for seller: 0\n",
      "Remaining nan values in test_data for seller: 0\n",
      "Remaining nan values in train_data for layout: 0\n",
      "Remaining nan values in test_data for layout: 0\n",
      "Remaining nan values in train_data for condition: 0\n",
      "Remaining nan values in test_data for condition: 0\n",
      "Remaining nan values in train_data for ceiling: 0\n",
      "Remaining nan values in test_data for ceiling: 0\n",
      "Remaining nan values in train_data for bathrooms_shared: 0\n",
      "Remaining nan values in test_data for bathrooms_shared: 0\n",
      "Remaining nan values in train_data for bathrooms_private: 0\n",
      "Remaining nan values in test_data for bathrooms_private: 0\n",
      "Remaining nan values in train_data for windows_court: 0\n",
      "Remaining nan values in test_data for windows_court: 0\n",
      "Remaining nan values in train_data for windows_street: 0\n",
      "Remaining nan values in test_data for windows_street: 0\n",
      "Remaining nan values in train_data for garbage_chute: 0\n",
      "Remaining nan values in test_data for garbage_chute: 0\n",
      "Remaining nan values in train_data for balconies: 0\n",
      "Remaining nan values in test_data for balconies: 0\n",
      "Remaining nan values in train_data for loggias: 0\n",
      "Remaining nan values in test_data for loggias: 0\n",
      "Remaining nan values in train_data for phones: 0\n",
      "Remaining nan values in test_data for phones: 0\n",
      "Remaining nan values in train_data for elevator_passenger: 0\n",
      "Remaining nan values in test_data for elevator_passenger: 0\n",
      "Remaining nan values in train_data for elevator_service: 0\n",
      "Remaining nan values in test_data for elevator_service: 0\n",
      "One-hot-encoding categorical features...\n",
      "Feature selection...\n",
      "Features: ['East' 'Novomoskovsk' 'West' 'North-West' 'North' 'North-East' 'Central'\n",
      " 'South-East' 'South' 'South-West' 'Multilevel' 'No_parking' 'Zelenograd'\n",
      " 'Underground' 'Ground' 'is_in_tverskoy' 'is_in_presnensky' 'is_in_arbat'\n",
      " 'is_in_yakimanka' 'is_in_khamovniki' 'distance_to_tech_uni'\n",
      " 'distance_to_state_uni' 'Troitsk' 'Other_district' 'distance_to_hospital'\n",
      " 'Adjacent_isolated' 'Isolated' 'Adjacent' 'Other_condition'\n",
      " 'Special_design' 'Euro_repair' 'Decorated' 'Undecorated' 'Other_seller'\n",
      " 'Developer' 'Agents' 'Company' 'Owner' 'Stalin_project'\n",
      " 'Monolithic_brick' 'Block' 'Panel' 'Monolith' 'Wood' 'Bricks' 'bearing'\n",
      " 'metro_line_15' 'number_of_metro_lines' 'balconies' 'constructed'\n",
      " 'longitude' 'latitude' 'phones' 'loggias' 'windows_street'\n",
      " 'elevator_passenger' 'windows_court' 'bathrooms_private'\n",
      " 'bathrooms_shared' 'ceiling' 'rooms' 'floor' 'area_total' 'stories'\n",
      " 'elevator_service' 'metro_line_5' 'metro_line_14' 'metro_line_13'\n",
      " 'metro_line_12' 'metro_line_11' 'metro_line_10' 'metro_line_9'\n",
      " 'metro_line_8' 'metro_line_7' 'metro_line_6' 'metro_line_4'\n",
      " 'metro_line_3' 'metro_line_2' 'metro_line_1' 'distance_to_metro'\n",
      " 'distance_to_center' 'garbage_chute' 'Other_layout']\n",
      "Removing outliers...\n",
      "Samples before: 23285 | Samples after: 23142\n"
     ]
    },
    {
     "name": "stderr",
     "output_type": "stream",
     "text": [
      "100%|█████████████████████████████████████████████████████████████████████████████████████████████████████████████████████████████████████████████████████████████████████████████████████████████████████| 5/5 [02:01<00:00, 24.30s/it]\n"
     ]
    },
    {
     "name": "stdout",
     "output_type": "stream",
     "text": [
      "Model: random_forest | Mean train rsmle: 0.010509247016844223 | Standard deviation: 0.0005371485020753582\n",
      "Model: random_forest | Mean val rsmle: 0.12636792124471027 | Standard deviation: 0.0020982400526460584\n"
     ]
    },
    {
     "name": "stderr",
     "output_type": "stream",
     "text": [
      "  0%|                                                                                                                                                                                                             | 0/5 [00:00<?, ?it/s]"
     ]
    },
    {
     "name": "stdout",
     "output_type": "stream",
     "text": [
      "[LightGBM] [Warning] min_data_in_leaf is set=12, min_child_samples=99 will be ignored. Current value: min_data_in_leaf=12\n"
     ]
    },
    {
     "name": "stderr",
     "output_type": "stream",
     "text": [
      " 20%|███████████████████████████████████████▍                                                                                                                                                             | 1/5 [00:05<00:22,  5.56s/it]"
     ]
    },
    {
     "name": "stdout",
     "output_type": "stream",
     "text": [
      "[LightGBM] [Warning] min_data_in_leaf is set=12, min_child_samples=99 will be ignored. Current value: min_data_in_leaf=12\n"
     ]
    },
    {
     "name": "stderr",
     "output_type": "stream",
     "text": [
      " 40%|██████████████████████████████████████████████████████████████████████████████▊                                                                                                                      | 2/5 [00:11<00:17,  5.67s/it]"
     ]
    },
    {
     "name": "stdout",
     "output_type": "stream",
     "text": [
      "[LightGBM] [Warning] min_data_in_leaf is set=12, min_child_samples=99 will be ignored. Current value: min_data_in_leaf=12\n"
     ]
    },
    {
     "name": "stderr",
     "output_type": "stream",
     "text": [
      " 60%|██████████████████████████████████████████████████████████████████████████████████████████████████████████████████████▏                                                                              | 3/5 [00:17<00:11,  5.76s/it]"
     ]
    },
    {
     "name": "stdout",
     "output_type": "stream",
     "text": [
      "[LightGBM] [Warning] min_data_in_leaf is set=12, min_child_samples=99 will be ignored. Current value: min_data_in_leaf=12\n"
     ]
    },
    {
     "name": "stderr",
     "output_type": "stream",
     "text": [
      " 80%|█████████████████████████████████████████████████████████████████████████████████████████████████████████████████████████████████████████████████████████████▌                                       | 4/5 [00:22<00:05,  5.76s/it]"
     ]
    },
    {
     "name": "stdout",
     "output_type": "stream",
     "text": [
      "[LightGBM] [Warning] min_data_in_leaf is set=12, min_child_samples=99 will be ignored. Current value: min_data_in_leaf=12\n"
     ]
    },
    {
     "name": "stderr",
     "output_type": "stream",
     "text": [
      "100%|█████████████████████████████████████████████████████████████████████████████████████████████████████████████████████████████████████████████████████████████████████████████████████████████████████| 5/5 [00:28<00:00,  5.73s/it]\n"
     ]
    },
    {
     "name": "stdout",
     "output_type": "stream",
     "text": [
      "Model: lgbm | Mean train rsmle: 0.032621652747020544 | Standard deviation: 0.00026687208275004003\n",
      "Model: lgbm | Mean val rsmle: 0.12398800165205534 | Standard deviation: 0.0030906601112037674\n"
     ]
    },
    {
     "name": "stderr",
     "output_type": "stream",
     "text": [
      "100%|█████████████████████████████████████████████████████████████████████████████████████████████████████████████████████████████████████████████████████████████████████████████████████████████████████| 5/5 [00:57<00:00, 11.45s/it]\n"
     ]
    },
    {
     "name": "stdout",
     "output_type": "stream",
     "text": [
      "Model: cat_boost | Mean train rsmle: 0.020711619862736983 | Standard deviation: 0.00037423983467077716\n",
      "Model: cat_boost | Mean val rsmle: 0.12419229394010962 | Standard deviation: 0.0038912660819006165\n"
     ]
    },
    {
     "name": "stderr",
     "output_type": "stream",
     "text": [
      "100%|█████████████████████████████████████████████████████████████████████████████████████████████████████████████████████████████████████████████████████████████████████████████████████████████████████| 5/5 [01:25<00:00, 17.01s/it]\n"
     ]
    },
    {
     "name": "stdout",
     "output_type": "stream",
     "text": [
      "Model: gbm | Mean train rsmle: 0.0165349129197136 | Standard deviation: 0.0004576053505102047\n",
      "Model: gbm | Mean val rsmle: 0.15315689754535095 | Standard deviation: 0.004466057948052701\n",
      "[LightGBM] [Warning] min_data_in_leaf is set=12, min_child_samples=99 will be ignored. Current value: min_data_in_leaf=12\n"
     ]
    }
   ],
   "source": [
    "rsmle_scores = training(config)"
   ]
  },
  {
   "cell_type": "code",
   "execution_count": 108,
   "id": "36b5c3ae-ac65-4d93-979e-ab77da146669",
   "metadata": {},
   "outputs": [
    {
     "name": "stdout",
     "output_type": "stream",
     "text": [
      "Imputing missing data...\n",
      "Remaining nan values in train_data for constructed: 0\n",
      "Remaining nan values in test_data for constructed: 0\n",
      "Remaining nan values in train_data for material: 0\n",
      "Remaining nan values in test_data for material: 0\n",
      "Remaining nan values in train_data for heating: 0\n",
      "Remaining nan values in test_data for heating: 0\n",
      "Remaining nan values in train_data for parking: 0\n",
      "Remaining nan values in test_data for parking: 0\n",
      "Remaining nan values in train_data for seller: 0\n",
      "Remaining nan values in test_data for seller: 0\n",
      "Remaining nan values in train_data for layout: 0\n",
      "Remaining nan values in test_data for layout: 0\n",
      "Remaining nan values in train_data for condition: 0\n",
      "Remaining nan values in test_data for condition: 0\n",
      "Remaining nan values in train_data for ceiling: 0\n",
      "Remaining nan values in test_data for ceiling: 0\n",
      "Remaining nan values in train_data for bathrooms_shared: 0\n",
      "Remaining nan values in test_data for bathrooms_shared: 0\n",
      "Remaining nan values in train_data for bathrooms_private: 0\n",
      "Remaining nan values in test_data for bathrooms_private: 0\n",
      "Remaining nan values in train_data for windows_court: 0\n",
      "Remaining nan values in test_data for windows_court: 0\n",
      "Remaining nan values in train_data for windows_street: 0\n",
      "Remaining nan values in test_data for windows_street: 0\n",
      "Remaining nan values in train_data for garbage_chute: 0\n",
      "Remaining nan values in test_data for garbage_chute: 0\n",
      "Remaining nan values in train_data for balconies: 0\n",
      "Remaining nan values in test_data for balconies: 0\n",
      "Remaining nan values in train_data for loggias: 0\n",
      "Remaining nan values in test_data for loggias: 0\n",
      "Remaining nan values in train_data for phones: 0\n",
      "Remaining nan values in test_data for phones: 0\n",
      "Remaining nan values in train_data for elevator_passenger: 0\n",
      "Remaining nan values in test_data for elevator_passenger: 0\n",
      "Remaining nan values in train_data for elevator_service: 0\n",
      "Remaining nan values in test_data for elevator_service: 0\n",
      "One-hot-encoding categorical features...\n",
      "Feature selection...\n",
      "Features: ['Underground' 'North-West' 'North' 'North-East' 'Central' 'South-East'\n",
      " 'South' 'South-West' 'East' 'No_parking' 'Multilevel' 'Ground'\n",
      " 'Novomoskovsk' 'is_in_tverskoy' 'is_in_presnensky' 'is_in_arbat'\n",
      " 'is_in_yakimanka' 'is_in_khamovniki' 'loc_37.625_55.725' 'loc_37.6_55.75'\n",
      " 'loc_37.6_55.725' 'loc_37.575_55.75' 'loc_37.575_55.725'\n",
      " 'loc_37.575_55.7' 'West' 'Zelenograd' 'Troitsk' 'Agents'\n",
      " 'Adjacent_isolated' 'Isolated' 'Adjacent' 'Other_condition'\n",
      " 'Special_design' 'Euro_repair' 'Decorated' 'Undecorated' 'Other_seller'\n",
      " 'Developer' 'Company' 'loc_37.55_55.7' 'Owner' 'Stalin_project'\n",
      " 'Monolithic_brick' 'Block' 'Panel' 'Monolith' 'Wood' 'Bricks'\n",
      " 'Other_district' 'loc_37.55_55.725' 'distance_to_state_uni'\n",
      " 'distance_to_tech_uni' 'loggias' 'elevator_passenger' 'stories'\n",
      " 'constructed' 'longitude' 'latitude' 'phones' 'balconies'\n",
      " 'windows_street' 'windows_court' 'bathrooms_private' 'bathrooms_shared'\n",
      " 'ceiling' 'rooms' 'floor' 'area_total' 'elevator_service' 'garbage_chute'\n",
      " 'metro_line_8' 'bearing' 'distance_to_hospital' 'number_of_metro_lines'\n",
      " 'metro_line_15' 'metro_line_14' 'metro_line_13' 'metro_line_12'\n",
      " 'metro_line_11' 'metro_line_10' 'metro_line_9' 'metro_line_7'\n",
      " 'metro_line_6' 'metro_line_5' 'metro_line_4' 'metro_line_3'\n",
      " 'metro_line_2' 'metro_line_1' 'distance_to_metro' 'distance_to_center'\n",
      " 'Other_layout']\n",
      "Removing outliers...\n",
      "Samples before: 23285 | Samples after: 23142\n"
     ]
    },
    {
     "name": "stderr",
     "output_type": "stream",
     "text": [
      "100%|█████████████████████████████████████████████████████████████████████████████████████████████████████████████████████████████████████████████████████████████████████████████████████████████████████| 5/5 [01:57<00:00, 23.50s/it]\n"
     ]
    },
    {
     "name": "stdout",
     "output_type": "stream",
     "text": [
      "Model: random_forest | Mean train rsmle: 0.010428722713983355 | Standard deviation: 0.00043281959449497016\n",
      "Model: random_forest | Mean val rsmle: 0.12560417361992451 | Standard deviation: 0.002174447027606068\n"
     ]
    },
    {
     "name": "stderr",
     "output_type": "stream",
     "text": [
      "  0%|                                                                                                                                                                                                             | 0/5 [00:00<?, ?it/s]"
     ]
    },
    {
     "name": "stdout",
     "output_type": "stream",
     "text": [
      "[LightGBM] [Warning] min_data_in_leaf is set=12, min_child_samples=99 will be ignored. Current value: min_data_in_leaf=12\n"
     ]
    },
    {
     "name": "stderr",
     "output_type": "stream",
     "text": [
      " 20%|███████████████████████████████████████▍                                                                                                                                                             | 1/5 [00:06<00:25,  6.44s/it]"
     ]
    },
    {
     "name": "stdout",
     "output_type": "stream",
     "text": [
      "[LightGBM] [Warning] min_data_in_leaf is set=12, min_child_samples=99 will be ignored. Current value: min_data_in_leaf=12\n"
     ]
    },
    {
     "name": "stderr",
     "output_type": "stream",
     "text": [
      " 40%|██████████████████████████████████████████████████████████████████████████████▊                                                                                                                      | 2/5 [00:12<00:18,  6.25s/it]"
     ]
    },
    {
     "name": "stdout",
     "output_type": "stream",
     "text": [
      "[LightGBM] [Warning] min_data_in_leaf is set=12, min_child_samples=99 will be ignored. Current value: min_data_in_leaf=12\n"
     ]
    },
    {
     "name": "stderr",
     "output_type": "stream",
     "text": [
      " 60%|██████████████████████████████████████████████████████████████████████████████████████████████████████████████████████▏                                                                              | 3/5 [00:19<00:12,  6.36s/it]"
     ]
    },
    {
     "name": "stdout",
     "output_type": "stream",
     "text": [
      "[LightGBM] [Warning] min_data_in_leaf is set=12, min_child_samples=99 will be ignored. Current value: min_data_in_leaf=12\n"
     ]
    },
    {
     "name": "stderr",
     "output_type": "stream",
     "text": [
      " 80%|█████████████████████████████████████████████████████████████████████████████████████████████████████████████████████████████████████████████████████████████▌                                       | 4/5 [00:25<00:06,  6.20s/it]"
     ]
    },
    {
     "name": "stdout",
     "output_type": "stream",
     "text": [
      "[LightGBM] [Warning] min_data_in_leaf is set=12, min_child_samples=99 will be ignored. Current value: min_data_in_leaf=12\n"
     ]
    },
    {
     "name": "stderr",
     "output_type": "stream",
     "text": [
      "100%|█████████████████████████████████████████████████████████████████████████████████████████████████████████████████████████████████████████████████████████████████████████████████████████████████████| 5/5 [00:31<00:00,  6.23s/it]\n"
     ]
    },
    {
     "name": "stdout",
     "output_type": "stream",
     "text": [
      "Model: lgbm | Mean train rsmle: 0.032650050297666156 | Standard deviation: 0.0002193879424114912\n",
      "Model: lgbm | Mean val rsmle: 0.12419725232464507 | Standard deviation: 0.0026893687468265742\n"
     ]
    },
    {
     "name": "stderr",
     "output_type": "stream",
     "text": [
      "100%|█████████████████████████████████████████████████████████████████████████████████████████████████████████████████████████████████████████████████████████████████████████████████████████████████████| 5/5 [01:18<00:00, 15.70s/it]\n"
     ]
    },
    {
     "name": "stdout",
     "output_type": "stream",
     "text": [
      "Model: cat_boost | Mean train rsmle: 0.020785224945215397 | Standard deviation: 0.00011892209061713056\n",
      "Model: cat_boost | Mean val rsmle: 0.12461268252200468 | Standard deviation: 0.003594899433459055\n"
     ]
    },
    {
     "name": "stderr",
     "output_type": "stream",
     "text": [
      "100%|█████████████████████████████████████████████████████████████████████████████████████████████████████████████████████████████████████████████████████████████████████████████████████████████████████| 5/5 [01:56<00:00, 23.33s/it]\n"
     ]
    },
    {
     "name": "stdout",
     "output_type": "stream",
     "text": [
      "Model: gbm | Mean train rsmle: 0.01672888192675734 | Standard deviation: 0.0003163213451884039\n",
      "Model: gbm | Mean val rsmle: 0.1528742888739339 | Standard deviation: 0.0032485677864620825\n",
      "[LightGBM] [Warning] min_data_in_leaf is set=12, min_child_samples=99 will be ignored. Current value: min_data_in_leaf=12\n"
     ]
    }
   ],
   "source": [
    "\n",
    "rsmle_scores = training(config)"
   ]
  },
  {
   "cell_type": "code",
   "execution_count": 88,
   "id": "39cc6aee-bbec-41d1-b124-834721569d19",
   "metadata": {},
   "outputs": [
    {
     "name": "stdout",
     "output_type": "stream",
     "text": [
      "Imputing missing data...\n",
      "Remaining nan values in train_data for constructed: 0\n",
      "Remaining nan values in test_data for constructed: 0\n",
      "Remaining nan values in train_data for material: 0\n",
      "Remaining nan values in test_data for material: 0\n",
      "Remaining nan values in train_data for heating: 0\n",
      "Remaining nan values in test_data for heating: 0\n",
      "Remaining nan values in train_data for parking: 0\n",
      "Remaining nan values in test_data for parking: 0\n",
      "Remaining nan values in train_data for seller: 0\n",
      "Remaining nan values in test_data for seller: 0\n",
      "Remaining nan values in train_data for layout: 0\n",
      "Remaining nan values in test_data for layout: 0\n",
      "Remaining nan values in train_data for condition: 0\n",
      "Remaining nan values in test_data for condition: 0\n",
      "Remaining nan values in train_data for ceiling: 0\n",
      "Remaining nan values in test_data for ceiling: 0\n",
      "Remaining nan values in train_data for bathrooms_shared: 0\n",
      "Remaining nan values in test_data for bathrooms_shared: 0\n",
      "Remaining nan values in train_data for bathrooms_private: 0\n",
      "Remaining nan values in test_data for bathrooms_private: 0\n",
      "Remaining nan values in train_data for windows_court: 0\n",
      "Remaining nan values in test_data for windows_court: 0\n",
      "Remaining nan values in train_data for windows_street: 0\n",
      "Remaining nan values in test_data for windows_street: 0\n",
      "Remaining nan values in train_data for garbage_chute: 0\n",
      "Remaining nan values in test_data for garbage_chute: 0\n",
      "Remaining nan values in train_data for balconies: 0\n",
      "Remaining nan values in test_data for balconies: 0\n",
      "Remaining nan values in train_data for loggias: 0\n",
      "Remaining nan values in test_data for loggias: 0\n",
      "Remaining nan values in train_data for phones: 0\n",
      "Remaining nan values in test_data for phones: 0\n",
      "Remaining nan values in train_data for elevator_passenger: 0\n",
      "Remaining nan values in test_data for elevator_passenger: 0\n",
      "Remaining nan values in train_data for elevator_service: 0\n",
      "Remaining nan values in test_data for elevator_service: 0\n",
      "One-hot-encoding categorical features...\n",
      "Feature selection...\n",
      "Features: ['East' 'Novomoskovsk' 'West' 'North-West' 'North' 'North-East' 'Central'\n",
      " 'South-East' 'South' 'South-West' 'Multilevel' 'No_parking' 'Zelenograd'\n",
      " 'Underground' 'Ground' 'is_in_tverskoy' 'is_in_presnensky' 'is_in_arbat'\n",
      " 'is_in_yakimanka' 'is_in_khamovniki' 'distance_to_tech_uni'\n",
      " 'distance_to_state_uni' 'Troitsk' 'Other_district' 'distance_to_hospital'\n",
      " 'Adjacent_isolated' 'Isolated' 'Adjacent' 'Other_condition'\n",
      " 'Special_design' 'Euro_repair' 'Decorated' 'Undecorated' 'Other_seller'\n",
      " 'Developer' 'Agents' 'Company' 'Owner' 'Stalin_project'\n",
      " 'Monolithic_brick' 'Block' 'Panel' 'Monolith' 'Wood' 'Bricks' 'bearing'\n",
      " 'metro_line_15' 'number_of_metro_lines' 'balconies' 'constructed'\n",
      " 'longitude' 'latitude' 'phones' 'loggias' 'windows_street'\n",
      " 'elevator_passenger' 'windows_court' 'bathrooms_private'\n",
      " 'bathrooms_shared' 'ceiling' 'rooms' 'floor' 'area_total' 'stories'\n",
      " 'elevator_service' 'metro_line_5' 'metro_line_14' 'metro_line_13'\n",
      " 'metro_line_12' 'metro_line_11' 'metro_line_10' 'metro_line_9'\n",
      " 'metro_line_8' 'metro_line_7' 'metro_line_6' 'metro_line_4'\n",
      " 'metro_line_3' 'metro_line_2' 'metro_line_1' 'distance_to_metro'\n",
      " 'distance_to_center' 'garbage_chute' 'Other_layout']\n",
      "Removing outliers...\n",
      "Samples before: 23285 | Samples after: 23142\n"
     ]
    },
    {
     "ename": "UnboundLocalError",
     "evalue": "local variable 'scores' referenced before assignment",
     "output_type": "error",
     "traceback": [
      "\u001b[0;31m---------------------------------------------------------------------------\u001b[0m",
      "\u001b[0;31mUnboundLocalError\u001b[0m                         Traceback (most recent call last)",
      "\u001b[0;32m/tmp/ipykernel_2826/1783666533.py\u001b[0m in \u001b[0;36m<module>\u001b[0;34m\u001b[0m\n\u001b[1;32m     24\u001b[0m     \u001b[0;34m\"split_ratio\"\u001b[0m\u001b[0;34m:\u001b[0m \u001b[0;36m0.2\u001b[0m\u001b[0;34m,\u001b[0m\u001b[0;34m\u001b[0m\u001b[0;34m\u001b[0m\u001b[0m\n\u001b[1;32m     25\u001b[0m }\n\u001b[0;32m---> 26\u001b[0;31m \u001b[0mrsmle_scores_2\u001b[0m \u001b[0;34m=\u001b[0m \u001b[0mtraining\u001b[0m\u001b[0;34m(\u001b[0m\u001b[0mconfig2\u001b[0m\u001b[0;34m)\u001b[0m\u001b[0;34m\u001b[0m\u001b[0;34m\u001b[0m\u001b[0m\n\u001b[0m",
      "\u001b[0;32m/tmp/ipykernel_2826/3935824663.py\u001b[0m in \u001b[0;36mtraining\u001b[0;34m(config)\u001b[0m\n\u001b[1;32m     51\u001b[0m         \u001b[0msubmission\u001b[0m\u001b[0;34m.\u001b[0m\u001b[0mto_csv\u001b[0m\u001b[0;34m(\u001b[0m\u001b[0;34m'submission.csv'\u001b[0m\u001b[0;34m,\u001b[0m \u001b[0mindex\u001b[0m\u001b[0;34m=\u001b[0m\u001b[0;32mFalse\u001b[0m\u001b[0;34m)\u001b[0m\u001b[0;34m\u001b[0m\u001b[0;34m\u001b[0m\u001b[0m\n\u001b[1;32m     52\u001b[0m \u001b[0;34m\u001b[0m\u001b[0m\n\u001b[0;32m---> 53\u001b[0;31m     \u001b[0;32mreturn\u001b[0m \u001b[0mscores\u001b[0m\u001b[0;34m\u001b[0m\u001b[0;34m\u001b[0m\u001b[0m\n\u001b[0m",
      "\u001b[0;31mUnboundLocalError\u001b[0m: local variable 'scores' referenced before assignment"
     ]
    }
   ],
   "source": [
    "config2 = {\n",
    "    \"feature_config\": feature_config,\n",
    "    \"models\": models,\n",
    "    \"model_targets\": model_targets,\n",
    "    \"drop_features\": [\"area_living\", \"area_kitchen\", \"distance_to_ulitsa_ostozhenka\", \"parking\", \"material\", \"seller\", \"layout\", \"condition\"],\n",
    "    \"area_living\": \"no\", # deteriorating\n",
    "    \"area_kitchen\": \"no\", # deteriorating\n",
    "    \"bathrooms\": \"no\", # not improving \n",
    "    \"constructed\": \"impute_bins\", # impute_bins (significant improvement)\n",
    "    \"material\": \"impute_bins\", # impute_bins, impute_category (signitifcant improvement)\n",
    "    \"heating\": \"impute_category\", # impute_bins, impute_category (deteriorating)\n",
    "    \"parking\": \"impute_category\", # impute_bins, impute_category\n",
    "    \"elevator_without\": \"no\", # deteriorating\n",
    "    \"remove_outliers\": False,\n",
    "    \"remove_min_max_outliers\": True,\n",
    "    \"one_hot_encoding\": True,\n",
    "    \"one_hot_encode_features\": [\"parking\", \"district\", \"material\", \"seller\", \"condition\", \"layout\"],\n",
    "    \"nan_threshold\": 0,\n",
    "    \"corr_threshold\": 0,\n",
    "    \"training_method\": \"based_on_building_id\", # random, cross_validation, kfold_stacking\n",
    "    \"predict\": False,\n",
    "    \"retrain_on_full_dataset\": False,\n",
    "    \"predict_method\": \"average\", #average\n",
    "    \"split_ratio\": 0.2,\n",
    "}\n",
    "rsmle_scores_2 = training(config2)"
   ]
  },
  {
   "cell_type": "code",
   "execution_count": 33,
   "id": "3d6c2bf2-0238-4bd5-b1fe-5fdbfa1d65f6",
   "metadata": {},
   "outputs": [
    {
     "name": "stdout",
     "output_type": "stream",
     "text": [
      "Imputing missing data...\n",
      "Remaining nan values in train_data for constructed: 0\n",
      "Remaining nan values in test_data for constructed: 0\n",
      "Remaining nan values in train_data for material: 0\n",
      "Remaining nan values in test_data for material: 0\n",
      "Remaining nan values in train_data for heating: 0\n",
      "Remaining nan values in test_data for heating: 0\n",
      "Remaining nan values in train_data for parking: 0\n",
      "Remaining nan values in test_data for parking: 0\n",
      "Remaining nan values in train_data for seller: 0\n",
      "Remaining nan values in test_data for seller: 0\n",
      "Remaining nan values in train_data for layout: 0\n",
      "Remaining nan values in test_data for layout: 0\n",
      "Remaining nan values in train_data for condition: 0\n",
      "Remaining nan values in test_data for condition: 0\n",
      "Remaining nan values in train_data for ceiling: 0\n",
      "Remaining nan values in test_data for ceiling: 0\n",
      "Remaining nan values in train_data for bathrooms_shared: 0\n",
      "Remaining nan values in test_data for bathrooms_shared: 0\n",
      "Remaining nan values in train_data for bathrooms_private: 0\n",
      "Remaining nan values in test_data for bathrooms_private: 0\n",
      "Remaining nan values in train_data for windows_court: 0\n",
      "Remaining nan values in test_data for windows_court: 0\n",
      "Remaining nan values in train_data for windows_street: 0\n",
      "Remaining nan values in test_data for windows_street: 0\n",
      "Remaining nan values in train_data for garbage_chute: 0\n",
      "Remaining nan values in test_data for garbage_chute: 0\n",
      "Remaining nan values in train_data for balconies: 0\n",
      "Remaining nan values in test_data for balconies: 0\n",
      "Remaining nan values in train_data for loggias: 0\n",
      "Remaining nan values in test_data for loggias: 0\n",
      "Remaining nan values in train_data for phones: 0\n",
      "Remaining nan values in test_data for phones: 0\n",
      "Remaining nan values in train_data for elevator_passenger: 0\n",
      "Remaining nan values in test_data for elevator_passenger: 0\n",
      "Remaining nan values in train_data for elevator_service: 0\n",
      "Remaining nan values in test_data for elevator_service: 0\n",
      "One-hot-encoding categorical features...\n",
      "Feature selection...\n",
      "Features: ['East' 'Novomoskovsk' 'West' 'North-West' 'North' 'North-East' 'Central'\n",
      " 'South-East' 'South' 'South-West' 'Multilevel' 'No_parking' 'Zelenograd'\n",
      " 'Underground' 'Ground' 'is_in_tverskoy' 'is_in_presnensky' 'is_in_arbat'\n",
      " 'is_in_yakimanka' 'is_in_khamovniki' 'distance_to_tech_uni'\n",
      " 'distance_to_state_uni' 'Troitsk' 'Other_district' 'distance_to_hospital'\n",
      " 'Adjacent_isolated' 'Isolated' 'Adjacent' 'Other_condition'\n",
      " 'Special_design' 'Euro_repair' 'Decorated' 'Undecorated' 'Other_seller'\n",
      " 'Developer' 'Agents' 'Company' 'Owner' 'Stalin_project'\n",
      " 'Monolithic_brick' 'Block' 'Panel' 'Monolith' 'Wood' 'Bricks' 'bearing'\n",
      " 'metro_line_15' 'number_of_metro_lines' 'balconies' 'constructed'\n",
      " 'longitude' 'latitude' 'phones' 'loggias' 'windows_street'\n",
      " 'elevator_passenger' 'windows_court' 'bathrooms_private'\n",
      " 'bathrooms_shared' 'ceiling' 'rooms' 'floor' 'area_total' 'stories'\n",
      " 'elevator_service' 'metro_line_5' 'metro_line_14' 'metro_line_13'\n",
      " 'metro_line_12' 'metro_line_11' 'metro_line_10' 'metro_line_9'\n",
      " 'metro_line_8' 'metro_line_7' 'metro_line_6' 'metro_line_4'\n",
      " 'metro_line_3' 'metro_line_2' 'metro_line_1' 'distance_to_metro'\n",
      " 'distance_to_center' 'garbage_chute' 'Other_layout']\n",
      "Removing outliers...\n",
      "Samples before: 23285 | Samples after: 23142\n"
     ]
    }
   ],
   "source": [
    "train_data = train_with_feats.copy()\n",
    "test_data = test_with_feats.copy()\n",
    "train_data, test_data, features = prepare_data(train_data, test_data, config,)"
   ]
  },
  {
   "cell_type": "code",
   "execution_count": 34,
   "id": "646eeff4-0968-4696-9ac4-59890598bba5",
   "metadata": {},
   "outputs": [
    {
     "name": "stderr",
     "output_type": "stream",
     "text": [
      "\u001b[32m[I 2021-11-12 11:05:38,115]\u001b[0m A new study created in memory with name: no-name-e776d5b5-581e-48db-abee-ff131496389c\u001b[0m\n",
      "100%|█████████████████████████████████████████████████████████████████████████████████████████████████████████████████████████████████████████████████████████████████████████████████████████████████████| 5/5 [00:03<00:00,  1.44it/s]\n",
      "\u001b[32m[I 2021-11-12 11:05:41,590]\u001b[0m Trial 0 finished with value: 0.16407545085775838 and parameters: {'max_depth': 30, 'min_samples_split': 6, 'max_features': 43, 'min_samples_leaf': 16, 'min_weight_fraction_leaf': 1.0008166842863362e-05}. Best is trial 0 with value: 0.16407545085775838.\u001b[0m\n"
     ]
    },
    {
     "name": "stdout",
     "output_type": "stream",
     "text": [
      "Model: rf | Mean train rsmle: 0.14635615970574717 | Standard deviation: 0.0006251892087084014\n",
      "Model: rf | Mean val rsmle: 0.16407545085775838 | Standard deviation: 0.0032354163941098646\n"
     ]
    },
    {
     "name": "stderr",
     "output_type": "stream",
     "text": [
      "100%|█████████████████████████████████████████████████████████████████████████████████████████████████████████████████████████████████████████████████████████████████████████████████████████████████████| 5/5 [00:03<00:00,  1.58it/s]\n",
      "\u001b[32m[I 2021-11-12 11:05:44,775]\u001b[0m Trial 1 finished with value: 0.20897714365610814 and parameters: {'max_depth': 23, 'min_samples_split': 37, 'max_features': 54, 'min_samples_leaf': 91, 'min_weight_fraction_leaf': 0.0019768808696317927}. Best is trial 0 with value: 0.16407545085775838.\u001b[0m\n"
     ]
    },
    {
     "name": "stdout",
     "output_type": "stream",
     "text": [
      "Model: rf | Mean train rsmle: 0.20360740900411706 | Standard deviation: 0.002055605390234984\n",
      "Model: rf | Mean val rsmle: 0.20897714365610814 | Standard deviation: 0.0019722460589912403\n"
     ]
    },
    {
     "name": "stderr",
     "output_type": "stream",
     "text": [
      "100%|█████████████████████████████████████████████████████████████████████████████████████████████████████████████████████████████████████████████████████████████████████████████████████████████████████| 5/5 [00:02<00:00,  1.95it/s]\n",
      "\u001b[32m[I 2021-11-12 11:05:47,358]\u001b[0m Trial 2 finished with value: 0.23662708614899158 and parameters: {'max_depth': 5, 'min_samples_split': 60, 'max_features': 68, 'min_samples_leaf': 31, 'min_weight_fraction_leaf': 4.0294435373764686e-05}. Best is trial 0 with value: 0.16407545085775838.\u001b[0m\n"
     ]
    },
    {
     "name": "stdout",
     "output_type": "stream",
     "text": [
      "Model: rf | Mean train rsmle: 0.23161367970697883 | Standard deviation: 0.0023654685142933188\n",
      "Model: rf | Mean val rsmle: 0.23662708614899158 | Standard deviation: 0.0013789445678338722\n"
     ]
    },
    {
     "name": "stderr",
     "output_type": "stream",
     "text": [
      "100%|█████████████████████████████████████████████████████████████████████████████████████████████████████████████████████████████████████████████████████████████████████████████████████████████████████| 5/5 [00:03<00:00,  1.49it/s]\n",
      "\u001b[32m[I 2021-11-12 11:05:50,736]\u001b[0m Trial 3 finished with value: 0.19505570897446206 and parameters: {'max_depth': 16, 'min_samples_split': 76, 'max_features': 53, 'min_samples_leaf': 58, 'min_weight_fraction_leaf': 4.111037193537934e-08}. Best is trial 0 with value: 0.16407545085775838.\u001b[0m\n"
     ]
    },
    {
     "name": "stdout",
     "output_type": "stream",
     "text": [
      "Model: rf | Mean train rsmle: 0.18674863981867817 | Standard deviation: 0.0009668822735324751\n",
      "Model: rf | Mean val rsmle: 0.19505570897446206 | Standard deviation: 0.0014105448983505952\n"
     ]
    },
    {
     "name": "stderr",
     "output_type": "stream",
     "text": [
      "100%|█████████████████████████████████████████████████████████████████████████████████████████████████████████████████████████████████████████████████████████████████████████████████████████████████████| 5/5 [00:03<00:00,  1.37it/s]\n",
      "\u001b[32m[I 2021-11-12 11:05:54,413]\u001b[0m Trial 4 finished with value: 0.206987560281779 and parameters: {'max_depth': 25, 'min_samples_split': 81, 'max_features': 63, 'min_samples_leaf': 88, 'min_weight_fraction_leaf': 1.2817581256314395e-05}. Best is trial 0 with value: 0.16407545085775838.\u001b[0m\n"
     ]
    },
    {
     "name": "stdout",
     "output_type": "stream",
     "text": [
      "Model: rf | Mean train rsmle: 0.20080078058843115 | Standard deviation: 0.001341391283410966\n",
      "Model: rf | Mean val rsmle: 0.206987560281779 | Standard deviation: 0.0020015234592850174\n"
     ]
    },
    {
     "name": "stderr",
     "output_type": "stream",
     "text": [
      "100%|█████████████████████████████████████████████████████████████████████████████████████████████████████████████████████████████████████████████████████████████████████████████████████████████████████| 5/5 [00:04<00:00,  1.20it/s]\n",
      "\u001b[32m[I 2021-11-12 11:05:58,591]\u001b[0m Trial 5 finished with value: 0.19913876986306697 and parameters: {'max_depth': 30, 'min_samples_split': 24, 'max_features': 68, 'min_samples_leaf': 57, 'min_weight_fraction_leaf': 0.005679678117716711}. Best is trial 0 with value: 0.16407545085775838.\u001b[0m\n"
     ]
    },
    {
     "name": "stdout",
     "output_type": "stream",
     "text": [
      "Model: rf | Mean train rsmle: 0.19118683011760992 | Standard deviation: 0.0013286647402315295\n",
      "Model: rf | Mean val rsmle: 0.19913876986306697 | Standard deviation: 0.00105146669368322\n"
     ]
    },
    {
     "name": "stderr",
     "output_type": "stream",
     "text": [
      "100%|█████████████████████████████████████████████████████████████████████████████████████████████████████████████████████████████████████████████████████████████████████████████████████████████████████| 5/5 [00:02<00:00,  2.18it/s]\n",
      "\u001b[32m[I 2021-11-12 11:06:00,907]\u001b[0m Trial 6 finished with value: 0.2166658497985104 and parameters: {'max_depth': 6, 'min_samples_split': 29, 'max_features': 50, 'min_samples_leaf': 22, 'min_weight_fraction_leaf': 4.739229817279363e-08}. Best is trial 0 with value: 0.16407545085775838.\u001b[0m\n"
     ]
    },
    {
     "name": "stdout",
     "output_type": "stream",
     "text": [
      "Model: rf | Mean train rsmle: 0.21063531753713183 | Standard deviation: 0.002227894156878371\n",
      "Model: rf | Mean val rsmle: 0.2166658497985104 | Standard deviation: 0.002824723953305509\n"
     ]
    },
    {
     "name": "stderr",
     "output_type": "stream",
     "text": [
      "100%|█████████████████████████████████████████████████████████████████████████████████████████████████████████████████████████████████████████████████████████████████████████████████████████████████████| 5/5 [00:00<00:00,  8.03it/s]\n",
      "\u001b[32m[I 2021-11-12 11:06:01,548]\u001b[0m Trial 7 finished with value: 0.35410466414366465 and parameters: {'max_depth': 3, 'min_samples_split': 39, 'max_features': 31, 'min_samples_leaf': 15, 'min_weight_fraction_leaf': 0.2613589728567481}. Best is trial 0 with value: 0.16407545085775838.\u001b[0m\n"
     ]
    },
    {
     "name": "stdout",
     "output_type": "stream",
     "text": [
      "Model: rf | Mean train rsmle: 0.3538373761756731 | Standard deviation: 0.002786736115166921\n",
      "Model: rf | Mean val rsmle: 0.35410466414366465 | Standard deviation: 0.0033093815470920562\n"
     ]
    },
    {
     "name": "stderr",
     "output_type": "stream",
     "text": [
      "100%|█████████████████████████████████████████████████████████████████████████████████████████████████████████████████████████████████████████████████████████████████████████████████████████████████████| 5/5 [00:03<00:00,  1.40it/s]\n",
      "\u001b[32m[I 2021-11-12 11:06:05,127]\u001b[0m Trial 8 finished with value: 0.21754409945402733 and parameters: {'max_depth': 7, 'min_samples_split': 9, 'max_features': 75, 'min_samples_leaf': 65, 'min_weight_fraction_leaf': 1.870181725143641e-06}. Best is trial 0 with value: 0.16407545085775838.\u001b[0m\n"
     ]
    },
    {
     "name": "stdout",
     "output_type": "stream",
     "text": [
      "Model: rf | Mean train rsmle: 0.21110811909843127 | Standard deviation: 0.0011994214963517947\n",
      "Model: rf | Mean val rsmle: 0.21754409945402733 | Standard deviation: 0.0017066713507499771\n"
     ]
    },
    {
     "name": "stderr",
     "output_type": "stream",
     "text": [
      "100%|█████████████████████████████████████████████████████████████████████████████████████████████████████████████████████████████████████████████████████████████████████████████████████████████████████| 5/5 [00:00<00:00,  6.69it/s]\n",
      "\u001b[32m[I 2021-11-12 11:06:05,891]\u001b[0m Trial 9 finished with value: 0.28928466324129004 and parameters: {'max_depth': 3, 'min_samples_split': 36, 'max_features': 23, 'min_samples_leaf': 14, 'min_weight_fraction_leaf': 0.01587006495586277}. Best is trial 0 with value: 0.16407545085775838.\u001b[0m\n"
     ]
    },
    {
     "name": "stdout",
     "output_type": "stream",
     "text": [
      "Model: rf | Mean train rsmle: 0.28751523125998685 | Standard deviation: 0.002899178061973348\n",
      "Model: rf | Mean val rsmle: 0.28928466324129004 | Standard deviation: 0.005117871887292287\n"
     ]
    },
    {
     "name": "stderr",
     "output_type": "stream",
     "text": [
      "100%|█████████████████████████████████████████████████████████████████████████████████████████████████████████████████████████████████████████████████████████████████████████████████████████████████████| 5/5 [00:00<00:00, 10.46it/s]\n",
      "\u001b[32m[I 2021-11-12 11:06:06,400]\u001b[0m Trial 10 finished with value: 0.23737810757448755 and parameters: {'max_depth': 12, 'min_samples_split': 5, 'max_features': 2, 'min_samples_leaf': 2, 'min_weight_fraction_leaf': 7.104537376611067e-07}. Best is trial 0 with value: 0.16407545085775838.\u001b[0m\n"
     ]
    },
    {
     "name": "stdout",
     "output_type": "stream",
     "text": [
      "Model: rf | Mean train rsmle: 0.22407877888748326 | Standard deviation: 0.004072275608822456\n",
      "Model: rf | Mean val rsmle: 0.23737810757448755 | Standard deviation: 0.004332604620846411\n"
     ]
    },
    {
     "name": "stderr",
     "output_type": "stream",
     "text": [
      "100%|█████████████████████████████████████████████████████████████████████████████████████████████████████████████████████████████████████████████████████████████████████████████████████████████████████| 5/5 [00:02<00:00,  1.95it/s]\n",
      "\u001b[32m[I 2021-11-12 11:06:08,990]\u001b[0m Trial 11 finished with value: 0.19057486328087325 and parameters: {'max_depth': 14, 'min_samples_split': 99, 'max_features': 36, 'min_samples_leaf': 41, 'min_weight_fraction_leaf': 1.7164656399551547e-08}. Best is trial 0 with value: 0.16407545085775838.\u001b[0m\n"
     ]
    },
    {
     "name": "stdout",
     "output_type": "stream",
     "text": [
      "Model: rf | Mean train rsmle: 0.18178026594116878 | Standard deviation: 0.0010452963376773408\n",
      "Model: rf | Mean val rsmle: 0.19057486328087325 | Standard deviation: 0.0015660833909136803\n"
     ]
    },
    {
     "name": "stderr",
     "output_type": "stream",
     "text": [
      "100%|█████████████████████████████████████████████████████████████████████████████████████████████████████████████████████████████████████████████████████████████████████████████████████████████████████| 5/5 [00:02<00:00,  1.73it/s]\n",
      "\u001b[32m[I 2021-11-12 11:06:11,921]\u001b[0m Trial 12 finished with value: 0.190296213912771 and parameters: {'max_depth': 12, 'min_samples_split': 95, 'max_features': 36, 'min_samples_leaf': 38, 'min_weight_fraction_leaf': 1.2431353836231643e-08}. Best is trial 0 with value: 0.16407545085775838.\u001b[0m\n"
     ]
    },
    {
     "name": "stdout",
     "output_type": "stream",
     "text": [
      "Model: rf | Mean train rsmle: 0.1819940651138147 | Standard deviation: 0.0012140450944109309\n",
      "Model: rf | Mean val rsmle: 0.190296213912771 | Standard deviation: 0.0019164524708632287\n"
     ]
    },
    {
     "name": "stderr",
     "output_type": "stream",
     "text": [
      "100%|█████████████████████████████████████████████████████████████████████████████████████████████████████████████████████████████████████████████████████████████████████████████████████████████████████| 5/5 [00:01<00:00,  2.71it/s]\n",
      "\u001b[32m[I 2021-11-12 11:06:13,812]\u001b[0m Trial 13 finished with value: 0.20200213008010542 and parameters: {'max_depth': 10, 'min_samples_split': 58, 'max_features': 18, 'min_samples_leaf': 41, 'min_weight_fraction_leaf': 0.00038088434029182673}. Best is trial 0 with value: 0.16407545085775838.\u001b[0m\n"
     ]
    },
    {
     "name": "stdout",
     "output_type": "stream",
     "text": [
      "Model: rf | Mean train rsmle: 0.19541777731821702 | Standard deviation: 0.0007076231249693139\n",
      "Model: rf | Mean val rsmle: 0.20200213008010542 | Standard deviation: 0.0016574981314088342\n"
     ]
    },
    {
     "name": "stderr",
     "output_type": "stream",
     "text": [
      "100%|█████████████████████████████████████████████████████████████████████████████████████████████████████████████████████████████████████████████████████████████████████████████████████████████████████| 5/5 [00:06<00:00,  1.35s/it]\n",
      "\u001b[32m[I 2021-11-12 11:06:20,609]\u001b[0m Trial 14 finished with value: 0.17340544904398186 and parameters: {'max_depth': 17, 'min_samples_split': 94, 'max_features': 40, 'min_samples_leaf': 2, 'min_weight_fraction_leaf': 4.0252836474529205e-07}. Best is trial 0 with value: 0.16407545085775838.\u001b[0m\n"
     ]
    },
    {
     "name": "stdout",
     "output_type": "stream",
     "text": [
      "Model: rf | Mean train rsmle: 0.15910538998789148 | Standard deviation: 0.0013952573004615625\n",
      "Model: rf | Mean val rsmle: 0.17340544904398186 | Standard deviation: 0.0006197541756443947\n"
     ]
    },
    {
     "name": "stderr",
     "output_type": "stream",
     "text": [
      "100%|█████████████████████████████████████████████████████████████████████████████████████████████████████████████████████████████████████████████████████████████████████████████████████████████████████| 5/5 [00:07<00:00,  1.56s/it]\n",
      "\u001b[32m[I 2021-11-12 11:06:28,488]\u001b[0m Trial 15 finished with value: 0.17040853129802408 and parameters: {'max_depth': 20, 'min_samples_split': 74, 'max_features': 83, 'min_samples_leaf': 2, 'min_weight_fraction_leaf': 9.45452920506497e-07}. Best is trial 0 with value: 0.16407545085775838.\u001b[0m\n"
     ]
    },
    {
     "name": "stdout",
     "output_type": "stream",
     "text": [
      "Model: rf | Mean train rsmle: 0.14971723941605902 | Standard deviation: 0.0011272390143205692\n",
      "Model: rf | Mean val rsmle: 0.17040853129802408 | Standard deviation: 0.0023244433627196506\n"
     ]
    },
    {
     "name": "stderr",
     "output_type": "stream",
     "text": [
      "100%|█████████████████████████████████████████████████████████████████████████████████████████████████████████████████████████████████████████████████████████████████████████████████████████████████████| 5/5 [00:06<00:00,  1.28s/it]\n",
      "\u001b[32m[I 2021-11-12 11:06:34,910]\u001b[0m Trial 16 finished with value: 0.1796860004678269 and parameters: {'max_depth': 31, 'min_samples_split': 72, 'max_features': 83, 'min_samples_leaf': 22, 'min_weight_fraction_leaf': 4.2491677715873835e-06}. Best is trial 0 with value: 0.16407545085775838.\u001b[0m\n"
     ]
    },
    {
     "name": "stdout",
     "output_type": "stream",
     "text": [
      "Model: rf | Mean train rsmle: 0.165718898132257 | Standard deviation: 0.0011102471924484087\n",
      "Model: rf | Mean val rsmle: 0.1796860004678269 | Standard deviation: 0.0015719842422261948\n"
     ]
    },
    {
     "name": "stderr",
     "output_type": "stream",
     "text": [
      "100%|█████████████████████████████████████████████████████████████████████████████████████████████████████████████████████████████████████████████████████████████████████████████████████████████████████| 5/5 [00:01<00:00,  3.78it/s]\n",
      "\u001b[32m[I 2021-11-12 11:06:36,267]\u001b[0m Trial 17 finished with value: 0.1812258975246468 and parameters: {'max_depth': 20, 'min_samples_split': 52, 'max_features': 12, 'min_samples_leaf': 10, 'min_weight_fraction_leaf': 0.00013530814587114605}. Best is trial 0 with value: 0.16407545085775838.\u001b[0m\n"
     ]
    },
    {
     "name": "stdout",
     "output_type": "stream",
     "text": [
      "Model: rf | Mean train rsmle: 0.16664505373003155 | Standard deviation: 0.0017252937728997498\n",
      "Model: rf | Mean val rsmle: 0.1812258975246468 | Standard deviation: 0.004161982579000723\n"
     ]
    },
    {
     "name": "stderr",
     "output_type": "stream",
     "text": [
      "100%|█████████████████████████████████████████████████████████████████████████████████████████████████████████████████████████████████████████████████████████████████████████████████████████████████████| 5/5 [00:01<00:00,  3.32it/s]\n",
      "\u001b[32m[I 2021-11-12 11:06:37,806]\u001b[0m Trial 18 finished with value: 0.3280494921352573 and parameters: {'max_depth': 2, 'min_samples_split': 64, 'max_features': 81, 'min_samples_leaf': 77, 'min_weight_fraction_leaf': 2.3504141183243304e-07}. Best is trial 0 with value: 0.16407545085775838.\u001b[0m\n"
     ]
    },
    {
     "name": "stdout",
     "output_type": "stream",
     "text": [
      "Model: rf | Mean train rsmle: 0.32748732808042696 | Standard deviation: 0.002195815477375374\n",
      "Model: rf | Mean val rsmle: 0.3280494921352573 | Standard deviation: 0.005306356035790657\n"
     ]
    },
    {
     "name": "stderr",
     "output_type": "stream",
     "text": [
      "100%|█████████████████████████████████████████████████████████████████████████████████████████████████████████████████████████████████████████████████████████████████████████████████████████████████████| 5/5 [00:03<00:00,  1.47it/s]\n",
      "\u001b[32m[I 2021-11-12 11:06:41,250]\u001b[0m Trial 19 finished with value: 0.19709110890656203 and parameters: {'max_depth': 8, 'min_samples_split': 15, 'max_features': 60, 'min_samples_leaf': 28, 'min_weight_fraction_leaf': 1.6441697402290523e-05}. Best is trial 0 with value: 0.16407545085775838.\u001b[0m\n"
     ]
    },
    {
     "name": "stdout",
     "output_type": "stream",
     "text": [
      "Model: rf | Mean train rsmle: 0.18754105768691237 | Standard deviation: 0.002047363416011431\n",
      "Model: rf | Mean val rsmle: 0.19709110890656203 | Standard deviation: 0.0017112278482956846\n"
     ]
    },
    {
     "name": "stderr",
     "output_type": "stream",
     "text": [
      "100%|█████████████████████████████████████████████████████████████████████████████████████████████████████████████████████████████████████████████████████████████████████████████████████████████████████| 5/5 [00:02<00:00,  1.75it/s]\n",
      "\u001b[32m[I 2021-11-12 11:06:44,147]\u001b[0m Trial 20 finished with value: 0.16580449837432876 and parameters: {'max_depth': 21, 'min_samples_split': 46, 'max_features': 28, 'min_samples_leaf': 8, 'min_weight_fraction_leaf': 0.000433870264200971}. Best is trial 0 with value: 0.16407545085775838.\u001b[0m\n"
     ]
    },
    {
     "name": "stdout",
     "output_type": "stream",
     "text": [
      "Model: rf | Mean train rsmle: 0.14844269123186657 | Standard deviation: 0.0014931607644948844\n",
      "Model: rf | Mean val rsmle: 0.16580449837432876 | Standard deviation: 0.001978405356814358\n"
     ]
    },
    {
     "name": "stderr",
     "output_type": "stream",
     "text": [
      "100%|█████████████████████████████████████████████████████████████████████████████████████████████████████████████████████████████████████████████████████████████████████████████████████████████████████| 5/5 [00:03<00:00,  1.63it/s]\n",
      "\u001b[32m[I 2021-11-12 11:06:47,260]\u001b[0m Trial 21 finished with value: 0.17689993075800983 and parameters: {'max_depth': 20, 'min_samples_split': 85, 'max_features': 29, 'min_samples_leaf': 1, 'min_weight_fraction_leaf': 0.0004081385838923811}. Best is trial 0 with value: 0.16407545085775838.\u001b[0m\n"
     ]
    },
    {
     "name": "stdout",
     "output_type": "stream",
     "text": [
      "Model: rf | Mean train rsmle: 0.1628451354295765 | Standard deviation: 0.0016724631508097103\n",
      "Model: rf | Mean val rsmle: 0.17689993075800983 | Standard deviation: 0.002273960620023893\n"
     ]
    },
    {
     "name": "stderr",
     "output_type": "stream",
     "text": [
      "100%|█████████████████████████████████████████████████████████████████████████████████████████████████████████████████████████████████████████████████████████████████████████████████████████████████████| 5/5 [00:03<00:00,  1.35it/s]\n",
      "\u001b[32m[I 2021-11-12 11:06:51,000]\u001b[0m Trial 22 finished with value: 0.16400075526346594 and parameters: {'max_depth': 27, 'min_samples_split': 46, 'max_features': 45, 'min_samples_leaf': 10, 'min_weight_fraction_leaf': 2.7923489890498586e-06}. Best is trial 22 with value: 0.16400075526346594.\u001b[0m\n"
     ]
    },
    {
     "name": "stdout",
     "output_type": "stream",
     "text": [
      "Model: rf | Mean train rsmle: 0.1452933154044132 | Standard deviation: 0.0007291457805380839\n",
      "Model: rf | Mean val rsmle: 0.16400075526346594 | Standard deviation: 0.0028169517718606937\n"
     ]
    },
    {
     "name": "stderr",
     "output_type": "stream",
     "text": [
      "100%|█████████████████████████████████████████████████████████████████████████████████████████████████████████████████████████████████████████████████████████████████████████████████████████████████████| 5/5 [00:03<00:00,  1.38it/s]\n",
      "\u001b[32m[I 2021-11-12 11:06:54,652]\u001b[0m Trial 23 finished with value: 0.1665006144866835 and parameters: {'max_depth': 29, 'min_samples_split': 46, 'max_features': 46, 'min_samples_leaf': 13, 'min_weight_fraction_leaf': 5.558745835952337e-06}. Best is trial 22 with value: 0.16400075526346594.\u001b[0m\n"
     ]
    },
    {
     "name": "stdout",
     "output_type": "stream",
     "text": [
      "Model: rf | Mean train rsmle: 0.1484530099252851 | Standard deviation: 0.0006312962093653989\n",
      "Model: rf | Mean val rsmle: 0.1665006144866835 | Standard deviation: 0.0023482875133852077\n"
     ]
    },
    {
     "name": "stderr",
     "output_type": "stream",
     "text": [
      "100%|█████████████████████████████████████████████████████████████████████████████████████████████████████████████████████████████████████████████████████████████████████████████████████████████████████| 5/5 [00:03<00:00,  1.35it/s]\n",
      "\u001b[32m[I 2021-11-12 11:06:58,406]\u001b[0m Trial 24 finished with value: 0.172870181981353 and parameters: {'max_depth': 24, 'min_samples_split': 19, 'max_features': 44, 'min_samples_leaf': 24, 'min_weight_fraction_leaf': 5.9018117910945794e-05}. Best is trial 22 with value: 0.16400075526346594.\u001b[0m\n"
     ]
    },
    {
     "name": "stdout",
     "output_type": "stream",
     "text": [
      "Model: rf | Mean train rsmle: 0.15879116080011665 | Standard deviation: 0.001486951779863423\n",
      "Model: rf | Mean val rsmle: 0.172870181981353 | Standard deviation: 0.0012485426022286821\n"
     ]
    },
    {
     "name": "stderr",
     "output_type": "stream",
     "text": [
      "100%|█████████████████████████████████████████████████████████████████████████████████████████████████████████████████████████████████████████████████████████████████████████████████████████████████████| 5/5 [00:02<00:00,  1.91it/s]\n",
      "\u001b[32m[I 2021-11-12 11:07:01,055]\u001b[0m Trial 25 finished with value: 0.18580371126133755 and parameters: {'max_depth': 31, 'min_samples_split': 52, 'max_features': 28, 'min_samples_leaf': 34, 'min_weight_fraction_leaf': 0.000701412059557532}. Best is trial 22 with value: 0.16400075526346594.\u001b[0m\n"
     ]
    },
    {
     "name": "stdout",
     "output_type": "stream",
     "text": [
      "Model: rf | Mean train rsmle: 0.1756777856322042 | Standard deviation: 0.0011754169976962308\n",
      "Model: rf | Mean val rsmle: 0.18580371126133755 | Standard deviation: 0.0019701775652664196\n"
     ]
    },
    {
     "name": "stderr",
     "output_type": "stream",
     "text": [
      "100%|█████████████████████████████████████████████████████████████████████████████████████████████████████████████████████████████████████████████████████████████████████████████████████████████████████| 5/5 [00:00<00:00,  7.17it/s]\n",
      "\u001b[32m[I 2021-11-12 11:07:01,785]\u001b[0m Trial 26 finished with value: 0.30337537067415454 and parameters: {'max_depth': 15, 'min_samples_split': 46, 'max_features': 16, 'min_samples_leaf': 10, 'min_weight_fraction_leaf': 0.07688955550101995}. Best is trial 22 with value: 0.16400075526346594.\u001b[0m\n"
     ]
    },
    {
     "name": "stdout",
     "output_type": "stream",
     "text": [
      "Model: rf | Mean train rsmle: 0.30162220859027367 | Standard deviation: 0.004053814018924095\n",
      "Model: rf | Mean val rsmle: 0.30337537067415454 | Standard deviation: 0.00850744985664707\n"
     ]
    },
    {
     "name": "stderr",
     "output_type": "stream",
     "text": [
      "100%|█████████████████████████████████████████████████████████████████████████████████████████████████████████████████████████████████████████████████████████████████████████████████████████████████████| 5/5 [00:02<00:00,  2.18it/s]\n",
      "\u001b[32m[I 2021-11-12 11:07:04,099]\u001b[0m Trial 27 finished with value: 0.2010301682079784 and parameters: {'max_depth': 9, 'min_samples_split': 28, 'max_features': 38, 'min_samples_leaf': 50, 'min_weight_fraction_leaf': 1.3424604402217535e-07}. Best is trial 22 with value: 0.16400075526346594.\u001b[0m\n"
     ]
    },
    {
     "name": "stdout",
     "output_type": "stream",
     "text": [
      "Model: rf | Mean train rsmle: 0.19487380192670598 | Standard deviation: 0.00047082581327597935\n",
      "Model: rf | Mean val rsmle: 0.2010301682079784 | Standard deviation: 0.001938138252867625\n"
     ]
    },
    {
     "name": "stderr",
     "output_type": "stream",
     "text": [
      "100%|█████████████████████████████████████████████████████████████████████████████████████████████████████████████████████████████████████████████████████████████████████████████████████████████████████| 5/5 [00:03<00:00,  1.37it/s]\n",
      "\u001b[32m[I 2021-11-12 11:07:07,766]\u001b[0m Trial 28 finished with value: 0.16492869853612172 and parameters: {'max_depth': 23, 'min_samples_split': 12, 'max_features': 46, 'min_samples_leaf': 16, 'min_weight_fraction_leaf': 0.00012488223154065545}. Best is trial 22 with value: 0.16400075526346594.\u001b[0m\n"
     ]
    },
    {
     "name": "stdout",
     "output_type": "stream",
     "text": [
      "Model: rf | Mean train rsmle: 0.1460992004805855 | Standard deviation: 0.0003867049583254064\n",
      "Model: rf | Mean val rsmle: 0.16492869853612172 | Standard deviation: 0.001899897526675512\n"
     ]
    },
    {
     "name": "stderr",
     "output_type": "stream",
     "text": [
      "100%|█████████████████████████████████████████████████████████████████████████████████████████████████████████████████████████████████████████████████████████████████████████████████████████████████████| 5/5 [00:04<00:00,  1.22it/s]\n",
      "\u001b[32m[I 2021-11-12 11:07:11,890]\u001b[0m Trial 29 finished with value: 0.17630254381259475 and parameters: {'max_depth': 25, 'min_samples_split': 2, 'max_features': 57, 'min_samples_leaf': 20, 'min_weight_fraction_leaf': 0.002321513930602969}. Best is trial 22 with value: 0.16400075526346594.\u001b[0m\n"
     ]
    },
    {
     "name": "stdout",
     "output_type": "stream",
     "text": [
      "Model: rf | Mean train rsmle: 0.1625258761944967 | Standard deviation: 0.0010509209940230005\n",
      "Model: rf | Mean val rsmle: 0.17630254381259475 | Standard deviation: 0.0008113391068357612\n"
     ]
    },
    {
     "name": "stderr",
     "output_type": "stream",
     "text": [
      "100%|█████████████████████████████████████████████████████████████████████████████████████████████████████████████████████████████████████████████████████████████████████████████████████████████████████| 5/5 [00:03<00:00,  1.58it/s]\n",
      "\u001b[32m[I 2021-11-12 11:07:15,088]\u001b[0m Trial 30 finished with value: 0.18964013030704002 and parameters: {'max_depth': 12, 'min_samples_split': 12, 'max_features': 48, 'min_samples_leaf': 48, 'min_weight_fraction_leaf': 1.7521887750091616e-05}. Best is trial 22 with value: 0.16400075526346594.\u001b[0m\n"
     ]
    },
    {
     "name": "stdout",
     "output_type": "stream",
     "text": [
      "Model: rf | Mean train rsmle: 0.18136716542366926 | Standard deviation: 0.0009072244659724649\n",
      "Model: rf | Mean val rsmle: 0.18964013030704002 | Standard deviation: 0.0018978159747083012\n"
     ]
    },
    {
     "name": "stderr",
     "output_type": "stream",
     "text": [
      "100%|█████████████████████████████████████████████████████████████████████████████████████████████████████████████████████████████████████████████████████████████████████████████████████████████████████| 5/5 [00:03<00:00,  1.37it/s]\n",
      "\u001b[32m[I 2021-11-12 11:07:18,765]\u001b[0m Trial 31 finished with value: 0.1590764473936745 and parameters: {'max_depth': 20, 'min_samples_split': 37, 'max_features': 43, 'min_samples_leaf': 8, 'min_weight_fraction_leaf': 0.00022597441854030456}. Best is trial 31 with value: 0.1590764473936745.\u001b[0m\n"
     ]
    },
    {
     "name": "stdout",
     "output_type": "stream",
     "text": [
      "Model: rf | Mean train rsmle: 0.13856032630361628 | Standard deviation: 0.000747905723612274\n",
      "Model: rf | Mean val rsmle: 0.1590764473936745 | Standard deviation: 0.001994447757740549\n"
     ]
    },
    {
     "name": "stderr",
     "output_type": "stream",
     "text": [
      "100%|█████████████████████████████████████████████████████████████████████████████████████████████████████████████████████████████████████████████████████████████████████████████████████████████████████| 5/5 [00:03<00:00,  1.45it/s]\n",
      "\u001b[32m[I 2021-11-12 11:07:22,252]\u001b[0m Trial 32 finished with value: 0.16584996606044128 and parameters: {'max_depth': 26, 'min_samples_split': 36, 'max_features': 43, 'min_samples_leaf': 18, 'min_weight_fraction_leaf': 7.730246954088034e-05}. Best is trial 31 with value: 0.1590764473936745.\u001b[0m\n"
     ]
    },
    {
     "name": "stdout",
     "output_type": "stream",
     "text": [
      "Model: rf | Mean train rsmle: 0.14944290719643782 | Standard deviation: 0.0011275378290732834\n",
      "Model: rf | Mean val rsmle: 0.16584996606044128 | Standard deviation: 0.0009056597776218523\n"
     ]
    },
    {
     "name": "stderr",
     "output_type": "stream",
     "text": [
      "100%|█████████████████████████████████████████████████████████████████████████████████████████████████████████████████████████████████████████████████████████████████████████████████████████████████████| 5/5 [00:03<00:00,  1.26it/s]\n",
      "\u001b[32m[I 2021-11-12 11:07:26,249]\u001b[0m Trial 33 finished with value: 0.17338582885615214 and parameters: {'max_depth': 17, 'min_samples_split': 20, 'max_features': 53, 'min_samples_leaf': 27, 'min_weight_fraction_leaf': 0.00015191833353704663}. Best is trial 31 with value: 0.1590764473936745.\u001b[0m\n"
     ]
    },
    {
     "name": "stdout",
     "output_type": "stream",
     "text": [
      "Model: rf | Mean train rsmle: 0.16135582206374272 | Standard deviation: 0.0007224397857468792\n",
      "Model: rf | Mean val rsmle: 0.17338582885615214 | Standard deviation: 0.002217115287254686\n"
     ]
    },
    {
     "name": "stderr",
     "output_type": "stream",
     "text": [
      "100%|█████████████████████████████████████████████████████████████████████████████████████████████████████████████████████████████████████████████████████████████████████████████████████████████████████| 5/5 [00:04<00:00,  1.03it/s]\n",
      "\u001b[32m[I 2021-11-12 11:07:31,124]\u001b[0m Trial 34 finished with value: 0.15546223491926822 and parameters: {'max_depth': 22, 'min_samples_split': 30, 'max_features': 51, 'min_samples_leaf': 7, 'min_weight_fraction_leaf': 7.680494986223079e-06}. Best is trial 34 with value: 0.15546223491926822.\u001b[0m\n"
     ]
    },
    {
     "name": "stdout",
     "output_type": "stream",
     "text": [
      "Model: rf | Mean train rsmle: 0.13159610669498914 | Standard deviation: 0.0008705583318056384\n",
      "Model: rf | Mean val rsmle: 0.15546223491926822 | Standard deviation: 0.0013689800923851433\n"
     ]
    },
    {
     "name": "stderr",
     "output_type": "stream",
     "text": [
      "100%|█████████████████████████████████████████████████████████████████████████████████████████████████████████████████████████████████████████████████████████████████████████████████████████████████████| 5/5 [00:04<00:00,  1.09it/s]\n",
      "\u001b[32m[I 2021-11-12 11:07:35,751]\u001b[0m Trial 35 finished with value: 0.16012711468409732 and parameters: {'max_depth': 18, 'min_samples_split': 33, 'max_features': 54, 'min_samples_leaf': 8, 'min_weight_fraction_leaf': 5.61084552151915e-06}. Best is trial 34 with value: 0.15546223491926822.\u001b[0m\n"
     ]
    },
    {
     "name": "stdout",
     "output_type": "stream",
     "text": [
      "Model: rf | Mean train rsmle: 0.13725217403517564 | Standard deviation: 0.0008515306347802821\n",
      "Model: rf | Mean val rsmle: 0.16012711468409732 | Standard deviation: 0.002376575635554681\n"
     ]
    },
    {
     "name": "stderr",
     "output_type": "stream",
     "text": [
      "100%|█████████████████████████████████████████████████████████████████████████████████████████████████████████████████████████████████████████████████████████████████████████████████████████████████████| 5/5 [00:05<00:00,  1.14s/it]\n",
      "\u001b[32m[I 2021-11-12 11:07:41,494]\u001b[0m Trial 36 finished with value: 0.1574258831614471 and parameters: {'max_depth': 18, 'min_samples_split': 32, 'max_features': 64, 'min_samples_leaf': 7, 'min_weight_fraction_leaf': 2.6834383301993584e-06}. Best is trial 34 with value: 0.15546223491926822.\u001b[0m\n"
     ]
    },
    {
     "name": "stdout",
     "output_type": "stream",
     "text": [
      "Model: rf | Mean train rsmle: 0.13262852522568225 | Standard deviation: 0.001136743282830605\n",
      "Model: rf | Mean val rsmle: 0.1574258831614471 | Standard deviation: 0.003386984710220927\n"
     ]
    },
    {
     "name": "stderr",
     "output_type": "stream",
     "text": [
      "100%|█████████████████████████████████████████████████████████████████████████████████████████████████████████████████████████████████████████████████████████████████████████████████████████████████████| 5/5 [00:07<00:00,  1.43s/it]\n",
      "\u001b[32m[I 2021-11-12 11:07:48,652]\u001b[0m Trial 37 finished with value: 0.1589061982454226 and parameters: {'max_depth': 14, 'min_samples_split': 31, 'max_features': 67, 'min_samples_leaf': 7, 'min_weight_fraction_leaf': 2.6832030078990517e-05}. Best is trial 34 with value: 0.15546223491926822.\u001b[0m\n"
     ]
    },
    {
     "name": "stdout",
     "output_type": "stream",
     "text": [
      "Model: rf | Mean train rsmle: 0.13641091282619447 | Standard deviation: 0.0009184195911312646\n",
      "Model: rf | Mean val rsmle: 0.1589061982454226 | Standard deviation: 0.002600047656905806\n"
     ]
    },
    {
     "name": "stderr",
     "output_type": "stream",
     "text": [
      "100%|█████████████████████████████████████████████████████████████████████████████████████████████████████████████████████████████████████████████████████████████████████████████████████████████████████| 5/5 [00:04<00:00,  1.09it/s]\n",
      "\u001b[32m[I 2021-11-12 11:07:53,271]\u001b[0m Trial 38 finished with value: 0.21234704272664356 and parameters: {'max_depth': 13, 'min_samples_split': 26, 'max_features': 65, 'min_samples_leaf': 96, 'min_weight_fraction_leaf': 3.101398843711947e-05}. Best is trial 34 with value: 0.15546223491926822.\u001b[0m\n"
     ]
    },
    {
     "name": "stdout",
     "output_type": "stream",
     "text": [
      "Model: rf | Mean train rsmle: 0.20571405719371283 | Standard deviation: 0.0018750936010684003\n",
      "Model: rf | Mean val rsmle: 0.21234704272664356 | Standard deviation: 0.002669627610306451\n"
     ]
    },
    {
     "name": "stderr",
     "output_type": "stream",
     "text": [
      "100%|█████████████████████████████████████████████████████████████████████████████████████████████████████████████████████████████████████████████████████████████████████████████████████████████████████| 5/5 [00:06<00:00,  1.38s/it]\n",
      "\u001b[32m[I 2021-11-12 11:08:00,196]\u001b[0m Trial 39 finished with value: 0.1707655435796352 and parameters: {'max_depth': 11, 'min_samples_split': 41, 'max_features': 74, 'min_samples_leaf': 5, 'min_weight_fraction_leaf': 1.2506072209255968e-06}. Best is trial 34 with value: 0.15546223491926822.\u001b[0m\n"
     ]
    },
    {
     "name": "stdout",
     "output_type": "stream",
     "text": [
      "Model: rf | Mean train rsmle: 0.15359703598314609 | Standard deviation: 0.0010538050082245611\n",
      "Model: rf | Mean val rsmle: 0.1707655435796352 | Standard deviation: 0.0026654803099520276\n"
     ]
    },
    {
     "name": "stderr",
     "output_type": "stream",
     "text": [
      "100%|█████████████████████████████████████████████████████████████████████████████████████████████████████████████████████████████████████████████████████████████████████████████████████████████████████| 5/5 [00:03<00:00,  1.45it/s]\n",
      "\u001b[32m[I 2021-11-12 11:08:03,674]\u001b[0m Trial 40 finished with value: 0.23566171468425265 and parameters: {'max_depth': 5, 'min_samples_split': 31, 'max_features': 70, 'min_samples_leaf': 32, 'min_weight_fraction_leaf': 0.0013316308646016768}. Best is trial 34 with value: 0.15546223491926822.\u001b[0m\n"
     ]
    },
    {
     "name": "stdout",
     "output_type": "stream",
     "text": [
      "Model: rf | Mean train rsmle: 0.23118102837218615 | Standard deviation: 0.0011248907210371609\n",
      "Model: rf | Mean val rsmle: 0.23566171468425265 | Standard deviation: 0.0026379428625162384\n"
     ]
    },
    {
     "name": "stderr",
     "output_type": "stream",
     "text": [
      "100%|█████████████████████████████████████████████████████████████████████████████████████████████████████████████████████████████████████████████████████████████████████████████████████████████████████| 5/5 [00:05<00:00,  1.16s/it]\n",
      "\u001b[32m[I 2021-11-12 11:08:09,522]\u001b[0m Trial 41 finished with value: 0.1604903701701943 and parameters: {'max_depth': 17, 'min_samples_split': 32, 'max_features': 59, 'min_samples_leaf': 11, 'min_weight_fraction_leaf': 7.849272451770323e-06}. Best is trial 34 with value: 0.15546223491926822.\u001b[0m\n"
     ]
    },
    {
     "name": "stdout",
     "output_type": "stream",
     "text": [
      "Model: rf | Mean train rsmle: 0.1393453067194752 | Standard deviation: 0.0008430508707575642\n",
      "Model: rf | Mean val rsmle: 0.1604903701701943 | Standard deviation: 0.00221925594317632\n"
     ]
    },
    {
     "name": "stderr",
     "output_type": "stream",
     "text": [
      "100%|█████████████████████████████████████████████████████████████████████████████████████████████████████████████████████████████████████████████████████████████████████████████████████████████████████| 5/5 [00:06<00:00,  1.26s/it]\n",
      "\u001b[32m[I 2021-11-12 11:08:15,847]\u001b[0m Trial 42 finished with value: 0.15299243996578832 and parameters: {'max_depth': 18, 'min_samples_split': 23, 'max_features': 55, 'min_samples_leaf': 6, 'min_weight_fraction_leaf': 2.7098938479274897e-05}. Best is trial 42 with value: 0.15299243996578832.\u001b[0m\n"
     ]
    },
    {
     "name": "stdout",
     "output_type": "stream",
     "text": [
      "Model: rf | Mean train rsmle: 0.12524932047290455 | Standard deviation: 0.0014475517645499874\n",
      "Model: rf | Mean val rsmle: 0.15299243996578832 | Standard deviation: 0.002864326192302017\n"
     ]
    },
    {
     "name": "stderr",
     "output_type": "stream",
     "text": [
      "100%|█████████████████████████████████████████████████████████████████████████████████████████████████████████████████████████████████████████████████████████████████████████████████████████████████████| 5/5 [00:05<00:00,  1.19s/it]\n",
      "\u001b[32m[I 2021-11-12 11:08:21,826]\u001b[0m Trial 43 finished with value: 0.16666457165104318 and parameters: {'max_depth': 14, 'min_samples_split': 22, 'max_features': 64, 'min_samples_leaf': 17, 'min_weight_fraction_leaf': 3.0882535599234235e-05}. Best is trial 42 with value: 0.15299243996578832.\u001b[0m\n"
     ]
    },
    {
     "name": "stdout",
     "output_type": "stream",
     "text": [
      "Model: rf | Mean train rsmle: 0.14907095374663476 | Standard deviation: 0.0009854009483596855\n",
      "Model: rf | Mean val rsmle: 0.16666457165104318 | Standard deviation: 0.0016475840497221614\n"
     ]
    },
    {
     "name": "stderr",
     "output_type": "stream",
     "text": [
      "100%|█████████████████████████████████████████████████████████████████████████████████████████████████████████████████████████████████████████████████████████████████████████████████████████████████████| 5/5 [00:04<00:00,  1.06it/s]\n",
      "\u001b[32m[I 2021-11-12 11:08:26,592]\u001b[0m Trial 44 finished with value: 0.1619587762322618 and parameters: {'max_depth': 15, 'min_samples_split': 41, 'max_features': 51, 'min_samples_leaf': 6, 'min_weight_fraction_leaf': 1.1376938778778357e-05}. Best is trial 42 with value: 0.15299243996578832.\u001b[0m\n"
     ]
    },
    {
     "name": "stdout",
     "output_type": "stream",
     "text": [
      "Model: rf | Mean train rsmle: 0.14126356317092725 | Standard deviation: 0.000954000737435713\n",
      "Model: rf | Mean val rsmle: 0.1619587762322618 | Standard deviation: 0.0021574389006422112\n"
     ]
    },
    {
     "name": "stderr",
     "output_type": "stream",
     "text": [
      "100%|█████████████████████████████████████████████████████████████████████████████████████████████████████████████████████████████████████████████████████████████████████████████████████████████████████| 5/5 [00:04<00:00,  1.03it/s]\n",
      "\u001b[32m[I 2021-11-12 11:08:31,480]\u001b[0m Trial 45 finished with value: 0.200634437690775 and parameters: {'max_depth': 22, 'min_samples_split': 25, 'max_features': 68, 'min_samples_leaf': 73, 'min_weight_fraction_leaf': 2.196449028275777e-06}. Best is trial 42 with value: 0.15299243996578832.\u001b[0m\n"
     ]
    },
    {
     "name": "stdout",
     "output_type": "stream",
     "text": [
      "Model: rf | Mean train rsmle: 0.19367000508571566 | Standard deviation: 0.0013580715302463835\n",
      "Model: rf | Mean val rsmle: 0.200634437690775 | Standard deviation: 0.001339077806780468\n"
     ]
    },
    {
     "name": "stderr",
     "output_type": "stream",
     "text": [
      "100%|█████████████████████████████████████████████████████████████████████████████████████████████████████████████████████████████████████████████████████████████████████████████████████████████████████| 5/5 [00:05<00:00,  1.19s/it]\n",
      "\u001b[32m[I 2021-11-12 11:08:37,463]\u001b[0m Trial 46 finished with value: 0.14831201782386055 and parameters: {'max_depth': 18, 'min_samples_split': 16, 'max_features': 57, 'min_samples_leaf': 5, 'min_weight_fraction_leaf': 2.911810953245806e-05}. Best is trial 46 with value: 0.14831201782386055.\u001b[0m\n"
     ]
    },
    {
     "name": "stdout",
     "output_type": "stream",
     "text": [
      "Model: rf | Mean train rsmle: 0.115232071475693 | Standard deviation: 0.00025330697199029345\n",
      "Model: rf | Mean val rsmle: 0.14831201782386055 | Standard deviation: 0.002476833211918736\n"
     ]
    },
    {
     "name": "stderr",
     "output_type": "stream",
     "text": [
      "100%|█████████████████████████████████████████████████████████████████████████████████████████████████████████████████████████████████████████████████████████████████████████████████████████████████████| 5/5 [00:04<00:00,  1.23it/s]\n",
      "\u001b[32m[I 2021-11-12 11:08:41,552]\u001b[0m Trial 47 finished with value: 0.17809179550096205 and parameters: {'max_depth': 9, 'min_samples_split': 17, 'max_features': 56, 'min_samples_leaf': 5, 'min_weight_fraction_leaf': 4.535428112308732e-05}. Best is trial 46 with value: 0.14831201782386055.\u001b[0m\n"
     ]
    },
    {
     "name": "stdout",
     "output_type": "stream",
     "text": [
      "Model: rf | Mean train rsmle: 0.16264832497890006 | Standard deviation: 0.0015009422936168308\n",
      "Model: rf | Mean val rsmle: 0.17809179550096205 | Standard deviation: 0.0011911462209616237\n"
     ]
    },
    {
     "name": "stderr",
     "output_type": "stream",
     "text": [
      "100%|█████████████████████████████████████████████████████████████████████████████████████████████████████████████████████████████████████████████████████████████████████████████████████████████████████| 5/5 [00:06<00:00,  1.34s/it]\n",
      "\u001b[32m[I 2021-11-12 11:08:48,304]\u001b[0m Trial 48 finished with value: 0.1628004686918041 and parameters: {'max_depth': 18, 'min_samples_split': 8, 'max_features': 73, 'min_samples_leaf': 14, 'min_weight_fraction_leaf': 2.184174864544652e-05}. Best is trial 46 with value: 0.14831201782386055.\u001b[0m\n"
     ]
    },
    {
     "name": "stdout",
     "output_type": "stream",
     "text": [
      "Model: rf | Mean train rsmle: 0.14142541451109286 | Standard deviation: 0.0013380016962092499\n",
      "Model: rf | Mean val rsmle: 0.1628004686918041 | Standard deviation: 0.001662963671656703\n"
     ]
    },
    {
     "name": "stderr",
     "output_type": "stream",
     "text": [
      "100%|█████████████████████████████████████████████████████████████████████████████████████████████████████████████████████████████████████████████████████████████████████████████████████████████████████| 5/5 [00:03<00:00,  1.50it/s]\n",
      "\u001b[32m[I 2021-11-12 11:08:51,675]\u001b[0m Trial 49 finished with value: 0.21949330364645156 and parameters: {'max_depth': 6, 'min_samples_split': 22, 'max_features': 63, 'min_samples_leaf': 26, 'min_weight_fraction_leaf': 4.5553317617598855e-07}. Best is trial 46 with value: 0.14831201782386055.\u001b[0m\n"
     ]
    },
    {
     "name": "stdout",
     "output_type": "stream",
     "text": [
      "Model: rf | Mean train rsmle: 0.21231296023129112 | Standard deviation: 0.0021760432581702433\n",
      "Model: rf | Mean val rsmle: 0.21949330364645156 | Standard deviation: 0.004018375675665099\n"
     ]
    },
    {
     "name": "stderr",
     "output_type": "stream",
     "text": [
      "100%|█████████████████████████████████████████████████████████████████████████████████████████████████████████████████████████████████████████████████████████████████████████████████████████████████████| 5/5 [00:05<00:00,  1.15s/it]\n",
      "\u001b[32m[I 2021-11-12 11:08:57,481]\u001b[0m Trial 50 finished with value: 0.18382620492657992 and parameters: {'max_depth': 10, 'min_samples_split': 15, 'max_features': 77, 'min_samples_leaf': 20, 'min_weight_fraction_leaf': 7.573252326360487e-08}. Best is trial 46 with value: 0.14831201782386055.\u001b[0m\n"
     ]
    },
    {
     "name": "stdout",
     "output_type": "stream",
     "text": [
      "Model: rf | Mean train rsmle: 0.16953062392262744 | Standard deviation: 0.0018085479920301685\n",
      "Model: rf | Mean val rsmle: 0.18382620492657992 | Standard deviation: 0.001967900045849505\n"
     ]
    },
    {
     "name": "stderr",
     "output_type": "stream",
     "text": [
      "100%|█████████████████████████████████████████████████████████████████████████████████████████████████████████████████████████████████████████████████████████████████████████████████████████████████████| 5/5 [00:05<00:00,  1.04s/it]\n",
      "\u001b[32m[I 2021-11-12 11:09:02,695]\u001b[0m Trial 51 finished with value: 0.1539967568260628 and parameters: {'max_depth': 19, 'min_samples_split': 36, 'max_features': 51, 'min_samples_leaf': 1, 'min_weight_fraction_leaf': 9.228233085731965e-05}. Best is trial 46 with value: 0.14831201782386055.\u001b[0m\n"
     ]
    },
    {
     "name": "stdout",
     "output_type": "stream",
     "text": [
      "Model: rf | Mean train rsmle: 0.1266518181039194 | Standard deviation: 0.000618411707855794\n",
      "Model: rf | Mean val rsmle: 0.1539967568260628 | Standard deviation: 0.002060116870500822\n"
     ]
    },
    {
     "name": "stderr",
     "output_type": "stream",
     "text": [
      "100%|█████████████████████████████████████████████████████████████████████████████████████████████████████████████████████████████████████████████████████████████████████████████████████████████████████| 5/5 [00:05<00:00,  1.16s/it]\n",
      "\u001b[32m[I 2021-11-12 11:09:08,518]\u001b[0m Trial 52 finished with value: 0.1532673546251638 and parameters: {'max_depth': 15, 'min_samples_split': 28, 'max_features': 59, 'min_samples_leaf': 1, 'min_weight_fraction_leaf': 7.788082759880834e-05}. Best is trial 46 with value: 0.14831201782386055.\u001b[0m\n"
     ]
    },
    {
     "name": "stdout",
     "output_type": "stream",
     "text": [
      "Model: rf | Mean train rsmle: 0.12497939872339008 | Standard deviation: 0.0008623117490874586\n",
      "Model: rf | Mean val rsmle: 0.1532673546251638 | Standard deviation: 0.0026834886897930408\n"
     ]
    },
    {
     "name": "stderr",
     "output_type": "stream",
     "text": [
      "100%|█████████████████████████████████████████████████████████████████████████████████████████████████████████████████████████████████████████████████████████████████████████████████████████████████████| 5/5 [00:06<00:00,  1.20s/it]\n",
      "\u001b[32m[I 2021-11-12 11:09:14,570]\u001b[0m Trial 53 finished with value: 0.15397579871592798 and parameters: {'max_depth': 16, 'min_samples_split': 27, 'max_features': 61, 'min_samples_leaf': 2, 'min_weight_fraction_leaf': 9.88721056366971e-06}. Best is trial 46 with value: 0.14831201782386055.\u001b[0m\n"
     ]
    },
    {
     "name": "stdout",
     "output_type": "stream",
     "text": [
      "Model: rf | Mean train rsmle: 0.12264104210929791 | Standard deviation: 0.001478782643567997\n",
      "Model: rf | Mean val rsmle: 0.15397579871592798 | Standard deviation: 0.0024286172141289902\n"
     ]
    },
    {
     "name": "stderr",
     "output_type": "stream",
     "text": [
      "100%|█████████████████████████████████████████████████████████████████████████████████████████████████████████████████████████████████████████████████████████████████████████████████████████████████████| 5/5 [00:05<00:00,  1.17s/it]\n",
      "\u001b[32m[I 2021-11-12 11:09:20,435]\u001b[0m Trial 54 finished with value: 0.1534404682918312 and parameters: {'max_depth': 16, 'min_samples_split': 26, 'max_features': 60, 'min_samples_leaf': 4, 'min_weight_fraction_leaf': 6.095462757026436e-05}. Best is trial 46 with value: 0.14831201782386055.\u001b[0m\n"
     ]
    },
    {
     "name": "stdout",
     "output_type": "stream",
     "text": [
      "Model: rf | Mean train rsmle: 0.12661119841823804 | Standard deviation: 0.0007215510792500613\n",
      "Model: rf | Mean val rsmle: 0.1534404682918312 | Standard deviation: 0.003135551222361312\n"
     ]
    },
    {
     "name": "stderr",
     "output_type": "stream",
     "text": [
      "100%|█████████████████████████████████████████████████████████████████████████████████████████████████████████████████████████████████████████████████████████████████████████████████████████████████████| 5/5 [00:05<00:00,  1.19s/it]\n",
      "\u001b[32m[I 2021-11-12 11:09:26,415]\u001b[0m Trial 55 finished with value: 0.1521674008184943 and parameters: {'max_depth': 16, 'min_samples_split': 24, 'max_features': 60, 'min_samples_leaf': 4, 'min_weight_fraction_leaf': 6.384478375933675e-05}. Best is trial 46 with value: 0.14831201782386055.\u001b[0m\n"
     ]
    },
    {
     "name": "stdout",
     "output_type": "stream",
     "text": [
      "Model: rf | Mean train rsmle: 0.12336649984764839 | Standard deviation: 0.0009527726227053937\n",
      "Model: rf | Mean val rsmle: 0.1521674008184943 | Standard deviation: 0.0030756290797351736\n"
     ]
    },
    {
     "name": "stderr",
     "output_type": "stream",
     "text": [
      "100%|█████████████████████████████████████████████████████████████████████████████████████████████████████████████████████████████████████████████████████████████████████████████████████████████████████| 5/5 [00:05<00:00,  1.13s/it]\n",
      "\u001b[32m[I 2021-11-12 11:09:32,084]\u001b[0m Trial 56 finished with value: 0.16116335338076732 and parameters: {'max_depth': 16, 'min_samples_split': 24, 'max_features': 61, 'min_samples_leaf': 13, 'min_weight_fraction_leaf': 0.0002573941979070883}. Best is trial 46 with value: 0.14831201782386055.\u001b[0m\n"
     ]
    },
    {
     "name": "stdout",
     "output_type": "stream",
     "text": [
      "Model: rf | Mean train rsmle: 0.13984778914370802 | Standard deviation: 0.0008570077884583998\n",
      "Model: rf | Mean val rsmle: 0.16116335338076732 | Standard deviation: 0.0022356242165164275\n"
     ]
    },
    {
     "name": "stderr",
     "output_type": "stream",
     "text": [
      "100%|█████████████████████████████████████████████████████████████████████████████████████████████████████████████████████████████████████████████████████████████████████████████████████████████████████| 5/5 [00:05<00:00,  1.08s/it]\n",
      "\u001b[32m[I 2021-11-12 11:09:37,534]\u001b[0m Trial 57 finished with value: 0.15146601182507735 and parameters: {'max_depth': 13, 'min_samples_split': 11, 'max_features': 57, 'min_samples_leaf': 1, 'min_weight_fraction_leaf': 6.047410317131902e-05}. Best is trial 46 with value: 0.14831201782386055.\u001b[0m\n"
     ]
    },
    {
     "name": "stdout",
     "output_type": "stream",
     "text": [
      "Model: rf | Mean train rsmle: 0.1149812461006852 | Standard deviation: 0.0012899551316740902\n",
      "Model: rf | Mean val rsmle: 0.15146601182507735 | Standard deviation: 0.002511953976266428\n"
     ]
    },
    {
     "name": "stderr",
     "output_type": "stream",
     "text": [
      "100%|█████████████████████████████████████████████████████████████████████████████████████████████████████████████████████████████████████████████████████████████████████████████████████████████████████| 5/5 [00:04<00:00,  1.01it/s]\n",
      "\u001b[32m[I 2021-11-12 11:09:42,536]\u001b[0m Trial 58 finished with value: 0.16339353333503112 and parameters: {'max_depth': 11, 'min_samples_split': 5, 'max_features': 58, 'min_samples_leaf': 4, 'min_weight_fraction_leaf': 5.9423879745442554e-05}. Best is trial 46 with value: 0.14831201782386055.\u001b[0m\n"
     ]
    },
    {
     "name": "stdout",
     "output_type": "stream",
     "text": [
      "Model: rf | Mean train rsmle: 0.13729166098805487 | Standard deviation: 0.0014260813053065988\n",
      "Model: rf | Mean val rsmle: 0.16339353333503112 | Standard deviation: 0.0022610293609547014\n"
     ]
    },
    {
     "name": "stderr",
     "output_type": "stream",
     "text": [
      "100%|█████████████████████████████████████████████████████████████████████████████████████████████████████████████████████████████████████████████████████████████████████████████████████████████████████| 5/5 [00:05<00:00,  1.01s/it]\n",
      "\u001b[32m[I 2021-11-12 11:09:47,630]\u001b[0m Trial 59 finished with value: 0.16193763644035075 and parameters: {'max_depth': 13, 'min_samples_split': 15, 'max_features': 56, 'min_samples_leaf': 11, 'min_weight_fraction_leaf': 0.0008304682616724885}. Best is trial 46 with value: 0.14831201782386055.\u001b[0m\n"
     ]
    },
    {
     "name": "stdout",
     "output_type": "stream",
     "text": [
      "Model: rf | Mean train rsmle: 0.14158801391778372 | Standard deviation: 0.0009346794093004572\n",
      "Model: rf | Mean val rsmle: 0.16193763644035075 | Standard deviation: 0.002084399615367807\n"
     ]
    },
    {
     "name": "stderr",
     "output_type": "stream",
     "text": [
      "100%|█████████████████████████████████████████████████████████████████████████████████████████████████████████████████████████████████████████████████████████████████████████████████████████████████████| 5/5 [00:04<00:00,  1.07it/s]\n",
      "\u001b[32m[I 2021-11-12 11:09:52,318]\u001b[0m Trial 60 finished with value: 0.18892699260533746 and parameters: {'max_depth': 8, 'min_samples_split': 11, 'max_features': 70, 'min_samples_leaf': 1, 'min_weight_fraction_leaf': 0.0002173731285075235}. Best is trial 46 with value: 0.14831201782386055.\u001b[0m\n"
     ]
    },
    {
     "name": "stdout",
     "output_type": "stream",
     "text": [
      "Model: rf | Mean train rsmle: 0.17451766671786373 | Standard deviation: 0.0015683206891761513\n",
      "Model: rf | Mean val rsmle: 0.18892699260533746 | Standard deviation: 0.0024818948253123568\n"
     ]
    },
    {
     "name": "stderr",
     "output_type": "stream",
     "text": [
      "100%|█████████████████████████████████████████████████████████████████████████████████████████████████████████████████████████████████████████████████████████████████████████████████████████████████████| 5/5 [00:05<00:00,  1.17s/it]\n",
      "\u001b[32m[I 2021-11-12 11:09:58,226]\u001b[0m Trial 61 finished with value: 0.1513411954587329 and parameters: {'max_depth': 15, 'min_samples_split': 18, 'max_features': 60, 'min_samples_leaf': 4, 'min_weight_fraction_leaf': 1.3915383999877546e-05}. Best is trial 46 with value: 0.14831201782386055.\u001b[0m\n"
     ]
    },
    {
     "name": "stdout",
     "output_type": "stream",
     "text": [
      "Model: rf | Mean train rsmle: 0.11986599808103218 | Standard deviation: 0.001550853116287281\n",
      "Model: rf | Mean val rsmle: 0.1513411954587329 | Standard deviation: 0.0018213299484418403\n"
     ]
    },
    {
     "name": "stderr",
     "output_type": "stream",
     "text": [
      "100%|█████████████████████████████████████████████████████████████████████████████████████████████████████████████████████████████████████████████████████████████████████████████████████████████████████| 5/5 [00:04<00:00,  1.00it/s]\n",
      "\u001b[32m[I 2021-11-12 11:10:03,236]\u001b[0m Trial 62 finished with value: 0.15607202683841542 and parameters: {'max_depth': 13, 'min_samples_split': 18, 'max_features': 54, 'min_samples_leaf': 4, 'min_weight_fraction_leaf': 4.1112060675618496e-05}. Best is trial 46 with value: 0.14831201782386055.\u001b[0m\n"
     ]
    },
    {
     "name": "stdout",
     "output_type": "stream",
     "text": [
      "Model: rf | Mean train rsmle: 0.1275775088597651 | Standard deviation: 0.0008017753899575986\n",
      "Model: rf | Mean val rsmle: 0.15607202683841542 | Standard deviation: 0.002384924151880364\n"
     ]
    },
    {
     "name": "stderr",
     "output_type": "stream",
     "text": [
      "100%|█████████████████████████████████████████████████████████████████████████████████████████████████████████████████████████████████████████████████████████████████████████████████████████████████████| 5/5 [00:05<00:00,  1.10s/it]\n",
      "\u001b[32m[I 2021-11-12 11:10:08,746]\u001b[0m Trial 63 finished with value: 0.16478847022143875 and parameters: {'max_depth': 15, 'min_samples_split': 22, 'max_features': 61, 'min_samples_leaf': 15, 'min_weight_fraction_leaf': 8.593101251084574e-05}. Best is trial 46 with value: 0.14831201782386055.\u001b[0m\n"
     ]
    },
    {
     "name": "stdout",
     "output_type": "stream",
     "text": [
      "Model: rf | Mean train rsmle: 0.14535491058388417 | Standard deviation: 0.0012566869433654666\n",
      "Model: rf | Mean val rsmle: 0.16478847022143875 | Standard deviation: 0.0028602426763285694\n"
     ]
    },
    {
     "name": "stderr",
     "output_type": "stream",
     "text": [
      "100%|█████████████████████████████████████████████████████████████████████████████████████████████████████████████████████████████████████████████████████████████████████████████████████████████████████| 5/5 [00:03<00:00,  1.41it/s]\n",
      "\u001b[32m[I 2021-11-12 11:10:12,327]\u001b[0m Trial 64 finished with value: 0.19875071124194432 and parameters: {'max_depth': 11, 'min_samples_split': 8, 'max_features': 48, 'min_samples_leaf': 61, 'min_weight_fraction_leaf': 1.5091365083391364e-05}. Best is trial 46 with value: 0.14831201782386055.\u001b[0m\n"
     ]
    },
    {
     "name": "stdout",
     "output_type": "stream",
     "text": [
      "Model: rf | Mean train rsmle: 0.19139705874258744 | Standard deviation: 0.000842068713118263\n",
      "Model: rf | Mean val rsmle: 0.19875071124194432 | Standard deviation: 0.002033753758488625\n"
     ]
    },
    {
     "name": "stderr",
     "output_type": "stream",
     "text": [
      "100%|█████████████████████████████████████████████████████████████████████████████████████████████████████████████████████████████████████████████████████████████████████████████████████████████████████| 5/5 [00:06<00:00,  1.25s/it]\n",
      "\u001b[32m[I 2021-11-12 11:10:18,593]\u001b[0m Trial 65 finished with value: 0.158083414377724 and parameters: {'max_depth': 16, 'min_samples_split': 2, 'max_features': 58, 'min_samples_leaf': 11, 'min_weight_fraction_leaf': 0.00013473728431861754}. Best is trial 46 with value: 0.14831201782386055.\u001b[0m\n"
     ]
    },
    {
     "name": "stdout",
     "output_type": "stream",
     "text": [
      "Model: rf | Mean train rsmle: 0.13408066919055317 | Standard deviation: 0.0004562744048839147\n",
      "Model: rf | Mean val rsmle: 0.158083414377724 | Standard deviation: 0.0027023909104683737\n"
     ]
    },
    {
     "name": "stderr",
     "output_type": "stream",
     "text": [
      "100%|█████████████████████████████████████████████████████████████████████████████████████████████████████████████████████████████████████████████████████████████████████████████████████████████████████| 5/5 [00:01<00:00,  3.12it/s]\n",
      "\u001b[32m[I 2021-11-12 11:10:20,234]\u001b[0m Trial 66 finished with value: 0.31980569712217666 and parameters: {'max_depth': 2, 'min_samples_split': 13, 'max_features': 67, 'min_samples_leaf': 4, 'min_weight_fraction_leaf': 0.0005233273543650886}. Best is trial 46 with value: 0.14831201782386055.\u001b[0m\n"
     ]
    },
    {
     "name": "stdout",
     "output_type": "stream",
     "text": [
      "Model: rf | Mean train rsmle: 0.3195371976474023 | Standard deviation: 0.005182847744034807\n",
      "Model: rf | Mean val rsmle: 0.31980569712217666 | Standard deviation: 0.0027419121736415464\n"
     ]
    },
    {
     "name": "stderr",
     "output_type": "stream",
     "text": [
      "100%|█████████████████████████████████████████████████████████████████████████████████████████████████████████████████████████████████████████████████████████████████████████████████████████████████████| 5/5 [00:05<00:00,  1.04s/it]\n",
      "\u001b[32m[I 2021-11-12 11:10:25,486]\u001b[0m Trial 67 finished with value: 0.15897691664590152 and parameters: {'max_depth': 12, 'min_samples_split': 20, 'max_features': 56, 'min_samples_leaf': 1, 'min_weight_fraction_leaf': 4.102477105301637e-06}. Best is trial 46 with value: 0.14831201782386055.\u001b[0m\n"
     ]
    },
    {
     "name": "stdout",
     "output_type": "stream",
     "text": [
      "Model: rf | Mean train rsmle: 0.13216933818363402 | Standard deviation: 0.0019305909926895385\n",
      "Model: rf | Mean val rsmle: 0.15897691664590152 | Standard deviation: 0.003098806187636321\n"
     ]
    },
    {
     "name": "stderr",
     "output_type": "stream",
     "text": [
      "100%|█████████████████████████████████████████████████████████████████████████████████████████████████████████████████████████████████████████████████████████████████████████████████████████████████████| 5/5 [00:04<00:00,  1.18it/s]\n",
      "\u001b[32m[I 2021-11-12 11:10:29,755]\u001b[0m Trial 68 finished with value: 0.1765564919959382 and parameters: {'max_depth': 28, 'min_samples_split': 10, 'max_features': 49, 'min_samples_leaf': 19, 'min_weight_fraction_leaf': 0.002441482246155693}. Best is trial 46 with value: 0.14831201782386055.\u001b[0m\n"
     ]
    },
    {
     "name": "stdout",
     "output_type": "stream",
     "text": [
      "Model: rf | Mean train rsmle: 0.16424585676866774 | Standard deviation: 0.0010573531386589984\n",
      "Model: rf | Mean val rsmle: 0.1765564919959382 | Standard deviation: 0.0023775153820610097\n"
     ]
    },
    {
     "name": "stderr",
     "output_type": "stream",
     "text": [
      "100%|█████████████████████████████████████████████████████████████████████████████████████████████████████████████████████████████████████████████████████████████████████████████████████████████████████| 5/5 [00:01<00:00,  2.63it/s]\n",
      "\u001b[32m[I 2021-11-12 11:10:31,691]\u001b[0m Trial 69 finished with value: 0.28102324348116003 and parameters: {'max_depth': 3, 'min_samples_split': 16, 'max_features': 62, 'min_samples_leaf': 10, 'min_weight_fraction_leaf': 5.9558088712413115e-05}. Best is trial 46 with value: 0.14831201782386055.\u001b[0m\n"
     ]
    },
    {
     "name": "stdout",
     "output_type": "stream",
     "text": [
      "Model: rf | Mean train rsmle: 0.27941253769923 | Standard deviation: 0.002263346464355551\n",
      "Model: rf | Mean val rsmle: 0.28102324348116003 | Standard deviation: 0.003550394152671323\n"
     ]
    },
    {
     "name": "stderr",
     "output_type": "stream",
     "text": [
      "100%|█████████████████████████████████████████████████████████████████████████████████████████████████████████████████████████████████████████████████████████████████████████████████████████████████████| 5/5 [00:05<00:00,  1.02s/it]\n",
      "\u001b[32m[I 2021-11-12 11:10:36,828]\u001b[0m Trial 70 finished with value: 0.19378077551206452 and parameters: {'max_depth': 21, 'min_samples_split': 28, 'max_features': 71, 'min_samples_leaf': 13, 'min_weight_fraction_leaf': 0.004810945539756374}. Best is trial 46 with value: 0.14831201782386055.\u001b[0m\n"
     ]
    },
    {
     "name": "stdout",
     "output_type": "stream",
     "text": [
      "Model: rf | Mean train rsmle: 0.18545763620216132 | Standard deviation: 0.0018745226509495868\n",
      "Model: rf | Mean val rsmle: 0.19378077551206452 | Standard deviation: 0.0025376268839858917\n"
     ]
    },
    {
     "name": "stderr",
     "output_type": "stream",
     "text": [
      "100%|█████████████████████████████████████████████████████████████████████████████████████████████████████████████████████████████████████████████████████████████████████████████████████████████████████| 5/5 [00:05<00:00,  1.12s/it]\n",
      "\u001b[32m[I 2021-11-12 11:10:42,463]\u001b[0m Trial 71 finished with value: 0.15434789782052558 and parameters: {'max_depth': 15, 'min_samples_split': 24, 'max_features': 60, 'min_samples_leaf': 4, 'min_weight_fraction_leaf': 1.176609114704059e-05}. Best is trial 46 with value: 0.14831201782386055.\u001b[0m\n"
     ]
    },
    {
     "name": "stdout",
     "output_type": "stream",
     "text": [
      "Model: rf | Mean train rsmle: 0.1252518444444017 | Standard deviation: 0.001416966444393926\n",
      "Model: rf | Mean val rsmle: 0.15434789782052558 | Standard deviation: 0.0029126350554534463\n"
     ]
    },
    {
     "name": "stderr",
     "output_type": "stream",
     "text": [
      "100%|█████████████████████████████████████████████████████████████████████████████████████████████████████████████████████████████████████████████████████████████████████████████████████████████████████| 5/5 [00:06<00:00,  1.24s/it]\n",
      "\u001b[32m[I 2021-11-12 11:10:48,715]\u001b[0m Trial 72 finished with value: 0.1538191871304585 and parameters: {'max_depth': 16, 'min_samples_split': 27, 'max_features': 66, 'min_samples_leaf': 3, 'min_weight_fraction_leaf': 2.6821763293726937e-05}. Best is trial 46 with value: 0.14831201782386055.\u001b[0m\n"
     ]
    },
    {
     "name": "stdout",
     "output_type": "stream",
     "text": [
      "Model: rf | Mean train rsmle: 0.12475092190548084 | Standard deviation: 0.0015602299086572612\n",
      "Model: rf | Mean val rsmle: 0.1538191871304585 | Standard deviation: 0.004406662830046915\n"
     ]
    },
    {
     "name": "stderr",
     "output_type": "stream",
     "text": [
      "100%|█████████████████████████████████████████████████████████████████████████████████████████████████████████████████████████████████████████████████████████████████████████████████████████████████████| 5/5 [00:06<00:00,  1.33s/it]\n",
      "\u001b[32m[I 2021-11-12 11:10:55,378]\u001b[0m Trial 73 finished with value: 0.15276885397612286 and parameters: {'max_depth': 19, 'min_samples_split': 19, 'max_features': 66, 'min_samples_leaf': 8, 'min_weight_fraction_leaf': 2.024409777063293e-05}. Best is trial 46 with value: 0.14831201782386055.\u001b[0m\n"
     ]
    },
    {
     "name": "stdout",
     "output_type": "stream",
     "text": [
      "Model: rf | Mean train rsmle: 0.1242692205860835 | Standard deviation: 0.0009067089630188423\n",
      "Model: rf | Mean val rsmle: 0.15276885397612286 | Standard deviation: 0.0012598826885852406\n"
     ]
    },
    {
     "name": "stderr",
     "output_type": "stream",
     "text": [
      "100%|█████████████████████████████████████████████████████████████████████████████████████████████████████████████████████████████████████████████████████████████████████████████████████████████████████| 5/5 [00:05<00:00,  1.08s/it]\n",
      "\u001b[32m[I 2021-11-12 11:11:00,795]\u001b[0m Trial 74 finished with value: 0.1516729598967555 and parameters: {'max_depth': 24, 'min_samples_split': 20, 'max_features': 54, 'min_samples_leaf': 8, 'min_weight_fraction_leaf': 0.00025336476499199413}. Best is trial 46 with value: 0.14831201782386055.\u001b[0m\n"
     ]
    },
    {
     "name": "stdout",
     "output_type": "stream",
     "text": [
      "Model: rf | Mean train rsmle: 0.12546958547172027 | Standard deviation: 0.0008818421837251346\n",
      "Model: rf | Mean val rsmle: 0.1516729598967555 | Standard deviation: 0.0027857612464578024\n"
     ]
    },
    {
     "name": "stderr",
     "output_type": "stream",
     "text": [
      "100%|█████████████████████████████████████████████████████████████████████████████████████████████████████████████████████████████████████████████████████████████████████████████████████████████████████| 5/5 [00:05<00:00,  1.10s/it]\n",
      "\u001b[32m[I 2021-11-12 11:11:06,327]\u001b[0m Trial 75 finished with value: 0.15195117271999736 and parameters: {'max_depth': 24, 'min_samples_split': 19, 'max_features': 53, 'min_samples_leaf': 8, 'min_weight_fraction_leaf': 0.0002201344864434877}. Best is trial 46 with value: 0.14831201782386055.\u001b[0m\n"
     ]
    },
    {
     "name": "stdout",
     "output_type": "stream",
     "text": [
      "Model: rf | Mean train rsmle: 0.12404637769947069 | Standard deviation: 0.0006557350876669945\n",
      "Model: rf | Mean val rsmle: 0.15195117271999736 | Standard deviation: 0.0009436954883161852\n"
     ]
    },
    {
     "name": "stderr",
     "output_type": "stream",
     "text": [
      "100%|█████████████████████████████████████████████████████████████████████████████████████████████████████████████████████████████████████████████████████████████████████████████████████████████████████| 5/5 [00:04<00:00,  1.04it/s]\n",
      "\u001b[32m[I 2021-11-12 11:11:11,164]\u001b[0m Trial 76 finished with value: 0.17316088861337398 and parameters: {'max_depth': 25, 'min_samples_split': 14, 'max_features': 54, 'min_samples_leaf': 24, 'min_weight_fraction_leaf': 0.0003145887398058225}. Best is trial 46 with value: 0.14831201782386055.\u001b[0m\n"
     ]
    },
    {
     "name": "stdout",
     "output_type": "stream",
     "text": [
      "Model: rf | Mean train rsmle: 0.15809107411249074 | Standard deviation: 0.0007093404265123195\n",
      "Model: rf | Mean val rsmle: 0.17316088861337398 | Standard deviation: 0.0012087978916668243\n"
     ]
    },
    {
     "name": "stderr",
     "output_type": "stream",
     "text": [
      "100%|█████████████████████████████████████████████████████████████████████████████████████████████████████████████████████████████████████████████████████████████████████████████████████████████████████| 5/5 [00:05<00:00,  1.11s/it]\n",
      "\u001b[32m[I 2021-11-12 11:11:16,736]\u001b[0m Trial 77 finished with value: 0.15453471671896352 and parameters: {'max_depth': 19, 'min_samples_split': 19, 'max_features': 53, 'min_samples_leaf': 9, 'min_weight_fraction_leaf': 0.0001963678956567354}. Best is trial 46 with value: 0.14831201782386055.\u001b[0m\n"
     ]
    },
    {
     "name": "stdout",
     "output_type": "stream",
     "text": [
      "Model: rf | Mean train rsmle: 0.1274648174981624 | Standard deviation: 0.0005330331494556148\n",
      "Model: rf | Mean val rsmle: 0.15453471671896352 | Standard deviation: 0.0016872473839864312\n"
     ]
    },
    {
     "name": "stderr",
     "output_type": "stream",
     "text": [
      "100%|█████████████████████████████████████████████████████████████████████████████████████████████████████████████████████████████████████████████████████████████████████████████████████████████████████| 5/5 [00:04<00:00,  1.15it/s]\n",
      "\u001b[32m[I 2021-11-12 11:11:21,108]\u001b[0m Trial 78 finished with value: 0.16537991614186337 and parameters: {'max_depth': 23, 'min_samples_split': 5, 'max_features': 47, 'min_samples_leaf': 17, 'min_weight_fraction_leaf': 0.0008584439813811649}. Best is trial 46 with value: 0.14831201782386055.\u001b[0m\n"
     ]
    },
    {
     "name": "stdout",
     "output_type": "stream",
     "text": [
      "Model: rf | Mean train rsmle: 0.1477985992909233 | Standard deviation: 0.0009677304376998439\n",
      "Model: rf | Mean val rsmle: 0.16537991614186337 | Standard deviation: 0.0020515369403459557\n"
     ]
    },
    {
     "name": "stderr",
     "output_type": "stream",
     "text": [
      "100%|█████████████████████████████████████████████████████████████████████████████████████████████████████████████████████████████████████████████████████████████████████████████████████████████████████| 5/5 [00:03<00:00,  1.31it/s]\n",
      "\u001b[32m[I 2021-11-12 11:11:24,958]\u001b[0m Trial 79 finished with value: 0.16819289609825283 and parameters: {'max_depth': 31, 'min_samples_split': 66, 'max_features': 40, 'min_samples_leaf': 7, 'min_weight_fraction_leaf': 1.8477528494334825e-05}. Best is trial 46 with value: 0.14831201782386055.\u001b[0m\n"
     ]
    },
    {
     "name": "stdout",
     "output_type": "stream",
     "text": [
      "Model: rf | Mean train rsmle: 0.15250012496266221 | Standard deviation: 0.0008793975839844343\n",
      "Model: rf | Mean val rsmle: 0.16819289609825283 | Standard deviation: 0.0033954079263080286\n"
     ]
    },
    {
     "name": "stderr",
     "output_type": "stream",
     "text": [
      "100%|█████████████████████████████████████████████████████████████████████████████████████████████████████████████████████████████████████████████████████████████████████████████████████████████████████| 5/5 [00:04<00:00,  1.18it/s]\n",
      "\u001b[32m[I 2021-11-12 11:11:29,217]\u001b[0m Trial 80 finished with value: 0.2586481706269499 and parameters: {'max_depth': 27, 'min_samples_split': 7, 'max_features': 78, 'min_samples_leaf': 22, 'min_weight_fraction_leaf': 0.026586901409879283}. Best is trial 46 with value: 0.14831201782386055.\u001b[0m\n"
     ]
    },
    {
     "name": "stdout",
     "output_type": "stream",
     "text": [
      "Model: rf | Mean train rsmle: 0.2564299999563201 | Standard deviation: 0.0017004270901643196\n",
      "Model: rf | Mean val rsmle: 0.2586481706269499 | Standard deviation: 0.0010347417127075655\n"
     ]
    },
    {
     "name": "stderr",
     "output_type": "stream",
     "text": [
      "100%|█████████████████████████████████████████████████████████████████████████████████████████████████████████████████████████████████████████████████████████████████████████████████████████████████████| 5/5 [00:05<00:00,  1.10s/it]\n",
      "\u001b[32m[I 2021-11-12 11:11:34,761]\u001b[0m Trial 81 finished with value: 0.15847392422717924 and parameters: {'max_depth': 19, 'min_samples_split': 21, 'max_features': 57, 'min_samples_leaf': 12, 'min_weight_fraction_leaf': 9.559662688839971e-05}. Best is trial 46 with value: 0.14831201782386055.\u001b[0m\n"
     ]
    },
    {
     "name": "stdout",
     "output_type": "stream",
     "text": [
      "Model: rf | Mean train rsmle: 0.1359919663112079 | Standard deviation: 0.0008232465937789736\n",
      "Model: rf | Mean val rsmle: 0.15847392422717924 | Standard deviation: 0.002162299310587866\n"
     ]
    },
    {
     "name": "stderr",
     "output_type": "stream",
     "text": [
      "100%|█████████████████████████████████████████████████████████████████████████████████████████████████████████████████████████████████████████████████████████████████████████████████████████████████████| 5/5 [00:06<00:00,  1.27s/it]\n",
      "\u001b[32m[I 2021-11-12 11:11:41,138]\u001b[0m Trial 82 finished with value: 0.15213069439191948 and parameters: {'max_depth': 21, 'min_samples_split': 16, 'max_features': 63, 'min_samples_leaf': 8, 'min_weight_fraction_leaf': 3.484356431559664e-05}. Best is trial 46 with value: 0.14831201782386055.\u001b[0m\n"
     ]
    },
    {
     "name": "stdout",
     "output_type": "stream",
     "text": [
      "Model: rf | Mean train rsmle: 0.12138083460651491 | Standard deviation: 0.0010277705395199033\n",
      "Model: rf | Mean val rsmle: 0.15213069439191948 | Standard deviation: 0.0025109910890997607\n"
     ]
    },
    {
     "name": "stderr",
     "output_type": "stream",
     "text": [
      "100%|█████████████████████████████████████████████████████████████████████████████████████████████████████████████████████████████████████████████████████████████████████████████████████████████████████| 5/5 [00:04<00:00,  1.12it/s]\n",
      "\u001b[32m[I 2021-11-12 11:11:45,646]\u001b[0m Trial 83 finished with value: 0.20644166449611476 and parameters: {'max_depth': 21, 'min_samples_split': 17, 'max_features': 64, 'min_samples_leaf': 85, 'min_weight_fraction_leaf': 3.755039200534762e-05}. Best is trial 46 with value: 0.14831201782386055.\u001b[0m\n"
     ]
    },
    {
     "name": "stdout",
     "output_type": "stream",
     "text": [
      "Model: rf | Mean train rsmle: 0.2007743112186448 | Standard deviation: 0.0015614251674548685\n",
      "Model: rf | Mean val rsmle: 0.20644166449611476 | Standard deviation: 0.0019847669373714624\n"
     ]
    },
    {
     "name": "stderr",
     "output_type": "stream",
     "text": [
      "100%|█████████████████████████████████████████████████████████████████████████████████████████████████████████████████████████████████████████████████████████████████████████████████████████████████████| 5/5 [00:05<00:00,  1.06s/it]\n",
      "\u001b[32m[I 2021-11-12 11:11:50,974]\u001b[0m Trial 84 finished with value: 0.1516406845938802 and parameters: {'max_depth': 23, 'min_samples_split': 10, 'max_features': 51, 'min_samples_leaf': 8, 'min_weight_fraction_leaf': 4.512439729928466e-06}. Best is trial 46 with value: 0.14831201782386055.\u001b[0m\n"
     ]
    },
    {
     "name": "stdout",
     "output_type": "stream",
     "text": [
      "Model: rf | Mean train rsmle: 0.12231222857545562 | Standard deviation: 0.0008004843004481697\n",
      "Model: rf | Mean val rsmle: 0.1516406845938802 | Standard deviation: 0.00250064833586887\n"
     ]
    },
    {
     "name": "stderr",
     "output_type": "stream",
     "text": [
      "100%|█████████████████████████████████████████████████████████████████████████████████████████████████████████████████████████████████████████████████████████████████████████████████████████████████████| 5/5 [00:00<00:00,  6.91it/s]\n",
      "\u001b[32m[I 2021-11-12 11:11:51,733]\u001b[0m Trial 85 finished with value: 0.2245344140684465 and parameters: {'max_depth': 25, 'min_samples_split': 11, 'max_features': 3, 'min_samples_leaf': 15, 'min_weight_fraction_leaf': 4.709006670360435e-06}. Best is trial 46 with value: 0.14831201782386055.\u001b[0m\n"
     ]
    },
    {
     "name": "stdout",
     "output_type": "stream",
     "text": [
      "Model: rf | Mean train rsmle: 0.21661788263795018 | Standard deviation: 0.003138144999583987\n",
      "Model: rf | Mean val rsmle: 0.2245344140684465 | Standard deviation: 0.002439025911612519\n"
     ]
    },
    {
     "name": "stderr",
     "output_type": "stream",
     "text": [
      "100%|█████████████████████████████████████████████████████████████████████████████████████████████████████████████████████████████████████████████████████████████████████████████████████████████████████| 5/5 [00:05<00:00,  1.05s/it]\n",
      "\u001b[32m[I 2021-11-12 11:11:57,001]\u001b[0m Trial 86 finished with value: 0.15296433035382953 and parameters: {'max_depth': 29, 'min_samples_split': 14, 'max_features': 52, 'min_samples_leaf': 9, 'min_weight_fraction_leaf': 1.4731033381284292e-06}. Best is trial 46 with value: 0.14831201782386055.\u001b[0m\n"
     ]
    },
    {
     "name": "stdout",
     "output_type": "stream",
     "text": [
      "Model: rf | Mean train rsmle: 0.12581241037943647 | Standard deviation: 0.0005898995883324491\n",
      "Model: rf | Mean val rsmle: 0.15296433035382953 | Standard deviation: 0.0024557408406509626\n"
     ]
    },
    {
     "name": "stderr",
     "output_type": "stream",
     "text": [
      "100%|█████████████████████████████████████████████████████████████████████████████████████████████████████████████████████████████████████████████████████████████████████████████████████████████████████| 5/5 [00:05<00:00,  1.01s/it]\n",
      "\u001b[32m[I 2021-11-12 11:12:02,063]\u001b[0m Trial 87 finished with value: 0.18757975755249037 and parameters: {'max_depth': 23, 'min_samples_split': 9, 'max_features': 65, 'min_samples_leaf': 45, 'min_weight_fraction_leaf': 7.335750329712484e-06}. Best is trial 46 with value: 0.14831201782386055.\u001b[0m\n"
     ]
    },
    {
     "name": "stdout",
     "output_type": "stream",
     "text": [
      "Model: rf | Mean train rsmle: 0.17772170798347597 | Standard deviation: 0.0009516979466741276\n",
      "Model: rf | Mean val rsmle: 0.18757975755249037 | Standard deviation: 0.001768530209130552\n"
     ]
    },
    {
     "name": "stderr",
     "output_type": "stream",
     "text": [
      "100%|█████████████████████████████████████████████████████████████████████████████████████████████████████████████████████████████████████████████████████████████████████████████████████████████████████| 5/5 [00:05<00:00,  1.02s/it]\n",
      "\u001b[32m[I 2021-11-12 11:12:07,182]\u001b[0m Trial 88 finished with value: 0.15177186233791806 and parameters: {'max_depth': 22, 'min_samples_split': 18, 'max_features': 49, 'min_samples_leaf': 7, 'min_weight_fraction_leaf': 3.0691990082770344e-06}. Best is trial 46 with value: 0.14831201782386055.\u001b[0m\n"
     ]
    },
    {
     "name": "stdout",
     "output_type": "stream",
     "text": [
      "Model: rf | Mean train rsmle: 0.12211826305581222 | Standard deviation: 0.0008347916391399099\n",
      "Model: rf | Mean val rsmle: 0.15177186233791806 | Standard deviation: 0.0027158644940352495\n"
     ]
    },
    {
     "name": "stderr",
     "output_type": "stream",
     "text": [
      "100%|█████████████████████████████████████████████████████████████████████████████████████████████████████████████████████████████████████████████████████████████████████████████████████████████████████| 5/5 [00:03<00:00,  1.32it/s]\n",
      "\u001b[32m[I 2021-11-12 11:12:11,003]\u001b[0m Trial 89 finished with value: 0.19242861061459623 and parameters: {'max_depth': 32, 'min_samples_split': 13, 'max_features': 49, 'min_samples_leaf': 54, 'min_weight_fraction_leaf': 9.573574449780858e-07}. Best is trial 46 with value: 0.14831201782386055.\u001b[0m\n"
     ]
    },
    {
     "name": "stdout",
     "output_type": "stream",
     "text": [
      "Model: rf | Mean train rsmle: 0.18447137153571913 | Standard deviation: 0.0010914093661247358\n",
      "Model: rf | Mean val rsmle: 0.19242861061459623 | Standard deviation: 0.001931682525286198\n"
     ]
    },
    {
     "name": "stderr",
     "output_type": "stream",
     "text": [
      "100%|█████████████████████████████████████████████████████████████████████████████████████████████████████████████████████████████████████████████████████████████████████████████████████████████████████| 5/5 [00:04<00:00,  1.06it/s]\n",
      "\u001b[32m[I 2021-11-12 11:12:15,755]\u001b[0m Trial 90 finished with value: 0.16263006125539628 and parameters: {'max_depth': 22, 'min_samples_split': 55, 'max_features': 50, 'min_samples_leaf': 6, 'min_weight_fraction_leaf': 3.2920680460544483e-06}. Best is trial 46 with value: 0.14831201782386055.\u001b[0m\n"
     ]
    },
    {
     "name": "stdout",
     "output_type": "stream",
     "text": [
      "Model: rf | Mean train rsmle: 0.14511766002288035 | Standard deviation: 0.0009086958239274359\n",
      "Model: rf | Mean val rsmle: 0.16263006125539628 | Standard deviation: 0.001760065867714618\n"
     ]
    },
    {
     "name": "stderr",
     "output_type": "stream",
     "text": [
      "100%|█████████████████████████████████████████████████████████████████████████████████████████████████████████████████████████████████████████████████████████████████████████████████████████████████████| 5/5 [00:04<00:00,  1.03it/s]\n",
      "\u001b[32m[I 2021-11-12 11:12:20,651]\u001b[0m Trial 91 finished with value: 0.15200303729688477 and parameters: {'max_depth': 24, 'min_samples_split': 18, 'max_features': 46, 'min_samples_leaf': 8, 'min_weight_fraction_leaf': 0.00014404352225311183}. Best is trial 46 with value: 0.14831201782386055.\u001b[0m\n"
     ]
    },
    {
     "name": "stdout",
     "output_type": "stream",
     "text": [
      "Model: rf | Mean train rsmle: 0.12425535117919366 | Standard deviation: 0.0007973074571224071\n",
      "Model: rf | Mean val rsmle: 0.15200303729688477 | Standard deviation: 0.002161488976196022\n"
     ]
    },
    {
     "name": "stderr",
     "output_type": "stream",
     "text": [
      "100%|█████████████████████████████████████████████████████████████████████████████████████████████████████████████████████████████████████████████████████████████████████████████████████████████████████| 5/5 [00:04<00:00,  1.11it/s]\n",
      "\u001b[32m[I 2021-11-12 11:12:25,198]\u001b[0m Trial 92 finished with value: 0.1589395116610508 and parameters: {'max_depth': 27, 'min_samples_split': 17, 'max_features': 45, 'min_samples_leaf': 12, 'min_weight_fraction_leaf': 0.00013650027500014338}. Best is trial 46 with value: 0.14831201782386055.\u001b[0m\n"
     ]
    },
    {
     "name": "stdout",
     "output_type": "stream",
     "text": [
      "Model: rf | Mean train rsmle: 0.13657257026858569 | Standard deviation: 0.0011622402675924154\n",
      "Model: rf | Mean val rsmle: 0.1589395116610508 | Standard deviation: 0.002533826972780659\n"
     ]
    },
    {
     "name": "stderr",
     "output_type": "stream",
     "text": [
      "100%|█████████████████████████████████████████████████████████████████████████████████████████████████████████████████████████████████████████████████████████████████████████████████████████████████████| 5/5 [00:04<00:00,  1.25it/s]\n",
      "\u001b[32m[I 2021-11-12 11:12:29,240]\u001b[0m Trial 93 finished with value: 0.16540917965192192 and parameters: {'max_depth': 24, 'min_samples_split': 11, 'max_features': 42, 'min_samples_leaf': 16, 'min_weight_fraction_leaf': 0.00045105998736127555}. Best is trial 46 with value: 0.14831201782386055.\u001b[0m\n"
     ]
    },
    {
     "name": "stdout",
     "output_type": "stream",
     "text": [
      "Model: rf | Mean train rsmle: 0.14672617916617842 | Standard deviation: 0.0014389214262233772\n",
      "Model: rf | Mean val rsmle: 0.16540917965192192 | Standard deviation: 0.003501112857317576\n"
     ]
    },
    {
     "name": "stderr",
     "output_type": "stream",
     "text": [
      "100%|█████████████████████████████████████████████████████████████████████████████████████████████████████████████████████████████████████████████████████████████████████████████████████████████████████| 5/5 [00:04<00:00,  1.17it/s]\n",
      "\u001b[32m[I 2021-11-12 11:12:33,556]\u001b[0m Trial 94 finished with value: 0.15387613074010087 and parameters: {'max_depth': 21, 'min_samples_split': 6, 'max_features': 41, 'min_samples_leaf': 9, 'min_weight_fraction_leaf': 4.218258041314463e-05}. Best is trial 46 with value: 0.14831201782386055.\u001b[0m\n"
     ]
    },
    {
     "name": "stdout",
     "output_type": "stream",
     "text": [
      "Model: rf | Mean train rsmle: 0.12762324748522738 | Standard deviation: 0.0009750853441670541\n",
      "Model: rf | Mean val rsmle: 0.15387613074010087 | Standard deviation: 0.002301587711209684\n"
     ]
    },
    {
     "name": "stderr",
     "output_type": "stream",
     "text": [
      "100%|█████████████████████████████████████████████████████████████████████████████████████████████████████████████████████████████████████████████████████████████████████████████████████████████████████| 5/5 [00:05<00:00,  1.11s/it]\n",
      "\u001b[32m[I 2021-11-12 11:12:39,140]\u001b[0m Trial 95 finished with value: 0.14720792774828917 and parameters: {'max_depth': 24, 'min_samples_split': 3, 'max_features': 52, 'min_samples_leaf': 6, 'min_weight_fraction_leaf': 0.00017818139190975649}. Best is trial 95 with value: 0.14720792774828917.\u001b[0m\n"
     ]
    },
    {
     "name": "stdout",
     "output_type": "stream",
     "text": [
      "Model: rf | Mean train rsmle: 0.1130758776503645 | Standard deviation: 0.0013670967431871446\n",
      "Model: rf | Mean val rsmle: 0.14720792774828917 | Standard deviation: 0.002926397940958258\n"
     ]
    },
    {
     "name": "stderr",
     "output_type": "stream",
     "text": [
      "100%|█████████████████████████████████████████████████████████████████████████████████████████████████████████████████████████████████████████████████████████████████████████████████████████████████████| 5/5 [00:05<00:00,  1.01s/it]\n",
      "\u001b[32m[I 2021-11-12 11:12:44,206]\u001b[0m Trial 96 finished with value: 0.16105376980730904 and parameters: {'max_depth': 25, 'min_samples_split': 3, 'max_features': 52, 'min_samples_leaf': 6, 'min_weight_fraction_leaf': 0.0011561205058706068}. Best is trial 95 with value: 0.14720792774828917.\u001b[0m\n"
     ]
    },
    {
     "name": "stdout",
     "output_type": "stream",
     "text": [
      "Model: rf | Mean train rsmle: 0.14116686624428326 | Standard deviation: 0.0007722954980245723\n",
      "Model: rf | Mean val rsmle: 0.16105376980730904 | Standard deviation: 0.003485299200520649\n"
     ]
    },
    {
     "name": "stderr",
     "output_type": "stream",
     "text": [
      "100%|█████████████████████████████████████████████████████████████████████████████████████████████████████████████████████████████████████████████████████████████████████████████████████████████████████| 5/5 [00:03<00:00,  1.44it/s]\n",
      "\u001b[32m[I 2021-11-12 11:12:47,723]\u001b[0m Trial 97 finished with value: 0.1623313181662061 and parameters: {'max_depth': 29, 'min_samples_split': 4, 'max_features': 34, 'min_samples_leaf': 13, 'min_weight_fraction_leaf': 0.000300079376516589}. Best is trial 95 with value: 0.14720792774828917.\u001b[0m\n"
     ]
    },
    {
     "name": "stdout",
     "output_type": "stream",
     "text": [
      "Model: rf | Mean train rsmle: 0.14184418322823428 | Standard deviation: 0.0012576569737494814\n",
      "Model: rf | Mean val rsmle: 0.1623313181662061 | Standard deviation: 0.004069308819435739\n"
     ]
    },
    {
     "name": "stderr",
     "output_type": "stream",
     "text": [
      "100%|█████████████████████████████████████████████████████████████████████████████████████████████████████████████████████████████████████████████████████████████████████████████████████████████████████| 5/5 [00:04<00:00,  1.04it/s]\n",
      "\u001b[32m[I 2021-11-12 11:12:52,567]\u001b[0m Trial 98 finished with value: 0.1520537097187012 and parameters: {'max_depth': 23, 'min_samples_split': 9, 'max_features': 47, 'min_samples_leaf': 9, 'min_weight_fraction_leaf': 4.734149379045842e-07}. Best is trial 95 with value: 0.14720792774828917.\u001b[0m\n"
     ]
    },
    {
     "name": "stdout",
     "output_type": "stream",
     "text": [
      "Model: rf | Mean train rsmle: 0.12657242199087498 | Standard deviation: 0.0007065771482327527\n",
      "Model: rf | Mean val rsmle: 0.1520537097187012 | Standard deviation: 0.003475294182626868\n"
     ]
    },
    {
     "name": "stderr",
     "output_type": "stream",
     "text": [
      "100%|█████████████████████████████████████████████████████████████████████████████████████████████████████████████████████████████████████████████████████████████████████████████████████████████████████| 5/5 [00:04<00:00,  1.21it/s]\n",
      "\u001b[32m[I 2021-11-12 11:12:56,728]\u001b[0m Trial 99 finished with value: 0.1682506186078124 and parameters: {'max_depth': 23, 'min_samples_split': 7, 'max_features': 45, 'min_samples_leaf': 19, 'min_weight_fraction_leaf': 2.172335767105985e-07}. Best is trial 95 with value: 0.14720792774828917.\u001b[0m\n"
     ]
    },
    {
     "name": "stdout",
     "output_type": "stream",
     "text": [
      "Model: rf | Mean train rsmle: 0.15182610758506304 | Standard deviation: 0.0008853225983980666\n",
      "Model: rf | Mean val rsmle: 0.1682506186078124 | Standard deviation: 0.0025592704439241455\n",
      "FrozenTrial(number=95, values=[0.14720792774828917], datetime_start=datetime.datetime(2021, 11, 12, 11, 12, 33, 557442), datetime_complete=datetime.datetime(2021, 11, 12, 11, 12, 39, 140201), params={'max_depth': 24, 'min_samples_split': 3, 'max_features': 52, 'min_samples_leaf': 6, 'min_weight_fraction_leaf': 0.00017818139190975649}, distributions={'max_depth': IntLogUniformDistribution(high=32, low=2, step=1), 'min_samples_split': IntUniformDistribution(high=100, low=2, step=1), 'max_features': IntUniformDistribution(high=83, low=2, step=1), 'min_samples_leaf': IntUniformDistribution(high=100, low=1, step=1), 'min_weight_fraction_leaf': LogUniformDistribution(high=0.5, low=1e-08)}, user_attrs={}, system_attrs={}, intermediate_values={}, trial_id=95, state=TrialState.COMPLETE, value=None)\n"
     ]
    }
   ],
   "source": [
    "import optuna\n",
    "X_train = train_data[features]\n",
    "X_val = train_data[features]\n",
    "\n",
    "def rf_objective(trial):\n",
    "    \n",
    "    rf_max_depth = trial.suggest_int(\"max_depth\", 2, 32, log=True)\n",
    "    rf_min_samples_split = trial.suggest_int(\"min_samples_split\", 2, 100)\n",
    "    rf_max_features = trial.suggest_int(\"max_features\", 2, len(features))\n",
    "    rf_min_samples_leaf = trial.suggest_int(\"min_samples_leaf\", 1, 100)\n",
    "    rf_min_weight_fraction_leaf = trial.suggest_float(\"min_weight_fraction_leaf\", 1e-8, 0.5, log=True)\n",
    "    reg = RandomForestRegressor(\n",
    "        max_depth=rf_max_depth, \n",
    "        min_samples_split=rf_min_samples_split,\n",
    "        max_features=rf_max_features,\n",
    "        min_samples_leaf=rf_min_samples_leaf,\n",
    "        min_weight_fraction_leaf=rf_min_weight_fraction_leaf,\n",
    "        n_estimators=10,\n",
    "    )\n",
    "    scores = cross_validation({\"rf\": reg}, train_data, features, {\"rf\": \"price_per_m2\"}, k=5)\n",
    "    return scores[\"rf\"]\n",
    "\n",
    "study = optuna.create_study(direction=\"minimize\")\n",
    "study.optimize(rf_objective, n_trials=100)\n",
    "print(study.best_trial)"
   ]
  },
  {
   "cell_type": "code",
   "execution_count": 35,
   "id": "cbe9535b-88b7-4a51-b2c7-c1a6f535dc77",
   "metadata": {},
   "outputs": [
    {
     "name": "stderr",
     "output_type": "stream",
     "text": [
      "\u001b[32m[I 2021-11-12 11:12:56,740]\u001b[0m A new study created in memory with name: no-name-6423bfde-c813-43c7-bc0c-04da0ea56ea0\u001b[0m\n",
      "  0%|                                                                                                                                                                                                             | 0/5 [00:00<?, ?it/s]"
     ]
    },
    {
     "name": "stdout",
     "output_type": "stream",
     "text": [
      "[LightGBM] [Warning] min_data_in_leaf is set=95, min_child_samples=97 will be ignored. Current value: min_data_in_leaf=95\n"
     ]
    },
    {
     "name": "stderr",
     "output_type": "stream",
     "text": [
      " 20%|███████████████████████████████████████▍                                                                                                                                                             | 1/5 [00:00<00:02,  1.66it/s]"
     ]
    },
    {
     "name": "stdout",
     "output_type": "stream",
     "text": [
      "[LightGBM] [Warning] min_data_in_leaf is set=95, min_child_samples=97 will be ignored. Current value: min_data_in_leaf=95\n"
     ]
    },
    {
     "name": "stderr",
     "output_type": "stream",
     "text": [
      " 40%|██████████████████████████████████████████████████████████████████████████████▊                                                                                                                      | 2/5 [00:01<00:01,  1.68it/s]"
     ]
    },
    {
     "name": "stdout",
     "output_type": "stream",
     "text": [
      "[LightGBM] [Warning] min_data_in_leaf is set=95, min_child_samples=97 will be ignored. Current value: min_data_in_leaf=95\n"
     ]
    },
    {
     "name": "stderr",
     "output_type": "stream",
     "text": [
      " 60%|██████████████████████████████████████████████████████████████████████████████████████████████████████████████████████▏                                                                              | 3/5 [00:01<00:01,  1.68it/s]"
     ]
    },
    {
     "name": "stdout",
     "output_type": "stream",
     "text": [
      "[LightGBM] [Warning] min_data_in_leaf is set=95, min_child_samples=97 will be ignored. Current value: min_data_in_leaf=95\n"
     ]
    },
    {
     "name": "stderr",
     "output_type": "stream",
     "text": [
      " 80%|█████████████████████████████████████████████████████████████████████████████████████████████████████████████████████████████████████████████████████████████▌                                       | 4/5 [00:02<00:00,  1.66it/s]"
     ]
    },
    {
     "name": "stdout",
     "output_type": "stream",
     "text": [
      "[LightGBM] [Warning] min_data_in_leaf is set=95, min_child_samples=97 will be ignored. Current value: min_data_in_leaf=95\n"
     ]
    },
    {
     "name": "stderr",
     "output_type": "stream",
     "text": [
      "100%|█████████████████████████████████████████████████████████████████████████████████████████████████████████████████████████████████████████████████████████████████████████████████████████████████████| 5/5 [00:03<00:00,  1.66it/s]\n",
      "\u001b[32m[I 2021-11-12 11:12:59,775]\u001b[0m Trial 0 finished with value: 0.15602638298902838 and parameters: {'num_leaves': 68, 'min_data_in_leaf': 95, 'max_depth': 13, 'max_bin': 188, 'lambda_l1': 2.959470013311229e-08, 'lambda_l2': 4.453981689500482e-06, 'min_child_samples': 97}. Best is trial 0 with value: 0.15602638298902838.\u001b[0m\n"
     ]
    },
    {
     "name": "stdout",
     "output_type": "stream",
     "text": [
      "Model: lgbm | Mean train rsmle: 0.12749338033714377 | Standard deviation: 0.0006278207867650279\n",
      "Model: lgbm | Mean val rsmle: 0.15602638298902838 | Standard deviation: 0.0024642371128918905\n"
     ]
    },
    {
     "name": "stderr",
     "output_type": "stream",
     "text": [
      "  0%|                                                                                                                                                                                                             | 0/5 [00:00<?, ?it/s]"
     ]
    },
    {
     "name": "stdout",
     "output_type": "stream",
     "text": [
      "[LightGBM] [Warning] min_data_in_leaf is set=17, min_child_samples=56 will be ignored. Current value: min_data_in_leaf=17\n"
     ]
    },
    {
     "name": "stderr",
     "output_type": "stream",
     "text": [
      " 20%|███████████████████████████████████████▍                                                                                                                                                             | 1/5 [00:00<00:02,  1.43it/s]"
     ]
    },
    {
     "name": "stdout",
     "output_type": "stream",
     "text": [
      "[LightGBM] [Warning] min_data_in_leaf is set=17, min_child_samples=56 will be ignored. Current value: min_data_in_leaf=17\n"
     ]
    },
    {
     "name": "stderr",
     "output_type": "stream",
     "text": [
      " 40%|██████████████████████████████████████████████████████████████████████████████▊                                                                                                                      | 2/5 [00:01<00:02,  1.44it/s]"
     ]
    },
    {
     "name": "stdout",
     "output_type": "stream",
     "text": [
      "[LightGBM] [Warning] min_data_in_leaf is set=17, min_child_samples=56 will be ignored. Current value: min_data_in_leaf=17\n"
     ]
    },
    {
     "name": "stderr",
     "output_type": "stream",
     "text": [
      " 60%|██████████████████████████████████████████████████████████████████████████████████████████████████████████████████████▏                                                                              | 3/5 [00:02<00:01,  1.41it/s]"
     ]
    },
    {
     "name": "stdout",
     "output_type": "stream",
     "text": [
      "[LightGBM] [Warning] min_data_in_leaf is set=17, min_child_samples=56 will be ignored. Current value: min_data_in_leaf=17\n"
     ]
    },
    {
     "name": "stderr",
     "output_type": "stream",
     "text": [
      " 80%|█████████████████████████████████████████████████████████████████████████████████████████████████████████████████████████████████████████████████████████████▌                                       | 4/5 [00:02<00:00,  1.41it/s]"
     ]
    },
    {
     "name": "stdout",
     "output_type": "stream",
     "text": [
      "[LightGBM] [Warning] min_data_in_leaf is set=17, min_child_samples=56 will be ignored. Current value: min_data_in_leaf=17\n"
     ]
    },
    {
     "name": "stderr",
     "output_type": "stream",
     "text": [
      "100%|█████████████████████████████████████████████████████████████████████████████████████████████████████████████████████████████████████████████████████████████████████████████████████████████████████| 5/5 [00:03<00:00,  1.41it/s]\n",
      "\u001b[32m[I 2021-11-12 11:13:03,342]\u001b[0m Trial 1 finished with value: 0.1449524111441482 and parameters: {'num_leaves': 66, 'min_data_in_leaf': 17, 'max_depth': 21, 'max_bin': 253, 'lambda_l1': 0.39598604000359033, 'lambda_l2': 0.8296808102351846, 'min_child_samples': 56}. Best is trial 1 with value: 0.1449524111441482.\u001b[0m\n"
     ]
    },
    {
     "name": "stdout",
     "output_type": "stream",
     "text": [
      "Model: lgbm | Mean train rsmle: 0.10601301719508952 | Standard deviation: 0.0007617820079306092\n",
      "Model: lgbm | Mean val rsmle: 0.1449524111441482 | Standard deviation: 0.003249635648913513\n"
     ]
    },
    {
     "name": "stderr",
     "output_type": "stream",
     "text": [
      " 20%|███████████████████████████████████████▍                                                                                                                                                             | 1/5 [00:00<00:00,  5.63it/s]"
     ]
    },
    {
     "name": "stdout",
     "output_type": "stream",
     "text": [
      "[LightGBM] [Warning] min_data_in_leaf is set=43, min_child_samples=32 will be ignored. Current value: min_data_in_leaf=43\n",
      "[LightGBM] [Warning] min_data_in_leaf is set=43, min_child_samples=32 will be ignored. Current value: min_data_in_leaf=43\n"
     ]
    },
    {
     "name": "stderr",
     "output_type": "stream",
     "text": [
      " 40%|██████████████████████████████████████████████████████████████████████████████▊                                                                                                                      | 2/5 [00:00<00:00,  5.68it/s]"
     ]
    },
    {
     "name": "stdout",
     "output_type": "stream",
     "text": [
      "[LightGBM] [Warning] min_data_in_leaf is set=43, min_child_samples=32 will be ignored. Current value: min_data_in_leaf=43\n"
     ]
    },
    {
     "name": "stderr",
     "output_type": "stream",
     "text": [
      " 60%|██████████████████████████████████████████████████████████████████████████████████████████████████████████████████████▏                                                                              | 3/5 [00:00<00:00,  5.64it/s]"
     ]
    },
    {
     "name": "stdout",
     "output_type": "stream",
     "text": [
      "[LightGBM] [Warning] min_data_in_leaf is set=43, min_child_samples=32 will be ignored. Current value: min_data_in_leaf=43\n"
     ]
    },
    {
     "name": "stderr",
     "output_type": "stream",
     "text": [
      " 80%|█████████████████████████████████████████████████████████████████████████████████████████████████████████████████████████████████████████████████████████████▌                                       | 4/5 [00:00<00:00,  5.73it/s]"
     ]
    },
    {
     "name": "stdout",
     "output_type": "stream",
     "text": [
      "[LightGBM] [Warning] min_data_in_leaf is set=43, min_child_samples=32 will be ignored. Current value: min_data_in_leaf=43\n"
     ]
    },
    {
     "name": "stderr",
     "output_type": "stream",
     "text": [
      "100%|█████████████████████████████████████████████████████████████████████████████████████████████████████████████████████████████████████████████████████████████████████████████████████████████████████| 5/5 [00:00<00:00,  5.68it/s]\n",
      "\u001b[32m[I 2021-11-12 11:13:04,246]\u001b[0m Trial 2 finished with value: 0.2691775039805188 and parameters: {'num_leaves': 2, 'min_data_in_leaf': 43, 'max_depth': 9, 'max_bin': 173, 'lambda_l1': 5.189723790297246e-06, 'lambda_l2': 0.010947833468933289, 'min_child_samples': 32}. Best is trial 1 with value: 0.1449524111441482.\u001b[0m\n"
     ]
    },
    {
     "name": "stdout",
     "output_type": "stream",
     "text": [
      "Model: lgbm | Mean train rsmle: 0.26710152133279735 | Standard deviation: 0.0007805229822748969\n",
      "Model: lgbm | Mean val rsmle: 0.2691775039805188 | Standard deviation: 0.003267472997754858\n"
     ]
    },
    {
     "name": "stderr",
     "output_type": "stream",
     "text": [
      "  0%|                                                                                                                                                                                                             | 0/5 [00:00<?, ?it/s]"
     ]
    },
    {
     "name": "stdout",
     "output_type": "stream",
     "text": [
      "[LightGBM] [Warning] min_data_in_leaf is set=90, min_child_samples=40 will be ignored. Current value: min_data_in_leaf=90\n"
     ]
    },
    {
     "name": "stderr",
     "output_type": "stream",
     "text": [
      " 20%|███████████████████████████████████████▍                                                                                                                                                             | 1/5 [00:00<00:02,  1.48it/s]"
     ]
    },
    {
     "name": "stdout",
     "output_type": "stream",
     "text": [
      "[LightGBM] [Warning] min_data_in_leaf is set=90, min_child_samples=40 will be ignored. Current value: min_data_in_leaf=90\n"
     ]
    },
    {
     "name": "stderr",
     "output_type": "stream",
     "text": [
      " 40%|██████████████████████████████████████████████████████████████████████████████▊                                                                                                                      | 2/5 [00:01<00:02,  1.45it/s]"
     ]
    },
    {
     "name": "stdout",
     "output_type": "stream",
     "text": [
      "[LightGBM] [Warning] min_data_in_leaf is set=90, min_child_samples=40 will be ignored. Current value: min_data_in_leaf=90\n"
     ]
    },
    {
     "name": "stderr",
     "output_type": "stream",
     "text": [
      " 60%|██████████████████████████████████████████████████████████████████████████████████████████████████████████████████████▏                                                                              | 3/5 [00:02<00:01,  1.38it/s]"
     ]
    },
    {
     "name": "stdout",
     "output_type": "stream",
     "text": [
      "[LightGBM] [Warning] min_data_in_leaf is set=90, min_child_samples=40 will be ignored. Current value: min_data_in_leaf=90\n"
     ]
    },
    {
     "name": "stderr",
     "output_type": "stream",
     "text": [
      " 80%|█████████████████████████████████████████████████████████████████████████████████████████████████████████████████████████████████████████████████████████████▌                                       | 4/5 [00:02<00:00,  1.40it/s]"
     ]
    },
    {
     "name": "stdout",
     "output_type": "stream",
     "text": [
      "[LightGBM] [Warning] min_data_in_leaf is set=90, min_child_samples=40 will be ignored. Current value: min_data_in_leaf=90\n"
     ]
    },
    {
     "name": "stderr",
     "output_type": "stream",
     "text": [
      "100%|█████████████████████████████████████████████████████████████████████████████████████████████████████████████████████████████████████████████████████████████████████████████████████████████████████| 5/5 [00:03<00:00,  1.41it/s]\n",
      "\u001b[32m[I 2021-11-12 11:13:07,808]\u001b[0m Trial 3 finished with value: 0.15428281995656706 and parameters: {'num_leaves': 77, 'min_data_in_leaf': 90, 'max_depth': 17, 'max_bin': 158, 'lambda_l1': 6.744185069603601e-05, 'lambda_l2': 0.11966171153337253, 'min_child_samples': 40}. Best is trial 1 with value: 0.1449524111441482.\u001b[0m\n"
     ]
    },
    {
     "name": "stdout",
     "output_type": "stream",
     "text": [
      "Model: lgbm | Mean train rsmle: 0.12239437199039531 | Standard deviation: 0.0007994537751442267\n",
      "Model: lgbm | Mean val rsmle: 0.15428281995656706 | Standard deviation: 0.0024080569122998264\n"
     ]
    },
    {
     "name": "stderr",
     "output_type": "stream",
     "text": [
      "  0%|                                                                                                                                                                                                             | 0/5 [00:00<?, ?it/s]"
     ]
    },
    {
     "name": "stdout",
     "output_type": "stream",
     "text": [
      "[LightGBM] [Warning] min_data_in_leaf is set=20, min_child_samples=41 will be ignored. Current value: min_data_in_leaf=20\n"
     ]
    },
    {
     "name": "stderr",
     "output_type": "stream",
     "text": [
      " 20%|███████████████████████████████████████▍                                                                                                                                                             | 1/5 [00:00<00:01,  3.40it/s]"
     ]
    },
    {
     "name": "stdout",
     "output_type": "stream",
     "text": [
      "[LightGBM] [Warning] min_data_in_leaf is set=20, min_child_samples=41 will be ignored. Current value: min_data_in_leaf=20\n"
     ]
    },
    {
     "name": "stderr",
     "output_type": "stream",
     "text": [
      " 40%|██████████████████████████████████████████████████████████████████████████████▊                                                                                                                      | 2/5 [00:00<00:00,  3.58it/s]"
     ]
    },
    {
     "name": "stdout",
     "output_type": "stream",
     "text": [
      "[LightGBM] [Warning] min_data_in_leaf is set=20, min_child_samples=41 will be ignored. Current value: min_data_in_leaf=20\n"
     ]
    },
    {
     "name": "stderr",
     "output_type": "stream",
     "text": [
      " 60%|██████████████████████████████████████████████████████████████████████████████████████████████████████████████████████▏                                                                              | 3/5 [00:00<00:00,  3.22it/s]"
     ]
    },
    {
     "name": "stdout",
     "output_type": "stream",
     "text": [
      "[LightGBM] [Warning] min_data_in_leaf is set=20, min_child_samples=41 will be ignored. Current value: min_data_in_leaf=20\n"
     ]
    },
    {
     "name": "stderr",
     "output_type": "stream",
     "text": [
      " 80%|█████████████████████████████████████████████████████████████████████████████████████████████████████████████████████████████████████████████████████████████▌                                       | 4/5 [00:01<00:00,  3.40it/s]"
     ]
    },
    {
     "name": "stdout",
     "output_type": "stream",
     "text": [
      "[LightGBM] [Warning] min_data_in_leaf is set=20, min_child_samples=41 will be ignored. Current value: min_data_in_leaf=20\n"
     ]
    },
    {
     "name": "stderr",
     "output_type": "stream",
     "text": [
      "100%|█████████████████████████████████████████████████████████████████████████████████████████████████████████████████████████████████████████████████████████████████████████████████████████████████████| 5/5 [00:01<00:00,  3.43it/s]\n",
      "\u001b[32m[I 2021-11-12 11:13:09,289]\u001b[0m Trial 4 finished with value: 0.19444827989845184 and parameters: {'num_leaves': 8, 'min_data_in_leaf': 20, 'max_depth': 4, 'max_bin': 197, 'lambda_l1': 0.03060773111641263, 'lambda_l2': 0.00020803701522679018, 'min_child_samples': 41}. Best is trial 1 with value: 0.1449524111441482.\u001b[0m\n"
     ]
    },
    {
     "name": "stdout",
     "output_type": "stream",
     "text": [
      "Model: lgbm | Mean train rsmle: 0.18656810077398372 | Standard deviation: 0.000765753717353707\n",
      "Model: lgbm | Mean val rsmle: 0.19444827989845184 | Standard deviation: 0.0035814400257235817\n"
     ]
    },
    {
     "name": "stderr",
     "output_type": "stream",
     "text": [
      "  0%|                                                                                                                                                                                                             | 0/5 [00:00<?, ?it/s]"
     ]
    },
    {
     "name": "stdout",
     "output_type": "stream",
     "text": [
      "[LightGBM] [Warning] min_data_in_leaf is set=84, min_child_samples=45 will be ignored. Current value: min_data_in_leaf=84\n"
     ]
    },
    {
     "name": "stderr",
     "output_type": "stream",
     "text": [
      " 20%|███████████████████████████████████████▍                                                                                                                                                             | 1/5 [00:00<00:01,  2.67it/s]"
     ]
    },
    {
     "name": "stdout",
     "output_type": "stream",
     "text": [
      "[LightGBM] [Warning] min_data_in_leaf is set=84, min_child_samples=45 will be ignored. Current value: min_data_in_leaf=84\n"
     ]
    },
    {
     "name": "stderr",
     "output_type": "stream",
     "text": [
      " 40%|██████████████████████████████████████████████████████████████████████████████▊                                                                                                                      | 2/5 [00:00<00:01,  2.71it/s]"
     ]
    },
    {
     "name": "stdout",
     "output_type": "stream",
     "text": [
      "[LightGBM] [Warning] min_data_in_leaf is set=84, min_child_samples=45 will be ignored. Current value: min_data_in_leaf=84\n"
     ]
    },
    {
     "name": "stderr",
     "output_type": "stream",
     "text": [
      " 60%|██████████████████████████████████████████████████████████████████████████████████████████████████████████████████████▏                                                                              | 3/5 [00:01<00:00,  2.68it/s]"
     ]
    },
    {
     "name": "stdout",
     "output_type": "stream",
     "text": [
      "[LightGBM] [Warning] min_data_in_leaf is set=84, min_child_samples=45 will be ignored. Current value: min_data_in_leaf=84\n"
     ]
    },
    {
     "name": "stderr",
     "output_type": "stream",
     "text": [
      " 80%|█████████████████████████████████████████████████████████████████████████████████████████████████████████████████████████████████████████████████████████████▌                                       | 4/5 [00:01<00:00,  2.66it/s]"
     ]
    },
    {
     "name": "stdout",
     "output_type": "stream",
     "text": [
      "[LightGBM] [Warning] min_data_in_leaf is set=84, min_child_samples=45 will be ignored. Current value: min_data_in_leaf=84\n"
     ]
    },
    {
     "name": "stderr",
     "output_type": "stream",
     "text": [
      "100%|█████████████████████████████████████████████████████████████████████████████████████████████████████████████████████████████████████████████████████████████████████████████████████████████████████| 5/5 [00:01<00:00,  2.65it/s]\n",
      "\u001b[32m[I 2021-11-12 11:13:11,196]\u001b[0m Trial 5 finished with value: 0.17396435232994376 and parameters: {'num_leaves': 16, 'min_data_in_leaf': 84, 'max_depth': 29, 'max_bin': 295, 'lambda_l1': 9.164963024589758e-06, 'lambda_l2': 0.00015931596124666895, 'min_child_samples': 45}. Best is trial 1 with value: 0.1449524111441482.\u001b[0m\n"
     ]
    },
    {
     "name": "stdout",
     "output_type": "stream",
     "text": [
      "Model: lgbm | Mean train rsmle: 0.16005409695323763 | Standard deviation: 0.00015544654798179292\n",
      "Model: lgbm | Mean val rsmle: 0.17396435232994376 | Standard deviation: 0.004052790667599184\n"
     ]
    },
    {
     "name": "stderr",
     "output_type": "stream",
     "text": [
      "  0%|                                                                                                                                                                                                             | 0/5 [00:00<?, ?it/s]"
     ]
    },
    {
     "name": "stdout",
     "output_type": "stream",
     "text": [
      "[LightGBM] [Warning] min_data_in_leaf is set=11, min_child_samples=63 will be ignored. Current value: min_data_in_leaf=11\n"
     ]
    },
    {
     "name": "stderr",
     "output_type": "stream",
     "text": [
      " 20%|███████████████████████████████████████▍                                                                                                                                                             | 1/5 [00:00<00:01,  2.13it/s]"
     ]
    },
    {
     "name": "stdout",
     "output_type": "stream",
     "text": [
      "[LightGBM] [Warning] min_data_in_leaf is set=11, min_child_samples=63 will be ignored. Current value: min_data_in_leaf=11\n"
     ]
    },
    {
     "name": "stderr",
     "output_type": "stream",
     "text": [
      " 40%|██████████████████████████████████████████████████████████████████████████████▊                                                                                                                      | 2/5 [00:00<00:01,  2.15it/s]"
     ]
    },
    {
     "name": "stdout",
     "output_type": "stream",
     "text": [
      "[LightGBM] [Warning] min_data_in_leaf is set=11, min_child_samples=63 will be ignored. Current value: min_data_in_leaf=11\n"
     ]
    },
    {
     "name": "stderr",
     "output_type": "stream",
     "text": [
      " 60%|██████████████████████████████████████████████████████████████████████████████████████████████████████████████████████▏                                                                              | 3/5 [00:01<00:00,  2.07it/s]"
     ]
    },
    {
     "name": "stdout",
     "output_type": "stream",
     "text": [
      "[LightGBM] [Warning] min_data_in_leaf is set=11, min_child_samples=63 will be ignored. Current value: min_data_in_leaf=11\n"
     ]
    },
    {
     "name": "stderr",
     "output_type": "stream",
     "text": [
      " 80%|█████████████████████████████████████████████████████████████████████████████████████████████████████████████████████████████████████████████████████████████▌                                       | 4/5 [00:01<00:00,  2.10it/s]"
     ]
    },
    {
     "name": "stdout",
     "output_type": "stream",
     "text": [
      "[LightGBM] [Warning] min_data_in_leaf is set=11, min_child_samples=63 will be ignored. Current value: min_data_in_leaf=11\n"
     ]
    },
    {
     "name": "stderr",
     "output_type": "stream",
     "text": [
      "100%|█████████████████████████████████████████████████████████████████████████████████████████████████████████████████████████████████████████████████████████████████████████████████████████████████████| 5/5 [00:02<00:00,  2.10it/s]\n",
      "\u001b[32m[I 2021-11-12 11:13:13,601]\u001b[0m Trial 6 finished with value: 0.163545630791061 and parameters: {'num_leaves': 35, 'min_data_in_leaf': 11, 'max_depth': 16, 'max_bin': 128, 'lambda_l1': 5.855948429060336, 'lambda_l2': 6.308270985504556e-07, 'min_child_samples': 63}. Best is trial 1 with value: 0.1449524111441482.\u001b[0m\n"
     ]
    },
    {
     "name": "stdout",
     "output_type": "stream",
     "text": [
      "Model: lgbm | Mean train rsmle: 0.14446596324840108 | Standard deviation: 0.0008601388135625997\n",
      "Model: lgbm | Mean val rsmle: 0.163545630791061 | Standard deviation: 0.00341720716738337\n"
     ]
    },
    {
     "name": "stderr",
     "output_type": "stream",
     "text": [
      "  0%|                                                                                                                                                                                                             | 0/5 [00:00<?, ?it/s]"
     ]
    },
    {
     "name": "stdout",
     "output_type": "stream",
     "text": [
      "[LightGBM] [Warning] min_data_in_leaf is set=64, min_child_samples=13 will be ignored. Current value: min_data_in_leaf=64\n"
     ]
    },
    {
     "name": "stderr",
     "output_type": "stream",
     "text": [
      " 20%|███████████████████████████████████████▍                                                                                                                                                             | 1/5 [00:00<00:02,  1.73it/s]"
     ]
    },
    {
     "name": "stdout",
     "output_type": "stream",
     "text": [
      "[LightGBM] [Warning] min_data_in_leaf is set=64, min_child_samples=13 will be ignored. Current value: min_data_in_leaf=64\n"
     ]
    },
    {
     "name": "stderr",
     "output_type": "stream",
     "text": [
      " 40%|██████████████████████████████████████████████████████████████████████████████▊                                                                                                                      | 2/5 [00:01<00:01,  1.74it/s]"
     ]
    },
    {
     "name": "stdout",
     "output_type": "stream",
     "text": [
      "[LightGBM] [Warning] min_data_in_leaf is set=64, min_child_samples=13 will be ignored. Current value: min_data_in_leaf=64\n"
     ]
    },
    {
     "name": "stderr",
     "output_type": "stream",
     "text": [
      " 60%|██████████████████████████████████████████████████████████████████████████████████████████████████████████████████████▏                                                                              | 3/5 [00:01<00:01,  1.73it/s]"
     ]
    },
    {
     "name": "stdout",
     "output_type": "stream",
     "text": [
      "[LightGBM] [Warning] min_data_in_leaf is set=64, min_child_samples=13 will be ignored. Current value: min_data_in_leaf=64\n"
     ]
    },
    {
     "name": "stderr",
     "output_type": "stream",
     "text": [
      " 80%|█████████████████████████████████████████████████████████████████████████████████████████████████████████████████████████████████████████████████████████████▌                                       | 4/5 [00:02<00:00,  1.73it/s]"
     ]
    },
    {
     "name": "stdout",
     "output_type": "stream",
     "text": [
      "[LightGBM] [Warning] min_data_in_leaf is set=64, min_child_samples=13 will be ignored. Current value: min_data_in_leaf=64\n"
     ]
    },
    {
     "name": "stderr",
     "output_type": "stream",
     "text": [
      "100%|█████████████████████████████████████████████████████████████████████████████████████████████████████████████████████████████████████████████████████████████████████████████████████████████████████| 5/5 [00:02<00:00,  1.72it/s]\n",
      "\u001b[32m[I 2021-11-12 11:13:16,528]\u001b[0m Trial 7 finished with value: 0.1560082587581906 and parameters: {'num_leaves': 65, 'min_data_in_leaf': 64, 'max_depth': 8, 'max_bin': 290, 'lambda_l1': 0.4864444848216471, 'lambda_l2': 0.0006375262541240145, 'min_child_samples': 13}. Best is trial 1 with value: 0.1449524111441482.\u001b[0m\n"
     ]
    },
    {
     "name": "stdout",
     "output_type": "stream",
     "text": [
      "Model: lgbm | Mean train rsmle: 0.1283519398307527 | Standard deviation: 0.0014600487029575737\n",
      "Model: lgbm | Mean val rsmle: 0.1560082587581906 | Standard deviation: 0.0019927680419027866\n"
     ]
    },
    {
     "name": "stderr",
     "output_type": "stream",
     "text": [
      "  0%|                                                                                                                                                                                                             | 0/5 [00:00<?, ?it/s]"
     ]
    },
    {
     "name": "stdout",
     "output_type": "stream",
     "text": [
      "[LightGBM] [Warning] min_data_in_leaf is set=75, min_child_samples=23 will be ignored. Current value: min_data_in_leaf=75\n"
     ]
    },
    {
     "name": "stderr",
     "output_type": "stream",
     "text": [
      " 20%|███████████████████████████████████████▍                                                                                                                                                             | 1/5 [00:00<00:02,  1.74it/s]"
     ]
    },
    {
     "name": "stdout",
     "output_type": "stream",
     "text": [
      "[LightGBM] [Warning] min_data_in_leaf is set=75, min_child_samples=23 will be ignored. Current value: min_data_in_leaf=75\n"
     ]
    },
    {
     "name": "stderr",
     "output_type": "stream",
     "text": [
      " 40%|██████████████████████████████████████████████████████████████████████████████▊                                                                                                                      | 2/5 [00:01<00:01,  1.76it/s]"
     ]
    },
    {
     "name": "stdout",
     "output_type": "stream",
     "text": [
      "[LightGBM] [Warning] min_data_in_leaf is set=75, min_child_samples=23 will be ignored. Current value: min_data_in_leaf=75\n"
     ]
    },
    {
     "name": "stderr",
     "output_type": "stream",
     "text": [
      " 60%|██████████████████████████████████████████████████████████████████████████████████████████████████████████████████████▏                                                                              | 3/5 [00:01<00:01,  1.73it/s]"
     ]
    },
    {
     "name": "stdout",
     "output_type": "stream",
     "text": [
      "[LightGBM] [Warning] min_data_in_leaf is set=75, min_child_samples=23 will be ignored. Current value: min_data_in_leaf=75\n"
     ]
    },
    {
     "name": "stderr",
     "output_type": "stream",
     "text": [
      " 80%|█████████████████████████████████████████████████████████████████████████████████████████████████████████████████████████████████████████████████████████████▌                                       | 4/5 [00:02<00:00,  1.70it/s]"
     ]
    },
    {
     "name": "stdout",
     "output_type": "stream",
     "text": [
      "[LightGBM] [Warning] min_data_in_leaf is set=75, min_child_samples=23 will be ignored. Current value: min_data_in_leaf=75\n"
     ]
    },
    {
     "name": "stderr",
     "output_type": "stream",
     "text": [
      "100%|█████████████████████████████████████████████████████████████████████████████████████████████████████████████████████████████████████████████████████████████████████████████████████████████████████| 5/5 [00:02<00:00,  1.70it/s]\n",
      "\u001b[32m[I 2021-11-12 11:13:19,498]\u001b[0m Trial 8 finished with value: 0.15417071888059802 and parameters: {'num_leaves': 47, 'min_data_in_leaf': 75, 'max_depth': 26, 'max_bin': 253, 'lambda_l1': 3.056003609738656e-08, 'lambda_l2': 0.003258865860936959, 'min_child_samples': 23}. Best is trial 1 with value: 0.1449524111441482.\u001b[0m\n"
     ]
    },
    {
     "name": "stdout",
     "output_type": "stream",
     "text": [
      "Model: lgbm | Mean train rsmle: 0.12714362217844072 | Standard deviation: 0.00035196993891518447\n",
      "Model: lgbm | Mean val rsmle: 0.15417071888059802 | Standard deviation: 0.0032314144112975548\n"
     ]
    },
    {
     "name": "stderr",
     "output_type": "stream",
     "text": [
      "  0%|                                                                                                                                                                                                             | 0/5 [00:00<?, ?it/s]"
     ]
    },
    {
     "name": "stdout",
     "output_type": "stream",
     "text": [
      "[LightGBM] [Warning] min_data_in_leaf is set=15, min_child_samples=73 will be ignored. Current value: min_data_in_leaf=15\n"
     ]
    },
    {
     "name": "stderr",
     "output_type": "stream",
     "text": [
      " 20%|███████████████████████████████████████▍                                                                                                                                                             | 1/5 [00:00<00:03,  1.25it/s]"
     ]
    },
    {
     "name": "stdout",
     "output_type": "stream",
     "text": [
      "[LightGBM] [Warning] min_data_in_leaf is set=15, min_child_samples=73 will be ignored. Current value: min_data_in_leaf=15\n"
     ]
    },
    {
     "name": "stderr",
     "output_type": "stream",
     "text": [
      " 40%|██████████████████████████████████████████████████████████████████████████████▊                                                                                                                      | 2/5 [00:01<00:02,  1.26it/s]"
     ]
    },
    {
     "name": "stdout",
     "output_type": "stream",
     "text": [
      "[LightGBM] [Warning] min_data_in_leaf is set=15, min_child_samples=73 will be ignored. Current value: min_data_in_leaf=15\n"
     ]
    },
    {
     "name": "stderr",
     "output_type": "stream",
     "text": [
      " 60%|██████████████████████████████████████████████████████████████████████████████████████████████████████████████████████▏                                                                              | 3/5 [00:02<00:01,  1.23it/s]"
     ]
    },
    {
     "name": "stdout",
     "output_type": "stream",
     "text": [
      "[LightGBM] [Warning] min_data_in_leaf is set=15, min_child_samples=73 will be ignored. Current value: min_data_in_leaf=15\n"
     ]
    },
    {
     "name": "stderr",
     "output_type": "stream",
     "text": [
      " 80%|█████████████████████████████████████████████████████████████████████████████████████████████████████████████████████████████████████████████████████████████▌                                       | 4/5 [00:03<00:00,  1.22it/s]"
     ]
    },
    {
     "name": "stdout",
     "output_type": "stream",
     "text": [
      "[LightGBM] [Warning] min_data_in_leaf is set=15, min_child_samples=73 will be ignored. Current value: min_data_in_leaf=15\n"
     ]
    },
    {
     "name": "stderr",
     "output_type": "stream",
     "text": [
      "100%|█████████████████████████████████████████████████████████████████████████████████████████████████████████████████████████████████████████████████████████████████████████████████████████████████████| 5/5 [00:04<00:00,  1.22it/s]\n",
      "\u001b[32m[I 2021-11-12 11:13:23,609]\u001b[0m Trial 9 finished with value: 0.14155513267732506 and parameters: {'num_leaves': 93, 'min_data_in_leaf': 15, 'max_depth': 24, 'max_bin': 231, 'lambda_l1': 1.4188755718958007e-08, 'lambda_l2': 0.35527092655879566, 'min_child_samples': 73}. Best is trial 9 with value: 0.14155513267732506.\u001b[0m\n"
     ]
    },
    {
     "name": "stdout",
     "output_type": "stream",
     "text": [
      "Model: lgbm | Mean train rsmle: 0.09119936440054918 | Standard deviation: 0.0003558957060267833\n",
      "Model: lgbm | Mean val rsmle: 0.14155513267732506 | Standard deviation: 0.004157735457841784\n"
     ]
    },
    {
     "name": "stderr",
     "output_type": "stream",
     "text": [
      "  0%|                                                                                                                                                                                                             | 0/5 [00:00<?, ?it/s]"
     ]
    },
    {
     "name": "stdout",
     "output_type": "stream",
     "text": [
      "[LightGBM] [Warning] min_data_in_leaf is set=39, min_child_samples=77 will be ignored. Current value: min_data_in_leaf=39\n"
     ]
    },
    {
     "name": "stderr",
     "output_type": "stream",
     "text": [
      " 20%|███████████████████████████████████████▍                                                                                                                                                             | 1/5 [00:00<00:03,  1.04it/s]"
     ]
    },
    {
     "name": "stdout",
     "output_type": "stream",
     "text": [
      "[LightGBM] [Warning] min_data_in_leaf is set=39, min_child_samples=77 will be ignored. Current value: min_data_in_leaf=39\n"
     ]
    },
    {
     "name": "stderr",
     "output_type": "stream",
     "text": [
      " 40%|██████████████████████████████████████████████████████████████████████████████▊                                                                                                                      | 2/5 [00:01<00:02,  1.05it/s]"
     ]
    },
    {
     "name": "stdout",
     "output_type": "stream",
     "text": [
      "[LightGBM] [Warning] min_data_in_leaf is set=39, min_child_samples=77 will be ignored. Current value: min_data_in_leaf=39\n"
     ]
    },
    {
     "name": "stderr",
     "output_type": "stream",
     "text": [
      " 60%|██████████████████████████████████████████████████████████████████████████████████████████████████████████████████████▏                                                                              | 3/5 [00:02<00:01,  1.03it/s]"
     ]
    },
    {
     "name": "stdout",
     "output_type": "stream",
     "text": [
      "[LightGBM] [Warning] min_data_in_leaf is set=39, min_child_samples=77 will be ignored. Current value: min_data_in_leaf=39\n"
     ]
    },
    {
     "name": "stderr",
     "output_type": "stream",
     "text": [
      " 80%|█████████████████████████████████████████████████████████████████████████████████████████████████████████████████████████████████████████████████████████████▌                                       | 4/5 [00:03<00:00,  1.02it/s]"
     ]
    },
    {
     "name": "stdout",
     "output_type": "stream",
     "text": [
      "[LightGBM] [Warning] min_data_in_leaf is set=39, min_child_samples=77 will be ignored. Current value: min_data_in_leaf=39\n"
     ]
    },
    {
     "name": "stderr",
     "output_type": "stream",
     "text": [
      "100%|█████████████████████████████████████████████████████████████████████████████████████████████████████████████████████████████████████████████████████████████████████████████████████████████████████| 5/5 [00:04<00:00,  1.02it/s]\n",
      "\u001b[32m[I 2021-11-12 11:13:28,545]\u001b[0m Trial 10 finished with value: 0.14249815572819619 and parameters: {'num_leaves': 121, 'min_data_in_leaf': 39, 'max_depth': 24, 'max_bin': 224, 'lambda_l1': 0.002132355700298807, 'lambda_l2': 5.140377232578162, 'min_child_samples': 77}. Best is trial 9 with value: 0.14155513267732506.\u001b[0m\n"
     ]
    },
    {
     "name": "stdout",
     "output_type": "stream",
     "text": [
      "Model: lgbm | Mean train rsmle: 0.09474880613380794 | Standard deviation: 0.0007806608975651841\n",
      "Model: lgbm | Mean val rsmle: 0.14249815572819619 | Standard deviation: 0.0031024421016574233\n"
     ]
    },
    {
     "name": "stderr",
     "output_type": "stream",
     "text": [
      "  0%|                                                                                                                                                                                                             | 0/5 [00:00<?, ?it/s]"
     ]
    },
    {
     "name": "stdout",
     "output_type": "stream",
     "text": [
      "[LightGBM] [Warning] min_data_in_leaf is set=34, min_child_samples=80 will be ignored. Current value: min_data_in_leaf=34\n"
     ]
    },
    {
     "name": "stderr",
     "output_type": "stream",
     "text": [
      " 20%|███████████████████████████████████████▍                                                                                                                                                             | 1/5 [00:01<00:04,  1.00s/it]"
     ]
    },
    {
     "name": "stdout",
     "output_type": "stream",
     "text": [
      "[LightGBM] [Warning] min_data_in_leaf is set=34, min_child_samples=80 will be ignored. Current value: min_data_in_leaf=34\n"
     ]
    },
    {
     "name": "stderr",
     "output_type": "stream",
     "text": [
      " 40%|██████████████████████████████████████████████████████████████████████████████▊                                                                                                                      | 2/5 [00:01<00:02,  1.01it/s]"
     ]
    },
    {
     "name": "stdout",
     "output_type": "stream",
     "text": [
      "[LightGBM] [Warning] min_data_in_leaf is set=34, min_child_samples=80 will be ignored. Current value: min_data_in_leaf=34\n"
     ]
    },
    {
     "name": "stderr",
     "output_type": "stream",
     "text": [
      " 60%|██████████████████████████████████████████████████████████████████████████████████████████████████████████████████████▏                                                                              | 3/5 [00:02<00:02,  1.00s/it]"
     ]
    },
    {
     "name": "stdout",
     "output_type": "stream",
     "text": [
      "[LightGBM] [Warning] min_data_in_leaf is set=34, min_child_samples=80 will be ignored. Current value: min_data_in_leaf=34\n"
     ]
    },
    {
     "name": "stderr",
     "output_type": "stream",
     "text": [
      " 80%|█████████████████████████████████████████████████████████████████████████████████████████████████████████████████████████████████████████████████████████████▌                                       | 4/5 [00:04<00:01,  1.01s/it]"
     ]
    },
    {
     "name": "stdout",
     "output_type": "stream",
     "text": [
      "[LightGBM] [Warning] min_data_in_leaf is set=34, min_child_samples=80 will be ignored. Current value: min_data_in_leaf=34\n"
     ]
    },
    {
     "name": "stderr",
     "output_type": "stream",
     "text": [
      "100%|█████████████████████████████████████████████████████████████████████████████████████████████████████████████████████████████████████████████████████████████████████████████████████████████████████| 5/5 [00:05<00:00,  1.00s/it]\n",
      "\u001b[32m[I 2021-11-12 11:13:33,607]\u001b[0m Trial 11 finished with value: 0.1425045138347183 and parameters: {'num_leaves': 122, 'min_data_in_leaf': 34, 'max_depth': 23, 'max_bin': 239, 'lambda_l1': 0.00229024386441892, 'lambda_l2': 9.074946743133903, 'min_child_samples': 80}. Best is trial 9 with value: 0.14155513267732506.\u001b[0m\n"
     ]
    },
    {
     "name": "stdout",
     "output_type": "stream",
     "text": [
      "Model: lgbm | Mean train rsmle: 0.09510905308786248 | Standard deviation: 0.0006739463212666224\n",
      "Model: lgbm | Mean val rsmle: 0.1425045138347183 | Standard deviation: 0.004050782143779784\n"
     ]
    },
    {
     "name": "stderr",
     "output_type": "stream",
     "text": [
      "  0%|                                                                                                                                                                                                             | 0/5 [00:00<?, ?it/s]"
     ]
    },
    {
     "name": "stdout",
     "output_type": "stream",
     "text": [
      "[LightGBM] [Warning] min_data_in_leaf is set=34, min_child_samples=75 will be ignored. Current value: min_data_in_leaf=34\n"
     ]
    },
    {
     "name": "stderr",
     "output_type": "stream",
     "text": [
      " 20%|███████████████████████████████████████▍                                                                                                                                                             | 1/5 [00:00<00:03,  1.04it/s]"
     ]
    },
    {
     "name": "stdout",
     "output_type": "stream",
     "text": [
      "[LightGBM] [Warning] min_data_in_leaf is set=34, min_child_samples=75 will be ignored. Current value: min_data_in_leaf=34\n"
     ]
    },
    {
     "name": "stderr",
     "output_type": "stream",
     "text": [
      " 40%|██████████████████████████████████████████████████████████████████████████████▊                                                                                                                      | 2/5 [00:01<00:02,  1.05it/s]"
     ]
    },
    {
     "name": "stdout",
     "output_type": "stream",
     "text": [
      "[LightGBM] [Warning] min_data_in_leaf is set=34, min_child_samples=75 will be ignored. Current value: min_data_in_leaf=34\n"
     ]
    },
    {
     "name": "stderr",
     "output_type": "stream",
     "text": [
      " 60%|██████████████████████████████████████████████████████████████████████████████████████████████████████████████████████▏                                                                              | 3/5 [00:02<00:01,  1.03it/s]"
     ]
    },
    {
     "name": "stdout",
     "output_type": "stream",
     "text": [
      "[LightGBM] [Warning] min_data_in_leaf is set=34, min_child_samples=75 will be ignored. Current value: min_data_in_leaf=34\n"
     ]
    },
    {
     "name": "stderr",
     "output_type": "stream",
     "text": [
      " 80%|█████████████████████████████████████████████████████████████████████████████████████████████████████████████████████████████████████████████████████████████▌                                       | 4/5 [00:03<00:00,  1.02it/s]"
     ]
    },
    {
     "name": "stdout",
     "output_type": "stream",
     "text": [
      "[LightGBM] [Warning] min_data_in_leaf is set=34, min_child_samples=75 will be ignored. Current value: min_data_in_leaf=34\n"
     ]
    },
    {
     "name": "stderr",
     "output_type": "stream",
     "text": [
      "100%|█████████████████████████████████████████████████████████████████████████████████████████████████████████████████████████████████████████████████████████████████████████████████████████████████████| 5/5 [00:04<00:00,  1.02it/s]\n",
      "\u001b[32m[I 2021-11-12 11:13:38,542]\u001b[0m Trial 12 finished with value: 0.14215791303625963 and parameters: {'num_leaves': 119, 'min_data_in_leaf': 34, 'max_depth': 30, 'max_bin': 232, 'lambda_l1': 0.0017320266599409602, 'lambda_l2': 7.9984957281081925, 'min_child_samples': 75}. Best is trial 9 with value: 0.14155513267732506.\u001b[0m\n"
     ]
    },
    {
     "name": "stdout",
     "output_type": "stream",
     "text": [
      "Model: lgbm | Mean train rsmle: 0.09513712662681231 | Standard deviation: 0.00029510147375244237\n",
      "Model: lgbm | Mean val rsmle: 0.14215791303625963 | Standard deviation: 0.004136285320495969\n"
     ]
    },
    {
     "name": "stderr",
     "output_type": "stream",
     "text": [
      "  0%|                                                                                                                                                                                                             | 0/5 [00:00<?, ?it/s]"
     ]
    },
    {
     "name": "stdout",
     "output_type": "stream",
     "text": [
      "[LightGBM] [Warning] min_data_in_leaf is set=5, min_child_samples=73 will be ignored. Current value: min_data_in_leaf=5\n"
     ]
    },
    {
     "name": "stderr",
     "output_type": "stream",
     "text": [
      " 20%|███████████████████████████████████████▍                                                                                                                                                             | 1/5 [00:00<00:03,  1.21it/s]"
     ]
    },
    {
     "name": "stdout",
     "output_type": "stream",
     "text": [
      "[LightGBM] [Warning] min_data_in_leaf is set=5, min_child_samples=73 will be ignored. Current value: min_data_in_leaf=5\n"
     ]
    },
    {
     "name": "stderr",
     "output_type": "stream",
     "text": [
      " 40%|██████████████████████████████████████████████████████████████████████████████▊                                                                                                                      | 2/5 [00:01<00:02,  1.21it/s]"
     ]
    },
    {
     "name": "stdout",
     "output_type": "stream",
     "text": [
      "[LightGBM] [Warning] min_data_in_leaf is set=5, min_child_samples=73 will be ignored. Current value: min_data_in_leaf=5\n"
     ]
    },
    {
     "name": "stderr",
     "output_type": "stream",
     "text": [
      " 60%|██████████████████████████████████████████████████████████████████████████████████████████████████████████████████████▏                                                                              | 3/5 [00:02<00:01,  1.18it/s]"
     ]
    },
    {
     "name": "stdout",
     "output_type": "stream",
     "text": [
      "[LightGBM] [Warning] min_data_in_leaf is set=5, min_child_samples=73 will be ignored. Current value: min_data_in_leaf=5\n"
     ]
    },
    {
     "name": "stderr",
     "output_type": "stream",
     "text": [
      " 80%|█████████████████████████████████████████████████████████████████████████████████████████████████████████████████████████████████████████████████████████████▌                                       | 4/5 [00:03<00:00,  1.17it/s]"
     ]
    },
    {
     "name": "stdout",
     "output_type": "stream",
     "text": [
      "[LightGBM] [Warning] min_data_in_leaf is set=5, min_child_samples=73 will be ignored. Current value: min_data_in_leaf=5\n"
     ]
    },
    {
     "name": "stderr",
     "output_type": "stream",
     "text": [
      "100%|█████████████████████████████████████████████████████████████████████████████████████████████████████████████████████████████████████████████████████████████████████████████████████████████████████| 5/5 [00:04<00:00,  1.17it/s]\n",
      "\u001b[32m[I 2021-11-12 11:13:42,847]\u001b[0m Trial 13 finished with value: 0.13939688349194487 and parameters: {'num_leaves': 99, 'min_data_in_leaf': 5, 'max_depth': 30, 'max_bin': 222, 'lambda_l1': 9.75995671134597e-07, 'lambda_l2': 0.10641677414066973, 'min_child_samples': 73}. Best is trial 13 with value: 0.13939688349194487.\u001b[0m\n"
     ]
    },
    {
     "name": "stdout",
     "output_type": "stream",
     "text": [
      "Model: lgbm | Mean train rsmle: 0.08366579522531908 | Standard deviation: 0.0005608677878371826\n",
      "Model: lgbm | Mean val rsmle: 0.13939688349194487 | Standard deviation: 0.003527595464627159\n"
     ]
    },
    {
     "name": "stderr",
     "output_type": "stream",
     "text": [
      "  0%|                                                                                                                                                                                                             | 0/5 [00:00<?, ?it/s]"
     ]
    },
    {
     "name": "stdout",
     "output_type": "stream",
     "text": [
      "[LightGBM] [Warning] min_data_in_leaf is set=5, min_child_samples=95 will be ignored. Current value: min_data_in_leaf=5\n"
     ]
    },
    {
     "name": "stderr",
     "output_type": "stream",
     "text": [
      " 20%|███████████████████████████████████████▍                                                                                                                                                             | 1/5 [00:00<00:03,  1.23it/s]"
     ]
    },
    {
     "name": "stdout",
     "output_type": "stream",
     "text": [
      "[LightGBM] [Warning] min_data_in_leaf is set=5, min_child_samples=95 will be ignored. Current value: min_data_in_leaf=5\n"
     ]
    },
    {
     "name": "stderr",
     "output_type": "stream",
     "text": [
      " 40%|██████████████████████████████████████████████████████████████████████████████▊                                                                                                                      | 2/5 [00:01<00:02,  1.23it/s]"
     ]
    },
    {
     "name": "stdout",
     "output_type": "stream",
     "text": [
      "[LightGBM] [Warning] min_data_in_leaf is set=5, min_child_samples=95 will be ignored. Current value: min_data_in_leaf=5\n"
     ]
    },
    {
     "name": "stderr",
     "output_type": "stream",
     "text": [
      " 60%|██████████████████████████████████████████████████████████████████████████████████████████████████████████████████████▏                                                                              | 3/5 [00:02<00:01,  1.21it/s]"
     ]
    },
    {
     "name": "stdout",
     "output_type": "stream",
     "text": [
      "[LightGBM] [Warning] min_data_in_leaf is set=5, min_child_samples=95 will be ignored. Current value: min_data_in_leaf=5\n"
     ]
    },
    {
     "name": "stderr",
     "output_type": "stream",
     "text": [
      " 80%|█████████████████████████████████████████████████████████████████████████████████████████████████████████████████████████████████████████████████████████████▌                                       | 4/5 [00:03<00:00,  1.20it/s]"
     ]
    },
    {
     "name": "stdout",
     "output_type": "stream",
     "text": [
      "[LightGBM] [Warning] min_data_in_leaf is set=5, min_child_samples=95 will be ignored. Current value: min_data_in_leaf=5\n"
     ]
    },
    {
     "name": "stderr",
     "output_type": "stream",
     "text": [
      "100%|█████████████████████████████████████████████████████████████████████████████████████████████████████████████████████████████████████████████████████████████████████████████████████████████████████| 5/5 [00:04<00:00,  1.20it/s]\n",
      "\u001b[32m[I 2021-11-12 11:13:47,053]\u001b[0m Trial 14 finished with value: 0.14076892515252165 and parameters: {'num_leaves': 96, 'min_data_in_leaf': 5, 'max_depth': 27, 'max_bin': 216, 'lambda_l1': 5.02598432506201e-07, 'lambda_l2': 0.0956013480183531, 'min_child_samples': 95}. Best is trial 13 with value: 0.13939688349194487.\u001b[0m\n"
     ]
    },
    {
     "name": "stdout",
     "output_type": "stream",
     "text": [
      "Model: lgbm | Mean train rsmle: 0.08514678015776364 | Standard deviation: 0.0005479637027040489\n",
      "Model: lgbm | Mean val rsmle: 0.14076892515252165 | Standard deviation: 0.0028776416125524625\n"
     ]
    },
    {
     "name": "stderr",
     "output_type": "stream",
     "text": [
      "  0%|                                                                                                                                                                                                             | 0/5 [00:00<?, ?it/s]"
     ]
    },
    {
     "name": "stdout",
     "output_type": "stream",
     "text": [
      "[LightGBM] [Warning] min_data_in_leaf is set=7, min_child_samples=97 will be ignored. Current value: min_data_in_leaf=7\n"
     ]
    },
    {
     "name": "stderr",
     "output_type": "stream",
     "text": [
      " 20%|███████████████████████████████████████▍                                                                                                                                                             | 1/5 [00:00<00:02,  1.46it/s]"
     ]
    },
    {
     "name": "stdout",
     "output_type": "stream",
     "text": [
      "[LightGBM] [Warning] min_data_in_leaf is set=7, min_child_samples=97 will be ignored. Current value: min_data_in_leaf=7\n"
     ]
    },
    {
     "name": "stderr",
     "output_type": "stream",
     "text": [
      " 40%|██████████████████████████████████████████████████████████████████████████████▊                                                                                                                      | 2/5 [00:01<00:02,  1.47it/s]"
     ]
    },
    {
     "name": "stdout",
     "output_type": "stream",
     "text": [
      "[LightGBM] [Warning] min_data_in_leaf is set=7, min_child_samples=97 will be ignored. Current value: min_data_in_leaf=7\n"
     ]
    },
    {
     "name": "stderr",
     "output_type": "stream",
     "text": [
      " 60%|██████████████████████████████████████████████████████████████████████████████████████████████████████████████████████▏                                                                              | 3/5 [00:02<00:01,  1.44it/s]"
     ]
    },
    {
     "name": "stdout",
     "output_type": "stream",
     "text": [
      "[LightGBM] [Warning] min_data_in_leaf is set=7, min_child_samples=97 will be ignored. Current value: min_data_in_leaf=7\n"
     ]
    },
    {
     "name": "stderr",
     "output_type": "stream",
     "text": [
      " 80%|█████████████████████████████████████████████████████████████████████████████████████████████████████████████████████████████████████████████████████████████▌                                       | 4/5 [00:02<00:00,  1.43it/s]"
     ]
    },
    {
     "name": "stdout",
     "output_type": "stream",
     "text": [
      "[LightGBM] [Warning] min_data_in_leaf is set=7, min_child_samples=97 will be ignored. Current value: min_data_in_leaf=7\n"
     ]
    },
    {
     "name": "stderr",
     "output_type": "stream",
     "text": [
      "100%|█████████████████████████████████████████████████████████████████████████████████████████████████████████████████████████████████████████████████████████████████████████████████████████████████████| 5/5 [00:03<00:00,  1.43it/s]\n",
      "\u001b[32m[I 2021-11-12 11:13:50,592]\u001b[0m Trial 15 finished with value: 0.1417444399159034 and parameters: {'num_leaves': 98, 'min_data_in_leaf': 7, 'max_depth': 30, 'max_bin': 107, 'lambda_l1': 9.118801627830088e-07, 'lambda_l2': 1.4906489001810783e-08, 'min_child_samples': 97}. Best is trial 13 with value: 0.13939688349194487.\u001b[0m\n"
     ]
    },
    {
     "name": "stdout",
     "output_type": "stream",
     "text": [
      "Model: lgbm | Mean train rsmle: 0.08669972453370733 | Standard deviation: 0.0005389082265442105\n",
      "Model: lgbm | Mean val rsmle: 0.1417444399159034 | Standard deviation: 0.0027764147764167196\n"
     ]
    },
    {
     "name": "stderr",
     "output_type": "stream",
     "text": [
      "  0%|                                                                                                                                                                                                             | 0/5 [00:00<?, ?it/s]"
     ]
    },
    {
     "name": "stdout",
     "output_type": "stream",
     "text": [
      "[LightGBM] [Warning] min_data_in_leaf is set=25, min_child_samples=88 will be ignored. Current value: min_data_in_leaf=25\n"
     ]
    },
    {
     "name": "stderr",
     "output_type": "stream",
     "text": [
      " 20%|███████████████████████████████████████▍                                                                                                                                                             | 1/5 [00:00<00:03,  1.23it/s]"
     ]
    },
    {
     "name": "stdout",
     "output_type": "stream",
     "text": [
      "[LightGBM] [Warning] min_data_in_leaf is set=25, min_child_samples=88 will be ignored. Current value: min_data_in_leaf=25\n"
     ]
    },
    {
     "name": "stderr",
     "output_type": "stream",
     "text": [
      " 40%|██████████████████████████████████████████████████████████████████████████████▊                                                                                                                      | 2/5 [00:01<00:02,  1.22it/s]"
     ]
    },
    {
     "name": "stdout",
     "output_type": "stream",
     "text": [
      "[LightGBM] [Warning] min_data_in_leaf is set=25, min_child_samples=88 will be ignored. Current value: min_data_in_leaf=25\n"
     ]
    },
    {
     "name": "stderr",
     "output_type": "stream",
     "text": [
      " 60%|██████████████████████████████████████████████████████████████████████████████████████████████████████████████████████▏                                                                              | 3/5 [00:02<00:01,  1.21it/s]"
     ]
    },
    {
     "name": "stdout",
     "output_type": "stream",
     "text": [
      "[LightGBM] [Warning] min_data_in_leaf is set=25, min_child_samples=88 will be ignored. Current value: min_data_in_leaf=25\n"
     ]
    },
    {
     "name": "stderr",
     "output_type": "stream",
     "text": [
      " 80%|█████████████████████████████████████████████████████████████████████████████████████████████████████████████████████████████████████████████████████████████▌                                       | 4/5 [00:03<00:00,  1.20it/s]"
     ]
    },
    {
     "name": "stdout",
     "output_type": "stream",
     "text": [
      "[LightGBM] [Warning] min_data_in_leaf is set=25, min_child_samples=88 will be ignored. Current value: min_data_in_leaf=25\n"
     ]
    },
    {
     "name": "stderr",
     "output_type": "stream",
     "text": [
      "100%|█████████████████████████████████████████████████████████████████████████████████████████████████████████████████████████████████████████████████████████████████████████████████████████████████████| 5/5 [00:04<00:00,  1.20it/s]\n",
      "\u001b[32m[I 2021-11-12 11:13:54,801]\u001b[0m Trial 16 finished with value: 0.14265411534681322 and parameters: {'num_leaves': 100, 'min_data_in_leaf': 25, 'max_depth': 27, 'max_bin': 209, 'lambda_l1': 1.6093500041943484e-06, 'lambda_l2': 0.03285037657642227, 'min_child_samples': 88}. Best is trial 13 with value: 0.13939688349194487.\u001b[0m\n"
     ]
    },
    {
     "name": "stdout",
     "output_type": "stream",
     "text": [
      "Model: lgbm | Mean train rsmle: 0.09202945711381409 | Standard deviation: 0.0006548943430391164\n",
      "Model: lgbm | Mean val rsmle: 0.14265411534681322 | Standard deviation: 0.0021628165889812003\n"
     ]
    },
    {
     "name": "stderr",
     "output_type": "stream",
     "text": [
      "  0%|                                                                                                                                                                                                             | 0/5 [00:00<?, ?it/s]"
     ]
    },
    {
     "name": "stdout",
     "output_type": "stream",
     "text": [
      "[LightGBM] [Warning] min_data_in_leaf is set=57, min_child_samples=62 will be ignored. Current value: min_data_in_leaf=57\n"
     ]
    },
    {
     "name": "stderr",
     "output_type": "stream",
     "text": [
      " 20%|███████████████████████████████████████▍                                                                                                                                                             | 1/5 [00:00<00:03,  1.17it/s]"
     ]
    },
    {
     "name": "stdout",
     "output_type": "stream",
     "text": [
      "[LightGBM] [Warning] min_data_in_leaf is set=57, min_child_samples=62 will be ignored. Current value: min_data_in_leaf=57\n"
     ]
    },
    {
     "name": "stderr",
     "output_type": "stream",
     "text": [
      " 40%|██████████████████████████████████████████████████████████████████████████████▊                                                                                                                      | 2/5 [00:01<00:02,  1.17it/s]"
     ]
    },
    {
     "name": "stdout",
     "output_type": "stream",
     "text": [
      "[LightGBM] [Warning] min_data_in_leaf is set=57, min_child_samples=62 will be ignored. Current value: min_data_in_leaf=57\n"
     ]
    },
    {
     "name": "stderr",
     "output_type": "stream",
     "text": [
      " 60%|██████████████████████████████████████████████████████████████████████████████████████████████████████████████████████▏                                                                              | 3/5 [00:02<00:01,  1.14it/s]"
     ]
    },
    {
     "name": "stdout",
     "output_type": "stream",
     "text": [
      "[LightGBM] [Warning] min_data_in_leaf is set=57, min_child_samples=62 will be ignored. Current value: min_data_in_leaf=57\n"
     ]
    },
    {
     "name": "stderr",
     "output_type": "stream",
     "text": [
      " 80%|█████████████████████████████████████████████████████████████████████████████████████████████████████████████████████████████████████████████████████████████▌                                       | 4/5 [00:03<00:00,  1.13it/s]"
     ]
    },
    {
     "name": "stdout",
     "output_type": "stream",
     "text": [
      "[LightGBM] [Warning] min_data_in_leaf is set=57, min_child_samples=62 will be ignored. Current value: min_data_in_leaf=57\n"
     ]
    },
    {
     "name": "stderr",
     "output_type": "stream",
     "text": [
      "100%|█████████████████████████████████████████████████████████████████████████████████████████████████████████████████████████████████████████████████████████████████████████████████████████████████████| 5/5 [00:04<00:00,  1.14it/s]\n",
      "\u001b[32m[I 2021-11-12 11:13:59,241]\u001b[0m Trial 17 finished with value: 0.14504060747824066 and parameters: {'num_leaves': 105, 'min_data_in_leaf': 57, 'max_depth': 19, 'max_bin': 268, 'lambda_l1': 2.7825204008650936e-07, 'lambda_l2': 1.1762098992511755e-05, 'min_child_samples': 62}. Best is trial 13 with value: 0.13939688349194487.\u001b[0m\n"
     ]
    },
    {
     "name": "stdout",
     "output_type": "stream",
     "text": [
      "Model: lgbm | Mean train rsmle: 0.10386060240242352 | Standard deviation: 0.0006213067749147235\n",
      "Model: lgbm | Mean val rsmle: 0.14504060747824066 | Standard deviation: 0.003361424626421938\n"
     ]
    },
    {
     "name": "stderr",
     "output_type": "stream",
     "text": [
      "  0%|                                                                                                                                                                                                             | 0/5 [00:00<?, ?it/s]"
     ]
    },
    {
     "name": "stdout",
     "output_type": "stream",
     "text": [
      "[LightGBM] [Warning] min_data_in_leaf is set=25, min_child_samples=88 will be ignored. Current value: min_data_in_leaf=25\n"
     ]
    },
    {
     "name": "stderr",
     "output_type": "stream",
     "text": [
      " 20%|███████████████████████████████████████▍                                                                                                                                                             | 1/5 [00:00<00:02,  1.48it/s]"
     ]
    },
    {
     "name": "stdout",
     "output_type": "stream",
     "text": [
      "[LightGBM] [Warning] min_data_in_leaf is set=25, min_child_samples=88 will be ignored. Current value: min_data_in_leaf=25\n"
     ]
    },
    {
     "name": "stderr",
     "output_type": "stream",
     "text": [
      " 40%|██████████████████████████████████████████████████████████████████████████████▊                                                                                                                      | 2/5 [00:01<00:02,  1.42it/s]"
     ]
    },
    {
     "name": "stdout",
     "output_type": "stream",
     "text": [
      "[LightGBM] [Warning] min_data_in_leaf is set=25, min_child_samples=88 will be ignored. Current value: min_data_in_leaf=25\n"
     ]
    },
    {
     "name": "stderr",
     "output_type": "stream",
     "text": [
      " 60%|██████████████████████████████████████████████████████████████████████████████████████████████████████████████████████▏                                                                              | 3/5 [00:02<00:01,  1.43it/s]"
     ]
    },
    {
     "name": "stdout",
     "output_type": "stream",
     "text": [
      "[LightGBM] [Warning] min_data_in_leaf is set=25, min_child_samples=88 will be ignored. Current value: min_data_in_leaf=25\n"
     ]
    },
    {
     "name": "stderr",
     "output_type": "stream",
     "text": [
      " 80%|█████████████████████████████████████████████████████████████████████████████████████████████████████████████████████████████████████████████████████████████▌                                       | 4/5 [00:02<00:00,  1.42it/s]"
     ]
    },
    {
     "name": "stdout",
     "output_type": "stream",
     "text": [
      "[LightGBM] [Warning] min_data_in_leaf is set=25, min_child_samples=88 will be ignored. Current value: min_data_in_leaf=25\n"
     ]
    },
    {
     "name": "stderr",
     "output_type": "stream",
     "text": [
      "100%|█████████████████████████████████████████████████████████████████████████████████████████████████████████████████████████████████████████████████████████████████████████████████████████████████████| 5/5 [00:03<00:00,  1.43it/s]\n",
      "\u001b[32m[I 2021-11-12 11:14:02,786]\u001b[0m Trial 18 finished with value: 0.14420500095439912 and parameters: {'num_leaves': 82, 'min_data_in_leaf': 25, 'max_depth': 27, 'max_bin': 151, 'lambda_l1': 0.00010698039185403777, 'lambda_l2': 0.0035369391265800522, 'min_child_samples': 88}. Best is trial 13 with value: 0.13939688349194487.\u001b[0m\n"
     ]
    },
    {
     "name": "stdout",
     "output_type": "stream",
     "text": [
      "Model: lgbm | Mean train rsmle: 0.09968839376480687 | Standard deviation: 0.0006096293614304689\n",
      "Model: lgbm | Mean val rsmle: 0.14420500095439912 | Standard deviation: 0.003689160313225858\n"
     ]
    },
    {
     "name": "stderr",
     "output_type": "stream",
     "text": [
      "  0%|                                                                                                                                                                                                             | 0/5 [00:00<?, ?it/s]"
     ]
    },
    {
     "name": "stdout",
     "output_type": "stream",
     "text": [
      "[LightGBM] [Warning] min_data_in_leaf is set=6, min_child_samples=66 will be ignored. Current value: min_data_in_leaf=6\n"
     ]
    },
    {
     "name": "stderr",
     "output_type": "stream",
     "text": [
      " 20%|███████████████████████████████████████▍                                                                                                                                                             | 1/5 [00:00<00:03,  1.14it/s]"
     ]
    },
    {
     "name": "stdout",
     "output_type": "stream",
     "text": [
      "[LightGBM] [Warning] min_data_in_leaf is set=6, min_child_samples=66 will be ignored. Current value: min_data_in_leaf=6\n"
     ]
    },
    {
     "name": "stderr",
     "output_type": "stream",
     "text": [
      " 40%|██████████████████████████████████████████████████████████████████████████████▊                                                                                                                      | 2/5 [00:01<00:02,  1.14it/s]"
     ]
    },
    {
     "name": "stdout",
     "output_type": "stream",
     "text": [
      "[LightGBM] [Warning] min_data_in_leaf is set=6, min_child_samples=66 will be ignored. Current value: min_data_in_leaf=6\n"
     ]
    },
    {
     "name": "stderr",
     "output_type": "stream",
     "text": [
      " 60%|██████████████████████████████████████████████████████████████████████████████████████████████████████████████████████▏                                                                              | 3/5 [00:02<00:01,  1.11it/s]"
     ]
    },
    {
     "name": "stdout",
     "output_type": "stream",
     "text": [
      "[LightGBM] [Warning] min_data_in_leaf is set=6, min_child_samples=66 will be ignored. Current value: min_data_in_leaf=6\n"
     ]
    },
    {
     "name": "stderr",
     "output_type": "stream",
     "text": [
      " 80%|█████████████████████████████████████████████████████████████████████████████████████████████████████████████████████████████████████████████████████████████▌                                       | 4/5 [00:03<00:00,  1.10it/s]"
     ]
    },
    {
     "name": "stdout",
     "output_type": "stream",
     "text": [
      "[LightGBM] [Warning] min_data_in_leaf is set=6, min_child_samples=66 will be ignored. Current value: min_data_in_leaf=6\n"
     ]
    },
    {
     "name": "stderr",
     "output_type": "stream",
     "text": [
      "100%|█████████████████████████████████████████████████████████████████████████████████████████████████████████████████████████████████████████████████████████████████████████████████████████████████████| 5/5 [00:04<00:00,  1.11it/s]\n",
      "\u001b[32m[I 2021-11-12 11:14:07,349]\u001b[0m Trial 19 finished with value: 0.14038118084601922 and parameters: {'num_leaves': 110, 'min_data_in_leaf': 6, 'max_depth': 21, 'max_bin': 210, 'lambda_l1': 3.9134352778419003e-07, 'lambda_l2': 0.09592603769773371, 'min_child_samples': 66}. Best is trial 13 with value: 0.13939688349194487.\u001b[0m\n"
     ]
    },
    {
     "name": "stdout",
     "output_type": "stream",
     "text": [
      "Model: lgbm | Mean train rsmle: 0.08052808995208853 | Standard deviation: 0.0004342255007173093\n",
      "Model: lgbm | Mean val rsmle: 0.14038118084601922 | Standard deviation: 0.0032302459258727726\n"
     ]
    },
    {
     "name": "stderr",
     "output_type": "stream",
     "text": [
      "  0%|                                                                                                                                                                                                             | 0/5 [00:00<?, ?it/s]"
     ]
    },
    {
     "name": "stdout",
     "output_type": "stream",
     "text": [
      "[LightGBM] [Warning] min_data_in_leaf is set=48, min_child_samples=65 will be ignored. Current value: min_data_in_leaf=48\n"
     ]
    },
    {
     "name": "stderr",
     "output_type": "stream",
     "text": [
      " 20%|███████████████████████████████████████▍                                                                                                                                                             | 1/5 [00:00<00:03,  1.18it/s]"
     ]
    },
    {
     "name": "stdout",
     "output_type": "stream",
     "text": [
      "[LightGBM] [Warning] min_data_in_leaf is set=48, min_child_samples=65 will be ignored. Current value: min_data_in_leaf=48\n"
     ]
    },
    {
     "name": "stderr",
     "output_type": "stream",
     "text": [
      " 40%|██████████████████████████████████████████████████████████████████████████████▊                                                                                                                      | 2/5 [00:01<00:02,  1.23it/s]"
     ]
    },
    {
     "name": "stdout",
     "output_type": "stream",
     "text": [
      "[LightGBM] [Warning] min_data_in_leaf is set=48, min_child_samples=65 will be ignored. Current value: min_data_in_leaf=48\n"
     ]
    },
    {
     "name": "stderr",
     "output_type": "stream",
     "text": [
      " 60%|██████████████████████████████████████████████████████████████████████████████████████████████████████████████████████▏                                                                              | 3/5 [00:02<00:01,  1.23it/s]"
     ]
    },
    {
     "name": "stdout",
     "output_type": "stream",
     "text": [
      "[LightGBM] [Warning] min_data_in_leaf is set=48, min_child_samples=65 will be ignored. Current value: min_data_in_leaf=48\n"
     ]
    },
    {
     "name": "stderr",
     "output_type": "stream",
     "text": [
      " 80%|█████████████████████████████████████████████████████████████████████████████████████████████████████████████████████████████████████████████████████████████▌                                       | 4/5 [00:03<00:00,  1.23it/s]"
     ]
    },
    {
     "name": "stdout",
     "output_type": "stream",
     "text": [
      "[LightGBM] [Warning] min_data_in_leaf is set=48, min_child_samples=65 will be ignored. Current value: min_data_in_leaf=48\n"
     ]
    },
    {
     "name": "stderr",
     "output_type": "stream",
     "text": [
      "100%|█████████████████████████████████████████████████████████████████████████████████████████████████████████████████████████████████████████████████████████████████████████████████████████████████████| 5/5 [00:04<00:00,  1.22it/s]\n",
      "\u001b[32m[I 2021-11-12 11:14:11,494]\u001b[0m Trial 20 finished with value: 0.145383427280466 and parameters: {'num_leaves': 111, 'min_data_in_leaf': 48, 'max_depth': 15, 'max_bin': 179, 'lambda_l1': 1.1941407933548816e-07, 'lambda_l2': 0.782106565161592, 'min_child_samples': 65}. Best is trial 13 with value: 0.13939688349194487.\u001b[0m\n"
     ]
    },
    {
     "name": "stdout",
     "output_type": "stream",
     "text": [
      "Model: lgbm | Mean train rsmle: 0.10206236297643581 | Standard deviation: 0.000836976356955499\n",
      "Model: lgbm | Mean val rsmle: 0.145383427280466 | Standard deviation: 0.003713454092482908\n"
     ]
    },
    {
     "name": "stderr",
     "output_type": "stream",
     "text": [
      "  0%|                                                                                                                                                                                                             | 0/5 [00:00<?, ?it/s]"
     ]
    },
    {
     "name": "stdout",
     "output_type": "stream",
     "text": [
      "[LightGBM] [Warning] min_data_in_leaf is set=6, min_child_samples=87 will be ignored. Current value: min_data_in_leaf=6\n"
     ]
    },
    {
     "name": "stderr",
     "output_type": "stream",
     "text": [
      " 20%|███████████████████████████████████████▍                                                                                                                                                             | 1/5 [00:00<00:02,  1.36it/s]"
     ]
    },
    {
     "name": "stdout",
     "output_type": "stream",
     "text": [
      "[LightGBM] [Warning] min_data_in_leaf is set=6, min_child_samples=87 will be ignored. Current value: min_data_in_leaf=6\n"
     ]
    },
    {
     "name": "stderr",
     "output_type": "stream",
     "text": [
      " 40%|██████████████████████████████████████████████████████████████████████████████▊                                                                                                                      | 2/5 [00:01<00:02,  1.37it/s]"
     ]
    },
    {
     "name": "stdout",
     "output_type": "stream",
     "text": [
      "[LightGBM] [Warning] min_data_in_leaf is set=6, min_child_samples=87 will be ignored. Current value: min_data_in_leaf=6\n"
     ]
    },
    {
     "name": "stderr",
     "output_type": "stream",
     "text": [
      " 60%|██████████████████████████████████████████████████████████████████████████████████████████████████████████████████████▏                                                                              | 3/5 [00:02<00:01,  1.34it/s]"
     ]
    },
    {
     "name": "stdout",
     "output_type": "stream",
     "text": [
      "[LightGBM] [Warning] min_data_in_leaf is set=6, min_child_samples=87 will be ignored. Current value: min_data_in_leaf=6\n"
     ]
    },
    {
     "name": "stderr",
     "output_type": "stream",
     "text": [
      " 80%|█████████████████████████████████████████████████████████████████████████████████████████████████████████████████████████████████████████████████████████████▌                                       | 4/5 [00:02<00:00,  1.32it/s]"
     ]
    },
    {
     "name": "stdout",
     "output_type": "stream",
     "text": [
      "[LightGBM] [Warning] min_data_in_leaf is set=6, min_child_samples=87 will be ignored. Current value: min_data_in_leaf=6\n"
     ]
    },
    {
     "name": "stderr",
     "output_type": "stream",
     "text": [
      "100%|█████████████████████████████████████████████████████████████████████████████████████████████████████████████████████████████████████████████████████████████████████████████████████████████████████| 5/5 [00:03<00:00,  1.33it/s]\n",
      "\u001b[32m[I 2021-11-12 11:14:15,295]\u001b[0m Trial 21 finished with value: 0.14068621574251022 and parameters: {'num_leaves': 83, 'min_data_in_leaf': 6, 'max_depth': 21, 'max_bin': 195, 'lambda_l1': 1.91750784488319e-05, 'lambda_l2': 0.07748336102533376, 'min_child_samples': 87}. Best is trial 13 with value: 0.13939688349194487.\u001b[0m\n"
     ]
    },
    {
     "name": "stdout",
     "output_type": "stream",
     "text": [
      "Model: lgbm | Mean train rsmle: 0.09116290722181378 | Standard deviation: 0.00032564336938011636\n",
      "Model: lgbm | Mean val rsmle: 0.14068621574251022 | Standard deviation: 0.0028563740891052675\n"
     ]
    },
    {
     "name": "stderr",
     "output_type": "stream",
     "text": [
      "  0%|                                                                                                                                                                                                             | 0/5 [00:00<?, ?it/s]"
     ]
    },
    {
     "name": "stdout",
     "output_type": "stream",
     "text": [
      "[LightGBM] [Warning] min_data_in_leaf is set=5, min_child_samples=84 will be ignored. Current value: min_data_in_leaf=5\n"
     ]
    },
    {
     "name": "stderr",
     "output_type": "stream",
     "text": [
      " 20%|███████████████████████████████████████▍                                                                                                                                                             | 1/5 [00:00<00:02,  1.35it/s]"
     ]
    },
    {
     "name": "stdout",
     "output_type": "stream",
     "text": [
      "[LightGBM] [Warning] min_data_in_leaf is set=5, min_child_samples=84 will be ignored. Current value: min_data_in_leaf=5\n"
     ]
    },
    {
     "name": "stderr",
     "output_type": "stream",
     "text": [
      " 40%|██████████████████████████████████████████████████████████████████████████████▊                                                                                                                      | 2/5 [00:01<00:02,  1.37it/s]"
     ]
    },
    {
     "name": "stdout",
     "output_type": "stream",
     "text": [
      "[LightGBM] [Warning] min_data_in_leaf is set=5, min_child_samples=84 will be ignored. Current value: min_data_in_leaf=5\n"
     ]
    },
    {
     "name": "stderr",
     "output_type": "stream",
     "text": [
      " 60%|██████████████████████████████████████████████████████████████████████████████████████████████████████████████████████▏                                                                              | 3/5 [00:02<00:01,  1.33it/s]"
     ]
    },
    {
     "name": "stdout",
     "output_type": "stream",
     "text": [
      "[LightGBM] [Warning] min_data_in_leaf is set=5, min_child_samples=84 will be ignored. Current value: min_data_in_leaf=5\n"
     ]
    },
    {
     "name": "stderr",
     "output_type": "stream",
     "text": [
      " 80%|█████████████████████████████████████████████████████████████████████████████████████████████████████████████████████████████████████████████████████████████▌                                       | 4/5 [00:03<00:00,  1.31it/s]"
     ]
    },
    {
     "name": "stdout",
     "output_type": "stream",
     "text": [
      "[LightGBM] [Warning] min_data_in_leaf is set=5, min_child_samples=84 will be ignored. Current value: min_data_in_leaf=5\n"
     ]
    },
    {
     "name": "stderr",
     "output_type": "stream",
     "text": [
      "100%|█████████████████████████████████████████████████████████████████████████████████████████████████████████████████████████████████████████████████████████████████████████████████████████████████████| 5/5 [00:03<00:00,  1.30it/s]\n",
      "\u001b[32m[I 2021-11-12 11:14:19,184]\u001b[0m Trial 22 finished with value: 0.1414159839494732 and parameters: {'num_leaves': 84, 'min_data_in_leaf': 5, 'max_depth': 20, 'max_bin': 200, 'lambda_l1': 1.4295527967967573e-05, 'lambda_l2': 0.030265562014197424, 'min_child_samples': 84}. Best is trial 13 with value: 0.13939688349194487.\u001b[0m\n"
     ]
    },
    {
     "name": "stdout",
     "output_type": "stream",
     "text": [
      "Model: lgbm | Mean train rsmle: 0.09012556448159403 | Standard deviation: 0.0004396020445081841\n",
      "Model: lgbm | Mean val rsmle: 0.1414159839494732 | Standard deviation: 0.002866911188274753\n"
     ]
    },
    {
     "name": "stderr",
     "output_type": "stream",
     "text": [
      "  0%|                                                                                                                                                                                                             | 0/5 [00:00<?, ?it/s]"
     ]
    },
    {
     "name": "stdout",
     "output_type": "stream",
     "text": [
      "[LightGBM] [Warning] min_data_in_leaf is set=26, min_child_samples=69 will be ignored. Current value: min_data_in_leaf=26\n"
     ]
    },
    {
     "name": "stderr",
     "output_type": "stream",
     "text": [
      " 20%|███████████████████████████████████████▍                                                                                                                                                             | 1/5 [00:00<00:02,  1.67it/s]"
     ]
    },
    {
     "name": "stdout",
     "output_type": "stream",
     "text": [
      "[LightGBM] [Warning] min_data_in_leaf is set=26, min_child_samples=69 will be ignored. Current value: min_data_in_leaf=26\n"
     ]
    },
    {
     "name": "stderr",
     "output_type": "stream",
     "text": [
      " 40%|██████████████████████████████████████████████████████████████████████████████▊                                                                                                                      | 2/5 [00:01<00:01,  1.79it/s]"
     ]
    },
    {
     "name": "stdout",
     "output_type": "stream",
     "text": [
      "[LightGBM] [Warning] min_data_in_leaf is set=26, min_child_samples=69 will be ignored. Current value: min_data_in_leaf=26\n"
     ]
    },
    {
     "name": "stderr",
     "output_type": "stream",
     "text": [
      " 60%|██████████████████████████████████████████████████████████████████████████████████████████████████████████████████████▏                                                                              | 3/5 [00:01<00:01,  1.80it/s]"
     ]
    },
    {
     "name": "stdout",
     "output_type": "stream",
     "text": [
      "[LightGBM] [Warning] min_data_in_leaf is set=26, min_child_samples=69 will be ignored. Current value: min_data_in_leaf=26\n"
     ]
    },
    {
     "name": "stderr",
     "output_type": "stream",
     "text": [
      " 80%|█████████████████████████████████████████████████████████████████████████████████████████████████████████████████████████████████████████████████████████████▌                                       | 4/5 [00:02<00:00,  1.79it/s]"
     ]
    },
    {
     "name": "stdout",
     "output_type": "stream",
     "text": [
      "[LightGBM] [Warning] min_data_in_leaf is set=26, min_child_samples=69 will be ignored. Current value: min_data_in_leaf=26\n"
     ]
    },
    {
     "name": "stderr",
     "output_type": "stream",
     "text": [
      "100%|█████████████████████████████████████████████████████████████████████████████████████████████████████████████████████████████████████████████████████████████████████████████████████████████████████| 5/5 [00:02<00:00,  1.79it/s]\n",
      "\u001b[32m[I 2021-11-12 11:14:22,017]\u001b[0m Trial 23 finished with value: 0.14952421928582163 and parameters: {'num_leaves': 50, 'min_data_in_leaf': 26, 'max_depth': 21, 'max_bin': 173, 'lambda_l1': 2.1752727858413133e-05, 'lambda_l2': 0.00246409095051842, 'min_child_samples': 69}. Best is trial 13 with value: 0.13939688349194487.\u001b[0m\n"
     ]
    },
    {
     "name": "stdout",
     "output_type": "stream",
     "text": [
      "Model: lgbm | Mean train rsmle: 0.11635524951934392 | Standard deviation: 0.00068791530541084\n",
      "Model: lgbm | Mean val rsmle: 0.14952421928582163 | Standard deviation: 0.0032665287465028217\n"
     ]
    },
    {
     "name": "stderr",
     "output_type": "stream",
     "text": [
      "  0%|                                                                                                                                                                                                             | 0/5 [00:00<?, ?it/s]"
     ]
    },
    {
     "name": "stdout",
     "output_type": "stream",
     "text": [
      "[LightGBM] [Warning] min_data_in_leaf is set=13, min_child_samples=56 will be ignored. Current value: min_data_in_leaf=13\n"
     ]
    },
    {
     "name": "stderr",
     "output_type": "stream",
     "text": [
      " 20%|███████████████████████████████████████▍                                                                                                                                                             | 1/5 [00:00<00:03,  1.15it/s]"
     ]
    },
    {
     "name": "stdout",
     "output_type": "stream",
     "text": [
      "[LightGBM] [Warning] min_data_in_leaf is set=13, min_child_samples=56 will be ignored. Current value: min_data_in_leaf=13\n"
     ]
    },
    {
     "name": "stderr",
     "output_type": "stream",
     "text": [
      " 40%|██████████████████████████████████████████████████████████████████████████████▊                                                                                                                      | 2/5 [00:01<00:02,  1.19it/s]"
     ]
    },
    {
     "name": "stdout",
     "output_type": "stream",
     "text": [
      "[LightGBM] [Warning] min_data_in_leaf is set=13, min_child_samples=56 will be ignored. Current value: min_data_in_leaf=13\n"
     ]
    },
    {
     "name": "stderr",
     "output_type": "stream",
     "text": [
      " 60%|██████████████████████████████████████████████████████████████████████████████████████████████████████████████████████▏                                                                              | 3/5 [00:02<00:01,  1.16it/s]"
     ]
    },
    {
     "name": "stdout",
     "output_type": "stream",
     "text": [
      "[LightGBM] [Warning] min_data_in_leaf is set=13, min_child_samples=56 will be ignored. Current value: min_data_in_leaf=13\n"
     ]
    },
    {
     "name": "stderr",
     "output_type": "stream",
     "text": [
      " 80%|█████████████████████████████████████████████████████████████████████████████████████████████████████████████████████████████████████████████████████████████▌                                       | 4/5 [00:03<00:00,  1.13it/s]"
     ]
    },
    {
     "name": "stdout",
     "output_type": "stream",
     "text": [
      "[LightGBM] [Warning] min_data_in_leaf is set=13, min_child_samples=56 will be ignored. Current value: min_data_in_leaf=13\n"
     ]
    },
    {
     "name": "stderr",
     "output_type": "stream",
     "text": [
      "100%|█████████████████████████████████████████████████████████████████████████████████████████████████████████████████████████████████████████████████████████████████████████████████████████████████████| 5/5 [00:04<00:00,  1.14it/s]\n",
      "\u001b[32m[I 2021-11-12 11:14:26,429]\u001b[0m Trial 24 finished with value: 0.14144917716622346 and parameters: {'num_leaves': 109, 'min_data_in_leaf': 13, 'max_depth': 12, 'max_bin': 210, 'lambda_l1': 2.5866440331086497e-06, 'lambda_l2': 1.188345468222608, 'min_child_samples': 56}. Best is trial 13 with value: 0.13939688349194487.\u001b[0m\n"
     ]
    },
    {
     "name": "stdout",
     "output_type": "stream",
     "text": [
      "Model: lgbm | Mean train rsmle: 0.08765951476177788 | Standard deviation: 0.0007458385952665023\n",
      "Model: lgbm | Mean val rsmle: 0.14144917716622346 | Standard deviation: 0.002769542754064357\n"
     ]
    },
    {
     "name": "stderr",
     "output_type": "stream",
     "text": [
      "  0%|                                                                                                                                                                                                             | 0/5 [00:00<?, ?it/s]"
     ]
    },
    {
     "name": "stdout",
     "output_type": "stream",
     "text": [
      "[LightGBM] [Warning] min_data_in_leaf is set=20, min_child_samples=53 will be ignored. Current value: min_data_in_leaf=20\n"
     ]
    },
    {
     "name": "stderr",
     "output_type": "stream",
     "text": [
      " 20%|███████████████████████████████████████▍                                                                                                                                                             | 1/5 [00:00<00:03,  1.13it/s]"
     ]
    },
    {
     "name": "stdout",
     "output_type": "stream",
     "text": [
      "[LightGBM] [Warning] min_data_in_leaf is set=20, min_child_samples=53 will be ignored. Current value: min_data_in_leaf=20\n"
     ]
    },
    {
     "name": "stderr",
     "output_type": "stream",
     "text": [
      " 40%|██████████████████████████████████████████████████████████████████████████████▊                                                                                                                      | 2/5 [00:01<00:02,  1.13it/s]"
     ]
    },
    {
     "name": "stdout",
     "output_type": "stream",
     "text": [
      "[LightGBM] [Warning] min_data_in_leaf is set=20, min_child_samples=53 will be ignored. Current value: min_data_in_leaf=20\n"
     ]
    },
    {
     "name": "stderr",
     "output_type": "stream",
     "text": [
      " 60%|██████████████████████████████████████████████████████████████████████████████████████████████████████████████████████▏                                                                              | 3/5 [00:02<00:01,  1.11it/s]"
     ]
    },
    {
     "name": "stdout",
     "output_type": "stream",
     "text": [
      "[LightGBM] [Warning] min_data_in_leaf is set=20, min_child_samples=53 will be ignored. Current value: min_data_in_leaf=20\n"
     ]
    },
    {
     "name": "stderr",
     "output_type": "stream",
     "text": [
      " 80%|█████████████████████████████████████████████████████████████████████████████████████████████████████████████████████████████████████████████████████████████▌                                       | 4/5 [00:03<00:00,  1.09it/s]"
     ]
    },
    {
     "name": "stdout",
     "output_type": "stream",
     "text": [
      "[LightGBM] [Warning] min_data_in_leaf is set=20, min_child_samples=53 will be ignored. Current value: min_data_in_leaf=20\n"
     ]
    },
    {
     "name": "stderr",
     "output_type": "stream",
     "text": [
      "100%|█████████████████████████████████████████████████████████████████████████████████████████████████████████████████████████████████████████████████████████████████████████████████████████████████████| 5/5 [00:04<00:00,  1.10it/s]\n",
      "\u001b[32m[I 2021-11-12 11:14:31,033]\u001b[0m Trial 25 finished with value: 0.13960477156047824 and parameters: {'num_leaves': 128, 'min_data_in_leaf': 20, 'max_depth': 18, 'max_bin': 155, 'lambda_l1': 1.4568977465597493e-07, 'lambda_l2': 0.12916994155209482, 'min_child_samples': 53}. Best is trial 13 with value: 0.13939688349194487.\u001b[0m\n"
     ]
    },
    {
     "name": "stdout",
     "output_type": "stream",
     "text": [
      "Model: lgbm | Mean train rsmle: 0.0824870750905398 | Standard deviation: 0.0006607338452614765\n",
      "Model: lgbm | Mean val rsmle: 0.13960477156047824 | Standard deviation: 0.0030498462172748393\n"
     ]
    },
    {
     "name": "stderr",
     "output_type": "stream",
     "text": [
      "  0%|                                                                                                                                                                                                             | 0/5 [00:00<?, ?it/s]"
     ]
    },
    {
     "name": "stdout",
     "output_type": "stream",
     "text": [
      "[LightGBM] [Warning] min_data_in_leaf is set=20, min_child_samples=46 will be ignored. Current value: min_data_in_leaf=20\n"
     ]
    },
    {
     "name": "stderr",
     "output_type": "stream",
     "text": [
      " 20%|███████████████████████████████████████▍                                                                                                                                                             | 1/5 [00:00<00:03,  1.03it/s]"
     ]
    },
    {
     "name": "stdout",
     "output_type": "stream",
     "text": [
      "[LightGBM] [Warning] min_data_in_leaf is set=20, min_child_samples=46 will be ignored. Current value: min_data_in_leaf=20\n"
     ]
    },
    {
     "name": "stderr",
     "output_type": "stream",
     "text": [
      " 40%|██████████████████████████████████████████████████████████████████████████████▊                                                                                                                      | 2/5 [00:01<00:02,  1.09it/s]"
     ]
    },
    {
     "name": "stdout",
     "output_type": "stream",
     "text": [
      "[LightGBM] [Warning] min_data_in_leaf is set=20, min_child_samples=46 will be ignored. Current value: min_data_in_leaf=20\n"
     ]
    },
    {
     "name": "stderr",
     "output_type": "stream",
     "text": [
      " 60%|██████████████████████████████████████████████████████████████████████████████████████████████████████████████████████▏                                                                              | 3/5 [00:02<00:01,  1.09it/s]"
     ]
    },
    {
     "name": "stdout",
     "output_type": "stream",
     "text": [
      "[LightGBM] [Warning] min_data_in_leaf is set=20, min_child_samples=46 will be ignored. Current value: min_data_in_leaf=20\n"
     ]
    },
    {
     "name": "stderr",
     "output_type": "stream",
     "text": [
      " 80%|█████████████████████████████████████████████████████████████████████████████████████████████████████████████████████████████████████████████████████████████▌                                       | 4/5 [00:03<00:00,  1.08it/s]"
     ]
    },
    {
     "name": "stdout",
     "output_type": "stream",
     "text": [
      "[LightGBM] [Warning] min_data_in_leaf is set=20, min_child_samples=46 will be ignored. Current value: min_data_in_leaf=20\n"
     ]
    },
    {
     "name": "stderr",
     "output_type": "stream",
     "text": [
      "100%|█████████████████████████████████████████████████████████████████████████████████████████████████████████████████████████████████████████████████████████████████████████████████████████████████████| 5/5 [00:04<00:00,  1.08it/s]\n",
      "\u001b[32m[I 2021-11-12 11:14:35,690]\u001b[0m Trial 26 finished with value: 0.1405450799354051 and parameters: {'num_leaves': 127, 'min_data_in_leaf': 20, 'max_depth': 18, 'max_bin': 152, 'lambda_l1': 1.555309589983611e-07, 'lambda_l2': 0.007987311765837717, 'min_child_samples': 46}. Best is trial 13 with value: 0.13939688349194487.\u001b[0m\n"
     ]
    },
    {
     "name": "stdout",
     "output_type": "stream",
     "text": [
      "Model: lgbm | Mean train rsmle: 0.08258748889986599 | Standard deviation: 0.00061518425272651\n",
      "Model: lgbm | Mean val rsmle: 0.1405450799354051 | Standard deviation: 0.003943060024889402\n"
     ]
    },
    {
     "name": "stderr",
     "output_type": "stream",
     "text": [
      "  0%|                                                                                                                                                                                                             | 0/5 [00:00<?, ?it/s]"
     ]
    },
    {
     "name": "stdout",
     "output_type": "stream",
     "text": [
      "[LightGBM] [Warning] min_data_in_leaf is set=34, min_child_samples=52 will be ignored. Current value: min_data_in_leaf=34\n"
     ]
    },
    {
     "name": "stderr",
     "output_type": "stream",
     "text": [
      " 20%|███████████████████████████████████████▍                                                                                                                                                             | 1/5 [00:00<00:03,  1.28it/s]"
     ]
    },
    {
     "name": "stdout",
     "output_type": "stream",
     "text": [
      "[LightGBM] [Warning] min_data_in_leaf is set=34, min_child_samples=52 will be ignored. Current value: min_data_in_leaf=34\n"
     ]
    },
    {
     "name": "stderr",
     "output_type": "stream",
     "text": [
      " 40%|██████████████████████████████████████████████████████████████████████████████▊                                                                                                                      | 2/5 [00:01<00:02,  1.32it/s]"
     ]
    },
    {
     "name": "stdout",
     "output_type": "stream",
     "text": [
      "[LightGBM] [Warning] min_data_in_leaf is set=34, min_child_samples=52 will be ignored. Current value: min_data_in_leaf=34\n"
     ]
    },
    {
     "name": "stderr",
     "output_type": "stream",
     "text": [
      " 60%|██████████████████████████████████████████████████████████████████████████████████████████████████████████████████████▏                                                                              | 3/5 [00:02<00:01,  1.31it/s]"
     ]
    },
    {
     "name": "stdout",
     "output_type": "stream",
     "text": [
      "[LightGBM] [Warning] min_data_in_leaf is set=34, min_child_samples=52 will be ignored. Current value: min_data_in_leaf=34\n"
     ]
    },
    {
     "name": "stderr",
     "output_type": "stream",
     "text": [
      " 80%|█████████████████████████████████████████████████████████████████████████████████████████████████████████████████████████████████████████████████████████████▌                                       | 4/5 [00:03<00:00,  1.30it/s]"
     ]
    },
    {
     "name": "stdout",
     "output_type": "stream",
     "text": [
      "[LightGBM] [Warning] min_data_in_leaf is set=34, min_child_samples=52 will be ignored. Current value: min_data_in_leaf=34\n"
     ]
    },
    {
     "name": "stderr",
     "output_type": "stream",
     "text": [
      "100%|█████████████████████████████████████████████████████████████████████████████████████████████████████████████████████████████████████████████████████████████████████████████████████████████████████| 5/5 [00:03<00:00,  1.29it/s]\n",
      "\u001b[32m[I 2021-11-12 11:14:39,597]\u001b[0m Trial 27 finished with value: 0.1448675450931151 and parameters: {'num_leaves': 128, 'min_data_in_leaf': 34, 'max_depth': 12, 'max_bin': 123, 'lambda_l1': 1.0971904759910807e-07, 'lambda_l2': 0.000691452517603004, 'min_child_samples': 52}. Best is trial 13 with value: 0.13939688349194487.\u001b[0m\n"
     ]
    },
    {
     "name": "stdout",
     "output_type": "stream",
     "text": [
      "Model: lgbm | Mean train rsmle: 0.09634567421594946 | Standard deviation: 0.0011400076030616529\n",
      "Model: lgbm | Mean val rsmle: 0.1448675450931151 | Standard deviation: 0.0029650838506158615\n"
     ]
    },
    {
     "name": "stderr",
     "output_type": "stream",
     "text": [
      "  0%|                                                                                                                                                                                                             | 0/5 [00:00<?, ?it/s]"
     ]
    },
    {
     "name": "stdout",
     "output_type": "stream",
     "text": [
      "[LightGBM] [Warning] min_data_in_leaf is set=28, min_child_samples=31 will be ignored. Current value: min_data_in_leaf=28\n"
     ]
    },
    {
     "name": "stderr",
     "output_type": "stream",
     "text": [
      " 40%|██████████████████████████████████████████████████████████████████████████████▊                                                                                                                      | 2/5 [00:00<00:00,  4.88it/s]"
     ]
    },
    {
     "name": "stdout",
     "output_type": "stream",
     "text": [
      "[LightGBM] [Warning] min_data_in_leaf is set=28, min_child_samples=31 will be ignored. Current value: min_data_in_leaf=28\n",
      "[LightGBM] [Warning] min_data_in_leaf is set=28, min_child_samples=31 will be ignored. Current value: min_data_in_leaf=28\n"
     ]
    },
    {
     "name": "stderr",
     "output_type": "stream",
     "text": [
      " 80%|█████████████████████████████████████████████████████████████████████████████████████████████████████████████████████████████████████████████████████████████▌                                       | 4/5 [00:00<00:00,  4.92it/s]"
     ]
    },
    {
     "name": "stdout",
     "output_type": "stream",
     "text": [
      "[LightGBM] [Warning] min_data_in_leaf is set=28, min_child_samples=31 will be ignored. Current value: min_data_in_leaf=28\n"
     ]
    },
    {
     "name": "stderr",
     "output_type": "stream",
     "text": [
      "100%|█████████████████████████████████████████████████████████████████████████████████████████████████████████████████████████████████████████████████████████████████████████████████████████████████████| 5/5 [00:01<00:00,  4.87it/s]"
     ]
    },
    {
     "name": "stdout",
     "output_type": "stream",
     "text": [
      "[LightGBM] [Warning] min_data_in_leaf is set=28, min_child_samples=31 will be ignored. Current value: min_data_in_leaf=28\n"
     ]
    },
    {
     "name": "stderr",
     "output_type": "stream",
     "text": [
      "100%|█████████████████████████████████████████████████████████████████████████████████████████████████████████████████████████████████████████████████████████████████████████████████████████████████████| 5/5 [00:01<00:00,  4.87it/s]\n",
      "\u001b[32m[I 2021-11-12 11:14:40,666]\u001b[0m Trial 28 finished with value: 0.2241911755814999 and parameters: {'num_leaves': 114, 'min_data_in_leaf': 28, 'max_depth': 2, 'max_bin': 140, 'lambda_l1': 0.00041262626497726987, 'lambda_l2': 0.2358498012190385, 'min_child_samples': 31}. Best is trial 13 with value: 0.13939688349194487.\u001b[0m\n"
     ]
    },
    {
     "name": "stdout",
     "output_type": "stream",
     "text": [
      "Model: lgbm | Mean train rsmle: 0.2204564859991717 | Standard deviation: 0.0006699441422299301\n",
      "Model: lgbm | Mean val rsmle: 0.2241911755814999 | Standard deviation: 0.0031698601869993037\n"
     ]
    },
    {
     "name": "stderr",
     "output_type": "stream",
     "text": [
      "  0%|                                                                                                                                                                                                             | 0/5 [00:00<?, ?it/s]"
     ]
    },
    {
     "name": "stdout",
     "output_type": "stream",
     "text": [
      "[LightGBM] [Warning] min_data_in_leaf is set=12, min_child_samples=52 will be ignored. Current value: min_data_in_leaf=12\n"
     ]
    },
    {
     "name": "stderr",
     "output_type": "stream",
     "text": [
      " 20%|███████████████████████████████████████▍                                                                                                                                                             | 1/5 [00:00<00:02,  1.35it/s]"
     ]
    },
    {
     "name": "stdout",
     "output_type": "stream",
     "text": [
      "[LightGBM] [Warning] min_data_in_leaf is set=12, min_child_samples=52 will be ignored. Current value: min_data_in_leaf=12\n"
     ]
    },
    {
     "name": "stderr",
     "output_type": "stream",
     "text": [
      " 40%|██████████████████████████████████████████████████████████████████████████████▊                                                                                                                      | 2/5 [00:01<00:02,  1.27it/s]"
     ]
    },
    {
     "name": "stdout",
     "output_type": "stream",
     "text": [
      "[LightGBM] [Warning] min_data_in_leaf is set=12, min_child_samples=52 will be ignored. Current value: min_data_in_leaf=12\n"
     ]
    },
    {
     "name": "stderr",
     "output_type": "stream",
     "text": [
      " 60%|██████████████████████████████████████████████████████████████████████████████████████████████████████████████████████▏                                                                              | 3/5 [00:02<00:01,  1.29it/s]"
     ]
    },
    {
     "name": "stdout",
     "output_type": "stream",
     "text": [
      "[LightGBM] [Warning] min_data_in_leaf is set=12, min_child_samples=52 will be ignored. Current value: min_data_in_leaf=12\n"
     ]
    },
    {
     "name": "stderr",
     "output_type": "stream",
     "text": [
      " 80%|█████████████████████████████████████████████████████████████████████████████████████████████████████████████████████████████████████████████████████████████▌                                       | 4/5 [00:03<00:00,  1.30it/s]"
     ]
    },
    {
     "name": "stdout",
     "output_type": "stream",
     "text": [
      "[LightGBM] [Warning] min_data_in_leaf is set=12, min_child_samples=52 will be ignored. Current value: min_data_in_leaf=12\n"
     ]
    },
    {
     "name": "stderr",
     "output_type": "stream",
     "text": [
      "100%|█████████████████████████████████████████████████████████████████████████████████████████████████████████████████████████████████████████████████████████████████████████████████████████████████████| 5/5 [00:03<00:00,  1.29it/s]\n",
      "\u001b[32m[I 2021-11-12 11:14:44,590]\u001b[0m Trial 29 finished with value: 0.14148411380549236 and parameters: {'num_leaves': 90, 'min_data_in_leaf': 12, 'max_depth': 15, 'max_bin': 189, 'lambda_l1': 2.9871178029270336e-08, 'lambda_l2': 2.542522610814382e-05, 'min_child_samples': 52}. Best is trial 13 with value: 0.13939688349194487.\u001b[0m\n"
     ]
    },
    {
     "name": "stdout",
     "output_type": "stream",
     "text": [
      "Model: lgbm | Mean train rsmle: 0.09101261130779334 | Standard deviation: 0.0006829315901895264\n",
      "Model: lgbm | Mean val rsmle: 0.14148411380549236 | Standard deviation: 0.0034969586672591105\n"
     ]
    },
    {
     "name": "stderr",
     "output_type": "stream",
     "text": [
      "  0%|                                                                                                                                                                                                             | 0/5 [00:00<?, ?it/s]"
     ]
    },
    {
     "name": "stdout",
     "output_type": "stream",
     "text": [
      "[LightGBM] [Warning] min_data_in_leaf is set=19, min_child_samples=68 will be ignored. Current value: min_data_in_leaf=19\n"
     ]
    },
    {
     "name": "stderr",
     "output_type": "stream",
     "text": [
      " 20%|███████████████████████████████████████▍                                                                                                                                                             | 1/5 [00:00<00:03,  1.08it/s]"
     ]
    },
    {
     "name": "stdout",
     "output_type": "stream",
     "text": [
      "[LightGBM] [Warning] min_data_in_leaf is set=19, min_child_samples=68 will be ignored. Current value: min_data_in_leaf=19\n"
     ]
    },
    {
     "name": "stderr",
     "output_type": "stream",
     "text": [
      " 40%|██████████████████████████████████████████████████████████████████████████████▊                                                                                                                      | 2/5 [00:01<00:02,  1.09it/s]"
     ]
    },
    {
     "name": "stdout",
     "output_type": "stream",
     "text": [
      "[LightGBM] [Warning] min_data_in_leaf is set=19, min_child_samples=68 will be ignored. Current value: min_data_in_leaf=19\n"
     ]
    },
    {
     "name": "stderr",
     "output_type": "stream",
     "text": [
      " 60%|██████████████████████████████████████████████████████████████████████████████████████████████████████████████████████▏                                                                              | 3/5 [00:02<00:01,  1.01it/s]"
     ]
    },
    {
     "name": "stdout",
     "output_type": "stream",
     "text": [
      "[LightGBM] [Warning] min_data_in_leaf is set=19, min_child_samples=68 will be ignored. Current value: min_data_in_leaf=19\n"
     ]
    },
    {
     "name": "stderr",
     "output_type": "stream",
     "text": [
      " 80%|█████████████████████████████████████████████████████████████████████████████████████████████████████████████████████████████████████████████████████████████▌                                       | 4/5 [00:03<00:01,  1.00s/it]"
     ]
    },
    {
     "name": "stdout",
     "output_type": "stream",
     "text": [
      "[LightGBM] [Warning] min_data_in_leaf is set=19, min_child_samples=68 will be ignored. Current value: min_data_in_leaf=19\n"
     ]
    },
    {
     "name": "stderr",
     "output_type": "stream",
     "text": [
      "100%|█████████████████████████████████████████████████████████████████████████████████████████████████████████████████████████████████████████████████████████████████████████████████████████████████████| 5/5 [00:04<00:00,  1.02it/s]\n",
      "\u001b[32m[I 2021-11-12 11:14:49,551]\u001b[0m Trial 30 finished with value: 0.14069158430430154 and parameters: {'num_leaves': 114, 'min_data_in_leaf': 19, 'max_depth': 23, 'max_bin': 251, 'lambda_l1': 1.0940640052987709e-08, 'lambda_l2': 0.023936897131343497, 'min_child_samples': 68}. Best is trial 13 with value: 0.13939688349194487.\u001b[0m\n"
     ]
    },
    {
     "name": "stdout",
     "output_type": "stream",
     "text": [
      "Model: lgbm | Mean train rsmle: 0.08523423282015011 | Standard deviation: 0.000805033860604955\n",
      "Model: lgbm | Mean val rsmle: 0.14069158430430154 | Standard deviation: 0.0025791430675071764\n"
     ]
    },
    {
     "name": "stderr",
     "output_type": "stream",
     "text": [
      "  0%|                                                                                                                                                                                                             | 0/5 [00:00<?, ?it/s]"
     ]
    },
    {
     "name": "stdout",
     "output_type": "stream",
     "text": [
      "[LightGBM] [Warning] min_data_in_leaf is set=21, min_child_samples=48 will be ignored. Current value: min_data_in_leaf=21\n"
     ]
    },
    {
     "name": "stderr",
     "output_type": "stream",
     "text": [
      " 20%|███████████████████████████████████████▍                                                                                                                                                             | 1/5 [00:00<00:03,  1.12it/s]"
     ]
    },
    {
     "name": "stdout",
     "output_type": "stream",
     "text": [
      "[LightGBM] [Warning] min_data_in_leaf is set=21, min_child_samples=48 will be ignored. Current value: min_data_in_leaf=21\n"
     ]
    },
    {
     "name": "stderr",
     "output_type": "stream",
     "text": [
      " 40%|██████████████████████████████████████████████████████████████████████████████▊                                                                                                                      | 2/5 [00:01<00:02,  1.11it/s]"
     ]
    },
    {
     "name": "stdout",
     "output_type": "stream",
     "text": [
      "[LightGBM] [Warning] min_data_in_leaf is set=21, min_child_samples=48 will be ignored. Current value: min_data_in_leaf=21\n"
     ]
    },
    {
     "name": "stderr",
     "output_type": "stream",
     "text": [
      " 60%|██████████████████████████████████████████████████████████████████████████████████████████████████████████████████████▏                                                                              | 3/5 [00:02<00:01,  1.08it/s]"
     ]
    },
    {
     "name": "stdout",
     "output_type": "stream",
     "text": [
      "[LightGBM] [Warning] min_data_in_leaf is set=21, min_child_samples=48 will be ignored. Current value: min_data_in_leaf=21\n"
     ]
    },
    {
     "name": "stderr",
     "output_type": "stream",
     "text": [
      " 80%|█████████████████████████████████████████████████████████████████████████████████████████████████████████████████████████████████████████████████████████████▌                                       | 4/5 [00:03<00:00,  1.08it/s]"
     ]
    },
    {
     "name": "stdout",
     "output_type": "stream",
     "text": [
      "[LightGBM] [Warning] min_data_in_leaf is set=21, min_child_samples=48 will be ignored. Current value: min_data_in_leaf=21\n"
     ]
    },
    {
     "name": "stderr",
     "output_type": "stream",
     "text": [
      "100%|█████████████████████████████████████████████████████████████████████████████████████████████████████████████████████████████████████████████████████████████████████████████████████████████████████| 5/5 [00:04<00:00,  1.08it/s]\n",
      "\u001b[32m[I 2021-11-12 11:14:54,220]\u001b[0m Trial 31 finished with value: 0.13926096589226417 and parameters: {'num_leaves': 128, 'min_data_in_leaf': 21, 'max_depth': 17, 'max_bin': 160, 'lambda_l1': 8.345316970516454e-08, 'lambda_l2': 0.0132539739394478, 'min_child_samples': 48}. Best is trial 31 with value: 0.13926096589226417.\u001b[0m\n"
     ]
    },
    {
     "name": "stdout",
     "output_type": "stream",
     "text": [
      "Model: lgbm | Mean train rsmle: 0.08295971950570154 | Standard deviation: 0.0006374237854730034\n",
      "Model: lgbm | Mean val rsmle: 0.13926096589226417 | Standard deviation: 0.002826372493270366\n"
     ]
    },
    {
     "name": "stderr",
     "output_type": "stream",
     "text": [
      "  0%|                                                                                                                                                                                                             | 0/5 [00:00<?, ?it/s]"
     ]
    },
    {
     "name": "stdout",
     "output_type": "stream",
     "text": [
      "[LightGBM] [Warning] min_data_in_leaf is set=12, min_child_samples=57 will be ignored. Current value: min_data_in_leaf=12\n"
     ]
    },
    {
     "name": "stderr",
     "output_type": "stream",
     "text": [
      " 20%|███████████████████████████████████████▍                                                                                                                                                             | 1/5 [00:00<00:03,  1.23it/s]"
     ]
    },
    {
     "name": "stdout",
     "output_type": "stream",
     "text": [
      "[LightGBM] [Warning] min_data_in_leaf is set=12, min_child_samples=57 will be ignored. Current value: min_data_in_leaf=12\n"
     ]
    },
    {
     "name": "stderr",
     "output_type": "stream",
     "text": [
      " 40%|██████████████████████████████████████████████████████████████████████████████▊                                                                                                                      | 2/5 [00:01<00:02,  1.24it/s]"
     ]
    },
    {
     "name": "stdout",
     "output_type": "stream",
     "text": [
      "[LightGBM] [Warning] min_data_in_leaf is set=12, min_child_samples=57 will be ignored. Current value: min_data_in_leaf=12\n"
     ]
    },
    {
     "name": "stderr",
     "output_type": "stream",
     "text": [
      " 60%|██████████████████████████████████████████████████████████████████████████████████████████████████████████████████████▏                                                                              | 3/5 [00:02<00:01,  1.22it/s]"
     ]
    },
    {
     "name": "stdout",
     "output_type": "stream",
     "text": [
      "[LightGBM] [Warning] min_data_in_leaf is set=12, min_child_samples=57 will be ignored. Current value: min_data_in_leaf=12\n"
     ]
    },
    {
     "name": "stderr",
     "output_type": "stream",
     "text": [
      " 80%|█████████████████████████████████████████████████████████████████████████████████████████████████████████████████████████████████████████████████████████████▌                                       | 4/5 [00:03<00:00,  1.20it/s]"
     ]
    },
    {
     "name": "stdout",
     "output_type": "stream",
     "text": [
      "[LightGBM] [Warning] min_data_in_leaf is set=12, min_child_samples=57 will be ignored. Current value: min_data_in_leaf=12\n"
     ]
    },
    {
     "name": "stderr",
     "output_type": "stream",
     "text": [
      "100%|█████████████████████████████████████████████████████████████████████████████████████████████████████████████████████████████████████████████████████████████████████████████████████████████████████| 5/5 [00:04<00:00,  1.21it/s]\n",
      "\u001b[32m[I 2021-11-12 11:14:58,405]\u001b[0m Trial 32 finished with value: 0.14130272738790708 and parameters: {'num_leaves': 106, 'min_data_in_leaf': 12, 'max_depth': 18, 'max_bin': 165, 'lambda_l1': 5.986439074596549e-07, 'lambda_l2': 2.075665368094575, 'min_child_samples': 57}. Best is trial 31 with value: 0.13926096589226417.\u001b[0m\n"
     ]
    },
    {
     "name": "stdout",
     "output_type": "stream",
     "text": [
      "Model: lgbm | Mean train rsmle: 0.08780249794913086 | Standard deviation: 0.0004907252812817362\n",
      "Model: lgbm | Mean val rsmle: 0.14130272738790708 | Standard deviation: 0.003464282245163006\n"
     ]
    },
    {
     "name": "stderr",
     "output_type": "stream",
     "text": [
      "  0%|                                                                                                                                                                                                             | 0/5 [00:00<?, ?it/s]"
     ]
    },
    {
     "name": "stdout",
     "output_type": "stream",
     "text": [
      "[LightGBM] [Warning] min_data_in_leaf is set=19, min_child_samples=59 will be ignored. Current value: min_data_in_leaf=19\n"
     ]
    },
    {
     "name": "stderr",
     "output_type": "stream",
     "text": [
      " 20%|███████████████████████████████████████▍                                                                                                                                                             | 1/5 [00:00<00:03,  1.12it/s]"
     ]
    },
    {
     "name": "stdout",
     "output_type": "stream",
     "text": [
      "[LightGBM] [Warning] min_data_in_leaf is set=19, min_child_samples=59 will be ignored. Current value: min_data_in_leaf=19\n"
     ]
    },
    {
     "name": "stderr",
     "output_type": "stream",
     "text": [
      " 40%|██████████████████████████████████████████████████████████████████████████████▊                                                                                                                      | 2/5 [00:01<00:02,  1.13it/s]"
     ]
    },
    {
     "name": "stdout",
     "output_type": "stream",
     "text": [
      "[LightGBM] [Warning] min_data_in_leaf is set=19, min_child_samples=59 will be ignored. Current value: min_data_in_leaf=19\n"
     ]
    },
    {
     "name": "stderr",
     "output_type": "stream",
     "text": [
      " 60%|██████████████████████████████████████████████████████████████████████████████████████████████████████████████████████▏                                                                              | 3/5 [00:02<00:01,  1.12it/s]"
     ]
    },
    {
     "name": "stdout",
     "output_type": "stream",
     "text": [
      "[LightGBM] [Warning] min_data_in_leaf is set=19, min_child_samples=59 will be ignored. Current value: min_data_in_leaf=19\n"
     ]
    },
    {
     "name": "stderr",
     "output_type": "stream",
     "text": [
      " 80%|█████████████████████████████████████████████████████████████████████████████████████████████████████████████████████████████████████████████████████████████▌                                       | 4/5 [00:03<00:00,  1.10it/s]"
     ]
    },
    {
     "name": "stdout",
     "output_type": "stream",
     "text": [
      "[LightGBM] [Warning] min_data_in_leaf is set=19, min_child_samples=59 will be ignored. Current value: min_data_in_leaf=19\n"
     ]
    },
    {
     "name": "stderr",
     "output_type": "stream",
     "text": [
      "100%|█████████████████████████████████████████████████████████████████████████████████████████████████████████████████████████████████████████████████████████████████████████████████████████████████████| 5/5 [00:04<00:00,  1.11it/s]\n",
      "\u001b[32m[I 2021-11-12 11:15:02,964]\u001b[0m Trial 33 finished with value: 0.1410136950695353 and parameters: {'num_leaves': 118, 'min_data_in_leaf': 19, 'max_depth': 14, 'max_bin': 180, 'lambda_l1': 7.96608721189736e-08, 'lambda_l2': 0.17155049080900964, 'min_child_samples': 59}. Best is trial 31 with value: 0.13926096589226417.\u001b[0m\n"
     ]
    },
    {
     "name": "stdout",
     "output_type": "stream",
     "text": [
      "Model: lgbm | Mean train rsmle: 0.08570004063239374 | Standard deviation: 0.0006324896192593388\n",
      "Model: lgbm | Mean val rsmle: 0.1410136950695353 | Standard deviation: 0.003617537827480502\n"
     ]
    },
    {
     "name": "stderr",
     "output_type": "stream",
     "text": [
      "  0%|                                                                                                                                                                                                             | 0/5 [00:00<?, ?it/s]"
     ]
    },
    {
     "name": "stdout",
     "output_type": "stream",
     "text": [
      "[LightGBM] [Warning] min_data_in_leaf is set=100, min_child_samples=35 will be ignored. Current value: min_data_in_leaf=100\n"
     ]
    },
    {
     "name": "stderr",
     "output_type": "stream",
     "text": [
      " 20%|███████████████████████████████████████▍                                                                                                                                                             | 1/5 [00:00<00:02,  1.88it/s]"
     ]
    },
    {
     "name": "stdout",
     "output_type": "stream",
     "text": [
      "[LightGBM] [Warning] min_data_in_leaf is set=100, min_child_samples=35 will be ignored. Current value: min_data_in_leaf=100\n"
     ]
    },
    {
     "name": "stderr",
     "output_type": "stream",
     "text": [
      " 40%|██████████████████████████████████████████████████████████████████████████████▊                                                                                                                      | 2/5 [00:01<00:01,  1.93it/s]"
     ]
    },
    {
     "name": "stdout",
     "output_type": "stream",
     "text": [
      "[LightGBM] [Warning] min_data_in_leaf is set=100, min_child_samples=35 will be ignored. Current value: min_data_in_leaf=100\n"
     ]
    },
    {
     "name": "stderr",
     "output_type": "stream",
     "text": [
      " 60%|██████████████████████████████████████████████████████████████████████████████████████████████████████████████████████▏                                                                              | 3/5 [00:01<00:01,  1.89it/s]"
     ]
    },
    {
     "name": "stdout",
     "output_type": "stream",
     "text": [
      "[LightGBM] [Warning] min_data_in_leaf is set=100, min_child_samples=35 will be ignored. Current value: min_data_in_leaf=100\n"
     ]
    },
    {
     "name": "stderr",
     "output_type": "stream",
     "text": [
      " 80%|█████████████████████████████████████████████████████████████████████████████████████████████████████████████████████████████████████████████████████████████▌                                       | 4/5 [00:02<00:00,  1.89it/s]"
     ]
    },
    {
     "name": "stdout",
     "output_type": "stream",
     "text": [
      "[LightGBM] [Warning] min_data_in_leaf is set=100, min_child_samples=35 will be ignored. Current value: min_data_in_leaf=100\n"
     ]
    },
    {
     "name": "stderr",
     "output_type": "stream",
     "text": [
      "100%|█████████████████████████████████████████████████████████████████████████████████████████████████████████████████████████████████████████████████████████████████████████████████████████████████████| 5/5 [00:02<00:00,  1.89it/s]\n",
      "\u001b[32m[I 2021-11-12 11:15:05,646]\u001b[0m Trial 34 finished with value: 0.16286991624903577 and parameters: {'num_leaves': 127, 'min_data_in_leaf': 100, 'max_depth': 9, 'max_bin': 140, 'lambda_l1': 2.705374656549338e-06, 'lambda_l2': 0.008549751548099609, 'min_child_samples': 35}. Best is trial 31 with value: 0.13926096589226417.\u001b[0m\n"
     ]
    },
    {
     "name": "stdout",
     "output_type": "stream",
     "text": [
      "Model: lgbm | Mean train rsmle: 0.13628983290733532 | Standard deviation: 0.000877441717216744\n",
      "Model: lgbm | Mean val rsmle: 0.16286991624903577 | Standard deviation: 0.0017147337605768033\n"
     ]
    },
    {
     "name": "stderr",
     "output_type": "stream",
     "text": [
      "  0%|                                                                                                                                                                                                             | 0/5 [00:00<?, ?it/s]"
     ]
    },
    {
     "name": "stdout",
     "output_type": "stream",
     "text": [
      "[LightGBM] [Warning] min_data_in_leaf is set=46, min_child_samples=47 will be ignored. Current value: min_data_in_leaf=46\n"
     ]
    },
    {
     "name": "stderr",
     "output_type": "stream",
     "text": [
      " 20%|███████████████████████████████████████▍                                                                                                                                                             | 1/5 [00:00<00:03,  1.16it/s]"
     ]
    },
    {
     "name": "stdout",
     "output_type": "stream",
     "text": [
      "[LightGBM] [Warning] min_data_in_leaf is set=46, min_child_samples=47 will be ignored. Current value: min_data_in_leaf=46\n"
     ]
    },
    {
     "name": "stderr",
     "output_type": "stream",
     "text": [
      " 40%|██████████████████████████████████████████████████████████████████████████████▊                                                                                                                      | 2/5 [00:01<00:02,  1.22it/s]"
     ]
    },
    {
     "name": "stdout",
     "output_type": "stream",
     "text": [
      "[LightGBM] [Warning] min_data_in_leaf is set=46, min_child_samples=47 will be ignored. Current value: min_data_in_leaf=46\n"
     ]
    },
    {
     "name": "stderr",
     "output_type": "stream",
     "text": [
      " 60%|██████████████████████████████████████████████████████████████████████████████████████████████████████████████████████▏                                                                              | 3/5 [00:02<00:01,  1.22it/s]"
     ]
    },
    {
     "name": "stdout",
     "output_type": "stream",
     "text": [
      "[LightGBM] [Warning] min_data_in_leaf is set=46, min_child_samples=47 will be ignored. Current value: min_data_in_leaf=46\n"
     ]
    },
    {
     "name": "stderr",
     "output_type": "stream",
     "text": [
      " 80%|█████████████████████████████████████████████████████████████████████████████████████████████████████████████████████████████████████████████████████████████▌                                       | 4/5 [00:03<00:00,  1.19it/s]"
     ]
    },
    {
     "name": "stdout",
     "output_type": "stream",
     "text": [
      "[LightGBM] [Warning] min_data_in_leaf is set=46, min_child_samples=47 will be ignored. Current value: min_data_in_leaf=46\n"
     ]
    },
    {
     "name": "stderr",
     "output_type": "stream",
     "text": [
      "100%|█████████████████████████████████████████████████████████████████████████████████████████████████████████████████████████████████████████████████████████████████████████████████████████████████████| 5/5 [00:04<00:00,  1.20it/s]\n",
      "\u001b[32m[I 2021-11-12 11:15:09,853]\u001b[0m Trial 35 finished with value: 0.14505760556208702 and parameters: {'num_leaves': 104, 'min_data_in_leaf': 46, 'max_depth': 17, 'max_bin': 164, 'lambda_l1': 5.974157315088922e-08, 'lambda_l2': 0.5650859048729687, 'min_child_samples': 47}. Best is trial 31 with value: 0.13926096589226417.\u001b[0m\n"
     ]
    },
    {
     "name": "stdout",
     "output_type": "stream",
     "text": [
      "Model: lgbm | Mean train rsmle: 0.1010160272203473 | Standard deviation: 0.0009812339240668486\n",
      "Model: lgbm | Mean val rsmle: 0.14505760556208702 | Standard deviation: 0.0036105875917034425\n"
     ]
    },
    {
     "name": "stderr",
     "output_type": "stream",
     "text": [
      "  0%|                                                                                                                                                                                                             | 0/5 [00:00<?, ?it/s]"
     ]
    },
    {
     "name": "stdout",
     "output_type": "stream",
     "text": [
      "[LightGBM] [Warning] min_data_in_leaf is set=28, min_child_samples=72 will be ignored. Current value: min_data_in_leaf=28\n"
     ]
    },
    {
     "name": "stderr",
     "output_type": "stream",
     "text": [
      " 20%|███████████████████████████████████████▍                                                                                                                                                             | 1/5 [00:00<00:03,  1.28it/s]"
     ]
    },
    {
     "name": "stdout",
     "output_type": "stream",
     "text": [
      "[LightGBM] [Warning] min_data_in_leaf is set=28, min_child_samples=72 will be ignored. Current value: min_data_in_leaf=28\n"
     ]
    },
    {
     "name": "stderr",
     "output_type": "stream",
     "text": [
      " 40%|██████████████████████████████████████████████████████████████████████████████▊                                                                                                                      | 2/5 [00:01<00:02,  1.23it/s]"
     ]
    },
    {
     "name": "stdout",
     "output_type": "stream",
     "text": [
      "[LightGBM] [Warning] min_data_in_leaf is set=28, min_child_samples=72 will be ignored. Current value: min_data_in_leaf=28\n"
     ]
    },
    {
     "name": "stderr",
     "output_type": "stream",
     "text": [
      " 60%|██████████████████████████████████████████████████████████████████████████████████████████████████████████████████████▏                                                                              | 3/5 [00:02<00:01,  1.21it/s]"
     ]
    },
    {
     "name": "stdout",
     "output_type": "stream",
     "text": [
      "[LightGBM] [Warning] min_data_in_leaf is set=28, min_child_samples=72 will be ignored. Current value: min_data_in_leaf=28\n"
     ]
    },
    {
     "name": "stderr",
     "output_type": "stream",
     "text": [
      " 80%|█████████████████████████████████████████████████████████████████████████████████████████████████████████████████████████████████████████████████████████████▌                                       | 4/5 [00:03<00:00,  1.21it/s]"
     ]
    },
    {
     "name": "stdout",
     "output_type": "stream",
     "text": [
      "[LightGBM] [Warning] min_data_in_leaf is set=28, min_child_samples=72 will be ignored. Current value: min_data_in_leaf=28\n"
     ]
    },
    {
     "name": "stderr",
     "output_type": "stream",
     "text": [
      "100%|█████████████████████████████████████████████████████████████████████████████████████████████████████████████████████████████████████████████████████████████████████████████████████████████████████| 5/5 [00:04<00:00,  1.21it/s]\n",
      "\u001b[32m[I 2021-11-12 11:15:14,016]\u001b[0m Trial 36 finished with value: 0.14379569912813733 and parameters: {'num_leaves': 119, 'min_data_in_leaf': 28, 'max_depth': 11, 'max_bin': 185, 'lambda_l1': 3.6750690801636663e-07, 'lambda_l2': 0.04890526047860781, 'min_child_samples': 72}. Best is trial 31 with value: 0.13926096589226417.\u001b[0m\n"
     ]
    },
    {
     "name": "stdout",
     "output_type": "stream",
     "text": [
      "Model: lgbm | Mean train rsmle: 0.09510738907093305 | Standard deviation: 0.0005155336237537152\n",
      "Model: lgbm | Mean val rsmle: 0.14379569912813733 | Standard deviation: 0.0030737006186663664\n"
     ]
    },
    {
     "name": "stderr",
     "output_type": "stream",
     "text": [
      "  0%|                                                                                                                                                                                                             | 0/5 [00:00<?, ?it/s]"
     ]
    },
    {
     "name": "stdout",
     "output_type": "stream",
     "text": [
      "[LightGBM] [Warning] min_data_in_leaf is set=16, min_child_samples=40 will be ignored. Current value: min_data_in_leaf=16\n"
     ]
    },
    {
     "name": "stderr",
     "output_type": "stream",
     "text": [
      " 20%|███████████████████████████████████████▍                                                                                                                                                             | 1/5 [00:00<00:02,  1.98it/s]"
     ]
    },
    {
     "name": "stdout",
     "output_type": "stream",
     "text": [
      "[LightGBM] [Warning] min_data_in_leaf is set=16, min_child_samples=40 will be ignored. Current value: min_data_in_leaf=16\n"
     ]
    },
    {
     "name": "stderr",
     "output_type": "stream",
     "text": [
      " 40%|██████████████████████████████████████████████████████████████████████████████▊                                                                                                                      | 2/5 [00:00<00:01,  2.01it/s]"
     ]
    },
    {
     "name": "stdout",
     "output_type": "stream",
     "text": [
      "[LightGBM] [Warning] min_data_in_leaf is set=16, min_child_samples=40 will be ignored. Current value: min_data_in_leaf=16\n"
     ]
    },
    {
     "name": "stderr",
     "output_type": "stream",
     "text": [
      " 60%|██████████████████████████████████████████████████████████████████████████████████████████████████████████████████████▏                                                                              | 3/5 [00:01<00:00,  2.02it/s]"
     ]
    },
    {
     "name": "stdout",
     "output_type": "stream",
     "text": [
      "[LightGBM] [Warning] min_data_in_leaf is set=16, min_child_samples=40 will be ignored. Current value: min_data_in_leaf=16\n"
     ]
    },
    {
     "name": "stderr",
     "output_type": "stream",
     "text": [
      " 80%|█████████████████████████████████████████████████████████████████████████████████████████████████████████████████████████████████████████████████████████████▌                                       | 4/5 [00:02<00:00,  1.99it/s]"
     ]
    },
    {
     "name": "stdout",
     "output_type": "stream",
     "text": [
      "[LightGBM] [Warning] min_data_in_leaf is set=16, min_child_samples=40 will be ignored. Current value: min_data_in_leaf=16\n"
     ]
    },
    {
     "name": "stderr",
     "output_type": "stream",
     "text": [
      "100%|█████████████████████████████████████████████████████████████████████████████████████████████████████████████████████████████████████████████████████████████████████████████████████████████████████| 5/5 [00:02<00:00,  2.00it/s]\n",
      "\u001b[32m[I 2021-11-12 11:15:16,564]\u001b[0m Trial 37 finished with value: 0.15156750352115858 and parameters: {'num_leaves': 75, 'min_data_in_leaf': 16, 'max_depth': 7, 'max_bin': 101, 'lambda_l1': 1.641066329915915e-06, 'lambda_l2': 0.010229726440468581, 'min_child_samples': 40}. Best is trial 31 with value: 0.13926096589226417.\u001b[0m\n"
     ]
    },
    {
     "name": "stdout",
     "output_type": "stream",
     "text": [
      "Model: lgbm | Mean train rsmle: 0.11530428855620425 | Standard deviation: 0.0014420263684265001\n",
      "Model: lgbm | Mean val rsmle: 0.15156750352115858 | Standard deviation: 0.003330514168867806\n"
     ]
    },
    {
     "name": "stderr",
     "output_type": "stream",
     "text": [
      "  0%|                                                                                                                                                                                                             | 0/5 [00:00<?, ?it/s]"
     ]
    },
    {
     "name": "stdout",
     "output_type": "stream",
     "text": [
      "[LightGBM] [Warning] min_data_in_leaf is set=21, min_child_samples=50 will be ignored. Current value: min_data_in_leaf=21\n"
     ]
    },
    {
     "name": "stderr",
     "output_type": "stream",
     "text": [
      " 20%|███████████████████████████████████████▍                                                                                                                                                             | 1/5 [00:00<00:03,  1.17it/s]"
     ]
    },
    {
     "name": "stdout",
     "output_type": "stream",
     "text": [
      "[LightGBM] [Warning] min_data_in_leaf is set=21, min_child_samples=50 will be ignored. Current value: min_data_in_leaf=21\n"
     ]
    },
    {
     "name": "stderr",
     "output_type": "stream",
     "text": [
      " 40%|██████████████████████████████████████████████████████████████████████████████▊                                                                                                                      | 2/5 [00:01<00:02,  1.17it/s]"
     ]
    },
    {
     "name": "stdout",
     "output_type": "stream",
     "text": [
      "[LightGBM] [Warning] min_data_in_leaf is set=21, min_child_samples=50 will be ignored. Current value: min_data_in_leaf=21\n"
     ]
    },
    {
     "name": "stderr",
     "output_type": "stream",
     "text": [
      " 60%|██████████████████████████████████████████████████████████████████████████████████████████████████████████████████████▏                                                                              | 3/5 [00:02<00:01,  1.14it/s]"
     ]
    },
    {
     "name": "stdout",
     "output_type": "stream",
     "text": [
      "[LightGBM] [Warning] min_data_in_leaf is set=21, min_child_samples=50 will be ignored. Current value: min_data_in_leaf=21\n"
     ]
    },
    {
     "name": "stderr",
     "output_type": "stream",
     "text": [
      " 80%|█████████████████████████████████████████████████████████████████████████████████████████████████████████████████████████████████████████████████████████████▌                                       | 4/5 [00:03<00:00,  1.12it/s]"
     ]
    },
    {
     "name": "stdout",
     "output_type": "stream",
     "text": [
      "[LightGBM] [Warning] min_data_in_leaf is set=21, min_child_samples=50 will be ignored. Current value: min_data_in_leaf=21\n"
     ]
    },
    {
     "name": "stderr",
     "output_type": "stream",
     "text": [
      "100%|█████████████████████████████████████████████████████████████████████████████████████████████████████████████████████████████████████████████████████████████████████████████████████████████████████| 5/5 [00:04<00:00,  1.12it/s]\n",
      "\u001b[32m[I 2021-11-12 11:15:21,065]\u001b[0m Trial 38 finished with value: 0.14069472833946922 and parameters: {'num_leaves': 128, 'min_data_in_leaf': 21, 'max_depth': 22, 'max_bin': 124, 'lambda_l1': 4.50539314401285e-06, 'lambda_l2': 1.858547181859625, 'min_child_samples': 50}. Best is trial 31 with value: 0.13926096589226417.\u001b[0m\n"
     ]
    },
    {
     "name": "stdout",
     "output_type": "stream",
     "text": [
      "Model: lgbm | Mean train rsmle: 0.08505785299970756 | Standard deviation: 0.0003991142577624652\n",
      "Model: lgbm | Mean val rsmle: 0.14069472833946922 | Standard deviation: 0.0035993258027853417\n"
     ]
    },
    {
     "name": "stderr",
     "output_type": "stream",
     "text": [
      "  0%|                                                                                                                                                                                                             | 0/5 [00:00<?, ?it/s]"
     ]
    },
    {
     "name": "stdout",
     "output_type": "stream",
     "text": [
      "[LightGBM] [Warning] min_data_in_leaf is set=66, min_child_samples=27 will be ignored. Current value: min_data_in_leaf=66\n"
     ]
    },
    {
     "name": "stderr",
     "output_type": "stream",
     "text": [
      " 20%|███████████████████████████████████████▍                                                                                                                                                             | 1/5 [00:00<00:02,  1.50it/s]"
     ]
    },
    {
     "name": "stdout",
     "output_type": "stream",
     "text": [
      "[LightGBM] [Warning] min_data_in_leaf is set=66, min_child_samples=27 will be ignored. Current value: min_data_in_leaf=66\n"
     ]
    },
    {
     "name": "stderr",
     "output_type": "stream",
     "text": [
      " 40%|██████████████████████████████████████████████████████████████████████████████▊                                                                                                                      | 2/5 [00:01<00:01,  1.55it/s]"
     ]
    },
    {
     "name": "stdout",
     "output_type": "stream",
     "text": [
      "[LightGBM] [Warning] min_data_in_leaf is set=66, min_child_samples=27 will be ignored. Current value: min_data_in_leaf=66\n"
     ]
    },
    {
     "name": "stderr",
     "output_type": "stream",
     "text": [
      " 60%|██████████████████████████████████████████████████████████████████████████████████████████████████████████████████████▏                                                                              | 3/5 [00:01<00:01,  1.54it/s]"
     ]
    },
    {
     "name": "stdout",
     "output_type": "stream",
     "text": [
      "[LightGBM] [Warning] min_data_in_leaf is set=66, min_child_samples=27 will be ignored. Current value: min_data_in_leaf=66\n"
     ]
    },
    {
     "name": "stderr",
     "output_type": "stream",
     "text": [
      " 80%|█████████████████████████████████████████████████████████████████████████████████████████████████████████████████████████████████████████████████████████████▌                                       | 4/5 [00:02<00:00,  1.54it/s]"
     ]
    },
    {
     "name": "stdout",
     "output_type": "stream",
     "text": [
      "[LightGBM] [Warning] min_data_in_leaf is set=66, min_child_samples=27 will be ignored. Current value: min_data_in_leaf=66\n"
     ]
    },
    {
     "name": "stderr",
     "output_type": "stream",
     "text": [
      "100%|█████████████████████████████████████████████████████████████████████████████████████████████████████████████████████████████████████████████████████████████████████████████████████████████████████| 5/5 [00:03<00:00,  1.54it/s]\n",
      "\u001b[32m[I 2021-11-12 11:15:24,363]\u001b[0m Trial 39 finished with value: 0.1499438168888601 and parameters: {'num_leaves': 71, 'min_data_in_leaf': 66, 'max_depth': 19, 'max_bin': 141, 'lambda_l1': 5.843887027261981e-05, 'lambda_l2': 7.183652744810389e-05, 'min_child_samples': 27}. Best is trial 31 with value: 0.13926096589226417.\u001b[0m\n"
     ]
    },
    {
     "name": "stdout",
     "output_type": "stream",
     "text": [
      "Model: lgbm | Mean train rsmle: 0.11542249076777149 | Standard deviation: 0.0006280758876658328\n",
      "Model: lgbm | Mean val rsmle: 0.1499438168888601 | Standard deviation: 0.0032294633830404966\n"
     ]
    },
    {
     "name": "stderr",
     "output_type": "stream",
     "text": [
      "  0%|                                                                                                                                                                                                             | 0/5 [00:00<?, ?it/s]"
     ]
    },
    {
     "name": "stdout",
     "output_type": "stream",
     "text": [
      "[LightGBM] [Warning] min_data_in_leaf is set=11, min_child_samples=40 will be ignored. Current value: min_data_in_leaf=11\n"
     ]
    },
    {
     "name": "stderr",
     "output_type": "stream",
     "text": [
      " 20%|███████████████████████████████████████▍                                                                                                                                                             | 1/5 [00:00<00:03,  1.22it/s]"
     ]
    },
    {
     "name": "stdout",
     "output_type": "stream",
     "text": [
      "[LightGBM] [Warning] min_data_in_leaf is set=11, min_child_samples=40 will be ignored. Current value: min_data_in_leaf=11\n"
     ]
    },
    {
     "name": "stderr",
     "output_type": "stream",
     "text": [
      " 40%|██████████████████████████████████████████████████████████████████████████████▊                                                                                                                      | 2/5 [00:01<00:02,  1.23it/s]"
     ]
    },
    {
     "name": "stdout",
     "output_type": "stream",
     "text": [
      "[LightGBM] [Warning] min_data_in_leaf is set=11, min_child_samples=40 will be ignored. Current value: min_data_in_leaf=11\n"
     ]
    },
    {
     "name": "stderr",
     "output_type": "stream",
     "text": [
      " 60%|██████████████████████████████████████████████████████████████████████████████████████████████████████████████████████▏                                                                              | 3/5 [00:02<00:01,  1.20it/s]"
     ]
    },
    {
     "name": "stdout",
     "output_type": "stream",
     "text": [
      "[LightGBM] [Warning] min_data_in_leaf is set=11, min_child_samples=40 will be ignored. Current value: min_data_in_leaf=11\n"
     ]
    },
    {
     "name": "stderr",
     "output_type": "stream",
     "text": [
      " 80%|█████████████████████████████████████████████████████████████████████████████████████████████████████████████████████████████████████████████████████████████▌                                       | 4/5 [00:03<00:00,  1.19it/s]"
     ]
    },
    {
     "name": "stdout",
     "output_type": "stream",
     "text": [
      "[LightGBM] [Warning] min_data_in_leaf is set=11, min_child_samples=40 will be ignored. Current value: min_data_in_leaf=11\n"
     ]
    },
    {
     "name": "stderr",
     "output_type": "stream",
     "text": [
      "100%|█████████████████████████████████████████████████████████████████████████████████████████████████████████████████████████████████████████████████████████████████████████████████████████████████████| 5/5 [00:04<00:00,  1.19it/s]\n",
      "\u001b[32m[I 2021-11-12 11:15:28,608]\u001b[0m Trial 40 finished with value: 0.14117542505289832 and parameters: {'num_leaves': 90, 'min_data_in_leaf': 11, 'max_depth': 25, 'max_bin': 267, 'lambda_l1': 1.0463467327507215e-08, 'lambda_l2': 0.0012501379193174628, 'min_child_samples': 40}. Best is trial 31 with value: 0.13926096589226417.\u001b[0m\n"
     ]
    },
    {
     "name": "stdout",
     "output_type": "stream",
     "text": [
      "Model: lgbm | Mean train rsmle: 0.08989592875085958 | Standard deviation: 0.0006005940912754373\n",
      "Model: lgbm | Mean val rsmle: 0.14117542505289832 | Standard deviation: 0.0030316817682163547\n"
     ]
    },
    {
     "name": "stderr",
     "output_type": "stream",
     "text": [
      "  0%|                                                                                                                                                                                                             | 0/5 [00:00<?, ?it/s]"
     ]
    },
    {
     "name": "stdout",
     "output_type": "stream",
     "text": [
      "[LightGBM] [Warning] min_data_in_leaf is set=21, min_child_samples=43 will be ignored. Current value: min_data_in_leaf=21\n"
     ]
    },
    {
     "name": "stderr",
     "output_type": "stream",
     "text": [
      " 20%|███████████████████████████████████████▍                                                                                                                                                             | 1/5 [00:00<00:03,  1.16it/s]"
     ]
    },
    {
     "name": "stdout",
     "output_type": "stream",
     "text": [
      "[LightGBM] [Warning] min_data_in_leaf is set=21, min_child_samples=43 will be ignored. Current value: min_data_in_leaf=21\n"
     ]
    },
    {
     "name": "stderr",
     "output_type": "stream",
     "text": [
      " 40%|██████████████████████████████████████████████████████████████████████████████▊                                                                                                                      | 2/5 [00:01<00:02,  1.17it/s]"
     ]
    },
    {
     "name": "stdout",
     "output_type": "stream",
     "text": [
      "[LightGBM] [Warning] min_data_in_leaf is set=21, min_child_samples=43 will be ignored. Current value: min_data_in_leaf=21\n"
     ]
    },
    {
     "name": "stderr",
     "output_type": "stream",
     "text": [
      " 60%|██████████████████████████████████████████████████████████████████████████████████████████████████████████████████████▏                                                                              | 3/5 [00:02<00:01,  1.15it/s]"
     ]
    },
    {
     "name": "stdout",
     "output_type": "stream",
     "text": [
      "[LightGBM] [Warning] min_data_in_leaf is set=21, min_child_samples=43 will be ignored. Current value: min_data_in_leaf=21\n"
     ]
    },
    {
     "name": "stderr",
     "output_type": "stream",
     "text": [
      " 80%|█████████████████████████████████████████████████████████████████████████████████████████████████████████████████████████████████████████████████████████████▌                                       | 4/5 [00:03<00:00,  1.13it/s]"
     ]
    },
    {
     "name": "stdout",
     "output_type": "stream",
     "text": [
      "[LightGBM] [Warning] min_data_in_leaf is set=21, min_child_samples=43 will be ignored. Current value: min_data_in_leaf=21\n"
     ]
    },
    {
     "name": "stderr",
     "output_type": "stream",
     "text": [
      "100%|█████████████████████████████████████████████████████████████████████████████████████████████████████████████████████████████████████████████████████████████████████████████████████████████████████| 5/5 [00:04<00:00,  1.14it/s]\n",
      "\u001b[32m[I 2021-11-12 11:15:33,045]\u001b[0m Trial 41 finished with value: 0.1406927963907565 and parameters: {'num_leaves': 123, 'min_data_in_leaf': 21, 'max_depth': 17, 'max_bin': 148, 'lambda_l1': 1.74756369373701e-07, 'lambda_l2': 0.009235564025731242, 'min_child_samples': 43}. Best is trial 31 with value: 0.13926096589226417.\u001b[0m\n"
     ]
    },
    {
     "name": "stdout",
     "output_type": "stream",
     "text": [
      "Model: lgbm | Mean train rsmle: 0.0845478186389016 | Standard deviation: 0.0005420030620166297\n",
      "Model: lgbm | Mean val rsmle: 0.1406927963907565 | Standard deviation: 0.003758555760186974\n"
     ]
    },
    {
     "name": "stderr",
     "output_type": "stream",
     "text": [
      "  0%|                                                                                                                                                                                                             | 0/5 [00:00<?, ?it/s]"
     ]
    },
    {
     "name": "stdout",
     "output_type": "stream",
     "text": [
      "[LightGBM] [Warning] min_data_in_leaf is set=38, min_child_samples=61 will be ignored. Current value: min_data_in_leaf=38\n"
     ]
    },
    {
     "name": "stderr",
     "output_type": "stream",
     "text": [
      " 20%|███████████████████████████████████████▍                                                                                                                                                             | 1/5 [00:00<00:03,  1.23it/s]"
     ]
    },
    {
     "name": "stdout",
     "output_type": "stream",
     "text": [
      "[LightGBM] [Warning] min_data_in_leaf is set=38, min_child_samples=61 will be ignored. Current value: min_data_in_leaf=38\n"
     ]
    },
    {
     "name": "stderr",
     "output_type": "stream",
     "text": [
      " 40%|██████████████████████████████████████████████████████████████████████████████▊                                                                                                                      | 2/5 [00:01<00:02,  1.22it/s]"
     ]
    },
    {
     "name": "stdout",
     "output_type": "stream",
     "text": [
      "[LightGBM] [Warning] min_data_in_leaf is set=38, min_child_samples=61 will be ignored. Current value: min_data_in_leaf=38\n"
     ]
    },
    {
     "name": "stderr",
     "output_type": "stream",
     "text": [
      " 60%|██████████████████████████████████████████████████████████████████████████████████████████████████████████████████████▏                                                                              | 3/5 [00:02<00:01,  1.22it/s]"
     ]
    },
    {
     "name": "stdout",
     "output_type": "stream",
     "text": [
      "[LightGBM] [Warning] min_data_in_leaf is set=38, min_child_samples=61 will be ignored. Current value: min_data_in_leaf=38\n"
     ]
    },
    {
     "name": "stderr",
     "output_type": "stream",
     "text": [
      " 80%|█████████████████████████████████████████████████████████████████████████████████████████████████████████████████████████████████████████████████████████████▌                                       | 4/5 [00:03<00:00,  1.21it/s]"
     ]
    },
    {
     "name": "stdout",
     "output_type": "stream",
     "text": [
      "[LightGBM] [Warning] min_data_in_leaf is set=38, min_child_samples=61 will be ignored. Current value: min_data_in_leaf=38\n"
     ]
    },
    {
     "name": "stderr",
     "output_type": "stream",
     "text": [
      "100%|█████████████████████████████████████████████████████████████████████████████████████████████████████████████████████████████████████████████████████████████████████████████████████████████████████| 5/5 [00:04<00:00,  1.21it/s]\n",
      "\u001b[32m[I 2021-11-12 11:15:37,216]\u001b[0m Trial 42 finished with value: 0.1435804000676006 and parameters: {'num_leaves': 114, 'min_data_in_leaf': 38, 'max_depth': 16, 'max_bin': 158, 'lambda_l1': 3.754383228943529e-08, 'lambda_l2': 0.19996867656680595, 'min_child_samples': 61}. Best is trial 31 with value: 0.13926096589226417.\u001b[0m\n"
     ]
    },
    {
     "name": "stdout",
     "output_type": "stream",
     "text": [
      "Model: lgbm | Mean train rsmle: 0.09573222397139416 | Standard deviation: 0.0008048843239282227\n",
      "Model: lgbm | Mean val rsmle: 0.1435804000676006 | Standard deviation: 0.0033102250318854747\n"
     ]
    },
    {
     "name": "stderr",
     "output_type": "stream",
     "text": [
      "  0%|                                                                                                                                                                                                             | 0/5 [00:00<?, ?it/s]"
     ]
    },
    {
     "name": "stdout",
     "output_type": "stream",
     "text": [
      "[LightGBM] [Warning] min_data_in_leaf is set=8, min_child_samples=48 will be ignored. Current value: min_data_in_leaf=8\n"
     ]
    },
    {
     "name": "stderr",
     "output_type": "stream",
     "text": [
      " 20%|███████████████████████████████████████▍                                                                                                                                                             | 1/5 [00:00<00:02,  1.66it/s]"
     ]
    },
    {
     "name": "stdout",
     "output_type": "stream",
     "text": [
      "[LightGBM] [Warning] min_data_in_leaf is set=8, min_child_samples=48 will be ignored. Current value: min_data_in_leaf=8\n"
     ]
    },
    {
     "name": "stderr",
     "output_type": "stream",
     "text": [
      " 40%|██████████████████████████████████████████████████████████████████████████████▊                                                                                                                      | 2/5 [00:01<00:01,  1.67it/s]"
     ]
    },
    {
     "name": "stdout",
     "output_type": "stream",
     "text": [
      "[LightGBM] [Warning] min_data_in_leaf is set=8, min_child_samples=48 will be ignored. Current value: min_data_in_leaf=8\n"
     ]
    },
    {
     "name": "stderr",
     "output_type": "stream",
     "text": [
      " 60%|██████████████████████████████████████████████████████████████████████████████████████████████████████████████████████▏                                                                              | 3/5 [00:01<00:01,  1.64it/s]"
     ]
    },
    {
     "name": "stdout",
     "output_type": "stream",
     "text": [
      "[LightGBM] [Warning] min_data_in_leaf is set=8, min_child_samples=48 will be ignored. Current value: min_data_in_leaf=8\n"
     ]
    },
    {
     "name": "stderr",
     "output_type": "stream",
     "text": [
      " 80%|█████████████████████████████████████████████████████████████████████████████████████████████████████████████████████████████████████████████████████████████▌                                       | 4/5 [00:02<00:00,  1.62it/s]"
     ]
    },
    {
     "name": "stdout",
     "output_type": "stream",
     "text": [
      "[LightGBM] [Warning] min_data_in_leaf is set=8, min_child_samples=48 will be ignored. Current value: min_data_in_leaf=8\n"
     ]
    },
    {
     "name": "stderr",
     "output_type": "stream",
     "text": [
      "100%|█████████████████████████████████████████████████████████████████████████████████████████████████████████████████████████████████████████████████████████████████████████████████████████████████████| 5/5 [00:03<00:00,  1.63it/s]\n",
      "\u001b[32m[I 2021-11-12 11:15:40,332]\u001b[0m Trial 43 finished with value: 0.14531346153206814 and parameters: {'num_leaves': 58, 'min_data_in_leaf': 8, 'max_depth': 20, 'max_bin': 202, 'lambda_l1': 2.1755568693033627e-07, 'lambda_l2': 0.02504199080174588, 'min_child_samples': 48}. Best is trial 31 with value: 0.13926096589226417.\u001b[0m\n"
     ]
    },
    {
     "name": "stdout",
     "output_type": "stream",
     "text": [
      "Model: lgbm | Mean train rsmle: 0.10553680960106784 | Standard deviation: 0.0005504379908844443\n",
      "Model: lgbm | Mean val rsmle: 0.14531346153206814 | Standard deviation: 0.0018416841163445227\n"
     ]
    },
    {
     "name": "stderr",
     "output_type": "stream",
     "text": [
      "  0%|                                                                                                                                                                                                             | 0/5 [00:00<?, ?it/s]"
     ]
    },
    {
     "name": "stdout",
     "output_type": "stream",
     "text": [
      "[LightGBM] [Warning] min_data_in_leaf is set=16, min_child_samples=55 will be ignored. Current value: min_data_in_leaf=16\n"
     ]
    },
    {
     "name": "stderr",
     "output_type": "stream",
     "text": [
      " 20%|███████████████████████████████████████▍                                                                                                                                                             | 1/5 [00:00<00:01,  2.35it/s]"
     ]
    },
    {
     "name": "stdout",
     "output_type": "stream",
     "text": [
      "[LightGBM] [Warning] min_data_in_leaf is set=16, min_child_samples=55 will be ignored. Current value: min_data_in_leaf=16\n"
     ]
    },
    {
     "name": "stderr",
     "output_type": "stream",
     "text": [
      " 40%|██████████████████████████████████████████████████████████████████████████████▊                                                                                                                      | 2/5 [00:00<00:01,  2.37it/s]"
     ]
    },
    {
     "name": "stdout",
     "output_type": "stream",
     "text": [
      "[LightGBM] [Warning] min_data_in_leaf is set=16, min_child_samples=55 will be ignored. Current value: min_data_in_leaf=16\n"
     ]
    },
    {
     "name": "stderr",
     "output_type": "stream",
     "text": [
      " 60%|██████████████████████████████████████████████████████████████████████████████████████████████████████████████████████▏                                                                              | 3/5 [00:01<00:00,  2.30it/s]"
     ]
    },
    {
     "name": "stdout",
     "output_type": "stream",
     "text": [
      "[LightGBM] [Warning] min_data_in_leaf is set=16, min_child_samples=55 will be ignored. Current value: min_data_in_leaf=16\n"
     ]
    },
    {
     "name": "stderr",
     "output_type": "stream",
     "text": [
      " 80%|█████████████████████████████████████████████████████████████████████████████████████████████████████████████████████████████████████████████████████████████▌                                       | 4/5 [00:01<00:00,  2.30it/s]"
     ]
    },
    {
     "name": "stdout",
     "output_type": "stream",
     "text": [
      "[LightGBM] [Warning] min_data_in_leaf is set=16, min_child_samples=55 will be ignored. Current value: min_data_in_leaf=16\n"
     ]
    },
    {
     "name": "stderr",
     "output_type": "stream",
     "text": [
      "100%|█████████████████████████████████████████████████████████████████████████████████████████████████████████████████████████████████████████████████████████████████████████████████████████████████████| 5/5 [00:02<00:00,  2.31it/s]\n",
      "\u001b[32m[I 2021-11-12 11:15:42,540]\u001b[0m Trial 44 finished with value: 0.1568811312672024 and parameters: {'num_leaves': 29, 'min_data_in_leaf': 16, 'max_depth': 18, 'max_bin': 171, 'lambda_l1': 8.60036644529676e-07, 'lambda_l2': 0.0002969366106678364, 'min_child_samples': 55}. Best is trial 31 with value: 0.13926096589226417.\u001b[0m\n"
     ]
    },
    {
     "name": "stdout",
     "output_type": "stream",
     "text": [
      "Model: lgbm | Mean train rsmle: 0.13363967667600468 | Standard deviation: 0.0005377380202546705\n",
      "Model: lgbm | Mean val rsmle: 0.1568811312672024 | Standard deviation: 0.0031918333169968192\n"
     ]
    },
    {
     "name": "stderr",
     "output_type": "stream",
     "text": [
      "  0%|                                                                                                                                                                                                             | 0/5 [00:00<?, ?it/s]"
     ]
    },
    {
     "name": "stdout",
     "output_type": "stream",
     "text": [
      "[LightGBM] [Warning] min_data_in_leaf is set=23, min_child_samples=18 will be ignored. Current value: min_data_in_leaf=23\n"
     ]
    },
    {
     "name": "stderr",
     "output_type": "stream",
     "text": [
      " 20%|███████████████████████████████████████▍                                                                                                                                                             | 1/5 [00:00<00:03,  1.06it/s]"
     ]
    },
    {
     "name": "stdout",
     "output_type": "stream",
     "text": [
      "[LightGBM] [Warning] min_data_in_leaf is set=23, min_child_samples=18 will be ignored. Current value: min_data_in_leaf=23\n"
     ]
    },
    {
     "name": "stderr",
     "output_type": "stream",
     "text": [
      " 40%|██████████████████████████████████████████████████████████████████████████████▊                                                                                                                      | 2/5 [00:01<00:02,  1.06it/s]"
     ]
    },
    {
     "name": "stdout",
     "output_type": "stream",
     "text": [
      "[LightGBM] [Warning] min_data_in_leaf is set=23, min_child_samples=18 will be ignored. Current value: min_data_in_leaf=23\n"
     ]
    },
    {
     "name": "stderr",
     "output_type": "stream",
     "text": [
      " 60%|██████████████████████████████████████████████████████████████████████████████████████████████████████████████████████▏                                                                              | 3/5 [00:02<00:01,  1.05it/s]"
     ]
    },
    {
     "name": "stdout",
     "output_type": "stream",
     "text": [
      "[LightGBM] [Warning] min_data_in_leaf is set=23, min_child_samples=18 will be ignored. Current value: min_data_in_leaf=23\n"
     ]
    },
    {
     "name": "stderr",
     "output_type": "stream",
     "text": [
      " 80%|█████████████████████████████████████████████████████████████████████████████████████████████████████████████████████████████████████████████████████████████▌                                       | 4/5 [00:03<00:00,  1.04it/s]"
     ]
    },
    {
     "name": "stdout",
     "output_type": "stream",
     "text": [
      "[LightGBM] [Warning] min_data_in_leaf is set=23, min_child_samples=18 will be ignored. Current value: min_data_in_leaf=23\n"
     ]
    },
    {
     "name": "stderr",
     "output_type": "stream",
     "text": [
      "100%|█████████████████████████████████████████████████████████████████████████████████████████████████████████████████████████████████████████████████████████████████████████████████████████████████████| 5/5 [00:04<00:00,  1.04it/s]\n",
      "\u001b[32m[I 2021-11-12 11:15:47,376]\u001b[0m Trial 45 finished with value: 0.14097694911748848 and parameters: {'num_leaves': 123, 'min_data_in_leaf': 23, 'max_depth': 14, 'max_bin': 220, 'lambda_l1': 0.054892057541070176, 'lambda_l2': 0.003933466815973001, 'min_child_samples': 18}. Best is trial 31 with value: 0.13926096589226417.\u001b[0m\n"
     ]
    },
    {
     "name": "stdout",
     "output_type": "stream",
     "text": [
      "Model: lgbm | Mean train rsmle: 0.08718848736488208 | Standard deviation: 0.0004619375019206763\n",
      "Model: lgbm | Mean val rsmle: 0.14097694911748848 | Standard deviation: 0.0022184865517779324\n"
     ]
    },
    {
     "name": "stderr",
     "output_type": "stream",
     "text": [
      "  0%|                                                                                                                                                                                                             | 0/5 [00:00<?, ?it/s]"
     ]
    },
    {
     "name": "stdout",
     "output_type": "stream",
     "text": [
      "[LightGBM] [Warning] min_data_in_leaf is set=32, min_child_samples=66 will be ignored. Current value: min_data_in_leaf=32\n"
     ]
    },
    {
     "name": "stderr",
     "output_type": "stream",
     "text": [
      " 20%|███████████████████████████████████████▍                                                                                                                                                             | 1/5 [00:00<00:03,  1.22it/s]"
     ]
    },
    {
     "name": "stdout",
     "output_type": "stream",
     "text": [
      "[LightGBM] [Warning] min_data_in_leaf is set=32, min_child_samples=66 will be ignored. Current value: min_data_in_leaf=32\n"
     ]
    },
    {
     "name": "stderr",
     "output_type": "stream",
     "text": [
      " 40%|██████████████████████████████████████████████████████████████████████████████▊                                                                                                                      | 2/5 [00:01<00:02,  1.19it/s]"
     ]
    },
    {
     "name": "stdout",
     "output_type": "stream",
     "text": [
      "[LightGBM] [Warning] min_data_in_leaf is set=32, min_child_samples=66 will be ignored. Current value: min_data_in_leaf=32\n"
     ]
    },
    {
     "name": "stderr",
     "output_type": "stream",
     "text": [
      " 60%|██████████████████████████████████████████████████████████████████████████████████████████████████████████████████████▏                                                                              | 3/5 [00:02<00:01,  1.20it/s]"
     ]
    },
    {
     "name": "stdout",
     "output_type": "stream",
     "text": [
      "[LightGBM] [Warning] min_data_in_leaf is set=32, min_child_samples=66 will be ignored. Current value: min_data_in_leaf=32\n"
     ]
    },
    {
     "name": "stderr",
     "output_type": "stream",
     "text": [
      " 80%|█████████████████████████████████████████████████████████████████████████████████████████████████████████████████████████████████████████████████████████████▌                                       | 4/5 [00:03<00:00,  1.20it/s]"
     ]
    },
    {
     "name": "stdout",
     "output_type": "stream",
     "text": [
      "[LightGBM] [Warning] min_data_in_leaf is set=32, min_child_samples=66 will be ignored. Current value: min_data_in_leaf=32\n"
     ]
    },
    {
     "name": "stderr",
     "output_type": "stream",
     "text": [
      "100%|█████████████████████████████████████████████████████████████████████████████████████████████████████████████████████████████████████████████████████████████████████████████████████████████████████| 5/5 [00:04<00:00,  1.20it/s]\n",
      "\u001b[32m[I 2021-11-12 11:15:51,604]\u001b[0m Trial 46 finished with value: 0.1421037450033601 and parameters: {'num_leaves': 115, 'min_data_in_leaf': 32, 'max_depth': 22, 'max_bin': 132, 'lambda_l1': 6.354525243062908e-06, 'lambda_l2': 0.07472131164783967, 'min_child_samples': 66}. Best is trial 31 with value: 0.13926096589226417.\u001b[0m\n"
     ]
    },
    {
     "name": "stdout",
     "output_type": "stream",
     "text": [
      "Model: lgbm | Mean train rsmle: 0.09110347009825938 | Standard deviation: 0.0009203123430393884\n",
      "Model: lgbm | Mean val rsmle: 0.1421037450033601 | Standard deviation: 0.002835659437030303\n"
     ]
    },
    {
     "name": "stderr",
     "output_type": "stream",
     "text": [
      "  0%|                                                                                                                                                                                                             | 0/5 [00:00<?, ?it/s]"
     ]
    },
    {
     "name": "stdout",
     "output_type": "stream",
     "text": [
      "[LightGBM] [Warning] min_data_in_leaf is set=82, min_child_samples=36 will be ignored. Current value: min_data_in_leaf=82\n"
     ]
    },
    {
     "name": "stderr",
     "output_type": "stream",
     "text": [
      " 20%|███████████████████████████████████████▍                                                                                                                                                             | 1/5 [00:00<00:03,  1.24it/s]"
     ]
    },
    {
     "name": "stdout",
     "output_type": "stream",
     "text": [
      "[LightGBM] [Warning] min_data_in_leaf is set=82, min_child_samples=36 will be ignored. Current value: min_data_in_leaf=82\n"
     ]
    },
    {
     "name": "stderr",
     "output_type": "stream",
     "text": [
      " 40%|██████████████████████████████████████████████████████████████████████████████▊                                                                                                                      | 2/5 [00:01<00:02,  1.26it/s]"
     ]
    },
    {
     "name": "stdout",
     "output_type": "stream",
     "text": [
      "[LightGBM] [Warning] min_data_in_leaf is set=82, min_child_samples=36 will be ignored. Current value: min_data_in_leaf=82\n"
     ]
    },
    {
     "name": "stderr",
     "output_type": "stream",
     "text": [
      " 60%|██████████████████████████████████████████████████████████████████████████████████████████████████████████████████████▏                                                                              | 3/5 [00:02<00:01,  1.24it/s]"
     ]
    },
    {
     "name": "stdout",
     "output_type": "stream",
     "text": [
      "[LightGBM] [Warning] min_data_in_leaf is set=82, min_child_samples=36 will be ignored. Current value: min_data_in_leaf=82\n"
     ]
    },
    {
     "name": "stderr",
     "output_type": "stream",
     "text": [
      " 80%|█████████████████████████████████████████████████████████████████████████████████████████████████████████████████████████████████████████████████████████████▌                                       | 4/5 [00:03<00:00,  1.21it/s]"
     ]
    },
    {
     "name": "stdout",
     "output_type": "stream",
     "text": [
      "[LightGBM] [Warning] min_data_in_leaf is set=82, min_child_samples=36 will be ignored. Current value: min_data_in_leaf=82\n"
     ]
    },
    {
     "name": "stderr",
     "output_type": "stream",
     "text": [
      "100%|█████████████████████████████████████████████████████████████████████████████████████████████████████████████████████████████████████████████████████████████████████████████████████████████████████| 5/5 [00:04<00:00,  1.20it/s]\n",
      "\u001b[32m[I 2021-11-12 11:15:55,820]\u001b[0m Trial 47 finished with value: 0.1508303732344056 and parameters: {'num_leaves': 101, 'min_data_in_leaf': 82, 'max_depth': 19, 'max_bin': 241, 'lambda_l1': 2.9412724064540514e-08, 'lambda_l2': 0.3608066056584998, 'min_child_samples': 36}. Best is trial 31 with value: 0.13926096589226417.\u001b[0m\n"
     ]
    },
    {
     "name": "stdout",
     "output_type": "stream",
     "text": [
      "Model: lgbm | Mean train rsmle: 0.1140930831295773 | Standard deviation: 0.0010933448724033898\n",
      "Model: lgbm | Mean val rsmle: 0.1508303732344056 | Standard deviation: 0.004150221168820579\n"
     ]
    },
    {
     "name": "stderr",
     "output_type": "stream",
     "text": [
      "  0%|                                                                                                                                                                                                             | 0/5 [00:00<?, ?it/s]"
     ]
    },
    {
     "name": "stdout",
     "output_type": "stream",
     "text": [
      "[LightGBM] [Warning] min_data_in_leaf is set=10, min_child_samples=80 will be ignored. Current value: min_data_in_leaf=10\n"
     ]
    },
    {
     "name": "stderr",
     "output_type": "stream",
     "text": [
      " 20%|███████████████████████████████████████▍                                                                                                                                                             | 1/5 [00:00<00:03,  1.21it/s]"
     ]
    },
    {
     "name": "stdout",
     "output_type": "stream",
     "text": [
      "[LightGBM] [Warning] min_data_in_leaf is set=10, min_child_samples=80 will be ignored. Current value: min_data_in_leaf=10\n"
     ]
    },
    {
     "name": "stderr",
     "output_type": "stream",
     "text": [
      " 40%|██████████████████████████████████████████████████████████████████████████████▊                                                                                                                      | 2/5 [00:01<00:02,  1.23it/s]"
     ]
    },
    {
     "name": "stdout",
     "output_type": "stream",
     "text": [
      "[LightGBM] [Warning] min_data_in_leaf is set=10, min_child_samples=80 will be ignored. Current value: min_data_in_leaf=10\n"
     ]
    },
    {
     "name": "stderr",
     "output_type": "stream",
     "text": [
      " 60%|██████████████████████████████████████████████████████████████████████████████████████████████████████████████████████▏                                                                              | 3/5 [00:02<00:01,  1.21it/s]"
     ]
    },
    {
     "name": "stdout",
     "output_type": "stream",
     "text": [
      "[LightGBM] [Warning] min_data_in_leaf is set=10, min_child_samples=80 will be ignored. Current value: min_data_in_leaf=10\n"
     ]
    },
    {
     "name": "stderr",
     "output_type": "stream",
     "text": [
      " 80%|█████████████████████████████████████████████████████████████████████████████████████████████████████████████████████████████████████████████████████████████▌                                       | 4/5 [00:03<00:00,  1.20it/s]"
     ]
    },
    {
     "name": "stdout",
     "output_type": "stream",
     "text": [
      "[LightGBM] [Warning] min_data_in_leaf is set=10, min_child_samples=80 will be ignored. Current value: min_data_in_leaf=10\n"
     ]
    },
    {
     "name": "stderr",
     "output_type": "stream",
     "text": [
      "100%|█████████████████████████████████████████████████████████████████████████████████████████████████████████████████████████████████████████████████████████████████████████████████████████████████████| 5/5 [00:04<00:00,  1.20it/s]\n",
      "\u001b[32m[I 2021-11-12 11:16:00,019]\u001b[0m Trial 48 finished with value: 0.1407783264111 and parameters: {'num_leaves': 124, 'min_data_in_leaf': 10, 'max_depth': 29, 'max_bin': 115, 'lambda_l1': 4.339618476599495e-07, 'lambda_l2': 4.218529128246222e-07, 'min_child_samples': 80}. Best is trial 31 with value: 0.13926096589226417.\u001b[0m\n"
     ]
    },
    {
     "name": "stdout",
     "output_type": "stream",
     "text": [
      "Model: lgbm | Mean train rsmle: 0.07920198695913938 | Standard deviation: 0.00048620186182530466\n",
      "Model: lgbm | Mean val rsmle: 0.1407783264111 | Standard deviation: 0.002619098250978059\n"
     ]
    },
    {
     "name": "stderr",
     "output_type": "stream",
     "text": [
      "  0%|                                                                                                                                                                                                             | 0/5 [00:00<?, ?it/s]"
     ]
    },
    {
     "name": "stdout",
     "output_type": "stream",
     "text": [
      "[LightGBM] [Warning] min_data_in_leaf is set=17, min_child_samples=45 will be ignored. Current value: min_data_in_leaf=17\n"
     ]
    },
    {
     "name": "stderr",
     "output_type": "stream",
     "text": [
      " 20%|███████████████████████████████████████▍                                                                                                                                                             | 1/5 [00:00<00:03,  1.27it/s]"
     ]
    },
    {
     "name": "stdout",
     "output_type": "stream",
     "text": [
      "[LightGBM] [Warning] min_data_in_leaf is set=17, min_child_samples=45 will be ignored. Current value: min_data_in_leaf=17\n"
     ]
    },
    {
     "name": "stderr",
     "output_type": "stream",
     "text": [
      " 40%|██████████████████████████████████████████████████████████████████████████████▊                                                                                                                      | 2/5 [00:01<00:02,  1.27it/s]"
     ]
    },
    {
     "name": "stdout",
     "output_type": "stream",
     "text": [
      "[LightGBM] [Warning] min_data_in_leaf is set=17, min_child_samples=45 will be ignored. Current value: min_data_in_leaf=17\n"
     ]
    },
    {
     "name": "stderr",
     "output_type": "stream",
     "text": [
      " 60%|██████████████████████████████████████████████████████████████████████████████████████████████████████████████████████▏                                                                              | 3/5 [00:02<00:01,  1.26it/s]"
     ]
    },
    {
     "name": "stdout",
     "output_type": "stream",
     "text": [
      "[LightGBM] [Warning] min_data_in_leaf is set=17, min_child_samples=45 will be ignored. Current value: min_data_in_leaf=17\n"
     ]
    },
    {
     "name": "stderr",
     "output_type": "stream",
     "text": [
      " 80%|█████████████████████████████████████████████████████████████████████████████████████████████████████████████████████████████████████████████████████████████▌                                       | 4/5 [00:03<00:00,  1.25it/s]"
     ]
    },
    {
     "name": "stdout",
     "output_type": "stream",
     "text": [
      "[LightGBM] [Warning] min_data_in_leaf is set=17, min_child_samples=45 will be ignored. Current value: min_data_in_leaf=17\n"
     ]
    },
    {
     "name": "stderr",
     "output_type": "stream",
     "text": [
      "100%|█████████████████████████████████████████████████████████████████████████████████████████████████████████████████████████████████████████████████████████████████████████████████████████████████████| 5/5 [00:04<00:00,  1.25it/s]\n",
      "\u001b[32m[I 2021-11-12 11:16:04,065]\u001b[0m Trial 49 finished with value: 0.14077145667236002 and parameters: {'num_leaves': 109, 'min_data_in_leaf': 17, 'max_depth': 17, 'max_bin': 154, 'lambda_l1': 5.98498649853272e-08, 'lambda_l2': 0.0013626921057709556, 'min_child_samples': 45}. Best is trial 31 with value: 0.13926096589226417.\u001b[0m\n"
     ]
    },
    {
     "name": "stdout",
     "output_type": "stream",
     "text": [
      "Model: lgbm | Mean train rsmle: 0.08658209293942842 | Standard deviation: 0.0005699572650922947\n",
      "Model: lgbm | Mean val rsmle: 0.14077145667236002 | Standard deviation: 0.0032557512101919492\n"
     ]
    },
    {
     "name": "stderr",
     "output_type": "stream",
     "text": [
      "  0%|                                                                                                                                                                                                             | 0/5 [00:00<?, ?it/s]"
     ]
    },
    {
     "name": "stdout",
     "output_type": "stream",
     "text": [
      "[LightGBM] [Warning] min_data_in_leaf is set=31, min_child_samples=70 will be ignored. Current value: min_data_in_leaf=31\n"
     ]
    },
    {
     "name": "stderr",
     "output_type": "stream",
     "text": [
      " 20%|███████████████████████████████████████▍                                                                                                                                                             | 1/5 [00:01<00:04,  1.03s/it]"
     ]
    },
    {
     "name": "stdout",
     "output_type": "stream",
     "text": [
      "[LightGBM] [Warning] min_data_in_leaf is set=31, min_child_samples=70 will be ignored. Current value: min_data_in_leaf=31\n"
     ]
    },
    {
     "name": "stderr",
     "output_type": "stream",
     "text": [
      " 40%|██████████████████████████████████████████████████████████████████████████████▊                                                                                                                      | 2/5 [00:02<00:03,  1.01s/it]"
     ]
    },
    {
     "name": "stdout",
     "output_type": "stream",
     "text": [
      "[LightGBM] [Warning] min_data_in_leaf is set=31, min_child_samples=70 will be ignored. Current value: min_data_in_leaf=31\n"
     ]
    },
    {
     "name": "stderr",
     "output_type": "stream",
     "text": [
      " 60%|██████████████████████████████████████████████████████████████████████████████████████████████████████████████████████▏                                                                              | 3/5 [00:02<00:01,  1.04it/s]"
     ]
    },
    {
     "name": "stdout",
     "output_type": "stream",
     "text": [
      "[LightGBM] [Warning] min_data_in_leaf is set=31, min_child_samples=70 will be ignored. Current value: min_data_in_leaf=31\n"
     ]
    },
    {
     "name": "stderr",
     "output_type": "stream",
     "text": [
      " 80%|█████████████████████████████████████████████████████████████████████████████████████████████████████████████████████████████████████████████████████████████▌                                       | 4/5 [00:03<00:00,  1.02it/s]"
     ]
    },
    {
     "name": "stdout",
     "output_type": "stream",
     "text": [
      "[LightGBM] [Warning] min_data_in_leaf is set=31, min_child_samples=70 will be ignored. Current value: min_data_in_leaf=31\n"
     ]
    },
    {
     "name": "stderr",
     "output_type": "stream",
     "text": [
      "100%|█████████████████████████████████████████████████████████████████████████████████████████████████████████████████████████████████████████████████████████████████████████████████████████████████████| 5/5 [00:05<00:00,  1.00s/it]\n",
      "\u001b[32m[I 2021-11-12 11:16:09,135]\u001b[0m Trial 50 finished with value: 0.14133498839313863 and parameters: {'num_leaves': 119, 'min_data_in_leaf': 31, 'max_depth': 15, 'max_bin': 226, 'lambda_l1': 9.412060664562167e-07, 'lambda_l2': 0.015469577064390031, 'min_child_samples': 70}. Best is trial 31 with value: 0.13926096589226417.\u001b[0m\n"
     ]
    },
    {
     "name": "stdout",
     "output_type": "stream",
     "text": [
      "Model: lgbm | Mean train rsmle: 0.09110426453148741 | Standard deviation: 0.0006796343043482371\n",
      "Model: lgbm | Mean val rsmle: 0.14133498839313863 | Standard deviation: 0.0030173748996212366\n"
     ]
    },
    {
     "name": "stderr",
     "output_type": "stream",
     "text": [
      "  0%|                                                                                                                                                                                                             | 0/5 [00:00<?, ?it/s]"
     ]
    },
    {
     "name": "stdout",
     "output_type": "stream",
     "text": [
      "[LightGBM] [Warning] min_data_in_leaf is set=5, min_child_samples=93 will be ignored. Current value: min_data_in_leaf=5\n"
     ]
    },
    {
     "name": "stderr",
     "output_type": "stream",
     "text": [
      " 20%|███████████████████████████████████████▍                                                                                                                                                             | 1/5 [00:00<00:03,  1.27it/s]"
     ]
    },
    {
     "name": "stdout",
     "output_type": "stream",
     "text": [
      "[LightGBM] [Warning] min_data_in_leaf is set=5, min_child_samples=93 will be ignored. Current value: min_data_in_leaf=5\n"
     ]
    },
    {
     "name": "stderr",
     "output_type": "stream",
     "text": [
      " 40%|██████████████████████████████████████████████████████████████████████████████▊                                                                                                                      | 2/5 [00:01<00:02,  1.30it/s]"
     ]
    },
    {
     "name": "stdout",
     "output_type": "stream",
     "text": [
      "[LightGBM] [Warning] min_data_in_leaf is set=5, min_child_samples=93 will be ignored. Current value: min_data_in_leaf=5\n"
     ]
    },
    {
     "name": "stderr",
     "output_type": "stream",
     "text": [
      " 60%|██████████████████████████████████████████████████████████████████████████████████████████████████████████████████████▏                                                                              | 3/5 [00:02<00:01,  1.29it/s]"
     ]
    },
    {
     "name": "stdout",
     "output_type": "stream",
     "text": [
      "[LightGBM] [Warning] min_data_in_leaf is set=5, min_child_samples=93 will be ignored. Current value: min_data_in_leaf=5\n"
     ]
    },
    {
     "name": "stderr",
     "output_type": "stream",
     "text": [
      " 80%|█████████████████████████████████████████████████████████████████████████████████████████████████████████████████████████████████████████████████████████████▌                                       | 4/5 [00:03<00:00,  1.30it/s]"
     ]
    },
    {
     "name": "stdout",
     "output_type": "stream",
     "text": [
      "[LightGBM] [Warning] min_data_in_leaf is set=5, min_child_samples=93 will be ignored. Current value: min_data_in_leaf=5\n"
     ]
    },
    {
     "name": "stderr",
     "output_type": "stream",
     "text": [
      "100%|█████████████████████████████████████████████████████████████████████████████████████████████████████████████████████████████████████████████████████████████████████████████████████████████████████| 5/5 [00:03<00:00,  1.26it/s]\n",
      "\u001b[32m[I 2021-11-12 11:16:13,149]\u001b[0m Trial 51 finished with value: 0.14043099246319646 and parameters: {'num_leaves': 94, 'min_data_in_leaf': 5, 'max_depth': 20, 'max_bin': 209, 'lambda_l1': 2.1361398514323094e-05, 'lambda_l2': 0.06715092719305667, 'min_child_samples': 93}. Best is trial 31 with value: 0.13926096589226417.\u001b[0m\n"
     ]
    },
    {
     "name": "stdout",
     "output_type": "stream",
     "text": [
      "Model: lgbm | Mean train rsmle: 0.0856971583098093 | Standard deviation: 0.0003028007657522622\n",
      "Model: lgbm | Mean val rsmle: 0.14043099246319646 | Standard deviation: 0.002171677327975495\n"
     ]
    },
    {
     "name": "stderr",
     "output_type": "stream",
     "text": [
      "  0%|                                                                                                                                                                                                             | 0/5 [00:00<?, ?it/s]"
     ]
    },
    {
     "name": "stdout",
     "output_type": "stream",
     "text": [
      "[LightGBM] [Warning] min_data_in_leaf is set=9, min_child_samples=99 will be ignored. Current value: min_data_in_leaf=9\n"
     ]
    },
    {
     "name": "stderr",
     "output_type": "stream",
     "text": [
      " 20%|███████████████████████████████████████▍                                                                                                                                                             | 1/5 [00:00<00:03,  1.23it/s]"
     ]
    },
    {
     "name": "stdout",
     "output_type": "stream",
     "text": [
      "[LightGBM] [Warning] min_data_in_leaf is set=9, min_child_samples=99 will be ignored. Current value: min_data_in_leaf=9\n"
     ]
    },
    {
     "name": "stderr",
     "output_type": "stream",
     "text": [
      " 40%|██████████████████████████████████████████████████████████████████████████████▊                                                                                                                      | 2/5 [00:01<00:02,  1.23it/s]"
     ]
    },
    {
     "name": "stdout",
     "output_type": "stream",
     "text": [
      "[LightGBM] [Warning] min_data_in_leaf is set=9, min_child_samples=99 will be ignored. Current value: min_data_in_leaf=9\n"
     ]
    },
    {
     "name": "stderr",
     "output_type": "stream",
     "text": [
      " 60%|██████████████████████████████████████████████████████████████████████████████████████████████████████████████████████▏                                                                              | 3/5 [00:02<00:01,  1.24it/s]"
     ]
    },
    {
     "name": "stdout",
     "output_type": "stream",
     "text": [
      "[LightGBM] [Warning] min_data_in_leaf is set=9, min_child_samples=99 will be ignored. Current value: min_data_in_leaf=9\n"
     ]
    },
    {
     "name": "stderr",
     "output_type": "stream",
     "text": [
      " 80%|█████████████████████████████████████████████████████████████████████████████████████████████████████████████████████████████████████████████████████████████▌                                       | 4/5 [00:03<00:00,  1.24it/s]"
     ]
    },
    {
     "name": "stdout",
     "output_type": "stream",
     "text": [
      "[LightGBM] [Warning] min_data_in_leaf is set=9, min_child_samples=99 will be ignored. Current value: min_data_in_leaf=9\n"
     ]
    },
    {
     "name": "stderr",
     "output_type": "stream",
     "text": [
      "100%|█████████████████████████████████████████████████████████████████████████████████████████████████████████████████████████████████████████████████████████████████████████████████████████████████████| 5/5 [00:04<00:00,  1.24it/s]\n",
      "\u001b[32m[I 2021-11-12 11:16:17,228]\u001b[0m Trial 52 finished with value: 0.1409524994562345 and parameters: {'num_leaves': 108, 'min_data_in_leaf': 9, 'max_depth': 20, 'max_bin': 212, 'lambda_l1': 1.8353562439689507e-07, 'lambda_l2': 0.12432913837561053, 'min_child_samples': 99}. Best is trial 31 with value: 0.13926096589226417.\u001b[0m\n"
     ]
    },
    {
     "name": "stdout",
     "output_type": "stream",
     "text": [
      "Model: lgbm | Mean train rsmle: 0.08305568517185583 | Standard deviation: 0.0002745635214900901\n",
      "Model: lgbm | Mean val rsmle: 0.1409524994562345 | Standard deviation: 0.0034432410493253633\n"
     ]
    },
    {
     "name": "stderr",
     "output_type": "stream",
     "text": [
      "  0%|                                                                                                                                                                                                             | 0/5 [00:00<?, ?it/s]"
     ]
    },
    {
     "name": "stdout",
     "output_type": "stream",
     "text": [
      "[LightGBM] [Warning] min_data_in_leaf is set=14, min_child_samples=94 will be ignored. Current value: min_data_in_leaf=14\n"
     ]
    },
    {
     "name": "stderr",
     "output_type": "stream",
     "text": [
      " 20%|███████████████████████████████████████▍                                                                                                                                                             | 1/5 [00:00<00:02,  1.40it/s]"
     ]
    },
    {
     "name": "stdout",
     "output_type": "stream",
     "text": [
      "[LightGBM] [Warning] min_data_in_leaf is set=14, min_child_samples=94 will be ignored. Current value: min_data_in_leaf=14\n"
     ]
    },
    {
     "name": "stderr",
     "output_type": "stream",
     "text": [
      " 40%|██████████████████████████████████████████████████████████████████████████████▊                                                                                                                      | 2/5 [00:01<00:02,  1.33it/s]"
     ]
    },
    {
     "name": "stdout",
     "output_type": "stream",
     "text": [
      "[LightGBM] [Warning] min_data_in_leaf is set=14, min_child_samples=94 will be ignored. Current value: min_data_in_leaf=14\n"
     ]
    },
    {
     "name": "stderr",
     "output_type": "stream",
     "text": [
      " 60%|██████████████████████████████████████████████████████████████████████████████████████████████████████████████████████▏                                                                              | 3/5 [00:02<00:01,  1.30it/s]"
     ]
    },
    {
     "name": "stdout",
     "output_type": "stream",
     "text": [
      "[LightGBM] [Warning] min_data_in_leaf is set=14, min_child_samples=94 will be ignored. Current value: min_data_in_leaf=14\n"
     ]
    },
    {
     "name": "stderr",
     "output_type": "stream",
     "text": [
      " 80%|█████████████████████████████████████████████████████████████████████████████████████████████████████████████████████████████████████████████████████████████▌                                       | 4/5 [00:03<00:00,  1.30it/s]"
     ]
    },
    {
     "name": "stdout",
     "output_type": "stream",
     "text": [
      "[LightGBM] [Warning] min_data_in_leaf is set=14, min_child_samples=94 will be ignored. Current value: min_data_in_leaf=14\n"
     ]
    },
    {
     "name": "stderr",
     "output_type": "stream",
     "text": [
      "100%|█████████████████████████████████████████████████████████████████████████████████████████████████████████████████████████████████████████████████████████████████████████████████████████████████████| 5/5 [00:03<00:00,  1.31it/s]\n",
      "\u001b[32m[I 2021-11-12 11:16:21,073]\u001b[0m Trial 53 finished with value: 0.14158906389320966 and parameters: {'num_leaves': 96, 'min_data_in_leaf': 14, 'max_depth': 24, 'max_bin': 192, 'lambda_l1': 5.1648786672536294e-05, 'lambda_l2': 3.835651430666928, 'min_child_samples': 94}. Best is trial 31 with value: 0.13926096589226417.\u001b[0m\n"
     ]
    },
    {
     "name": "stdout",
     "output_type": "stream",
     "text": [
      "Model: lgbm | Mean train rsmle: 0.09286319307630944 | Standard deviation: 0.000451540105632517\n",
      "Model: lgbm | Mean val rsmle: 0.14158906389320966 | Standard deviation: 0.0031583277140231464\n"
     ]
    },
    {
     "name": "stderr",
     "output_type": "stream",
     "text": [
      "  0%|                                                                                                                                                                                                             | 0/5 [00:00<?, ?it/s]"
     ]
    },
    {
     "name": "stdout",
     "output_type": "stream",
     "text": [
      "[LightGBM] [Warning] min_data_in_leaf is set=5, min_child_samples=77 will be ignored. Current value: min_data_in_leaf=5\n"
     ]
    },
    {
     "name": "stderr",
     "output_type": "stream",
     "text": [
      " 20%|███████████████████████████████████████▍                                                                                                                                                             | 1/5 [00:00<00:03,  1.24it/s]"
     ]
    },
    {
     "name": "stdout",
     "output_type": "stream",
     "text": [
      "[LightGBM] [Warning] min_data_in_leaf is set=5, min_child_samples=77 will be ignored. Current value: min_data_in_leaf=5\n"
     ]
    },
    {
     "name": "stderr",
     "output_type": "stream",
     "text": [
      " 40%|██████████████████████████████████████████████████████████████████████████████▊                                                                                                                      | 2/5 [00:01<00:02,  1.27it/s]"
     ]
    },
    {
     "name": "stdout",
     "output_type": "stream",
     "text": [
      "[LightGBM] [Warning] min_data_in_leaf is set=5, min_child_samples=77 will be ignored. Current value: min_data_in_leaf=5\n"
     ]
    },
    {
     "name": "stderr",
     "output_type": "stream",
     "text": [
      " 60%|██████████████████████████████████████████████████████████████████████████████████████████████████████████████████████▏                                                                              | 3/5 [00:02<00:01,  1.26it/s]"
     ]
    },
    {
     "name": "stdout",
     "output_type": "stream",
     "text": [
      "[LightGBM] [Warning] min_data_in_leaf is set=5, min_child_samples=77 will be ignored. Current value: min_data_in_leaf=5\n"
     ]
    },
    {
     "name": "stderr",
     "output_type": "stream",
     "text": [
      " 80%|█████████████████████████████████████████████████████████████████████████████████████████████████████████████████████████████████████████████████████████████▌                                       | 4/5 [00:03<00:00,  1.25it/s]"
     ]
    },
    {
     "name": "stdout",
     "output_type": "stream",
     "text": [
      "[LightGBM] [Warning] min_data_in_leaf is set=5, min_child_samples=77 will be ignored. Current value: min_data_in_leaf=5\n"
     ]
    },
    {
     "name": "stderr",
     "output_type": "stream",
     "text": [
      "100%|█████████████████████████████████████████████████████████████████████████████████████████████████████████████████████████████████████████████████████████████████████████████████████████████████████| 5/5 [00:04<00:00,  1.24it/s]\n",
      "\u001b[32m[I 2021-11-12 11:16:25,134]\u001b[0m Trial 54 finished with value: 0.13941809230728133 and parameters: {'num_leaves': 103, 'min_data_in_leaf': 5, 'max_depth': 18, 'max_bin': 229, 'lambda_l1': 0.00023328632658710258, 'lambda_l2': 0.05695566536548956, 'min_child_samples': 77}. Best is trial 31 with value: 0.13926096589226417.\u001b[0m\n"
     ]
    },
    {
     "name": "stdout",
     "output_type": "stream",
     "text": [
      "Model: lgbm | Mean train rsmle: 0.08219024863554211 | Standard deviation: 0.0005356026458172024\n",
      "Model: lgbm | Mean val rsmle: 0.13941809230728133 | Standard deviation: 0.00332096954760543\n"
     ]
    },
    {
     "name": "stderr",
     "output_type": "stream",
     "text": [
      "  0%|                                                                                                                                                                                                             | 0/5 [00:00<?, ?it/s]"
     ]
    },
    {
     "name": "stdout",
     "output_type": "stream",
     "text": [
      "[LightGBM] [Warning] min_data_in_leaf is set=5, min_child_samples=79 will be ignored. Current value: min_data_in_leaf=5\n"
     ]
    },
    {
     "name": "stderr",
     "output_type": "stream",
     "text": [
      " 20%|███████████████████████████████████████▍                                                                                                                                                             | 1/5 [00:00<00:02,  1.34it/s]"
     ]
    },
    {
     "name": "stdout",
     "output_type": "stream",
     "text": [
      "[LightGBM] [Warning] min_data_in_leaf is set=5, min_child_samples=79 will be ignored. Current value: min_data_in_leaf=5\n"
     ]
    },
    {
     "name": "stderr",
     "output_type": "stream",
     "text": [
      " 40%|██████████████████████████████████████████████████████████████████████████████▊                                                                                                                      | 2/5 [00:01<00:02,  1.36it/s]"
     ]
    },
    {
     "name": "stdout",
     "output_type": "stream",
     "text": [
      "[LightGBM] [Warning] min_data_in_leaf is set=5, min_child_samples=79 will be ignored. Current value: min_data_in_leaf=5\n"
     ]
    },
    {
     "name": "stderr",
     "output_type": "stream",
     "text": [
      " 60%|██████████████████████████████████████████████████████████████████████████████████████████████████████████████████████▏                                                                              | 3/5 [00:02<00:01,  1.35it/s]"
     ]
    },
    {
     "name": "stdout",
     "output_type": "stream",
     "text": [
      "[LightGBM] [Warning] min_data_in_leaf is set=5, min_child_samples=79 will be ignored. Current value: min_data_in_leaf=5\n"
     ]
    },
    {
     "name": "stderr",
     "output_type": "stream",
     "text": [
      " 80%|█████████████████████████████████████████████████████████████████████████████████████████████████████████████████████████████████████████████████████████████▌                                       | 4/5 [00:02<00:00,  1.33it/s]"
     ]
    },
    {
     "name": "stdout",
     "output_type": "stream",
     "text": [
      "[LightGBM] [Warning] min_data_in_leaf is set=5, min_child_samples=79 will be ignored. Current value: min_data_in_leaf=5\n"
     ]
    },
    {
     "name": "stderr",
     "output_type": "stream",
     "text": [
      "100%|█████████████████████████████████████████████████████████████████████████████████████████████████████████████████████████████████████████████████████████████████████████████████████████████████████| 5/5 [00:03<00:00,  1.32it/s]\n",
      "\u001b[32m[I 2021-11-12 11:16:28,947]\u001b[0m Trial 55 finished with value: 0.14063972302265487 and parameters: {'num_leaves': 91, 'min_data_in_leaf': 5, 'max_depth': 22, 'max_bin': 233, 'lambda_l1': 0.00033876205655283614, 'lambda_l2': 0.5176863319029303, 'min_child_samples': 79}. Best is trial 31 with value: 0.13926096589226417.\u001b[0m\n"
     ]
    },
    {
     "name": "stdout",
     "output_type": "stream",
     "text": [
      "Model: lgbm | Mean train rsmle: 0.08783465388076515 | Standard deviation: 0.00040814920570115935\n",
      "Model: lgbm | Mean val rsmle: 0.14063972302265487 | Standard deviation: 0.0033125021377543823\n"
     ]
    },
    {
     "name": "stderr",
     "output_type": "stream",
     "text": [
      "  0%|                                                                                                                                                                                                             | 0/5 [00:00<?, ?it/s]"
     ]
    },
    {
     "name": "stdout",
     "output_type": "stream",
     "text": [
      "[LightGBM] [Warning] min_data_in_leaf is set=9, min_child_samples=75 will be ignored. Current value: min_data_in_leaf=9\n"
     ]
    },
    {
     "name": "stderr",
     "output_type": "stream",
     "text": [
      " 20%|███████████████████████████████████████▍                                                                                                                                                             | 1/5 [00:00<00:03,  1.27it/s]"
     ]
    },
    {
     "name": "stdout",
     "output_type": "stream",
     "text": [
      "[LightGBM] [Warning] min_data_in_leaf is set=9, min_child_samples=75 will be ignored. Current value: min_data_in_leaf=9\n"
     ]
    },
    {
     "name": "stderr",
     "output_type": "stream",
     "text": [
      " 40%|██████████████████████████████████████████████████████████████████████████████▊                                                                                                                      | 2/5 [00:01<00:02,  1.32it/s]"
     ]
    },
    {
     "name": "stdout",
     "output_type": "stream",
     "text": [
      "[LightGBM] [Warning] min_data_in_leaf is set=9, min_child_samples=75 will be ignored. Current value: min_data_in_leaf=9\n"
     ]
    },
    {
     "name": "stderr",
     "output_type": "stream",
     "text": [
      " 60%|██████████████████████████████████████████████████████████████████████████████████████████████████████████████████████▏                                                                              | 3/5 [00:02<00:01,  1.31it/s]"
     ]
    },
    {
     "name": "stdout",
     "output_type": "stream",
     "text": [
      "[LightGBM] [Warning] min_data_in_leaf is set=9, min_child_samples=75 will be ignored. Current value: min_data_in_leaf=9\n"
     ]
    },
    {
     "name": "stderr",
     "output_type": "stream",
     "text": [
      " 80%|█████████████████████████████████████████████████████████████████████████████████████████████████████████████████████████████████████████████████████████████▌                                       | 4/5 [00:03<00:00,  1.22it/s]"
     ]
    },
    {
     "name": "stdout",
     "output_type": "stream",
     "text": [
      "[LightGBM] [Warning] min_data_in_leaf is set=9, min_child_samples=75 will be ignored. Current value: min_data_in_leaf=9\n"
     ]
    },
    {
     "name": "stderr",
     "output_type": "stream",
     "text": [
      "100%|█████████████████████████████████████████████████████████████████████████████████████████████████████████████████████████████████████████████████████████████████████████████████████████████████████| 5/5 [00:03<00:00,  1.25it/s]\n",
      "\u001b[32m[I 2021-11-12 11:16:32,980]\u001b[0m Trial 56 finished with value: 0.1404938685505938 and parameters: {'num_leaves': 100, 'min_data_in_leaf': 9, 'max_depth': 28, 'max_bin': 206, 'lambda_l1': 0.00383327766999811, 'lambda_l2': 0.055157795328670225, 'min_child_samples': 75}. Best is trial 31 with value: 0.13926096589226417.\u001b[0m\n"
     ]
    },
    {
     "name": "stdout",
     "output_type": "stream",
     "text": [
      "Model: lgbm | Mean train rsmle: 0.08578870065645824 | Standard deviation: 0.0006711931995847841\n",
      "Model: lgbm | Mean val rsmle: 0.1404938685505938 | Standard deviation: 0.003338532565472121\n"
     ]
    },
    {
     "name": "stderr",
     "output_type": "stream",
     "text": [
      "  0%|                                                                                                                                                                                                             | 0/5 [00:00<?, ?it/s]"
     ]
    },
    {
     "name": "stdout",
     "output_type": "stream",
     "text": [
      "[LightGBM] [Warning] min_data_in_leaf is set=54, min_child_samples=85 will be ignored. Current value: min_data_in_leaf=54\n"
     ]
    },
    {
     "name": "stderr",
     "output_type": "stream",
     "text": [
      " 20%|███████████████████████████████████████▍                                                                                                                                                             | 1/5 [00:00<00:03,  1.16it/s]"
     ]
    },
    {
     "name": "stdout",
     "output_type": "stream",
     "text": [
      "[LightGBM] [Warning] min_data_in_leaf is set=54, min_child_samples=85 will be ignored. Current value: min_data_in_leaf=54\n"
     ]
    },
    {
     "name": "stderr",
     "output_type": "stream",
     "text": [
      " 40%|██████████████████████████████████████████████████████████████████████████████▊                                                                                                                      | 2/5 [00:01<00:02,  1.18it/s]"
     ]
    },
    {
     "name": "stdout",
     "output_type": "stream",
     "text": [
      "[LightGBM] [Warning] min_data_in_leaf is set=54, min_child_samples=85 will be ignored. Current value: min_data_in_leaf=54\n"
     ]
    },
    {
     "name": "stderr",
     "output_type": "stream",
     "text": [
      " 60%|██████████████████████████████████████████████████████████████████████████████████████████████████████████████████████▏                                                                              | 3/5 [00:02<00:01,  1.17it/s]"
     ]
    },
    {
     "name": "stdout",
     "output_type": "stream",
     "text": [
      "[LightGBM] [Warning] min_data_in_leaf is set=54, min_child_samples=85 will be ignored. Current value: min_data_in_leaf=54\n"
     ]
    },
    {
     "name": "stderr",
     "output_type": "stream",
     "text": [
      " 80%|█████████████████████████████████████████████████████████████████████████████████████████████████████████████████████████████████████████████████████████████▌                                       | 4/5 [00:03<00:00,  1.16it/s]"
     ]
    },
    {
     "name": "stdout",
     "output_type": "stream",
     "text": [
      "[LightGBM] [Warning] min_data_in_leaf is set=54, min_child_samples=85 will be ignored. Current value: min_data_in_leaf=54\n"
     ]
    },
    {
     "name": "stderr",
     "output_type": "stream",
     "text": [
      "100%|█████████████████████████████████████████████████████████████████████████████████████████████████████████████████████████████████████████████████████████████████████████████████████████████████████| 5/5 [00:04<00:00,  1.17it/s]\n",
      "\u001b[32m[I 2021-11-12 11:16:37,305]\u001b[0m Trial 57 finished with value: 0.14433894110694018 and parameters: {'num_leaves': 103, 'min_data_in_leaf': 54, 'max_depth': 25, 'max_bin': 243, 'lambda_l1': 0.0010886543754200547, 'lambda_l2': 0.13058927027965778, 'min_child_samples': 85}. Best is trial 31 with value: 0.13926096589226417.\u001b[0m\n"
     ]
    },
    {
     "name": "stdout",
     "output_type": "stream",
     "text": [
      "Model: lgbm | Mean train rsmle: 0.1015047628715526 | Standard deviation: 0.0005415311428598904\n",
      "Model: lgbm | Mean val rsmle: 0.14433894110694018 | Standard deviation: 0.004125006656003962\n"
     ]
    },
    {
     "name": "stderr",
     "output_type": "stream",
     "text": [
      "  0%|                                                                                                                                                                                                             | 0/5 [00:00<?, ?it/s]"
     ]
    },
    {
     "name": "stdout",
     "output_type": "stream",
     "text": [
      "[LightGBM] [Warning] min_data_in_leaf is set=5, min_child_samples=65 will be ignored. Current value: min_data_in_leaf=5\n"
     ]
    },
    {
     "name": "stderr",
     "output_type": "stream",
     "text": [
      " 20%|███████████████████████████████████████▍                                                                                                                                                             | 1/5 [00:00<00:03,  1.26it/s]"
     ]
    },
    {
     "name": "stdout",
     "output_type": "stream",
     "text": [
      "[LightGBM] [Warning] min_data_in_leaf is set=5, min_child_samples=65 will be ignored. Current value: min_data_in_leaf=5\n"
     ]
    },
    {
     "name": "stderr",
     "output_type": "stream",
     "text": [
      " 40%|██████████████████████████████████████████████████████████████████████████████▊                                                                                                                      | 2/5 [00:01<00:02,  1.27it/s]"
     ]
    },
    {
     "name": "stdout",
     "output_type": "stream",
     "text": [
      "[LightGBM] [Warning] min_data_in_leaf is set=5, min_child_samples=65 will be ignored. Current value: min_data_in_leaf=5\n"
     ]
    },
    {
     "name": "stderr",
     "output_type": "stream",
     "text": [
      " 60%|██████████████████████████████████████████████████████████████████████████████████████████████████████████████████████▏                                                                              | 3/5 [00:02<00:01,  1.28it/s]"
     ]
    },
    {
     "name": "stdout",
     "output_type": "stream",
     "text": [
      "[LightGBM] [Warning] min_data_in_leaf is set=5, min_child_samples=65 will be ignored. Current value: min_data_in_leaf=5\n"
     ]
    },
    {
     "name": "stderr",
     "output_type": "stream",
     "text": [
      " 80%|█████████████████████████████████████████████████████████████████████████████████████████████████████████████████████████████████████████████████████████████▌                                       | 4/5 [00:03<00:00,  1.28it/s]"
     ]
    },
    {
     "name": "stdout",
     "output_type": "stream",
     "text": [
      "[LightGBM] [Warning] min_data_in_leaf is set=5, min_child_samples=65 will be ignored. Current value: min_data_in_leaf=5\n"
     ]
    },
    {
     "name": "stderr",
     "output_type": "stream",
     "text": [
      "100%|█████████████████████████████████████████████████████████████████████████████████████████████████████████████████████████████████████████████████████████████████████████████████████████████████████| 5/5 [00:03<00:00,  1.28it/s]\n",
      "\u001b[32m[I 2021-11-12 11:16:41,249]\u001b[0m Trial 58 finished with value: 0.14096541808113539 and parameters: {'num_leaves': 87, 'min_data_in_leaf': 5, 'max_depth': 16, 'max_bin': 263, 'lambda_l1': 0.00015592650223481035, 'lambda_l2': 0.9662499128520106, 'min_child_samples': 65}. Best is trial 31 with value: 0.13926096589226417.\u001b[0m\n"
     ]
    },
    {
     "name": "stdout",
     "output_type": "stream",
     "text": [
      "Model: lgbm | Mean train rsmle: 0.09037316322186692 | Standard deviation: 0.0005218114491083299\n",
      "Model: lgbm | Mean val rsmle: 0.14096541808113539 | Standard deviation: 0.0027193833154336793\n"
     ]
    },
    {
     "name": "stderr",
     "output_type": "stream",
     "text": [
      "  0%|                                                                                                                                                                                                             | 0/5 [00:00<?, ?it/s]"
     ]
    },
    {
     "name": "stdout",
     "output_type": "stream",
     "text": [
      "[LightGBM] [Warning] min_data_in_leaf is set=14, min_child_samples=91 will be ignored. Current value: min_data_in_leaf=14\n"
     ]
    },
    {
     "name": "stderr",
     "output_type": "stream",
     "text": [
      " 20%|███████████████████████████████████████▍                                                                                                                                                             | 1/5 [00:00<00:02,  1.55it/s]"
     ]
    },
    {
     "name": "stdout",
     "output_type": "stream",
     "text": [
      "[LightGBM] [Warning] min_data_in_leaf is set=14, min_child_samples=91 will be ignored. Current value: min_data_in_leaf=14\n"
     ]
    },
    {
     "name": "stderr",
     "output_type": "stream",
     "text": [
      " 40%|██████████████████████████████████████████████████████████████████████████████▊                                                                                                                      | 2/5 [00:01<00:02,  1.50it/s]"
     ]
    },
    {
     "name": "stdout",
     "output_type": "stream",
     "text": [
      "[LightGBM] [Warning] min_data_in_leaf is set=14, min_child_samples=91 will be ignored. Current value: min_data_in_leaf=14\n"
     ]
    },
    {
     "name": "stderr",
     "output_type": "stream",
     "text": [
      " 60%|██████████████████████████████████████████████████████████████████████████████████████████████████████████████████████▏                                                                              | 3/5 [00:01<00:01,  1.50it/s]"
     ]
    },
    {
     "name": "stdout",
     "output_type": "stream",
     "text": [
      "[LightGBM] [Warning] min_data_in_leaf is set=14, min_child_samples=91 will be ignored. Current value: min_data_in_leaf=14\n"
     ]
    },
    {
     "name": "stderr",
     "output_type": "stream",
     "text": [
      " 80%|█████████████████████████████████████████████████████████████████████████████████████████████████████████████████████████████████████████████████████████████▌                                       | 4/5 [00:02<00:00,  1.48it/s]"
     ]
    },
    {
     "name": "stdout",
     "output_type": "stream",
     "text": [
      "[LightGBM] [Warning] min_data_in_leaf is set=14, min_child_samples=91 will be ignored. Current value: min_data_in_leaf=14\n"
     ]
    },
    {
     "name": "stderr",
     "output_type": "stream",
     "text": [
      "100%|█████████████████████████████████████████████████████████████████████████████████████████████████████████████████████████████████████████████████████████████████████████████████████████████████████| 5/5 [00:03<00:00,  1.49it/s]\n",
      "\u001b[32m[I 2021-11-12 11:16:44,639]\u001b[0m Trial 59 finished with value: 0.1561010165632289 and parameters: {'num_leaves': 78, 'min_data_in_leaf': 14, 'max_depth': 19, 'max_bin': 225, 'lambda_l1': 6.806688118718648, 'lambda_l2': 0.033510936902449946, 'min_child_samples': 91}. Best is trial 31 with value: 0.13926096589226417.\u001b[0m\n"
     ]
    },
    {
     "name": "stdout",
     "output_type": "stream",
     "text": [
      "Model: lgbm | Mean train rsmle: 0.12938617702606173 | Standard deviation: 0.0009777442016393062\n",
      "Model: lgbm | Mean val rsmle: 0.1561010165632289 | Standard deviation: 0.004048058329931109\n"
     ]
    },
    {
     "name": "stderr",
     "output_type": "stream",
     "text": [
      "  0%|                                                                                                                                                                                                             | 0/5 [00:00<?, ?it/s]"
     ]
    },
    {
     "name": "stdout",
     "output_type": "stream",
     "text": [
      "[LightGBM] [Warning] min_data_in_leaf is set=9, min_child_samples=82 will be ignored. Current value: min_data_in_leaf=9\n"
     ]
    },
    {
     "name": "stderr",
     "output_type": "stream",
     "text": [
      " 20%|███████████████████████████████████████▍                                                                                                                                                             | 1/5 [00:00<00:03,  1.33it/s]"
     ]
    },
    {
     "name": "stdout",
     "output_type": "stream",
     "text": [
      "[LightGBM] [Warning] min_data_in_leaf is set=9, min_child_samples=82 will be ignored. Current value: min_data_in_leaf=9\n"
     ]
    },
    {
     "name": "stderr",
     "output_type": "stream",
     "text": [
      " 40%|██████████████████████████████████████████████████████████████████████████████▊                                                                                                                      | 2/5 [00:01<00:02,  1.35it/s]"
     ]
    },
    {
     "name": "stdout",
     "output_type": "stream",
     "text": [
      "[LightGBM] [Warning] min_data_in_leaf is set=9, min_child_samples=82 will be ignored. Current value: min_data_in_leaf=9\n"
     ]
    },
    {
     "name": "stderr",
     "output_type": "stream",
     "text": [
      " 60%|██████████████████████████████████████████████████████████████████████████████████████████████████████████████████████▏                                                                              | 3/5 [00:02<00:01,  1.34it/s]"
     ]
    },
    {
     "name": "stdout",
     "output_type": "stream",
     "text": [
      "[LightGBM] [Warning] min_data_in_leaf is set=9, min_child_samples=82 will be ignored. Current value: min_data_in_leaf=9\n"
     ]
    },
    {
     "name": "stderr",
     "output_type": "stream",
     "text": [
      " 80%|█████████████████████████████████████████████████████████████████████████████████████████████████████████████████████████████████████████████████████████████▌                                       | 4/5 [00:03<00:00,  1.31it/s]"
     ]
    },
    {
     "name": "stdout",
     "output_type": "stream",
     "text": [
      "[LightGBM] [Warning] min_data_in_leaf is set=9, min_child_samples=82 will be ignored. Current value: min_data_in_leaf=9\n"
     ]
    },
    {
     "name": "stderr",
     "output_type": "stream",
     "text": [
      "100%|█████████████████████████████████████████████████████████████████████████████████████████████████████████████████████████████████████████████████████████████████████████████████████████████████████| 5/5 [00:03<00:00,  1.31it/s]\n",
      "\u001b[32m[I 2021-11-12 11:16:48,482]\u001b[0m Trial 60 finished with value: 0.14072855851215946 and parameters: {'num_leaves': 95, 'min_data_in_leaf': 9, 'max_depth': 21, 'max_bin': 216, 'lambda_l1': 1.0276275674875374e-05, 'lambda_l2': 0.32132995125907743, 'min_child_samples': 82}. Best is trial 31 with value: 0.13926096589226417.\u001b[0m\n"
     ]
    },
    {
     "name": "stdout",
     "output_type": "stream",
     "text": [
      "Model: lgbm | Mean train rsmle: 0.08797679341380911 | Standard deviation: 0.00048174295587782276\n",
      "Model: lgbm | Mean val rsmle: 0.14072855851215946 | Standard deviation: 0.0021962579353618623\n"
     ]
    },
    {
     "name": "stderr",
     "output_type": "stream",
     "text": [
      "  0%|                                                                                                                                                                                                             | 0/5 [00:00<?, ?it/s]"
     ]
    },
    {
     "name": "stdout",
     "output_type": "stream",
     "text": [
      "[LightGBM] [Warning] min_data_in_leaf is set=8, min_child_samples=74 will be ignored. Current value: min_data_in_leaf=8\n"
     ]
    },
    {
     "name": "stderr",
     "output_type": "stream",
     "text": [
      " 20%|███████████████████████████████████████▍                                                                                                                                                             | 1/5 [00:00<00:02,  1.34it/s]"
     ]
    },
    {
     "name": "stdout",
     "output_type": "stream",
     "text": [
      "[LightGBM] [Warning] min_data_in_leaf is set=8, min_child_samples=74 will be ignored. Current value: min_data_in_leaf=8\n"
     ]
    },
    {
     "name": "stderr",
     "output_type": "stream",
     "text": [
      " 40%|██████████████████████████████████████████████████████████████████████████████▊                                                                                                                      | 2/5 [00:01<00:02,  1.36it/s]"
     ]
    },
    {
     "name": "stdout",
     "output_type": "stream",
     "text": [
      "[LightGBM] [Warning] min_data_in_leaf is set=8, min_child_samples=74 will be ignored. Current value: min_data_in_leaf=8\n"
     ]
    },
    {
     "name": "stderr",
     "output_type": "stream",
     "text": [
      " 60%|██████████████████████████████████████████████████████████████████████████████████████████████████████████████████████▏                                                                              | 3/5 [00:02<00:01,  1.32it/s]"
     ]
    },
    {
     "name": "stdout",
     "output_type": "stream",
     "text": [
      "[LightGBM] [Warning] min_data_in_leaf is set=8, min_child_samples=74 will be ignored. Current value: min_data_in_leaf=8\n"
     ]
    },
    {
     "name": "stderr",
     "output_type": "stream",
     "text": [
      " 80%|█████████████████████████████████████████████████████████████████████████████████████████████████████████████████████████████████████████████████████████████▌                                       | 4/5 [00:03<00:00,  1.31it/s]"
     ]
    },
    {
     "name": "stdout",
     "output_type": "stream",
     "text": [
      "[LightGBM] [Warning] min_data_in_leaf is set=8, min_child_samples=74 will be ignored. Current value: min_data_in_leaf=8\n"
     ]
    },
    {
     "name": "stderr",
     "output_type": "stream",
     "text": [
      "100%|█████████████████████████████████████████████████████████████████████████████████████████████████████████████████████████████████████████████████████████████████████████████████████████████████████| 5/5 [00:03<00:00,  1.31it/s]\n",
      "\u001b[32m[I 2021-11-12 11:16:52,334]\u001b[0m Trial 61 finished with value: 0.14043286956851125 and parameters: {'num_leaves': 100, 'min_data_in_leaf': 8, 'max_depth': 28, 'max_bin': 202, 'lambda_l1': 0.021381313162496366, 'lambda_l2': 0.0657066407863653, 'min_child_samples': 74}. Best is trial 31 with value: 0.13926096589226417.\u001b[0m\n"
     ]
    },
    {
     "name": "stdout",
     "output_type": "stream",
     "text": [
      "Model: lgbm | Mean train rsmle: 0.08535445805721409 | Standard deviation: 0.00019973151306981943\n",
      "Model: lgbm | Mean val rsmle: 0.14043286956851125 | Standard deviation: 0.0026501178425548627\n"
     ]
    },
    {
     "name": "stderr",
     "output_type": "stream",
     "text": [
      "  0%|                                                                                                                                                                                                             | 0/5 [00:00<?, ?it/s]"
     ]
    },
    {
     "name": "stdout",
     "output_type": "stream",
     "text": [
      "[LightGBM] [Warning] min_data_in_leaf is set=8, min_child_samples=75 will be ignored. Current value: min_data_in_leaf=8\n"
     ]
    },
    {
     "name": "stderr",
     "output_type": "stream",
     "text": [
      " 20%|███████████████████████████████████████▍                                                                                                                                                             | 1/5 [00:00<00:03,  1.26it/s]"
     ]
    },
    {
     "name": "stdout",
     "output_type": "stream",
     "text": [
      "[LightGBM] [Warning] min_data_in_leaf is set=8, min_child_samples=75 will be ignored. Current value: min_data_in_leaf=8\n"
     ]
    },
    {
     "name": "stderr",
     "output_type": "stream",
     "text": [
      " 40%|██████████████████████████████████████████████████████████████████████████████▊                                                                                                                      | 2/5 [00:01<00:02,  1.26it/s]"
     ]
    },
    {
     "name": "stdout",
     "output_type": "stream",
     "text": [
      "[LightGBM] [Warning] min_data_in_leaf is set=8, min_child_samples=75 will be ignored. Current value: min_data_in_leaf=8\n"
     ]
    },
    {
     "name": "stderr",
     "output_type": "stream",
     "text": [
      " 60%|██████████████████████████████████████████████████████████████████████████████████████████████████████████████████████▏                                                                              | 3/5 [00:02<00:01,  1.23it/s]"
     ]
    },
    {
     "name": "stdout",
     "output_type": "stream",
     "text": [
      "[LightGBM] [Warning] min_data_in_leaf is set=8, min_child_samples=75 will be ignored. Current value: min_data_in_leaf=8\n"
     ]
    },
    {
     "name": "stderr",
     "output_type": "stream",
     "text": [
      " 80%|█████████████████████████████████████████████████████████████████████████████████████████████████████████████████████████████████████████████████████████████▌                                       | 4/5 [00:03<00:00,  1.19it/s]"
     ]
    },
    {
     "name": "stdout",
     "output_type": "stream",
     "text": [
      "[LightGBM] [Warning] min_data_in_leaf is set=8, min_child_samples=75 will be ignored. Current value: min_data_in_leaf=8\n"
     ]
    },
    {
     "name": "stderr",
     "output_type": "stream",
     "text": [
      "100%|█████████████████████████████████████████████████████████████████████████████████████████████████████████████████████████████████████████████████████████████████████████████████████████████████████| 5/5 [00:04<00:00,  1.20it/s]\n",
      "\u001b[32m[I 2021-11-12 11:16:56,530]\u001b[0m Trial 62 finished with value: 0.13989292022701713 and parameters: {'num_leaves': 112, 'min_data_in_leaf': 8, 'max_depth': 30, 'max_bin': 200, 'lambda_l1': 0.00843700994675498, 'lambda_l2': 0.07759765197225563, 'min_child_samples': 75}. Best is trial 31 with value: 0.13926096589226417.\u001b[0m\n"
     ]
    },
    {
     "name": "stdout",
     "output_type": "stream",
     "text": [
      "Model: lgbm | Mean train rsmle: 0.08108350636942903 | Standard deviation: 0.0005098155281001831\n",
      "Model: lgbm | Mean val rsmle: 0.13989292022701713 | Standard deviation: 0.0032989467893823035\n"
     ]
    },
    {
     "name": "stderr",
     "output_type": "stream",
     "text": [
      "  0%|                                                                                                                                                                                                             | 0/5 [00:00<?, ?it/s]"
     ]
    },
    {
     "name": "stdout",
     "output_type": "stream",
     "text": [
      "[LightGBM] [Warning] min_data_in_leaf is set=12, min_child_samples=77 will be ignored. Current value: min_data_in_leaf=12\n"
     ]
    },
    {
     "name": "stderr",
     "output_type": "stream",
     "text": [
      " 20%|███████████████████████████████████████▍                                                                                                                                                             | 1/5 [00:00<00:03,  1.18it/s]"
     ]
    },
    {
     "name": "stdout",
     "output_type": "stream",
     "text": [
      "[LightGBM] [Warning] min_data_in_leaf is set=12, min_child_samples=77 will be ignored. Current value: min_data_in_leaf=12\n"
     ]
    },
    {
     "name": "stderr",
     "output_type": "stream",
     "text": [
      " 40%|██████████████████████████████████████████████████████████████████████████████▊                                                                                                                      | 2/5 [00:01<00:02,  1.22it/s]"
     ]
    },
    {
     "name": "stdout",
     "output_type": "stream",
     "text": [
      "[LightGBM] [Warning] min_data_in_leaf is set=12, min_child_samples=77 will be ignored. Current value: min_data_in_leaf=12\n"
     ]
    },
    {
     "name": "stderr",
     "output_type": "stream",
     "text": [
      " 60%|██████████████████████████████████████████████████████████████████████████████████████████████████████████████████████▏                                                                              | 3/5 [00:02<00:01,  1.21it/s]"
     ]
    },
    {
     "name": "stdout",
     "output_type": "stream",
     "text": [
      "[LightGBM] [Warning] min_data_in_leaf is set=12, min_child_samples=77 will be ignored. Current value: min_data_in_leaf=12\n"
     ]
    },
    {
     "name": "stderr",
     "output_type": "stream",
     "text": [
      " 80%|█████████████████████████████████████████████████████████████████████████████████████████████████████████████████████████████████████████████████████████████▌                                       | 4/5 [00:03<00:00,  1.16it/s]"
     ]
    },
    {
     "name": "stdout",
     "output_type": "stream",
     "text": [
      "[LightGBM] [Warning] min_data_in_leaf is set=12, min_child_samples=77 will be ignored. Current value: min_data_in_leaf=12\n"
     ]
    },
    {
     "name": "stderr",
     "output_type": "stream",
     "text": [
      "100%|█████████████████████████████████████████████████████████████████████████████████████████████████████████████████████████████████████████████████████████████████████████████████████████████████████| 5/5 [00:04<00:00,  1.18it/s]\n",
      "\u001b[32m[I 2021-11-12 11:17:00,817]\u001b[0m Trial 63 finished with value: 0.1400263827770028 and parameters: {'num_leaves': 111, 'min_data_in_leaf': 12, 'max_depth': 30, 'max_bin': 232, 'lambda_l1': 0.007412773584829138, 'lambda_l2': 0.004811566142294742, 'min_child_samples': 77}. Best is trial 31 with value: 0.13926096589226417.\u001b[0m\n"
     ]
    },
    {
     "name": "stdout",
     "output_type": "stream",
     "text": [
      "Model: lgbm | Mean train rsmle: 0.08314996631841158 | Standard deviation: 0.0005658367876780765\n",
      "Model: lgbm | Mean val rsmle: 0.1400263827770028 | Standard deviation: 0.003629355606489467\n"
     ]
    },
    {
     "name": "stderr",
     "output_type": "stream",
     "text": [
      "  0%|                                                                                                                                                                                                             | 0/5 [00:00<?, ?it/s]"
     ]
    },
    {
     "name": "stdout",
     "output_type": "stream",
     "text": [
      "[LightGBM] [Warning] min_data_in_leaf is set=13, min_child_samples=72 will be ignored. Current value: min_data_in_leaf=13\n"
     ]
    },
    {
     "name": "stderr",
     "output_type": "stream",
     "text": [
      " 20%|███████████████████████████████████████▍                                                                                                                                                             | 1/5 [00:00<00:03,  1.19it/s]"
     ]
    },
    {
     "name": "stdout",
     "output_type": "stream",
     "text": [
      "[LightGBM] [Warning] min_data_in_leaf is set=13, min_child_samples=72 will be ignored. Current value: min_data_in_leaf=13\n"
     ]
    },
    {
     "name": "stderr",
     "output_type": "stream",
     "text": [
      " 40%|██████████████████████████████████████████████████████████████████████████████▊                                                                                                                      | 2/5 [00:01<00:02,  1.21it/s]"
     ]
    },
    {
     "name": "stdout",
     "output_type": "stream",
     "text": [
      "[LightGBM] [Warning] min_data_in_leaf is set=13, min_child_samples=72 will be ignored. Current value: min_data_in_leaf=13\n"
     ]
    },
    {
     "name": "stderr",
     "output_type": "stream",
     "text": [
      " 60%|██████████████████████████████████████████████████████████████████████████████████████████████████████████████████████▏                                                                              | 3/5 [00:02<00:01,  1.18it/s]"
     ]
    },
    {
     "name": "stdout",
     "output_type": "stream",
     "text": [
      "[LightGBM] [Warning] min_data_in_leaf is set=13, min_child_samples=72 will be ignored. Current value: min_data_in_leaf=13\n"
     ]
    },
    {
     "name": "stderr",
     "output_type": "stream",
     "text": [
      " 80%|█████████████████████████████████████████████████████████████████████████████████████████████████████████████████████████████████████████████████████████████▌                                       | 4/5 [00:03<00:00,  1.17it/s]"
     ]
    },
    {
     "name": "stdout",
     "output_type": "stream",
     "text": [
      "[LightGBM] [Warning] min_data_in_leaf is set=13, min_child_samples=72 will be ignored. Current value: min_data_in_leaf=13\n"
     ]
    },
    {
     "name": "stderr",
     "output_type": "stream",
     "text": [
      "100%|█████████████████████████████████████████████████████████████████████████████████████████████████████████████████████████████████████████████████████████████████████████████████████████████████████| 5/5 [00:04<00:00,  1.17it/s]\n",
      "\u001b[32m[I 2021-11-12 11:17:05,126]\u001b[0m Trial 64 finished with value: 0.14037352416267176 and parameters: {'num_leaves': 111, 'min_data_in_leaf': 13, 'max_depth': 29, 'max_bin': 250, 'lambda_l1': 0.008724818563578755, 'lambda_l2': 0.0041901485114026315, 'min_child_samples': 72}. Best is trial 31 with value: 0.13926096589226417.\u001b[0m\n"
     ]
    },
    {
     "name": "stdout",
     "output_type": "stream",
     "text": [
      "Model: lgbm | Mean train rsmle: 0.08332316857033255 | Standard deviation: 0.0003785786979572975\n",
      "Model: lgbm | Mean val rsmle: 0.14037352416267176 | Standard deviation: 0.003312145622176269\n"
     ]
    },
    {
     "name": "stderr",
     "output_type": "stream",
     "text": [
      "  0%|                                                                                                                                                                                                             | 0/5 [00:00<?, ?it/s]"
     ]
    },
    {
     "name": "stdout",
     "output_type": "stream",
     "text": [
      "[LightGBM] [Warning] min_data_in_leaf is set=16, min_child_samples=77 will be ignored. Current value: min_data_in_leaf=16\n"
     ]
    },
    {
     "name": "stderr",
     "output_type": "stream",
     "text": [
      " 20%|███████████████████████████████████████▍                                                                                                                                                             | 1/5 [00:00<00:03,  1.13it/s]"
     ]
    },
    {
     "name": "stdout",
     "output_type": "stream",
     "text": [
      "[LightGBM] [Warning] min_data_in_leaf is set=16, min_child_samples=77 will be ignored. Current value: min_data_in_leaf=16\n"
     ]
    },
    {
     "name": "stderr",
     "output_type": "stream",
     "text": [
      " 40%|██████████████████████████████████████████████████████████████████████████████▊                                                                                                                      | 2/5 [00:01<00:02,  1.13it/s]"
     ]
    },
    {
     "name": "stdout",
     "output_type": "stream",
     "text": [
      "[LightGBM] [Warning] min_data_in_leaf is set=16, min_child_samples=77 will be ignored. Current value: min_data_in_leaf=16\n"
     ]
    },
    {
     "name": "stderr",
     "output_type": "stream",
     "text": [
      " 60%|██████████████████████████████████████████████████████████████████████████████████████████████████████████████████████▏                                                                              | 3/5 [00:02<00:01,  1.10it/s]"
     ]
    },
    {
     "name": "stdout",
     "output_type": "stream",
     "text": [
      "[LightGBM] [Warning] min_data_in_leaf is set=16, min_child_samples=77 will be ignored. Current value: min_data_in_leaf=16\n"
     ]
    },
    {
     "name": "stderr",
     "output_type": "stream",
     "text": [
      " 80%|█████████████████████████████████████████████████████████████████████████████████████████████████████████████████████████████████████████████████████████████▌                                       | 4/5 [00:03<00:00,  1.09it/s]"
     ]
    },
    {
     "name": "stdout",
     "output_type": "stream",
     "text": [
      "[LightGBM] [Warning] min_data_in_leaf is set=16, min_child_samples=77 will be ignored. Current value: min_data_in_leaf=16\n"
     ]
    },
    {
     "name": "stderr",
     "output_type": "stream",
     "text": [
      "100%|█████████████████████████████████████████████████████████████████████████████████████████████████████████████████████████████████████████████████████████████████████████████████████████████████████| 5/5 [00:04<00:00,  1.09it/s]\n",
      "\u001b[32m[I 2021-11-12 11:17:09,743]\u001b[0m Trial 65 finished with value: 0.1398827937279355 and parameters: {'num_leaves': 116, 'min_data_in_leaf': 16, 'max_depth': 30, 'max_bin': 278, 'lambda_l1': 0.007353574814380643, 'lambda_l2': 0.004895815429508791, 'min_child_samples': 77}. Best is trial 31 with value: 0.13926096589226417.\u001b[0m\n"
     ]
    },
    {
     "name": "stdout",
     "output_type": "stream",
     "text": [
      "Model: lgbm | Mean train rsmle: 0.08280057695128701 | Standard deviation: 0.0005925368606500957\n",
      "Model: lgbm | Mean val rsmle: 0.1398827937279355 | Standard deviation: 0.002937212114860849\n"
     ]
    },
    {
     "name": "stderr",
     "output_type": "stream",
     "text": [
      "  0%|                                                                                                                                                                                                             | 0/5 [00:00<?, ?it/s]"
     ]
    },
    {
     "name": "stdout",
     "output_type": "stream",
     "text": [
      "[LightGBM] [Warning] min_data_in_leaf is set=23, min_child_samples=77 will be ignored. Current value: min_data_in_leaf=23\n"
     ]
    },
    {
     "name": "stderr",
     "output_type": "stream",
     "text": [
      " 20%|███████████████████████████████████████▍                                                                                                                                                             | 1/5 [00:00<00:03,  1.10it/s]"
     ]
    },
    {
     "name": "stdout",
     "output_type": "stream",
     "text": [
      "[LightGBM] [Warning] min_data_in_leaf is set=23, min_child_samples=77 will be ignored. Current value: min_data_in_leaf=23\n"
     ]
    },
    {
     "name": "stderr",
     "output_type": "stream",
     "text": [
      " 40%|██████████████████████████████████████████████████████████████████████████████▊                                                                                                                      | 2/5 [00:01<00:02,  1.11it/s]"
     ]
    },
    {
     "name": "stdout",
     "output_type": "stream",
     "text": [
      "[LightGBM] [Warning] min_data_in_leaf is set=23, min_child_samples=77 will be ignored. Current value: min_data_in_leaf=23\n"
     ]
    },
    {
     "name": "stderr",
     "output_type": "stream",
     "text": [
      " 60%|██████████████████████████████████████████████████████████████████████████████████████████████████████████████████████▏                                                                              | 3/5 [00:02<00:01,  1.08it/s]"
     ]
    },
    {
     "name": "stdout",
     "output_type": "stream",
     "text": [
      "[LightGBM] [Warning] min_data_in_leaf is set=23, min_child_samples=77 will be ignored. Current value: min_data_in_leaf=23\n"
     ]
    },
    {
     "name": "stderr",
     "output_type": "stream",
     "text": [
      " 80%|█████████████████████████████████████████████████████████████████████████████████████████████████████████████████████████████████████████████████████████████▌                                       | 4/5 [00:03<00:00,  1.07it/s]"
     ]
    },
    {
     "name": "stdout",
     "output_type": "stream",
     "text": [
      "[LightGBM] [Warning] min_data_in_leaf is set=23, min_child_samples=77 will be ignored. Current value: min_data_in_leaf=23\n"
     ]
    },
    {
     "name": "stderr",
     "output_type": "stream",
     "text": [
      "100%|█████████████████████████████████████████████████████████████████████████████████████████████████████████████████████████████████████████████████████████████████████████████████████████████████████| 5/5 [00:04<00:00,  1.07it/s]\n",
      "\u001b[32m[I 2021-11-12 11:17:14,446]\u001b[0m Trial 66 finished with value: 0.1404780796882523 and parameters: {'num_leaves': 116, 'min_data_in_leaf': 23, 'max_depth': 30, 'max_bin': 293, 'lambda_l1': 0.18602623969135218, 'lambda_l2': 0.014139943490792905, 'min_child_samples': 77}. Best is trial 31 with value: 0.13926096589226417.\u001b[0m\n"
     ]
    },
    {
     "name": "stdout",
     "output_type": "stream",
     "text": [
      "Model: lgbm | Mean train rsmle: 0.08687698975822718 | Standard deviation: 0.0005159418925488209\n",
      "Model: lgbm | Mean val rsmle: 0.1404780796882523 | Standard deviation: 0.003764828678184706\n"
     ]
    },
    {
     "name": "stderr",
     "output_type": "stream",
     "text": [
      "  0%|                                                                                                                                                                                                             | 0/5 [00:00<?, ?it/s]"
     ]
    },
    {
     "name": "stdout",
     "output_type": "stream",
     "text": [
      "[LightGBM] [Warning] min_data_in_leaf is set=18, min_child_samples=78 will be ignored. Current value: min_data_in_leaf=18\n"
     ]
    },
    {
     "name": "stderr",
     "output_type": "stream",
     "text": [
      " 20%|███████████████████████████████████████▍                                                                                                                                                             | 1/5 [00:00<00:03,  1.08it/s]"
     ]
    },
    {
     "name": "stdout",
     "output_type": "stream",
     "text": [
      "[LightGBM] [Warning] min_data_in_leaf is set=18, min_child_samples=78 will be ignored. Current value: min_data_in_leaf=18\n"
     ]
    },
    {
     "name": "stderr",
     "output_type": "stream",
     "text": [
      " 40%|██████████████████████████████████████████████████████████████████████████████▊                                                                                                                      | 2/5 [00:01<00:02,  1.09it/s]"
     ]
    },
    {
     "name": "stdout",
     "output_type": "stream",
     "text": [
      "[LightGBM] [Warning] min_data_in_leaf is set=18, min_child_samples=78 will be ignored. Current value: min_data_in_leaf=18\n"
     ]
    },
    {
     "name": "stderr",
     "output_type": "stream",
     "text": [
      " 60%|██████████████████████████████████████████████████████████████████████████████████████████████████████████████████████▏                                                                              | 3/5 [00:02<00:01,  1.06it/s]"
     ]
    },
    {
     "name": "stdout",
     "output_type": "stream",
     "text": [
      "[LightGBM] [Warning] min_data_in_leaf is set=18, min_child_samples=78 will be ignored. Current value: min_data_in_leaf=18\n"
     ]
    },
    {
     "name": "stderr",
     "output_type": "stream",
     "text": [
      " 80%|█████████████████████████████████████████████████████████████████████████████████████████████████████████████████████████████████████████████████████████████▌                                       | 4/5 [00:03<00:00,  1.06it/s]"
     ]
    },
    {
     "name": "stdout",
     "output_type": "stream",
     "text": [
      "[LightGBM] [Warning] min_data_in_leaf is set=18, min_child_samples=78 will be ignored. Current value: min_data_in_leaf=18\n"
     ]
    },
    {
     "name": "stderr",
     "output_type": "stream",
     "text": [
      "100%|█████████████████████████████████████████████████████████████████████████████████████████████████████████████████████████████████████████████████████████████████████████████████████████████████████| 5/5 [00:04<00:00,  1.05it/s]\n",
      "\u001b[32m[I 2021-11-12 11:17:19,253]\u001b[0m Trial 67 finished with value: 0.14060991633176104 and parameters: {'num_leaves': 122, 'min_data_in_leaf': 18, 'max_depth': 29, 'max_bin': 282, 'lambda_l1': 0.830861264237643, 'lambda_l2': 0.001439175625827512, 'min_child_samples': 78}. Best is trial 31 with value: 0.13926096589226417.\u001b[0m\n"
     ]
    },
    {
     "name": "stdout",
     "output_type": "stream",
     "text": [
      "Model: lgbm | Mean train rsmle: 0.08914264480546423 | Standard deviation: 0.0005082485379324137\n",
      "Model: lgbm | Mean val rsmle: 0.14060991633176104 | Standard deviation: 0.003284339365283553\n"
     ]
    },
    {
     "name": "stderr",
     "output_type": "stream",
     "text": [
      "  0%|                                                                                                                                                                                                             | 0/5 [00:00<?, ?it/s]"
     ]
    },
    {
     "name": "stdout",
     "output_type": "stream",
     "text": [
      "[LightGBM] [Warning] min_data_in_leaf is set=23, min_child_samples=85 will be ignored. Current value: min_data_in_leaf=23\n"
     ]
    },
    {
     "name": "stderr",
     "output_type": "stream",
     "text": [
      " 20%|███████████████████████████████████████▍                                                                                                                                                             | 1/5 [00:00<00:03,  1.15it/s]"
     ]
    },
    {
     "name": "stdout",
     "output_type": "stream",
     "text": [
      "[LightGBM] [Warning] min_data_in_leaf is set=23, min_child_samples=85 will be ignored. Current value: min_data_in_leaf=23\n"
     ]
    },
    {
     "name": "stderr",
     "output_type": "stream",
     "text": [
      " 40%|██████████████████████████████████████████████████████████████████████████████▊                                                                                                                      | 2/5 [00:01<00:02,  1.17it/s]"
     ]
    },
    {
     "name": "stdout",
     "output_type": "stream",
     "text": [
      "[LightGBM] [Warning] min_data_in_leaf is set=23, min_child_samples=85 will be ignored. Current value: min_data_in_leaf=23\n"
     ]
    },
    {
     "name": "stderr",
     "output_type": "stream",
     "text": [
      " 60%|██████████████████████████████████████████████████████████████████████████████████████████████████████████████████████▏                                                                              | 3/5 [00:02<00:01,  1.15it/s]"
     ]
    },
    {
     "name": "stdout",
     "output_type": "stream",
     "text": [
      "[LightGBM] [Warning] min_data_in_leaf is set=23, min_child_samples=85 will be ignored. Current value: min_data_in_leaf=23\n"
     ]
    },
    {
     "name": "stderr",
     "output_type": "stream",
     "text": [
      " 80%|█████████████████████████████████████████████████████████████████████████████████████████████████████████████████████████████████████████████████████████████▌                                       | 4/5 [00:03<00:00,  1.14it/s]"
     ]
    },
    {
     "name": "stdout",
     "output_type": "stream",
     "text": [
      "[LightGBM] [Warning] min_data_in_leaf is set=23, min_child_samples=85 will be ignored. Current value: min_data_in_leaf=23\n"
     ]
    },
    {
     "name": "stderr",
     "output_type": "stream",
     "text": [
      "100%|█████████████████████████████████████████████████████████████████████████████████████████████████████████████████████████████████████████████████████████████████████████████████████████████████████| 5/5 [00:04<00:00,  1.14it/s]\n",
      "\u001b[32m[I 2021-11-12 11:17:23,663]\u001b[0m Trial 68 finished with value: 0.1406149754471673 and parameters: {'num_leaves': 113, 'min_data_in_leaf': 23, 'max_depth': 26, 'max_bin': 259, 'lambda_l1': 0.0008627594453140176, 'lambda_l2': 0.0005046583667513921, 'min_child_samples': 85}. Best is trial 31 with value: 0.13926096589226417.\u001b[0m\n"
     ]
    },
    {
     "name": "stdout",
     "output_type": "stream",
     "text": [
      "Model: lgbm | Mean train rsmle: 0.08667089030187565 | Standard deviation: 0.0006683606383960152\n",
      "Model: lgbm | Mean val rsmle: 0.1406149754471673 | Standard deviation: 0.0028172702660083293\n"
     ]
    },
    {
     "name": "stderr",
     "output_type": "stream",
     "text": [
      "  0%|                                                                                                                                                                                                             | 0/5 [00:00<?, ?it/s]"
     ]
    },
    {
     "name": "stdout",
     "output_type": "stream",
     "text": [
      "[LightGBM] [Warning] min_data_in_leaf is set=28, min_child_samples=82 will be ignored. Current value: min_data_in_leaf=28\n"
     ]
    },
    {
     "name": "stderr",
     "output_type": "stream",
     "text": [
      " 20%|███████████████████████████████████████▍                                                                                                                                                             | 1/5 [00:00<00:03,  1.21it/s]"
     ]
    },
    {
     "name": "stdout",
     "output_type": "stream",
     "text": [
      "[LightGBM] [Warning] min_data_in_leaf is set=28, min_child_samples=82 will be ignored. Current value: min_data_in_leaf=28\n"
     ]
    },
    {
     "name": "stderr",
     "output_type": "stream",
     "text": [
      " 40%|██████████████████████████████████████████████████████████████████████████████▊                                                                                                                      | 2/5 [00:01<00:02,  1.20it/s]"
     ]
    },
    {
     "name": "stdout",
     "output_type": "stream",
     "text": [
      "[LightGBM] [Warning] min_data_in_leaf is set=28, min_child_samples=82 will be ignored. Current value: min_data_in_leaf=28\n"
     ]
    },
    {
     "name": "stderr",
     "output_type": "stream",
     "text": [
      " 60%|██████████████████████████████████████████████████████████████████████████████████████████████████████████████████████▏                                                                              | 3/5 [00:02<00:01,  1.17it/s]"
     ]
    },
    {
     "name": "stdout",
     "output_type": "stream",
     "text": [
      "[LightGBM] [Warning] min_data_in_leaf is set=28, min_child_samples=82 will be ignored. Current value: min_data_in_leaf=28\n"
     ]
    },
    {
     "name": "stderr",
     "output_type": "stream",
     "text": [
      " 80%|█████████████████████████████████████████████████████████████████████████████████████████████████████████████████████████████████████████████████████████████▌                                       | 4/5 [00:03<00:00,  1.16it/s]"
     ]
    },
    {
     "name": "stdout",
     "output_type": "stream",
     "text": [
      "[LightGBM] [Warning] min_data_in_leaf is set=28, min_child_samples=82 will be ignored. Current value: min_data_in_leaf=28\n"
     ]
    },
    {
     "name": "stderr",
     "output_type": "stream",
     "text": [
      "100%|█████████████████████████████████████████████████████████████████████████████████████████████████████████████████████████████████████████████████████████████████████████████████████████████████████| 5/5 [00:04<00:00,  1.16it/s]\n",
      "\u001b[32m[I 2021-11-12 11:17:28,001]\u001b[0m Trial 69 finished with value: 0.1411926003171698 and parameters: {'num_leaves': 105, 'min_data_in_leaf': 28, 'max_depth': 30, 'max_bin': 279, 'lambda_l1': 0.005599214344858801, 'lambda_l2': 0.005409937193070296, 'min_child_samples': 82}. Best is trial 31 with value: 0.13926096589226417.\u001b[0m\n"
     ]
    },
    {
     "name": "stdout",
     "output_type": "stream",
     "text": [
      "Model: lgbm | Mean train rsmle: 0.09108039938322318 | Standard deviation: 0.0005887239852739215\n",
      "Model: lgbm | Mean val rsmle: 0.1411926003171698 | Standard deviation: 0.0037328254912971943\n"
     ]
    },
    {
     "name": "stderr",
     "output_type": "stream",
     "text": [
      "  0%|                                                                                                                                                                                                             | 0/5 [00:00<?, ?it/s]"
     ]
    },
    {
     "name": "stdout",
     "output_type": "stream",
     "text": [
      "[LightGBM] [Warning] min_data_in_leaf is set=16, min_child_samples=90 will be ignored. Current value: min_data_in_leaf=16\n"
     ]
    },
    {
     "name": "stderr",
     "output_type": "stream",
     "text": [
      " 20%|███████████████████████████████████████▍                                                                                                                                                             | 1/5 [00:00<00:03,  1.14it/s]"
     ]
    },
    {
     "name": "stdout",
     "output_type": "stream",
     "text": [
      "[LightGBM] [Warning] min_data_in_leaf is set=16, min_child_samples=90 will be ignored. Current value: min_data_in_leaf=16\n"
     ]
    },
    {
     "name": "stderr",
     "output_type": "stream",
     "text": [
      " 40%|██████████████████████████████████████████████████████████████████████████████▊                                                                                                                      | 2/5 [00:01<00:02,  1.16it/s]"
     ]
    },
    {
     "name": "stdout",
     "output_type": "stream",
     "text": [
      "[LightGBM] [Warning] min_data_in_leaf is set=16, min_child_samples=90 will be ignored. Current value: min_data_in_leaf=16\n"
     ]
    },
    {
     "name": "stderr",
     "output_type": "stream",
     "text": [
      " 60%|██████████████████████████████████████████████████████████████████████████████████████████████████████████████████████▏                                                                              | 3/5 [00:02<00:01,  1.14it/s]"
     ]
    },
    {
     "name": "stdout",
     "output_type": "stream",
     "text": [
      "[LightGBM] [Warning] min_data_in_leaf is set=16, min_child_samples=90 will be ignored. Current value: min_data_in_leaf=16\n"
     ]
    },
    {
     "name": "stderr",
     "output_type": "stream",
     "text": [
      " 80%|█████████████████████████████████████████████████████████████████████████████████████████████████████████████████████████████████████████████████████████████▌                                       | 4/5 [00:03<00:00,  1.13it/s]"
     ]
    },
    {
     "name": "stdout",
     "output_type": "stream",
     "text": [
      "[LightGBM] [Warning] min_data_in_leaf is set=16, min_child_samples=90 will be ignored. Current value: min_data_in_leaf=16\n"
     ]
    },
    {
     "name": "stderr",
     "output_type": "stream",
     "text": [
      "100%|█████████████████████████████████████████████████████████████████████████████████████████████████████████████████████████████████████████████████████████████████████████████████████████████████████| 5/5 [00:04<00:00,  1.13it/s]\n",
      "\u001b[32m[I 2021-11-12 11:17:32,474]\u001b[0m Trial 70 finished with value: 0.13967222970353724 and parameters: {'num_leaves': 120, 'min_data_in_leaf': 16, 'max_depth': 28, 'max_bin': 232, 'lambda_l1': 0.015957505207460285, 'lambda_l2': 0.0022392298179932484, 'min_child_samples': 90}. Best is trial 31 with value: 0.13926096589226417.\u001b[0m\n"
     ]
    },
    {
     "name": "stdout",
     "output_type": "stream",
     "text": [
      "Model: lgbm | Mean train rsmle: 0.08229221067664624 | Standard deviation: 0.0003881226393300532\n",
      "Model: lgbm | Mean val rsmle: 0.13967222970353724 | Standard deviation: 0.0037712966684839\n"
     ]
    },
    {
     "name": "stderr",
     "output_type": "stream",
     "text": [
      "  0%|                                                                                                                                                                                                             | 0/5 [00:00<?, ?it/s]"
     ]
    },
    {
     "name": "stdout",
     "output_type": "stream",
     "text": [
      "[LightGBM] [Warning] min_data_in_leaf is set=17, min_child_samples=88 will be ignored. Current value: min_data_in_leaf=17\n"
     ]
    },
    {
     "name": "stderr",
     "output_type": "stream",
     "text": [
      " 20%|███████████████████████████████████████▍                                                                                                                                                             | 1/5 [00:00<00:03,  1.07it/s]"
     ]
    },
    {
     "name": "stdout",
     "output_type": "stream",
     "text": [
      "[LightGBM] [Warning] min_data_in_leaf is set=17, min_child_samples=88 will be ignored. Current value: min_data_in_leaf=17\n"
     ]
    },
    {
     "name": "stderr",
     "output_type": "stream",
     "text": [
      " 40%|██████████████████████████████████████████████████████████████████████████████▊                                                                                                                      | 2/5 [00:01<00:02,  1.08it/s]"
     ]
    },
    {
     "name": "stdout",
     "output_type": "stream",
     "text": [
      "[LightGBM] [Warning] min_data_in_leaf is set=17, min_child_samples=88 will be ignored. Current value: min_data_in_leaf=17\n"
     ]
    },
    {
     "name": "stderr",
     "output_type": "stream",
     "text": [
      " 60%|██████████████████████████████████████████████████████████████████████████████████████████████████████████████████████▏                                                                              | 3/5 [00:02<00:01,  1.05it/s]"
     ]
    },
    {
     "name": "stdout",
     "output_type": "stream",
     "text": [
      "[LightGBM] [Warning] min_data_in_leaf is set=17, min_child_samples=88 will be ignored. Current value: min_data_in_leaf=17\n"
     ]
    },
    {
     "name": "stderr",
     "output_type": "stream",
     "text": [
      " 80%|█████████████████████████████████████████████████████████████████████████████████████████████████████████████████████████████████████████████████████████████▌                                       | 4/5 [00:03<00:00,  1.04it/s]"
     ]
    },
    {
     "name": "stdout",
     "output_type": "stream",
     "text": [
      "[LightGBM] [Warning] min_data_in_leaf is set=17, min_child_samples=88 will be ignored. Current value: min_data_in_leaf=17\n"
     ]
    },
    {
     "name": "stderr",
     "output_type": "stream",
     "text": [
      "100%|█████████████████████████████████████████████████████████████████████████████████████████████████████████████████████████████████████████████████████████████████████████████████████████████████████| 5/5 [00:04<00:00,  1.04it/s]\n",
      "\u001b[32m[I 2021-11-12 11:17:37,299]\u001b[0m Trial 71 finished with value: 0.1392855502312737 and parameters: {'num_leaves': 119, 'min_data_in_leaf': 17, 'max_depth': 28, 'max_bin': 300, 'lambda_l1': 0.027340338477873805, 'lambda_l2': 0.0024262931140837467, 'min_child_samples': 88}. Best is trial 31 with value: 0.13926096589226417.\u001b[0m\n"
     ]
    },
    {
     "name": "stdout",
     "output_type": "stream",
     "text": [
      "Model: lgbm | Mean train rsmle: 0.08257836597466045 | Standard deviation: 0.0005840727472102386\n",
      "Model: lgbm | Mean val rsmle: 0.1392855502312737 | Standard deviation: 0.0035689664917163116\n"
     ]
    },
    {
     "name": "stderr",
     "output_type": "stream",
     "text": [
      "  0%|                                                                                                                                                                                                             | 0/5 [00:00<?, ?it/s]"
     ]
    },
    {
     "name": "stdout",
     "output_type": "stream",
     "text": [
      "[LightGBM] [Warning] min_data_in_leaf is set=14, min_child_samples=5 will be ignored. Current value: min_data_in_leaf=14\n"
     ]
    },
    {
     "name": "stderr",
     "output_type": "stream",
     "text": [
      " 20%|███████████████████████████████████████▍                                                                                                                                                             | 1/5 [00:00<00:03,  1.05it/s]"
     ]
    },
    {
     "name": "stdout",
     "output_type": "stream",
     "text": [
      "[LightGBM] [Warning] min_data_in_leaf is set=14, min_child_samples=5 will be ignored. Current value: min_data_in_leaf=14\n"
     ]
    },
    {
     "name": "stderr",
     "output_type": "stream",
     "text": [
      " 40%|██████████████████████████████████████████████████████████████████████████████▊                                                                                                                      | 2/5 [00:01<00:02,  1.06it/s]"
     ]
    },
    {
     "name": "stdout",
     "output_type": "stream",
     "text": [
      "[LightGBM] [Warning] min_data_in_leaf is set=14, min_child_samples=5 will be ignored. Current value: min_data_in_leaf=14\n"
     ]
    },
    {
     "name": "stderr",
     "output_type": "stream",
     "text": [
      " 60%|██████████████████████████████████████████████████████████████████████████████████████████████████████████████████████▏                                                                              | 3/5 [00:02<00:01,  1.03it/s]"
     ]
    },
    {
     "name": "stdout",
     "output_type": "stream",
     "text": [
      "[LightGBM] [Warning] min_data_in_leaf is set=14, min_child_samples=5 will be ignored. Current value: min_data_in_leaf=14\n"
     ]
    },
    {
     "name": "stderr",
     "output_type": "stream",
     "text": [
      " 80%|█████████████████████████████████████████████████████████████████████████████████████████████████████████████████████████████████████████████████████████████▌                                       | 4/5 [00:03<00:00,  1.02it/s]"
     ]
    },
    {
     "name": "stdout",
     "output_type": "stream",
     "text": [
      "[LightGBM] [Warning] min_data_in_leaf is set=14, min_child_samples=5 will be ignored. Current value: min_data_in_leaf=14\n"
     ]
    },
    {
     "name": "stderr",
     "output_type": "stream",
     "text": [
      "100%|█████████████████████████████████████████████████████████████████████████████████████████████████████████████████████████████████████████████████████████████████████████████████████████████████████| 5/5 [00:04<00:00,  1.02it/s]\n",
      "\u001b[32m[I 2021-11-12 11:17:42,226]\u001b[0m Trial 72 finished with value: 0.1395499061857311 and parameters: {'num_leaves': 125, 'min_data_in_leaf': 14, 'max_depth': 27, 'max_bin': 285, 'lambda_l1': 0.06813788623672114, 'lambda_l2': 0.0021005371599811164, 'min_child_samples': 5}. Best is trial 31 with value: 0.13926096589226417.\u001b[0m\n"
     ]
    },
    {
     "name": "stdout",
     "output_type": "stream",
     "text": [
      "Model: lgbm | Mean train rsmle: 0.07977250210337705 | Standard deviation: 0.00041029395548674826\n",
      "Model: lgbm | Mean val rsmle: 0.1395499061857311 | Standard deviation: 0.0034740158101783805\n"
     ]
    },
    {
     "name": "stderr",
     "output_type": "stream",
     "text": [
      "  0%|                                                                                                                                                                                                             | 0/5 [00:00<?, ?it/s]"
     ]
    },
    {
     "name": "stdout",
     "output_type": "stream",
     "text": [
      "[LightGBM] [Warning] min_data_in_leaf is set=16, min_child_samples=11 will be ignored. Current value: min_data_in_leaf=16\n"
     ]
    },
    {
     "name": "stderr",
     "output_type": "stream",
     "text": [
      " 20%|███████████████████████████████████████▍                                                                                                                                                             | 1/5 [00:00<00:03,  1.05it/s]"
     ]
    },
    {
     "name": "stdout",
     "output_type": "stream",
     "text": [
      "[LightGBM] [Warning] min_data_in_leaf is set=16, min_child_samples=11 will be ignored. Current value: min_data_in_leaf=16\n"
     ]
    },
    {
     "name": "stderr",
     "output_type": "stream",
     "text": [
      " 40%|██████████████████████████████████████████████████████████████████████████████▊                                                                                                                      | 2/5 [00:01<00:02,  1.05it/s]"
     ]
    },
    {
     "name": "stdout",
     "output_type": "stream",
     "text": [
      "[LightGBM] [Warning] min_data_in_leaf is set=16, min_child_samples=11 will be ignored. Current value: min_data_in_leaf=16\n"
     ]
    },
    {
     "name": "stderr",
     "output_type": "stream",
     "text": [
      " 60%|██████████████████████████████████████████████████████████████████████████████████████████████████████████████████████▏                                                                              | 3/5 [00:02<00:01,  1.03it/s]"
     ]
    },
    {
     "name": "stdout",
     "output_type": "stream",
     "text": [
      "[LightGBM] [Warning] min_data_in_leaf is set=16, min_child_samples=11 will be ignored. Current value: min_data_in_leaf=16\n"
     ]
    },
    {
     "name": "stderr",
     "output_type": "stream",
     "text": [
      " 80%|█████████████████████████████████████████████████████████████████████████████████████████████████████████████████████████████████████████████████████████████▌                                       | 4/5 [00:03<00:00,  1.02it/s]"
     ]
    },
    {
     "name": "stdout",
     "output_type": "stream",
     "text": [
      "[LightGBM] [Warning] min_data_in_leaf is set=16, min_child_samples=11 will be ignored. Current value: min_data_in_leaf=16\n"
     ]
    },
    {
     "name": "stderr",
     "output_type": "stream",
     "text": [
      "100%|█████████████████████████████████████████████████████████████████████████████████████████████████████████████████████████████████████████████████████████████████████████████████████████████████████| 5/5 [00:04<00:00,  1.03it/s]\n",
      "\u001b[32m[I 2021-11-12 11:17:47,140]\u001b[0m Trial 73 finished with value: 0.13894590525261102 and parameters: {'num_leaves': 125, 'min_data_in_leaf': 16, 'max_depth': 28, 'max_bin': 278, 'lambda_l1': 0.1080445350070294, 'lambda_l2': 0.0019425885939366079, 'min_child_samples': 11}. Best is trial 73 with value: 0.13894590525261102.\u001b[0m\n"
     ]
    },
    {
     "name": "stdout",
     "output_type": "stream",
     "text": [
      "Model: lgbm | Mean train rsmle: 0.08098628912253533 | Standard deviation: 0.0005719223279266614\n",
      "Model: lgbm | Mean val rsmle: 0.13894590525261102 | Standard deviation: 0.0034268174103908576\n"
     ]
    },
    {
     "name": "stderr",
     "output_type": "stream",
     "text": [
      "  0%|                                                                                                                                                                                                             | 0/5 [00:00<?, ?it/s]"
     ]
    },
    {
     "name": "stdout",
     "output_type": "stream",
     "text": [
      "[LightGBM] [Warning] min_data_in_leaf is set=25, min_child_samples=11 will be ignored. Current value: min_data_in_leaf=25\n"
     ]
    },
    {
     "name": "stderr",
     "output_type": "stream",
     "text": [
      " 20%|███████████████████████████████████████▍                                                                                                                                                             | 1/5 [00:00<00:03,  1.03it/s]"
     ]
    },
    {
     "name": "stdout",
     "output_type": "stream",
     "text": [
      "[LightGBM] [Warning] min_data_in_leaf is set=25, min_child_samples=11 will be ignored. Current value: min_data_in_leaf=25\n"
     ]
    },
    {
     "name": "stderr",
     "output_type": "stream",
     "text": [
      " 40%|██████████████████████████████████████████████████████████████████████████████▊                                                                                                                      | 2/5 [00:01<00:02,  1.03it/s]"
     ]
    },
    {
     "name": "stdout",
     "output_type": "stream",
     "text": [
      "[LightGBM] [Warning] min_data_in_leaf is set=25, min_child_samples=11 will be ignored. Current value: min_data_in_leaf=25\n"
     ]
    },
    {
     "name": "stderr",
     "output_type": "stream",
     "text": [
      " 60%|██████████████████████████████████████████████████████████████████████████████████████████████████████████████████████▏                                                                              | 3/5 [00:02<00:01,  1.01it/s]"
     ]
    },
    {
     "name": "stdout",
     "output_type": "stream",
     "text": [
      "[LightGBM] [Warning] min_data_in_leaf is set=25, min_child_samples=11 will be ignored. Current value: min_data_in_leaf=25\n"
     ]
    },
    {
     "name": "stderr",
     "output_type": "stream",
     "text": [
      " 80%|█████████████████████████████████████████████████████████████████████████████████████████████████████████████████████████████████████████████████████████████▌                                       | 4/5 [00:03<00:00,  1.01it/s]"
     ]
    },
    {
     "name": "stdout",
     "output_type": "stream",
     "text": [
      "[LightGBM] [Warning] min_data_in_leaf is set=25, min_child_samples=11 will be ignored. Current value: min_data_in_leaf=25\n"
     ]
    },
    {
     "name": "stderr",
     "output_type": "stream",
     "text": [
      "100%|█████████████████████████████████████████████████████████████████████████████████████████████████████████████████████████████████████████████████████████████████████████████████████████████████████| 5/5 [00:04<00:00,  1.00it/s]\n",
      "\u001b[32m[I 2021-11-12 11:17:52,165]\u001b[0m Trial 74 finished with value: 0.14063024209129796 and parameters: {'num_leaves': 125, 'min_data_in_leaf': 25, 'max_depth': 27, 'max_bin': 299, 'lambda_l1': 0.12804876992696645, 'lambda_l2': 0.0007016517164034383, 'min_child_samples': 11}. Best is trial 73 with value: 0.13894590525261102.\u001b[0m\n"
     ]
    },
    {
     "name": "stdout",
     "output_type": "stream",
     "text": [
      "Model: lgbm | Mean train rsmle: 0.084789201820234 | Standard deviation: 0.0005325827308571361\n",
      "Model: lgbm | Mean val rsmle: 0.14063024209129796 | Standard deviation: 0.0034587410931889166\n"
     ]
    },
    {
     "name": "stderr",
     "output_type": "stream",
     "text": [
      "  0%|                                                                                                                                                                                                             | 0/5 [00:00<?, ?it/s]"
     ]
    },
    {
     "name": "stdout",
     "output_type": "stream",
     "text": [
      "[LightGBM] [Warning] min_data_in_leaf is set=20, min_child_samples=8 will be ignored. Current value: min_data_in_leaf=20\n"
     ]
    },
    {
     "name": "stderr",
     "output_type": "stream",
     "text": [
      " 20%|███████████████████████████████████████▍                                                                                                                                                             | 1/5 [00:00<00:03,  1.10it/s]"
     ]
    },
    {
     "name": "stdout",
     "output_type": "stream",
     "text": [
      "[LightGBM] [Warning] min_data_in_leaf is set=20, min_child_samples=8 will be ignored. Current value: min_data_in_leaf=20\n"
     ]
    },
    {
     "name": "stderr",
     "output_type": "stream",
     "text": [
      " 40%|██████████████████████████████████████████████████████████████████████████████▊                                                                                                                      | 2/5 [00:01<00:02,  1.11it/s]"
     ]
    },
    {
     "name": "stdout",
     "output_type": "stream",
     "text": [
      "[LightGBM] [Warning] min_data_in_leaf is set=20, min_child_samples=8 will be ignored. Current value: min_data_in_leaf=20\n"
     ]
    },
    {
     "name": "stderr",
     "output_type": "stream",
     "text": [
      " 60%|██████████████████████████████████████████████████████████████████████████████████████████████████████████████████████▏                                                                              | 3/5 [00:02<00:01,  1.09it/s]"
     ]
    },
    {
     "name": "stdout",
     "output_type": "stream",
     "text": [
      "[LightGBM] [Warning] min_data_in_leaf is set=20, min_child_samples=8 will be ignored. Current value: min_data_in_leaf=20\n"
     ]
    },
    {
     "name": "stderr",
     "output_type": "stream",
     "text": [
      " 80%|█████████████████████████████████████████████████████████████████████████████████████████████████████████████████████████████████████████████████████████████▌                                       | 4/5 [00:03<00:00,  1.08it/s]"
     ]
    },
    {
     "name": "stdout",
     "output_type": "stream",
     "text": [
      "[LightGBM] [Warning] min_data_in_leaf is set=20, min_child_samples=8 will be ignored. Current value: min_data_in_leaf=20\n"
     ]
    },
    {
     "name": "stderr",
     "output_type": "stream",
     "text": [
      "100%|█████████████████████████████████████████████████████████████████████████████████████████████████████████████████████████████████████████████████████████████████████████████████████████████████████| 5/5 [00:04<00:00,  1.08it/s]\n",
      "\u001b[32m[I 2021-11-12 11:17:56,840]\u001b[0m Trial 75 finished with value: 0.14166187489671625 and parameters: {'num_leaves': 120, 'min_data_in_leaf': 20, 'max_depth': 28, 'max_bin': 289, 'lambda_l1': 1.27335772163569, 'lambda_l2': 0.0016278992676662944, 'min_child_samples': 8}. Best is trial 73 with value: 0.13894590525261102.\u001b[0m\n"
     ]
    },
    {
     "name": "stdout",
     "output_type": "stream",
     "text": [
      "Model: lgbm | Mean train rsmle: 0.09409911791274372 | Standard deviation: 0.00045681674104011433\n",
      "Model: lgbm | Mean val rsmle: 0.14166187489671625 | Standard deviation: 0.004055163751892664\n"
     ]
    },
    {
     "name": "stderr",
     "output_type": "stream",
     "text": [
      "  0%|                                                                                                                                                                                                             | 0/5 [00:00<?, ?it/s]"
     ]
    },
    {
     "name": "stdout",
     "output_type": "stream",
     "text": [
      "[LightGBM] [Warning] min_data_in_leaf is set=38, min_child_samples=89 will be ignored. Current value: min_data_in_leaf=38\n"
     ]
    },
    {
     "name": "stderr",
     "output_type": "stream",
     "text": [
      " 20%|███████████████████████████████████████▍                                                                                                                                                             | 1/5 [00:00<00:03,  1.03it/s]"
     ]
    },
    {
     "name": "stdout",
     "output_type": "stream",
     "text": [
      "[LightGBM] [Warning] min_data_in_leaf is set=38, min_child_samples=89 will be ignored. Current value: min_data_in_leaf=38\n"
     ]
    },
    {
     "name": "stderr",
     "output_type": "stream",
     "text": [
      " 40%|██████████████████████████████████████████████████████████████████████████████▊                                                                                                                      | 2/5 [00:01<00:02,  1.02it/s]"
     ]
    },
    {
     "name": "stdout",
     "output_type": "stream",
     "text": [
      "[LightGBM] [Warning] min_data_in_leaf is set=38, min_child_samples=89 will be ignored. Current value: min_data_in_leaf=38\n"
     ]
    },
    {
     "name": "stderr",
     "output_type": "stream",
     "text": [
      " 60%|██████████████████████████████████████████████████████████████████████████████████████████████████████████████████████▏                                                                              | 3/5 [00:02<00:01,  1.00it/s]"
     ]
    },
    {
     "name": "stdout",
     "output_type": "stream",
     "text": [
      "[LightGBM] [Warning] min_data_in_leaf is set=38, min_child_samples=89 will be ignored. Current value: min_data_in_leaf=38\n"
     ]
    },
    {
     "name": "stderr",
     "output_type": "stream",
     "text": [
      " 80%|█████████████████████████████████████████████████████████████████████████████████████████████████████████████████████████████████████████████████████████████▌                                       | 4/5 [00:04<00:01,  1.01s/it]"
     ]
    },
    {
     "name": "stdout",
     "output_type": "stream",
     "text": [
      "[LightGBM] [Warning] min_data_in_leaf is set=38, min_child_samples=89 will be ignored. Current value: min_data_in_leaf=38\n"
     ]
    },
    {
     "name": "stderr",
     "output_type": "stream",
     "text": [
      "100%|█████████████████████████████████████████████████████████████████████████████████████████████████████████████████████████████████████████████████████████████████████████████████████████████████████| 5/5 [00:05<00:00,  1.01s/it]\n",
      "\u001b[32m[I 2021-11-12 11:18:01,916]\u001b[0m Trial 76 finished with value: 0.1418436941793748 and parameters: {'num_leaves': 128, 'min_data_in_leaf': 38, 'max_depth': 26, 'max_bin': 286, 'lambda_l1': 0.02121061823173412, 'lambda_l2': 0.00011061654267887602, 'min_child_samples': 89}. Best is trial 73 with value: 0.13894590525261102.\u001b[0m\n"
     ]
    },
    {
     "name": "stdout",
     "output_type": "stream",
     "text": [
      "Model: lgbm | Mean train rsmle: 0.08935708122157146 | Standard deviation: 0.0008360520476563549\n",
      "Model: lgbm | Mean val rsmle: 0.1418436941793748 | Standard deviation: 0.0037895659640407317\n"
     ]
    },
    {
     "name": "stderr",
     "output_type": "stream",
     "text": [
      "  0%|                                                                                                                                                                                                             | 0/5 [00:00<?, ?it/s]"
     ]
    },
    {
     "name": "stdout",
     "output_type": "stream",
     "text": [
      "[LightGBM] [Warning] min_data_in_leaf is set=16, min_child_samples=5 will be ignored. Current value: min_data_in_leaf=16\n"
     ]
    },
    {
     "name": "stderr",
     "output_type": "stream",
     "text": [
      " 20%|███████████████████████████████████████▍                                                                                                                                                             | 1/5 [00:00<00:03,  1.05it/s]"
     ]
    },
    {
     "name": "stdout",
     "output_type": "stream",
     "text": [
      "[LightGBM] [Warning] min_data_in_leaf is set=16, min_child_samples=5 will be ignored. Current value: min_data_in_leaf=16\n"
     ]
    },
    {
     "name": "stderr",
     "output_type": "stream",
     "text": [
      " 40%|██████████████████████████████████████████████████████████████████████████████▊                                                                                                                      | 2/5 [00:01<00:02,  1.06it/s]"
     ]
    },
    {
     "name": "stdout",
     "output_type": "stream",
     "text": [
      "[LightGBM] [Warning] min_data_in_leaf is set=16, min_child_samples=5 will be ignored. Current value: min_data_in_leaf=16\n"
     ]
    },
    {
     "name": "stderr",
     "output_type": "stream",
     "text": [
      " 60%|██████████████████████████████████████████████████████████████████████████████████████████████████████████████████████▏                                                                              | 3/5 [00:02<00:01,  1.04it/s]"
     ]
    },
    {
     "name": "stdout",
     "output_type": "stream",
     "text": [
      "[LightGBM] [Warning] min_data_in_leaf is set=16, min_child_samples=5 will be ignored. Current value: min_data_in_leaf=16\n"
     ]
    },
    {
     "name": "stderr",
     "output_type": "stream",
     "text": [
      " 80%|█████████████████████████████████████████████████████████████████████████████████████████████████████████████████████████████████████████████████████████████▌                                       | 4/5 [00:03<00:00,  1.03it/s]"
     ]
    },
    {
     "name": "stdout",
     "output_type": "stream",
     "text": [
      "[LightGBM] [Warning] min_data_in_leaf is set=16, min_child_samples=5 will be ignored. Current value: min_data_in_leaf=16\n"
     ]
    },
    {
     "name": "stderr",
     "output_type": "stream",
     "text": [
      "100%|█████████████████████████████████████████████████████████████████████████████████████████████████████████████████████████████████████████████████████████████████████████████████████████████████████| 5/5 [00:04<00:00,  1.04it/s]\n",
      "\u001b[32m[I 2021-11-12 11:18:06,782]\u001b[0m Trial 77 finished with value: 0.1388967022476293 and parameters: {'num_leaves': 125, 'min_data_in_leaf': 16, 'max_depth': 28, 'max_bin': 273, 'lambda_l1': 0.05107766949135701, 'lambda_l2': 0.00019190665403871117, 'min_child_samples': 5}. Best is trial 77 with value: 0.1388967022476293.\u001b[0m\n"
     ]
    },
    {
     "name": "stdout",
     "output_type": "stream",
     "text": [
      "Model: lgbm | Mean train rsmle: 0.08075632737689875 | Standard deviation: 0.0007403417422210325\n",
      "Model: lgbm | Mean val rsmle: 0.1388967022476293 | Standard deviation: 0.0033561909605788\n"
     ]
    },
    {
     "name": "stderr",
     "output_type": "stream",
     "text": [
      "  0%|                                                                                                                                                                                                             | 0/5 [00:00<?, ?it/s]"
     ]
    },
    {
     "name": "stdout",
     "output_type": "stream",
     "text": [
      "[LightGBM] [Warning] min_data_in_leaf is set=11, min_child_samples=5 will be ignored. Current value: min_data_in_leaf=11\n"
     ]
    },
    {
     "name": "stderr",
     "output_type": "stream",
     "text": [
      " 20%|███████████████████████████████████████▍                                                                                                                                                             | 1/5 [00:00<00:03,  1.06it/s]"
     ]
    },
    {
     "name": "stdout",
     "output_type": "stream",
     "text": [
      "[LightGBM] [Warning] min_data_in_leaf is set=11, min_child_samples=5 will be ignored. Current value: min_data_in_leaf=11\n"
     ]
    },
    {
     "name": "stderr",
     "output_type": "stream",
     "text": [
      " 40%|██████████████████████████████████████████████████████████████████████████████▊                                                                                                                      | 2/5 [00:01<00:02,  1.07it/s]"
     ]
    },
    {
     "name": "stdout",
     "output_type": "stream",
     "text": [
      "[LightGBM] [Warning] min_data_in_leaf is set=11, min_child_samples=5 will be ignored. Current value: min_data_in_leaf=11\n"
     ]
    },
    {
     "name": "stderr",
     "output_type": "stream",
     "text": [
      " 60%|██████████████████████████████████████████████████████████████████████████████████████████████████████████████████████▏                                                                              | 3/5 [00:02<00:01,  1.04it/s]"
     ]
    },
    {
     "name": "stdout",
     "output_type": "stream",
     "text": [
      "[LightGBM] [Warning] min_data_in_leaf is set=11, min_child_samples=5 will be ignored. Current value: min_data_in_leaf=11\n"
     ]
    },
    {
     "name": "stderr",
     "output_type": "stream",
     "text": [
      " 80%|█████████████████████████████████████████████████████████████████████████████████████████████████████████████████████████████████████████████████████████████▌                                       | 4/5 [00:03<00:00,  1.02it/s]"
     ]
    },
    {
     "name": "stdout",
     "output_type": "stream",
     "text": [
      "[LightGBM] [Warning] min_data_in_leaf is set=11, min_child_samples=5 will be ignored. Current value: min_data_in_leaf=11\n"
     ]
    },
    {
     "name": "stderr",
     "output_type": "stream",
     "text": [
      "100%|█████████████████████████████████████████████████████████████████████████████████████████████████████████████████████████████████████████████████████████████████████████████████████████████████████| 5/5 [00:04<00:00,  1.03it/s]\n",
      "\u001b[32m[I 2021-11-12 11:18:11,680]\u001b[0m Trial 78 finished with value: 0.13847979781263725 and parameters: {'num_leaves': 125, 'min_data_in_leaf': 11, 'max_depth': 26, 'max_bin': 275, 'lambda_l1': 0.15174110493905657, 'lambda_l2': 0.0004906616428548153, 'min_child_samples': 5}. Best is trial 78 with value: 0.13847979781263725.\u001b[0m\n"
     ]
    },
    {
     "name": "stdout",
     "output_type": "stream",
     "text": [
      "Model: lgbm | Mean train rsmle: 0.07914015136936234 | Standard deviation: 0.0006201051395365969\n",
      "Model: lgbm | Mean val rsmle: 0.13847979781263725 | Standard deviation: 0.0031438059379129144\n"
     ]
    },
    {
     "name": "stderr",
     "output_type": "stream",
     "text": [
      "  0%|                                                                                                                                                                                                             | 0/5 [00:00<?, ?it/s]"
     ]
    },
    {
     "name": "stdout",
     "output_type": "stream",
     "text": [
      "[LightGBM] [Warning] min_data_in_leaf is set=63, min_child_samples=5 will be ignored. Current value: min_data_in_leaf=63\n"
     ]
    },
    {
     "name": "stderr",
     "output_type": "stream",
     "text": [
      " 20%|███████████████████████████████████████▍                                                                                                                                                             | 1/5 [00:00<00:03,  1.07it/s]"
     ]
    },
    {
     "name": "stdout",
     "output_type": "stream",
     "text": [
      "[LightGBM] [Warning] min_data_in_leaf is set=63, min_child_samples=5 will be ignored. Current value: min_data_in_leaf=63\n"
     ]
    },
    {
     "name": "stderr",
     "output_type": "stream",
     "text": [
      " 40%|██████████████████████████████████████████████████████████████████████████████▊                                                                                                                      | 2/5 [00:01<00:02,  1.08it/s]"
     ]
    },
    {
     "name": "stdout",
     "output_type": "stream",
     "text": [
      "[LightGBM] [Warning] min_data_in_leaf is set=63, min_child_samples=5 will be ignored. Current value: min_data_in_leaf=63\n"
     ]
    },
    {
     "name": "stderr",
     "output_type": "stream",
     "text": [
      " 60%|██████████████████████████████████████████████████████████████████████████████████████████████████████████████████████▏                                                                              | 3/5 [00:02<00:01,  1.07it/s]"
     ]
    },
    {
     "name": "stdout",
     "output_type": "stream",
     "text": [
      "[LightGBM] [Warning] min_data_in_leaf is set=63, min_child_samples=5 will be ignored. Current value: min_data_in_leaf=63\n"
     ]
    },
    {
     "name": "stderr",
     "output_type": "stream",
     "text": [
      " 80%|█████████████████████████████████████████████████████████████████████████████████████████████████████████████████████████████████████████████████████████████▌                                       | 4/5 [00:03<00:00,  1.05it/s]"
     ]
    },
    {
     "name": "stdout",
     "output_type": "stream",
     "text": [
      "[LightGBM] [Warning] min_data_in_leaf is set=63, min_child_samples=5 will be ignored. Current value: min_data_in_leaf=63\n"
     ]
    },
    {
     "name": "stderr",
     "output_type": "stream",
     "text": [
      "100%|█████████████████████████████████████████████████████████████████████████████████████████████████████████████████████████████████████████████████████████████████████████████████████████████████████| 5/5 [00:04<00:00,  1.06it/s]\n",
      "\u001b[32m[I 2021-11-12 11:18:16,441]\u001b[0m Trial 79 finished with value: 0.14530703202446396 and parameters: {'num_leaves': 125, 'min_data_in_leaf': 63, 'max_depth': 25, 'max_bin': 272, 'lambda_l1': 0.07212234059533729, 'lambda_l2': 0.0002407346382523035, 'min_child_samples': 5}. Best is trial 78 with value: 0.13847979781263725.\u001b[0m\n"
     ]
    },
    {
     "name": "stdout",
     "output_type": "stream",
     "text": [
      "Model: lgbm | Mean train rsmle: 0.10192957363988357 | Standard deviation: 0.0006330494065709614\n",
      "Model: lgbm | Mean val rsmle: 0.14530703202446396 | Standard deviation: 0.0032286949788400345\n"
     ]
    },
    {
     "name": "stderr",
     "output_type": "stream",
     "text": [
      "  0%|                                                                                                                                                                                                             | 0/5 [00:00<?, ?it/s]"
     ]
    },
    {
     "name": "stdout",
     "output_type": "stream",
     "text": [
      "[LightGBM] [Warning] min_data_in_leaf is set=13, min_child_samples=16 will be ignored. Current value: min_data_in_leaf=13\n"
     ]
    },
    {
     "name": "stderr",
     "output_type": "stream",
     "text": [
      " 20%|███████████████████████████████████████▍                                                                                                                                                             | 1/5 [00:00<00:03,  1.13it/s]"
     ]
    },
    {
     "name": "stdout",
     "output_type": "stream",
     "text": [
      "[LightGBM] [Warning] min_data_in_leaf is set=13, min_child_samples=16 will be ignored. Current value: min_data_in_leaf=13\n"
     ]
    },
    {
     "name": "stderr",
     "output_type": "stream",
     "text": [
      " 40%|██████████████████████████████████████████████████████████████████████████████▊                                                                                                                      | 2/5 [00:01<00:02,  1.15it/s]"
     ]
    },
    {
     "name": "stdout",
     "output_type": "stream",
     "text": [
      "[LightGBM] [Warning] min_data_in_leaf is set=13, min_child_samples=16 will be ignored. Current value: min_data_in_leaf=13\n"
     ]
    },
    {
     "name": "stderr",
     "output_type": "stream",
     "text": [
      " 60%|██████████████████████████████████████████████████████████████████████████████████████████████████████████████████████▏                                                                              | 3/5 [00:02<00:01,  1.10it/s]"
     ]
    },
    {
     "name": "stdout",
     "output_type": "stream",
     "text": [
      "[LightGBM] [Warning] min_data_in_leaf is set=13, min_child_samples=16 will be ignored. Current value: min_data_in_leaf=13\n"
     ]
    },
    {
     "name": "stderr",
     "output_type": "stream",
     "text": [
      " 80%|█████████████████████████████████████████████████████████████████████████████████████████████████████████████████████████████████████████████████████████████▌                                       | 4/5 [00:03<00:00,  1.01it/s]"
     ]
    },
    {
     "name": "stdout",
     "output_type": "stream",
     "text": [
      "[LightGBM] [Warning] min_data_in_leaf is set=13, min_child_samples=16 will be ignored. Current value: min_data_in_leaf=13\n"
     ]
    },
    {
     "name": "stderr",
     "output_type": "stream",
     "text": [
      "100%|█████████████████████████████████████████████████████████████████████████████████████████████████████████████████████████████████████████████████████████████████████████████████████████████████████| 5/5 [00:04<00:00,  1.02it/s]\n",
      "\u001b[32m[I 2021-11-12 11:18:21,394]\u001b[0m Trial 80 finished with value: 0.14469043835174786 and parameters: {'num_leaves': 121, 'min_data_in_leaf': 13, 'max_depth': 27, 'max_bin': 299, 'lambda_l1': 2.9334352438490994, 'lambda_l2': 6.560636024131464e-05, 'min_child_samples': 16}. Best is trial 78 with value: 0.13847979781263725.\u001b[0m\n"
     ]
    },
    {
     "name": "stdout",
     "output_type": "stream",
     "text": [
      "Model: lgbm | Mean train rsmle: 0.10535291556861201 | Standard deviation: 0.0008296790400336144\n",
      "Model: lgbm | Mean val rsmle: 0.14469043835174786 | Standard deviation: 0.0044468200434848925\n"
     ]
    },
    {
     "name": "stderr",
     "output_type": "stream",
     "text": [
      "  0%|                                                                                                                                                                                                             | 0/5 [00:00<?, ?it/s]"
     ]
    },
    {
     "name": "stdout",
     "output_type": "stream",
     "text": [
      "[LightGBM] [Warning] min_data_in_leaf is set=18, min_child_samples=5 will be ignored. Current value: min_data_in_leaf=18\n"
     ]
    },
    {
     "name": "stderr",
     "output_type": "stream",
     "text": [
      " 20%|███████████████████████████████████████▍                                                                                                                                                             | 1/5 [00:00<00:03,  1.04it/s]"
     ]
    },
    {
     "name": "stdout",
     "output_type": "stream",
     "text": [
      "[LightGBM] [Warning] min_data_in_leaf is set=18, min_child_samples=5 will be ignored. Current value: min_data_in_leaf=18\n"
     ]
    },
    {
     "name": "stderr",
     "output_type": "stream",
     "text": [
      " 40%|██████████████████████████████████████████████████████████████████████████████▊                                                                                                                      | 2/5 [00:01<00:02,  1.06it/s]"
     ]
    },
    {
     "name": "stdout",
     "output_type": "stream",
     "text": [
      "[LightGBM] [Warning] min_data_in_leaf is set=18, min_child_samples=5 will be ignored. Current value: min_data_in_leaf=18\n"
     ]
    },
    {
     "name": "stderr",
     "output_type": "stream",
     "text": [
      " 60%|██████████████████████████████████████████████████████████████████████████████████████████████████████████████████████▏                                                                              | 3/5 [00:02<00:01,  1.04it/s]"
     ]
    },
    {
     "name": "stdout",
     "output_type": "stream",
     "text": [
      "[LightGBM] [Warning] min_data_in_leaf is set=18, min_child_samples=5 will be ignored. Current value: min_data_in_leaf=18\n"
     ]
    },
    {
     "name": "stderr",
     "output_type": "stream",
     "text": [
      " 80%|█████████████████████████████████████████████████████████████████████████████████████████████████████████████████████████████████████████████████████████████▌                                       | 4/5 [00:03<00:00,  1.03it/s]"
     ]
    },
    {
     "name": "stdout",
     "output_type": "stream",
     "text": [
      "[LightGBM] [Warning] min_data_in_leaf is set=18, min_child_samples=5 will be ignored. Current value: min_data_in_leaf=18\n"
     ]
    },
    {
     "name": "stderr",
     "output_type": "stream",
     "text": [
      "100%|█████████████████████████████████████████████████████████████████████████████████████████████████████████████████████████████████████████████████████████████████████████████████████████████████████| 5/5 [00:04<00:00,  1.03it/s]\n",
      "\u001b[32m[I 2021-11-12 11:18:26,300]\u001b[0m Trial 81 finished with value: 0.13946892491340063 and parameters: {'num_leaves': 125, 'min_data_in_leaf': 18, 'max_depth': 27, 'max_bin': 275, 'lambda_l1': 0.31375570218656235, 'lambda_l2': 0.0004342967465903274, 'min_child_samples': 5}. Best is trial 78 with value: 0.13847979781263725.\u001b[0m\n"
     ]
    },
    {
     "name": "stdout",
     "output_type": "stream",
     "text": [
      "Model: lgbm | Mean train rsmle: 0.08336732438322784 | Standard deviation: 0.0006661048812754617\n",
      "Model: lgbm | Mean val rsmle: 0.13946892491340063 | Standard deviation: 0.0028034070807147\n"
     ]
    },
    {
     "name": "stderr",
     "output_type": "stream",
     "text": [
      "  0%|                                                                                                                                                                                                             | 0/5 [00:00<?, ?it/s]"
     ]
    },
    {
     "name": "stdout",
     "output_type": "stream",
     "text": [
      "[LightGBM] [Warning] min_data_in_leaf is set=18, min_child_samples=6 will be ignored. Current value: min_data_in_leaf=18\n"
     ]
    },
    {
     "name": "stderr",
     "output_type": "stream",
     "text": [
      " 20%|███████████████████████████████████████▍                                                                                                                                                             | 1/5 [00:00<00:03,  1.12it/s]"
     ]
    },
    {
     "name": "stdout",
     "output_type": "stream",
     "text": [
      "[LightGBM] [Warning] min_data_in_leaf is set=18, min_child_samples=6 will be ignored. Current value: min_data_in_leaf=18\n"
     ]
    },
    {
     "name": "stderr",
     "output_type": "stream",
     "text": [
      " 40%|██████████████████████████████████████████████████████████████████████████████▊                                                                                                                      | 2/5 [00:01<00:02,  1.13it/s]"
     ]
    },
    {
     "name": "stdout",
     "output_type": "stream",
     "text": [
      "[LightGBM] [Warning] min_data_in_leaf is set=18, min_child_samples=6 will be ignored. Current value: min_data_in_leaf=18\n"
     ]
    },
    {
     "name": "stderr",
     "output_type": "stream",
     "text": [
      " 60%|██████████████████████████████████████████████████████████████████████████████████████████████████████████████████████▏                                                                              | 3/5 [00:02<00:01,  1.11it/s]"
     ]
    },
    {
     "name": "stdout",
     "output_type": "stream",
     "text": [
      "[LightGBM] [Warning] min_data_in_leaf is set=18, min_child_samples=6 will be ignored. Current value: min_data_in_leaf=18\n"
     ]
    },
    {
     "name": "stderr",
     "output_type": "stream",
     "text": [
      " 80%|█████████████████████████████████████████████████████████████████████████████████████████████████████████████████████████████████████████████████████████████▌                                       | 4/5 [00:03<00:00,  1.09it/s]"
     ]
    },
    {
     "name": "stdout",
     "output_type": "stream",
     "text": [
      "[LightGBM] [Warning] min_data_in_leaf is set=18, min_child_samples=6 will be ignored. Current value: min_data_in_leaf=18\n"
     ]
    },
    {
     "name": "stderr",
     "output_type": "stream",
     "text": [
      "100%|█████████████████████████████████████████████████████████████████████████████████████████████████████████████████████████████████████████████████████████████████████████████████████████████████████| 5/5 [00:04<00:00,  1.09it/s]\n",
      "\u001b[32m[I 2021-11-12 11:18:30,917]\u001b[0m Trial 82 finished with value: 0.13992247533750507 and parameters: {'num_leaves': 117, 'min_data_in_leaf': 18, 'max_depth': 26, 'max_bin': 274, 'lambda_l1': 0.26914359390795367, 'lambda_l2': 0.0004935332640414923, 'min_child_samples': 6}. Best is trial 78 with value: 0.13847979781263725.\u001b[0m\n"
     ]
    },
    {
     "name": "stdout",
     "output_type": "stream",
     "text": [
      "Model: lgbm | Mean train rsmle: 0.08534499919443847 | Standard deviation: 0.0006369648560011098\n",
      "Model: lgbm | Mean val rsmle: 0.13992247533750507 | Standard deviation: 0.003983751254963524\n"
     ]
    },
    {
     "name": "stderr",
     "output_type": "stream",
     "text": [
      "  0%|                                                                                                                                                                                                             | 0/5 [00:00<?, ?it/s]"
     ]
    },
    {
     "name": "stdout",
     "output_type": "stream",
     "text": [
      "[LightGBM] [Warning] min_data_in_leaf is set=11, min_child_samples=10 will be ignored. Current value: min_data_in_leaf=11\n"
     ]
    },
    {
     "name": "stderr",
     "output_type": "stream",
     "text": [
      " 20%|███████████████████████████████████████▍                                                                                                                                                             | 1/5 [00:00<00:03,  1.08it/s]"
     ]
    },
    {
     "name": "stdout",
     "output_type": "stream",
     "text": [
      "[LightGBM] [Warning] min_data_in_leaf is set=11, min_child_samples=10 will be ignored. Current value: min_data_in_leaf=11\n"
     ]
    },
    {
     "name": "stderr",
     "output_type": "stream",
     "text": [
      " 40%|██████████████████████████████████████████████████████████████████████████████▊                                                                                                                      | 2/5 [00:01<00:02,  1.01it/s]"
     ]
    },
    {
     "name": "stdout",
     "output_type": "stream",
     "text": [
      "[LightGBM] [Warning] min_data_in_leaf is set=11, min_child_samples=10 will be ignored. Current value: min_data_in_leaf=11\n"
     ]
    },
    {
     "name": "stderr",
     "output_type": "stream",
     "text": [
      " 60%|██████████████████████████████████████████████████████████████████████████████████████████████████████████████████████▏                                                                              | 3/5 [00:02<00:01,  1.03it/s]"
     ]
    },
    {
     "name": "stdout",
     "output_type": "stream",
     "text": [
      "[LightGBM] [Warning] min_data_in_leaf is set=11, min_child_samples=10 will be ignored. Current value: min_data_in_leaf=11\n"
     ]
    },
    {
     "name": "stderr",
     "output_type": "stream",
     "text": [
      " 80%|█████████████████████████████████████████████████████████████████████████████████████████████████████████████████████████████████████████████████████████████▌                                       | 4/5 [00:03<00:00,  1.04it/s]"
     ]
    },
    {
     "name": "stdout",
     "output_type": "stream",
     "text": [
      "[LightGBM] [Warning] min_data_in_leaf is set=11, min_child_samples=10 will be ignored. Current value: min_data_in_leaf=11\n"
     ]
    },
    {
     "name": "stderr",
     "output_type": "stream",
     "text": [
      "100%|█████████████████████████████████████████████████████████████████████████████████████████████████████████████████████████████████████████████████████████████████████████████████████████████████████| 5/5 [00:04<00:00,  1.04it/s]\n",
      "\u001b[32m[I 2021-11-12 11:18:35,775]\u001b[0m Trial 83 finished with value: 0.13895131492377977 and parameters: {'num_leaves': 125, 'min_data_in_leaf': 11, 'max_depth': 29, 'max_bin': 258, 'lambda_l1': 0.052666023484841014, 'lambda_l2': 0.0007742446486120564, 'min_child_samples': 10}. Best is trial 78 with value: 0.13847979781263725.\u001b[0m\n"
     ]
    },
    {
     "name": "stdout",
     "output_type": "stream",
     "text": [
      "Model: lgbm | Mean train rsmle: 0.07852115971522788 | Standard deviation: 0.0005860930183067066\n",
      "Model: lgbm | Mean val rsmle: 0.13895131492377977 | Standard deviation: 0.003062897102679533\n"
     ]
    },
    {
     "name": "stderr",
     "output_type": "stream",
     "text": [
      "  0%|                                                                                                                                                                                                             | 0/5 [00:00<?, ?it/s]"
     ]
    },
    {
     "name": "stdout",
     "output_type": "stream",
     "text": [
      "[LightGBM] [Warning] min_data_in_leaf is set=10, min_child_samples=11 will be ignored. Current value: min_data_in_leaf=10\n"
     ]
    },
    {
     "name": "stderr",
     "output_type": "stream",
     "text": [
      " 20%|███████████████████████████████████████▍                                                                                                                                                             | 1/5 [00:00<00:03,  1.11it/s]"
     ]
    },
    {
     "name": "stdout",
     "output_type": "stream",
     "text": [
      "[LightGBM] [Warning] min_data_in_leaf is set=10, min_child_samples=11 will be ignored. Current value: min_data_in_leaf=10\n"
     ]
    },
    {
     "name": "stderr",
     "output_type": "stream",
     "text": [
      " 40%|██████████████████████████████████████████████████████████████████████████████▊                                                                                                                      | 2/5 [00:01<00:02,  1.11it/s]"
     ]
    },
    {
     "name": "stdout",
     "output_type": "stream",
     "text": [
      "[LightGBM] [Warning] min_data_in_leaf is set=10, min_child_samples=11 will be ignored. Current value: min_data_in_leaf=10\n"
     ]
    },
    {
     "name": "stderr",
     "output_type": "stream",
     "text": [
      " 60%|██████████████████████████████████████████████████████████████████████████████████████████████████████████████████████▏                                                                              | 3/5 [00:02<00:01,  1.09it/s]"
     ]
    },
    {
     "name": "stdout",
     "output_type": "stream",
     "text": [
      "[LightGBM] [Warning] min_data_in_leaf is set=10, min_child_samples=11 will be ignored. Current value: min_data_in_leaf=10\n"
     ]
    },
    {
     "name": "stderr",
     "output_type": "stream",
     "text": [
      " 80%|█████████████████████████████████████████████████████████████████████████████████████████████████████████████████████████████████████████████████████████████▌                                       | 4/5 [00:03<00:00,  1.08it/s]"
     ]
    },
    {
     "name": "stdout",
     "output_type": "stream",
     "text": [
      "[LightGBM] [Warning] min_data_in_leaf is set=10, min_child_samples=11 will be ignored. Current value: min_data_in_leaf=10\n"
     ]
    },
    {
     "name": "stderr",
     "output_type": "stream",
     "text": [
      "100%|█████████████████████████████████████████████████████████████████████████████████████████████████████████████████████████████████████████████████████████████████████████████████████████████████████| 5/5 [00:04<00:00,  1.08it/s]\n",
      "\u001b[32m[I 2021-11-12 11:18:40,459]\u001b[0m Trial 84 finished with value: 0.13904636029886336 and parameters: {'num_leaves': 123, 'min_data_in_leaf': 10, 'max_depth': 28, 'max_bin': 259, 'lambda_l1': 0.1154558117350212, 'lambda_l2': 3.451641682503248e-05, 'min_child_samples': 11}. Best is trial 78 with value: 0.13847979781263725.\u001b[0m\n"
     ]
    },
    {
     "name": "stdout",
     "output_type": "stream",
     "text": [
      "Model: lgbm | Mean train rsmle: 0.07899553080507274 | Standard deviation: 0.0006510087706689737\n",
      "Model: lgbm | Mean val rsmle: 0.13904636029886336 | Standard deviation: 0.003204745058159915\n"
     ]
    },
    {
     "name": "stderr",
     "output_type": "stream",
     "text": [
      "  0%|                                                                                                                                                                                                             | 0/5 [00:00<?, ?it/s]"
     ]
    },
    {
     "name": "stdout",
     "output_type": "stream",
     "text": [
      "[LightGBM] [Warning] min_data_in_leaf is set=11, min_child_samples=20 will be ignored. Current value: min_data_in_leaf=11\n"
     ]
    },
    {
     "name": "stderr",
     "output_type": "stream",
     "text": [
      " 20%|███████████████████████████████████████▍                                                                                                                                                             | 1/5 [00:00<00:03,  1.15it/s]"
     ]
    },
    {
     "name": "stdout",
     "output_type": "stream",
     "text": [
      "[LightGBM] [Warning] min_data_in_leaf is set=11, min_child_samples=20 will be ignored. Current value: min_data_in_leaf=11\n"
     ]
    },
    {
     "name": "stderr",
     "output_type": "stream",
     "text": [
      " 40%|██████████████████████████████████████████████████████████████████████████████▊                                                                                                                      | 2/5 [00:01<00:02,  1.16it/s]"
     ]
    },
    {
     "name": "stdout",
     "output_type": "stream",
     "text": [
      "[LightGBM] [Warning] min_data_in_leaf is set=11, min_child_samples=20 will be ignored. Current value: min_data_in_leaf=11\n"
     ]
    },
    {
     "name": "stderr",
     "output_type": "stream",
     "text": [
      " 60%|██████████████████████████████████████████████████████████████████████████████████████████████████████████████████████▏                                                                              | 3/5 [00:02<00:01,  1.13it/s]"
     ]
    },
    {
     "name": "stdout",
     "output_type": "stream",
     "text": [
      "[LightGBM] [Warning] min_data_in_leaf is set=11, min_child_samples=20 will be ignored. Current value: min_data_in_leaf=11\n"
     ]
    },
    {
     "name": "stderr",
     "output_type": "stream",
     "text": [
      " 80%|█████████████████████████████████████████████████████████████████████████████████████████████████████████████████████████████████████████████████████████████▌                                       | 4/5 [00:03<00:00,  1.12it/s]"
     ]
    },
    {
     "name": "stdout",
     "output_type": "stream",
     "text": [
      "[LightGBM] [Warning] min_data_in_leaf is set=11, min_child_samples=20 will be ignored. Current value: min_data_in_leaf=11\n"
     ]
    },
    {
     "name": "stderr",
     "output_type": "stream",
     "text": [
      "100%|█████████████████████████████████████████████████████████████████████████████████████████████████████████████████████████████████████████████████████████████████████████████████████████████████████| 5/5 [00:04<00:00,  1.12it/s]\n",
      "\u001b[32m[I 2021-11-12 11:18:44,973]\u001b[0m Trial 85 finished with value: 0.13855489687555397 and parameters: {'num_leaves': 117, 'min_data_in_leaf': 11, 'max_depth': 29, 'max_bin': 261, 'lambda_l1': 0.04195552972734262, 'lambda_l2': 2.1644596261263618e-05, 'min_child_samples': 20}. Best is trial 78 with value: 0.13847979781263725.\u001b[0m\n"
     ]
    },
    {
     "name": "stdout",
     "output_type": "stream",
     "text": [
      "Model: lgbm | Mean train rsmle: 0.08074992784885156 | Standard deviation: 0.0005369517398163778\n",
      "Model: lgbm | Mean val rsmle: 0.13855489687555397 | Standard deviation: 0.002680963889159871\n"
     ]
    },
    {
     "name": "stderr",
     "output_type": "stream",
     "text": [
      "  0%|                                                                                                                                                                                                             | 0/5 [00:00<?, ?it/s]"
     ]
    },
    {
     "name": "stdout",
     "output_type": "stream",
     "text": [
      "[LightGBM] [Warning] min_data_in_leaf is set=11, min_child_samples=22 will be ignored. Current value: min_data_in_leaf=11\n"
     ]
    },
    {
     "name": "stderr",
     "output_type": "stream",
     "text": [
      " 20%|███████████████████████████████████████▍                                                                                                                                                             | 1/5 [00:00<00:00,  4.24it/s]"
     ]
    },
    {
     "name": "stdout",
     "output_type": "stream",
     "text": [
      "[LightGBM] [Warning] min_data_in_leaf is set=11, min_child_samples=22 will be ignored. Current value: min_data_in_leaf=11\n"
     ]
    },
    {
     "name": "stderr",
     "output_type": "stream",
     "text": [
      " 40%|██████████████████████████████████████████████████████████████████████████████▊                                                                                                                      | 2/5 [00:00<00:00,  4.30it/s]"
     ]
    },
    {
     "name": "stdout",
     "output_type": "stream",
     "text": [
      "[LightGBM] [Warning] min_data_in_leaf is set=11, min_child_samples=22 will be ignored. Current value: min_data_in_leaf=11\n"
     ]
    },
    {
     "name": "stderr",
     "output_type": "stream",
     "text": [
      " 60%|██████████████████████████████████████████████████████████████████████████████████████████████████████████████████████▏                                                                              | 3/5 [00:00<00:00,  4.32it/s]"
     ]
    },
    {
     "name": "stdout",
     "output_type": "stream",
     "text": [
      "[LightGBM] [Warning] min_data_in_leaf is set=11, min_child_samples=22 will be ignored. Current value: min_data_in_leaf=11\n"
     ]
    },
    {
     "name": "stderr",
     "output_type": "stream",
     "text": [
      " 80%|█████████████████████████████████████████████████████████████████████████████████████████████████████████████████████████████████████████████████████████████▌                                       | 4/5 [00:00<00:00,  4.27it/s]"
     ]
    },
    {
     "name": "stdout",
     "output_type": "stream",
     "text": [
      "[LightGBM] [Warning] min_data_in_leaf is set=11, min_child_samples=22 will be ignored. Current value: min_data_in_leaf=11\n"
     ]
    },
    {
     "name": "stderr",
     "output_type": "stream",
     "text": [
      "100%|█████████████████████████████████████████████████████████████████████████████████████████████████████████████████████████████████████████████████████████████████████████████████████████████████████| 5/5 [00:01<00:00,  4.28it/s]\n",
      "\u001b[32m[I 2021-11-12 11:18:46,178]\u001b[0m Trial 86 finished with value: 0.20360827620098415 and parameters: {'num_leaves': 6, 'min_data_in_leaf': 11, 'max_depth': 29, 'max_bin': 257, 'lambda_l1': 0.04104917557020454, 'lambda_l2': 1.177032646983041e-05, 'min_child_samples': 22}. Best is trial 78 with value: 0.13847979781263725.\u001b[0m\n"
     ]
    },
    {
     "name": "stdout",
     "output_type": "stream",
     "text": [
      "Model: lgbm | Mean train rsmle: 0.19692959144622482 | Standard deviation: 0.0007211371128393336\n",
      "Model: lgbm | Mean val rsmle: 0.20360827620098415 | Standard deviation: 0.0034012930000002152\n"
     ]
    },
    {
     "name": "stderr",
     "output_type": "stream",
     "text": [
      "  0%|                                                                                                                                                                                                             | 0/5 [00:00<?, ?it/s]"
     ]
    },
    {
     "name": "stdout",
     "output_type": "stream",
     "text": [
      "[LightGBM] [Warning] min_data_in_leaf is set=11, min_child_samples=10 will be ignored. Current value: min_data_in_leaf=11\n"
     ]
    },
    {
     "name": "stderr",
     "output_type": "stream",
     "text": [
      " 20%|███████████████████████████████████████▍                                                                                                                                                             | 1/5 [00:00<00:03,  1.13it/s]"
     ]
    },
    {
     "name": "stdout",
     "output_type": "stream",
     "text": [
      "[LightGBM] [Warning] min_data_in_leaf is set=11, min_child_samples=10 will be ignored. Current value: min_data_in_leaf=11\n"
     ]
    },
    {
     "name": "stderr",
     "output_type": "stream",
     "text": [
      " 40%|██████████████████████████████████████████████████████████████████████████████▊                                                                                                                      | 2/5 [00:01<00:02,  1.14it/s]"
     ]
    },
    {
     "name": "stdout",
     "output_type": "stream",
     "text": [
      "[LightGBM] [Warning] min_data_in_leaf is set=11, min_child_samples=10 will be ignored. Current value: min_data_in_leaf=11\n"
     ]
    },
    {
     "name": "stderr",
     "output_type": "stream",
     "text": [
      " 60%|██████████████████████████████████████████████████████████████████████████████████████████████████████████████████████▏                                                                              | 3/5 [00:02<00:01,  1.11it/s]"
     ]
    },
    {
     "name": "stdout",
     "output_type": "stream",
     "text": [
      "[LightGBM] [Warning] min_data_in_leaf is set=11, min_child_samples=10 will be ignored. Current value: min_data_in_leaf=11\n"
     ]
    },
    {
     "name": "stderr",
     "output_type": "stream",
     "text": [
      " 80%|█████████████████████████████████████████████████████████████████████████████████████████████████████████████████████████████████████████████████████████████▌                                       | 4/5 [00:03<00:00,  1.09it/s]"
     ]
    },
    {
     "name": "stdout",
     "output_type": "stream",
     "text": [
      "[LightGBM] [Warning] min_data_in_leaf is set=11, min_child_samples=10 will be ignored. Current value: min_data_in_leaf=11\n"
     ]
    },
    {
     "name": "stderr",
     "output_type": "stream",
     "text": [
      "100%|█████████████████████████████████████████████████████████████████████████████████████████████████████████████████████████████████████████████████████████████████████████████████████████████████████| 5/5 [00:04<00:00,  1.10it/s]\n",
      "\u001b[32m[I 2021-11-12 11:18:50,778]\u001b[0m Trial 87 finished with value: 0.13928299203929126 and parameters: {'num_leaves': 117, 'min_data_in_leaf': 11, 'max_depth': 28, 'max_bin': 270, 'lambda_l1': 0.11107539495812681, 'lambda_l2': 2.809777344885165e-06, 'min_child_samples': 10}. Best is trial 78 with value: 0.13847979781263725.\u001b[0m\n"
     ]
    },
    {
     "name": "stdout",
     "output_type": "stream",
     "text": [
      "Model: lgbm | Mean train rsmle: 0.08134486737667895 | Standard deviation: 0.0005153970377249579\n",
      "Model: lgbm | Mean val rsmle: 0.13928299203929126 | Standard deviation: 0.0035471149459500887\n"
     ]
    },
    {
     "name": "stderr",
     "output_type": "stream",
     "text": [
      "  0%|                                                                                                                                                                                                             | 0/5 [00:00<?, ?it/s]"
     ]
    },
    {
     "name": "stdout",
     "output_type": "stream",
     "text": [
      "[LightGBM] [Warning] min_data_in_leaf is set=21, min_child_samples=14 will be ignored. Current value: min_data_in_leaf=21\n"
     ]
    },
    {
     "name": "stderr",
     "output_type": "stream",
     "text": [
      " 20%|███████████████████████████████████████▍                                                                                                                                                             | 1/5 [00:00<00:03,  1.13it/s]"
     ]
    },
    {
     "name": "stdout",
     "output_type": "stream",
     "text": [
      "[LightGBM] [Warning] min_data_in_leaf is set=21, min_child_samples=14 will be ignored. Current value: min_data_in_leaf=21\n"
     ]
    },
    {
     "name": "stderr",
     "output_type": "stream",
     "text": [
      " 40%|██████████████████████████████████████████████████████████████████████████████▊                                                                                                                      | 2/5 [00:01<00:02,  1.10it/s]"
     ]
    },
    {
     "name": "stdout",
     "output_type": "stream",
     "text": [
      "[LightGBM] [Warning] min_data_in_leaf is set=21, min_child_samples=14 will be ignored. Current value: min_data_in_leaf=21\n"
     ]
    },
    {
     "name": "stderr",
     "output_type": "stream",
     "text": [
      " 60%|██████████████████████████████████████████████████████████████████████████████████████████████████████████████████████▏                                                                              | 3/5 [00:02<00:01,  1.09it/s]"
     ]
    },
    {
     "name": "stdout",
     "output_type": "stream",
     "text": [
      "[LightGBM] [Warning] min_data_in_leaf is set=21, min_child_samples=14 will be ignored. Current value: min_data_in_leaf=21\n"
     ]
    },
    {
     "name": "stderr",
     "output_type": "stream",
     "text": [
      " 80%|█████████████████████████████████████████████████████████████████████████████████████████████████████████████████████████████████████████████████████████████▌                                       | 4/5 [00:03<00:00,  1.09it/s]"
     ]
    },
    {
     "name": "stdout",
     "output_type": "stream",
     "text": [
      "[LightGBM] [Warning] min_data_in_leaf is set=21, min_child_samples=14 will be ignored. Current value: min_data_in_leaf=21\n"
     ]
    },
    {
     "name": "stderr",
     "output_type": "stream",
     "text": [
      "100%|█████████████████████████████████████████████████████████████████████████████████████████████████████████████████████████████████████████████████████████████████████████████████████████████████████| 5/5 [00:04<00:00,  1.09it/s]\n",
      "\u001b[32m[I 2021-11-12 11:18:55,406]\u001b[0m Trial 88 finished with value: 0.13971724751542783 and parameters: {'num_leaves': 119, 'min_data_in_leaf': 21, 'max_depth': 28, 'max_bin': 269, 'lambda_l1': 0.11142337615842719, 'lambda_l2': 5.962171003413434e-06, 'min_child_samples': 14}. Best is trial 78 with value: 0.13847979781263725.\u001b[0m\n"
     ]
    },
    {
     "name": "stdout",
     "output_type": "stream",
     "text": [
      "Model: lgbm | Mean train rsmle: 0.08506202537985162 | Standard deviation: 0.000564487420197994\n",
      "Model: lgbm | Mean val rsmle: 0.13971724751542783 | Standard deviation: 0.0025336526352366935\n"
     ]
    },
    {
     "name": "stderr",
     "output_type": "stream",
     "text": [
      "  0%|                                                                                                                                                                                                             | 0/5 [00:00<?, ?it/s]"
     ]
    },
    {
     "name": "stdout",
     "output_type": "stream",
     "text": [
      "[LightGBM] [Warning] min_data_in_leaf is set=11, min_child_samples=10 will be ignored. Current value: min_data_in_leaf=11\n"
     ]
    },
    {
     "name": "stderr",
     "output_type": "stream",
     "text": [
      " 20%|███████████████████████████████████████▍                                                                                                                                                             | 1/5 [00:00<00:01,  2.92it/s]"
     ]
    },
    {
     "name": "stdout",
     "output_type": "stream",
     "text": [
      "[LightGBM] [Warning] min_data_in_leaf is set=11, min_child_samples=10 will be ignored. Current value: min_data_in_leaf=11\n"
     ]
    },
    {
     "name": "stderr",
     "output_type": "stream",
     "text": [
      " 40%|██████████████████████████████████████████████████████████████████████████████▊                                                                                                                      | 2/5 [00:00<00:00,  3.01it/s]"
     ]
    },
    {
     "name": "stdout",
     "output_type": "stream",
     "text": [
      "[LightGBM] [Warning] min_data_in_leaf is set=11, min_child_samples=10 will be ignored. Current value: min_data_in_leaf=11\n"
     ]
    },
    {
     "name": "stderr",
     "output_type": "stream",
     "text": [
      " 60%|██████████████████████████████████████████████████████████████████████████████████████████████████████████████████████▏                                                                              | 3/5 [00:01<00:00,  2.96it/s]"
     ]
    },
    {
     "name": "stdout",
     "output_type": "stream",
     "text": [
      "[LightGBM] [Warning] min_data_in_leaf is set=11, min_child_samples=10 will be ignored. Current value: min_data_in_leaf=11\n"
     ]
    },
    {
     "name": "stderr",
     "output_type": "stream",
     "text": [
      " 80%|█████████████████████████████████████████████████████████████████████████████████████████████████████████████████████████████████████████████████████████████▌                                       | 4/5 [00:01<00:00,  2.96it/s]"
     ]
    },
    {
     "name": "stdout",
     "output_type": "stream",
     "text": [
      "[LightGBM] [Warning] min_data_in_leaf is set=11, min_child_samples=10 will be ignored. Current value: min_data_in_leaf=11\n"
     ]
    },
    {
     "name": "stderr",
     "output_type": "stream",
     "text": [
      "100%|█████████████████████████████████████████████████████████████████████████████████████████████████████████████████████████████████████████████████████████████████████████████████████████████████████| 5/5 [00:01<00:00,  2.96it/s]\n",
      "\u001b[32m[I 2021-11-12 11:18:57,136]\u001b[0m Trial 89 finished with value: 0.16869393302834784 and parameters: {'num_leaves': 17, 'min_data_in_leaf': 11, 'max_depth': 29, 'max_bin': 247, 'lambda_l1': 0.6512949822271393, 'lambda_l2': 2.3759367150182267e-06, 'min_child_samples': 10}. Best is trial 78 with value: 0.13847979781263725.\u001b[0m\n"
     ]
    },
    {
     "name": "stdout",
     "output_type": "stream",
     "text": [
      "Model: lgbm | Mean train rsmle: 0.15350275107310235 | Standard deviation: 0.0005171124121814056\n",
      "Model: lgbm | Mean val rsmle: 0.16869393302834784 | Standard deviation: 0.00401749162806555\n"
     ]
    },
    {
     "name": "stderr",
     "output_type": "stream",
     "text": [
      "  0%|                                                                                                                                                                                                             | 0/5 [00:00<?, ?it/s]"
     ]
    },
    {
     "name": "stdout",
     "output_type": "stream",
     "text": [
      "[LightGBM] [Warning] min_data_in_leaf is set=15, min_child_samples=18 will be ignored. Current value: min_data_in_leaf=15\n"
     ]
    },
    {
     "name": "stderr",
     "output_type": "stream",
     "text": [
      " 20%|███████████████████████████████████████▍                                                                                                                                                             | 1/5 [00:00<00:03,  1.10it/s]"
     ]
    },
    {
     "name": "stdout",
     "output_type": "stream",
     "text": [
      "[LightGBM] [Warning] min_data_in_leaf is set=15, min_child_samples=18 will be ignored. Current value: min_data_in_leaf=15\n"
     ]
    },
    {
     "name": "stderr",
     "output_type": "stream",
     "text": [
      " 40%|██████████████████████████████████████████████████████████████████████████████▊                                                                                                                      | 2/5 [00:01<00:02,  1.12it/s]"
     ]
    },
    {
     "name": "stdout",
     "output_type": "stream",
     "text": [
      "[LightGBM] [Warning] min_data_in_leaf is set=15, min_child_samples=18 will be ignored. Current value: min_data_in_leaf=15\n"
     ]
    },
    {
     "name": "stderr",
     "output_type": "stream",
     "text": [
      " 60%|██████████████████████████████████████████████████████████████████████████████████████████████████████████████████████▏                                                                              | 3/5 [00:02<00:01,  1.10it/s]"
     ]
    },
    {
     "name": "stdout",
     "output_type": "stream",
     "text": [
      "[LightGBM] [Warning] min_data_in_leaf is set=15, min_child_samples=18 will be ignored. Current value: min_data_in_leaf=15\n"
     ]
    },
    {
     "name": "stderr",
     "output_type": "stream",
     "text": [
      " 80%|█████████████████████████████████████████████████████████████████████████████████████████████████████████████████████████████████████████████████████████████▌                                       | 4/5 [00:03<00:00,  1.09it/s]"
     ]
    },
    {
     "name": "stdout",
     "output_type": "stream",
     "text": [
      "[LightGBM] [Warning] min_data_in_leaf is set=15, min_child_samples=18 will be ignored. Current value: min_data_in_leaf=15\n"
     ]
    },
    {
     "name": "stderr",
     "output_type": "stream",
     "text": [
      "100%|█████████████████████████████████████████████████████████████████████████████████████████████████████████████████████████████████████████████████████████████████████████████████████████████████████| 5/5 [00:04<00:00,  1.08it/s]\n",
      "\u001b[32m[I 2021-11-12 11:19:01,792]\u001b[0m Trial 90 finished with value: 0.1394109614545414 and parameters: {'num_leaves': 122, 'min_data_in_leaf': 15, 'max_depth': 26, 'max_bin': 264, 'lambda_l1': 0.11318164504938456, 'lambda_l2': 4.357623626541406e-05, 'min_child_samples': 18}. Best is trial 78 with value: 0.13847979781263725.\u001b[0m\n"
     ]
    },
    {
     "name": "stdout",
     "output_type": "stream",
     "text": [
      "Model: lgbm | Mean train rsmle: 0.08168503629219719 | Standard deviation: 0.000726111456123045\n",
      "Model: lgbm | Mean val rsmle: 0.1394109614545414 | Standard deviation: 0.0033687050436149897\n"
     ]
    },
    {
     "name": "stderr",
     "output_type": "stream",
     "text": [
      "  0%|                                                                                                                                                                                                             | 0/5 [00:00<?, ?it/s]"
     ]
    },
    {
     "name": "stdout",
     "output_type": "stream",
     "text": [
      "[LightGBM] [Warning] min_data_in_leaf is set=10, min_child_samples=9 will be ignored. Current value: min_data_in_leaf=10\n"
     ]
    },
    {
     "name": "stderr",
     "output_type": "stream",
     "text": [
      " 20%|███████████████████████████████████████▍                                                                                                                                                             | 1/5 [00:00<00:03,  1.16it/s]"
     ]
    },
    {
     "name": "stdout",
     "output_type": "stream",
     "text": [
      "[LightGBM] [Warning] min_data_in_leaf is set=10, min_child_samples=9 will be ignored. Current value: min_data_in_leaf=10\n"
     ]
    },
    {
     "name": "stderr",
     "output_type": "stream",
     "text": [
      " 40%|██████████████████████████████████████████████████████████████████████████████▊                                                                                                                      | 2/5 [00:01<00:02,  1.15it/s]"
     ]
    },
    {
     "name": "stdout",
     "output_type": "stream",
     "text": [
      "[LightGBM] [Warning] min_data_in_leaf is set=10, min_child_samples=9 will be ignored. Current value: min_data_in_leaf=10\n"
     ]
    },
    {
     "name": "stderr",
     "output_type": "stream",
     "text": [
      " 60%|██████████████████████████████████████████████████████████████████████████████████████████████████████████████████████▏                                                                              | 3/5 [00:02<00:01,  1.12it/s]"
     ]
    },
    {
     "name": "stdout",
     "output_type": "stream",
     "text": [
      "[LightGBM] [Warning] min_data_in_leaf is set=10, min_child_samples=9 will be ignored. Current value: min_data_in_leaf=10\n"
     ]
    },
    {
     "name": "stderr",
     "output_type": "stream",
     "text": [
      " 80%|█████████████████████████████████████████████████████████████████████████████████████████████████████████████████████████████████████████████████████████████▌                                       | 4/5 [00:03<00:00,  1.11it/s]"
     ]
    },
    {
     "name": "stdout",
     "output_type": "stream",
     "text": [
      "[LightGBM] [Warning] min_data_in_leaf is set=10, min_child_samples=9 will be ignored. Current value: min_data_in_leaf=10\n"
     ]
    },
    {
     "name": "stderr",
     "output_type": "stream",
     "text": [
      "100%|█████████████████████████████████████████████████████████████████████████████████████████████████████████████████████████████████████████████████████████████████████████████████████████████████████| 5/5 [00:04<00:00,  1.12it/s]\n",
      "\u001b[32m[I 2021-11-12 11:19:06,313]\u001b[0m Trial 91 finished with value: 0.139122030268909 and parameters: {'num_leaves': 117, 'min_data_in_leaf': 10, 'max_depth': 28, 'max_bin': 257, 'lambda_l1': 0.04119366040608507, 'lambda_l2': 9.925579847243628e-07, 'min_child_samples': 9}. Best is trial 78 with value: 0.13847979781263725.\u001b[0m\n"
     ]
    },
    {
     "name": "stdout",
     "output_type": "stream",
     "text": [
      "Model: lgbm | Mean train rsmle: 0.08037592294503157 | Standard deviation: 0.0006446389117081631\n",
      "Model: lgbm | Mean val rsmle: 0.139122030268909 | Standard deviation: 0.003237078488936542\n"
     ]
    },
    {
     "name": "stderr",
     "output_type": "stream",
     "text": [
      "  0%|                                                                                                                                                                                                             | 0/5 [00:00<?, ?it/s]"
     ]
    },
    {
     "name": "stdout",
     "output_type": "stream",
     "text": [
      "[LightGBM] [Warning] min_data_in_leaf is set=7, min_child_samples=9 will be ignored. Current value: min_data_in_leaf=7\n"
     ]
    },
    {
     "name": "stderr",
     "output_type": "stream",
     "text": [
      " 20%|███████████████████████████████████████▍                                                                                                                                                             | 1/5 [00:00<00:03,  1.15it/s]"
     ]
    },
    {
     "name": "stdout",
     "output_type": "stream",
     "text": [
      "[LightGBM] [Warning] min_data_in_leaf is set=7, min_child_samples=9 will be ignored. Current value: min_data_in_leaf=7\n"
     ]
    },
    {
     "name": "stderr",
     "output_type": "stream",
     "text": [
      " 40%|██████████████████████████████████████████████████████████████████████████████▊                                                                                                                      | 2/5 [00:01<00:02,  1.15it/s]"
     ]
    },
    {
     "name": "stdout",
     "output_type": "stream",
     "text": [
      "[LightGBM] [Warning] min_data_in_leaf is set=7, min_child_samples=9 will be ignored. Current value: min_data_in_leaf=7\n"
     ]
    },
    {
     "name": "stderr",
     "output_type": "stream",
     "text": [
      " 60%|██████████████████████████████████████████████████████████████████████████████████████████████████████████████████████▏                                                                              | 3/5 [00:02<00:01,  1.12it/s]"
     ]
    },
    {
     "name": "stdout",
     "output_type": "stream",
     "text": [
      "[LightGBM] [Warning] min_data_in_leaf is set=7, min_child_samples=9 will be ignored. Current value: min_data_in_leaf=7\n"
     ]
    },
    {
     "name": "stderr",
     "output_type": "stream",
     "text": [
      " 80%|█████████████████████████████████████████████████████████████████████████████████████████████████████████████████████████████████████████████████████████████▌                                       | 4/5 [00:03<00:00,  1.11it/s]"
     ]
    },
    {
     "name": "stdout",
     "output_type": "stream",
     "text": [
      "[LightGBM] [Warning] min_data_in_leaf is set=7, min_child_samples=9 will be ignored. Current value: min_data_in_leaf=7\n"
     ]
    },
    {
     "name": "stderr",
     "output_type": "stream",
     "text": [
      "100%|█████████████████████████████████████████████████████████████████████████████████████████████████████████████████████████████████████████████████████████████████████████████████████████████████████| 5/5 [00:04<00:00,  1.11it/s]\n",
      "\u001b[32m[I 2021-11-12 11:19:10,851]\u001b[0m Trial 92 finished with value: 0.13930148726034802 and parameters: {'num_leaves': 117, 'min_data_in_leaf': 7, 'max_depth': 28, 'max_bin': 257, 'lambda_l1': 0.030722010752862725, 'lambda_l2': 2.744879683540742e-07, 'min_child_samples': 9}. Best is trial 78 with value: 0.13847979781263725.\u001b[0m\n"
     ]
    },
    {
     "name": "stdout",
     "output_type": "stream",
     "text": [
      "Model: lgbm | Mean train rsmle: 0.07874220922123953 | Standard deviation: 0.00034497282175849825\n",
      "Model: lgbm | Mean val rsmle: 0.13930148726034802 | Standard deviation: 0.002579698085112251\n"
     ]
    },
    {
     "name": "stderr",
     "output_type": "stream",
     "text": [
      "  0%|                                                                                                                                                                                                             | 0/5 [00:00<?, ?it/s]"
     ]
    },
    {
     "name": "stdout",
     "output_type": "stream",
     "text": [
      "[LightGBM] [Warning] min_data_in_leaf is set=10, min_child_samples=12 will be ignored. Current value: min_data_in_leaf=10\n"
     ]
    },
    {
     "name": "stderr",
     "output_type": "stream",
     "text": [
      " 20%|███████████████████████████████████████▍                                                                                                                                                             | 1/5 [00:00<00:03,  1.19it/s]"
     ]
    },
    {
     "name": "stdout",
     "output_type": "stream",
     "text": [
      "[LightGBM] [Warning] min_data_in_leaf is set=10, min_child_samples=12 will be ignored. Current value: min_data_in_leaf=10\n"
     ]
    },
    {
     "name": "stderr",
     "output_type": "stream",
     "text": [
      " 40%|██████████████████████████████████████████████████████████████████████████████▊                                                                                                                      | 2/5 [00:01<00:02,  1.20it/s]"
     ]
    },
    {
     "name": "stdout",
     "output_type": "stream",
     "text": [
      "[LightGBM] [Warning] min_data_in_leaf is set=10, min_child_samples=12 will be ignored. Current value: min_data_in_leaf=10\n"
     ]
    },
    {
     "name": "stderr",
     "output_type": "stream",
     "text": [
      " 60%|██████████████████████████████████████████████████████████████████████████████████████████████████████████████████████▏                                                                              | 3/5 [00:02<00:01,  1.17it/s]"
     ]
    },
    {
     "name": "stdout",
     "output_type": "stream",
     "text": [
      "[LightGBM] [Warning] min_data_in_leaf is set=10, min_child_samples=12 will be ignored. Current value: min_data_in_leaf=10\n"
     ]
    },
    {
     "name": "stderr",
     "output_type": "stream",
     "text": [
      " 80%|█████████████████████████████████████████████████████████████████████████████████████████████████████████████████████████████████████████████████████████████▌                                       | 4/5 [00:03<00:00,  1.16it/s]"
     ]
    },
    {
     "name": "stdout",
     "output_type": "stream",
     "text": [
      "[LightGBM] [Warning] min_data_in_leaf is set=10, min_child_samples=12 will be ignored. Current value: min_data_in_leaf=10\n"
     ]
    },
    {
     "name": "stderr",
     "output_type": "stream",
     "text": [
      "100%|█████████████████████████████████████████████████████████████████████████████████████████████████████████████████████████████████████████████████████████████████████████████████████████████████████| 5/5 [00:04<00:00,  1.16it/s]\n",
      "\u001b[32m[I 2021-11-12 11:19:15,197]\u001b[0m Trial 93 finished with value: 0.14057190581532156 and parameters: {'num_leaves': 108, 'min_data_in_leaf': 10, 'max_depth': 29, 'max_bin': 262, 'lambda_l1': 0.490047089417521, 'lambda_l2': 1.304563479404577e-07, 'min_child_samples': 12}. Best is trial 78 with value: 0.13847979781263725.\u001b[0m\n"
     ]
    },
    {
     "name": "stdout",
     "output_type": "stream",
     "text": [
      "Model: lgbm | Mean train rsmle: 0.08722311615915003 | Standard deviation: 0.00046193617065491\n",
      "Model: lgbm | Mean val rsmle: 0.14057190581532156 | Standard deviation: 0.0032560487340480724\n"
     ]
    },
    {
     "name": "stderr",
     "output_type": "stream",
     "text": [
      "  0%|                                                                                                                                                                                                             | 0/5 [00:00<?, ?it/s]"
     ]
    },
    {
     "name": "stdout",
     "output_type": "stream",
     "text": [
      "[LightGBM] [Warning] min_data_in_leaf is set=15, min_child_samples=14 will be ignored. Current value: min_data_in_leaf=15\n"
     ]
    },
    {
     "name": "stderr",
     "output_type": "stream",
     "text": [
      " 20%|███████████████████████████████████████▍                                                                                                                                                             | 1/5 [00:00<00:03,  1.07it/s]"
     ]
    },
    {
     "name": "stdout",
     "output_type": "stream",
     "text": [
      "[LightGBM] [Warning] min_data_in_leaf is set=15, min_child_samples=14 will be ignored. Current value: min_data_in_leaf=15\n"
     ]
    },
    {
     "name": "stderr",
     "output_type": "stream",
     "text": [
      " 40%|██████████████████████████████████████████████████████████████████████████████▊                                                                                                                      | 2/5 [00:01<00:02,  1.07it/s]"
     ]
    },
    {
     "name": "stdout",
     "output_type": "stream",
     "text": [
      "[LightGBM] [Warning] min_data_in_leaf is set=15, min_child_samples=14 will be ignored. Current value: min_data_in_leaf=15\n"
     ]
    },
    {
     "name": "stderr",
     "output_type": "stream",
     "text": [
      " 60%|██████████████████████████████████████████████████████████████████████████████████████████████████████████████████████▏                                                                              | 3/5 [00:02<00:01,  1.05it/s]"
     ]
    },
    {
     "name": "stdout",
     "output_type": "stream",
     "text": [
      "[LightGBM] [Warning] min_data_in_leaf is set=15, min_child_samples=14 will be ignored. Current value: min_data_in_leaf=15\n"
     ]
    },
    {
     "name": "stderr",
     "output_type": "stream",
     "text": [
      " 80%|█████████████████████████████████████████████████████████████████████████████████████████████████████████████████████████████████████████████████████████████▌                                       | 4/5 [00:03<00:00,  1.03it/s]"
     ]
    },
    {
     "name": "stdout",
     "output_type": "stream",
     "text": [
      "[LightGBM] [Warning] min_data_in_leaf is set=15, min_child_samples=14 will be ignored. Current value: min_data_in_leaf=15\n"
     ]
    },
    {
     "name": "stderr",
     "output_type": "stream",
     "text": [
      "100%|█████████████████████████████████████████████████████████████████████████████████████████████████████████████████████████████████████████████████████████████████████████████████████████████████████| 5/5 [00:04<00:00,  1.04it/s]\n",
      "\u001b[32m[I 2021-11-12 11:19:20,053]\u001b[0m Trial 94 finished with value: 0.13922234035921546 and parameters: {'num_leaves': 128, 'min_data_in_leaf': 15, 'max_depth': 25, 'max_bin': 270, 'lambda_l1': 0.2065322945760606, 'lambda_l2': 0.00013705099129543674, 'min_child_samples': 14}. Best is trial 78 with value: 0.13847979781263725.\u001b[0m\n"
     ]
    },
    {
     "name": "stdout",
     "output_type": "stream",
     "text": [
      "Model: lgbm | Mean train rsmle: 0.08060316094527198 | Standard deviation: 0.0003915767118865698\n",
      "Model: lgbm | Mean val rsmle: 0.13922234035921546 | Standard deviation: 0.003796729232893718\n"
     ]
    },
    {
     "name": "stderr",
     "output_type": "stream",
     "text": [
      "  0%|                                                                                                                                                                                                             | 0/5 [00:00<?, ?it/s]"
     ]
    },
    {
     "name": "stdout",
     "output_type": "stream",
     "text": [
      "[LightGBM] [Warning] min_data_in_leaf is set=12, min_child_samples=14 will be ignored. Current value: min_data_in_leaf=12\n"
     ]
    },
    {
     "name": "stderr",
     "output_type": "stream",
     "text": [
      " 20%|███████████████████████████████████████▍                                                                                                                                                             | 1/5 [00:00<00:03,  1.10it/s]"
     ]
    },
    {
     "name": "stdout",
     "output_type": "stream",
     "text": [
      "[LightGBM] [Warning] min_data_in_leaf is set=12, min_child_samples=14 will be ignored. Current value: min_data_in_leaf=12\n"
     ]
    },
    {
     "name": "stderr",
     "output_type": "stream",
     "text": [
      " 40%|██████████████████████████████████████████████████████████████████████████████▊                                                                                                                      | 2/5 [00:01<00:02,  1.11it/s]"
     ]
    },
    {
     "name": "stdout",
     "output_type": "stream",
     "text": [
      "[LightGBM] [Warning] min_data_in_leaf is set=12, min_child_samples=14 will be ignored. Current value: min_data_in_leaf=12\n"
     ]
    },
    {
     "name": "stderr",
     "output_type": "stream",
     "text": [
      " 60%|██████████████████████████████████████████████████████████████████████████████████████████████████████████████████████▏                                                                              | 3/5 [00:02<00:01,  1.09it/s]"
     ]
    },
    {
     "name": "stdout",
     "output_type": "stream",
     "text": [
      "[LightGBM] [Warning] min_data_in_leaf is set=12, min_child_samples=14 will be ignored. Current value: min_data_in_leaf=12\n"
     ]
    },
    {
     "name": "stderr",
     "output_type": "stream",
     "text": [
      " 80%|█████████████████████████████████████████████████████████████████████████████████████████████████████████████████████████████████████████████████████████████▌                                       | 4/5 [00:03<00:00,  1.05it/s]"
     ]
    },
    {
     "name": "stdout",
     "output_type": "stream",
     "text": [
      "[LightGBM] [Warning] min_data_in_leaf is set=12, min_child_samples=14 will be ignored. Current value: min_data_in_leaf=12\n"
     ]
    },
    {
     "name": "stderr",
     "output_type": "stream",
     "text": [
      "100%|█████████████████████████████████████████████████████████████████████████████████████████████████████████████████████████████████████████████████████████████████████████████████████████████████████| 5/5 [00:04<00:00,  1.06it/s]\n",
      "\u001b[32m[I 2021-11-12 11:19:24,811]\u001b[0m Trial 95 finished with value: 0.14219869277822753 and parameters: {'num_leaves': 128, 'min_data_in_leaf': 12, 'max_depth': 25, 'max_bin': 268, 'lambda_l1': 1.7665634211882337, 'lambda_l2': 2.167390324755811e-06, 'min_child_samples': 14}. Best is trial 78 with value: 0.13847979781263725.\u001b[0m\n"
     ]
    },
    {
     "name": "stdout",
     "output_type": "stream",
     "text": [
      "Model: lgbm | Mean train rsmle: 0.09587304749854783 | Standard deviation: 0.0005188060312374599\n",
      "Model: lgbm | Mean val rsmle: 0.14219869277822753 | Standard deviation: 0.00467881828168735\n"
     ]
    },
    {
     "name": "stderr",
     "output_type": "stream",
     "text": [
      "  0%|                                                                                                                                                                                                             | 0/5 [00:00<?, ?it/s]"
     ]
    },
    {
     "name": "stdout",
     "output_type": "stream",
     "text": [
      "[LightGBM] [Warning] min_data_in_leaf is set=7, min_child_samples=22 will be ignored. Current value: min_data_in_leaf=7\n"
     ]
    },
    {
     "name": "stderr",
     "output_type": "stream",
     "text": [
      " 20%|███████████████████████████████████████▍                                                                                                                                                             | 1/5 [00:00<00:03,  1.06it/s]"
     ]
    },
    {
     "name": "stdout",
     "output_type": "stream",
     "text": [
      "[LightGBM] [Warning] min_data_in_leaf is set=7, min_child_samples=22 will be ignored. Current value: min_data_in_leaf=7\n"
     ]
    },
    {
     "name": "stderr",
     "output_type": "stream",
     "text": [
      " 40%|██████████████████████████████████████████████████████████████████████████████▊                                                                                                                      | 2/5 [00:01<00:02,  1.08it/s]"
     ]
    },
    {
     "name": "stdout",
     "output_type": "stream",
     "text": [
      "[LightGBM] [Warning] min_data_in_leaf is set=7, min_child_samples=22 will be ignored. Current value: min_data_in_leaf=7\n"
     ]
    },
    {
     "name": "stderr",
     "output_type": "stream",
     "text": [
      " 60%|██████████████████████████████████████████████████████████████████████████████████████████████████████████████████████▏                                                                              | 3/5 [00:02<00:01,  1.03it/s]"
     ]
    },
    {
     "name": "stdout",
     "output_type": "stream",
     "text": [
      "[LightGBM] [Warning] min_data_in_leaf is set=7, min_child_samples=22 will be ignored. Current value: min_data_in_leaf=7\n"
     ]
    },
    {
     "name": "stderr",
     "output_type": "stream",
     "text": [
      " 80%|█████████████████████████████████████████████████████████████████████████████████████████████████████████████████████████████████████████████████████████████▌                                       | 4/5 [00:03<00:00,  1.04it/s]"
     ]
    },
    {
     "name": "stdout",
     "output_type": "stream",
     "text": [
      "[LightGBM] [Warning] min_data_in_leaf is set=7, min_child_samples=22 will be ignored. Current value: min_data_in_leaf=7\n"
     ]
    },
    {
     "name": "stderr",
     "output_type": "stream",
     "text": [
      "100%|█████████████████████████████████████████████████████████████████████████████████████████████████████████████████████████████████████████████████████████████████████████████████████████████████████| 5/5 [00:04<00:00,  1.04it/s]\n",
      "\u001b[32m[I 2021-11-12 11:19:29,664]\u001b[0m Trial 96 finished with value: 0.1386029089089394 and parameters: {'num_leaves': 123, 'min_data_in_leaf': 7, 'max_depth': 24, 'max_bin': 246, 'lambda_l1': 0.20719873847648973, 'lambda_l2': 2.08393218023113e-05, 'min_child_samples': 22}. Best is trial 78 with value: 0.13847979781263725.\u001b[0m\n"
     ]
    },
    {
     "name": "stdout",
     "output_type": "stream",
     "text": [
      "Model: lgbm | Mean train rsmle: 0.07856133320372967 | Standard deviation: 0.0005740743986438663\n",
      "Model: lgbm | Mean val rsmle: 0.1386029089089394 | Standard deviation: 0.003356904860711482\n"
     ]
    },
    {
     "name": "stderr",
     "output_type": "stream",
     "text": [
      "  0%|                                                                                                                                                                                                             | 0/5 [00:00<?, ?it/s]"
     ]
    },
    {
     "name": "stdout",
     "output_type": "stream",
     "text": [
      "[LightGBM] [Warning] min_data_in_leaf is set=7, min_child_samples=23 will be ignored. Current value: min_data_in_leaf=7\n"
     ]
    },
    {
     "name": "stderr",
     "output_type": "stream",
     "text": [
      " 20%|███████████████████████████████████████▍                                                                                                                                                             | 1/5 [00:00<00:03,  1.01it/s]"
     ]
    },
    {
     "name": "stdout",
     "output_type": "stream",
     "text": [
      "[LightGBM] [Warning] min_data_in_leaf is set=7, min_child_samples=23 will be ignored. Current value: min_data_in_leaf=7\n"
     ]
    },
    {
     "name": "stderr",
     "output_type": "stream",
     "text": [
      " 40%|██████████████████████████████████████████████████████████████████████████████▊                                                                                                                      | 2/5 [00:01<00:02,  1.05it/s]"
     ]
    },
    {
     "name": "stdout",
     "output_type": "stream",
     "text": [
      "[LightGBM] [Warning] min_data_in_leaf is set=7, min_child_samples=23 will be ignored. Current value: min_data_in_leaf=7\n"
     ]
    },
    {
     "name": "stderr",
     "output_type": "stream",
     "text": [
      " 60%|██████████████████████████████████████████████████████████████████████████████████████████████████████████████████████▏                                                                              | 3/5 [00:02<00:01,  1.06it/s]"
     ]
    },
    {
     "name": "stdout",
     "output_type": "stream",
     "text": [
      "[LightGBM] [Warning] min_data_in_leaf is set=7, min_child_samples=23 will be ignored. Current value: min_data_in_leaf=7\n"
     ]
    },
    {
     "name": "stderr",
     "output_type": "stream",
     "text": [
      " 80%|█████████████████████████████████████████████████████████████████████████████████████████████████████████████████████████████████████████████████████████████▌                                       | 4/5 [00:03<00:00,  1.06it/s]"
     ]
    },
    {
     "name": "stdout",
     "output_type": "stream",
     "text": [
      "[LightGBM] [Warning] min_data_in_leaf is set=7, min_child_samples=23 will be ignored. Current value: min_data_in_leaf=7\n"
     ]
    },
    {
     "name": "stderr",
     "output_type": "stream",
     "text": [
      "100%|█████████████████████████████████████████████████████████████████████████████████████████████████████████████████████████████████████████████████████████████████████████████████████████████████████| 5/5 [00:04<00:00,  1.05it/s]\n",
      "\u001b[32m[I 2021-11-12 11:19:34,465]\u001b[0m Trial 97 finished with value: 0.1389018346240091 and parameters: {'num_leaves': 123, 'min_data_in_leaf': 7, 'max_depth': 24, 'max_bin': 250, 'lambda_l1': 0.16809744402094542, 'lambda_l2': 0.00012911429714842194, 'min_child_samples': 23}. Best is trial 78 with value: 0.13847979781263725.\u001b[0m\n"
     ]
    },
    {
     "name": "stdout",
     "output_type": "stream",
     "text": [
      "Model: lgbm | Mean train rsmle: 0.07826473404583784 | Standard deviation: 0.0004245371574452877\n",
      "Model: lgbm | Mean val rsmle: 0.1389018346240091 | Standard deviation: 0.002972993444673247\n"
     ]
    },
    {
     "name": "stderr",
     "output_type": "stream",
     "text": [
      "  0%|                                                                                                                                                                                                             | 0/5 [00:00<?, ?it/s]"
     ]
    },
    {
     "name": "stdout",
     "output_type": "stream",
     "text": [
      "[LightGBM] [Warning] min_data_in_leaf is set=7, min_child_samples=27 will be ignored. Current value: min_data_in_leaf=7\n"
     ]
    },
    {
     "name": "stderr",
     "output_type": "stream",
     "text": [
      " 20%|███████████████████████████████████████▍                                                                                                                                                             | 1/5 [00:01<00:04,  1.12s/it]"
     ]
    },
    {
     "name": "stdout",
     "output_type": "stream",
     "text": [
      "[LightGBM] [Warning] min_data_in_leaf is set=7, min_child_samples=27 will be ignored. Current value: min_data_in_leaf=7\n"
     ]
    },
    {
     "name": "stderr",
     "output_type": "stream",
     "text": [
      " 40%|██████████████████████████████████████████████████████████████████████████████▊                                                                                                                      | 2/5 [00:02<00:03,  1.04s/it]"
     ]
    },
    {
     "name": "stdout",
     "output_type": "stream",
     "text": [
      "[LightGBM] [Warning] min_data_in_leaf is set=7, min_child_samples=27 will be ignored. Current value: min_data_in_leaf=7\n"
     ]
    },
    {
     "name": "stderr",
     "output_type": "stream",
     "text": [
      " 60%|██████████████████████████████████████████████████████████████████████████████████████████████████████████████████████▏                                                                              | 3/5 [00:03<00:02,  1.03s/it]"
     ]
    },
    {
     "name": "stdout",
     "output_type": "stream",
     "text": [
      "[LightGBM] [Warning] min_data_in_leaf is set=7, min_child_samples=27 will be ignored. Current value: min_data_in_leaf=7\n"
     ]
    },
    {
     "name": "stderr",
     "output_type": "stream",
     "text": [
      " 80%|█████████████████████████████████████████████████████████████████████████████████████████████████████████████████████████████████████████████████████████████▌                                       | 4/5 [00:04<00:01,  1.04s/it]"
     ]
    },
    {
     "name": "stdout",
     "output_type": "stream",
     "text": [
      "[LightGBM] [Warning] min_data_in_leaf is set=7, min_child_samples=27 will be ignored. Current value: min_data_in_leaf=7\n"
     ]
    },
    {
     "name": "stderr",
     "output_type": "stream",
     "text": [
      "100%|█████████████████████████████████████████████████████████████████████████████████████████████████████████████████████████████████████████████████████████████████████████████████████████████████████| 5/5 [00:05<00:00,  1.04s/it]\n",
      "\u001b[32m[I 2021-11-12 11:19:39,689]\u001b[0m Trial 98 finished with value: 0.13912890353369878 and parameters: {'num_leaves': 124, 'min_data_in_leaf': 7, 'max_depth': 24, 'max_bin': 253, 'lambda_l1': 0.1834225404572327, 'lambda_l2': 0.00011680711277855121, 'min_child_samples': 27}. Best is trial 78 with value: 0.13847979781263725.\u001b[0m\n"
     ]
    },
    {
     "name": "stdout",
     "output_type": "stream",
     "text": [
      "Model: lgbm | Mean train rsmle: 0.07810075217607357 | Standard deviation: 0.00040480066445430167\n",
      "Model: lgbm | Mean val rsmle: 0.13912890353369878 | Standard deviation: 0.003404764400296637\n"
     ]
    },
    {
     "name": "stderr",
     "output_type": "stream",
     "text": [
      "  0%|                                                                                                                                                                                                             | 0/5 [00:00<?, ?it/s]"
     ]
    },
    {
     "name": "stdout",
     "output_type": "stream",
     "text": [
      "[LightGBM] [Warning] min_data_in_leaf is set=7, min_child_samples=24 will be ignored. Current value: min_data_in_leaf=7\n"
     ]
    },
    {
     "name": "stderr",
     "output_type": "stream",
     "text": [
      " 20%|███████████████████████████████████████▍                                                                                                                                                             | 1/5 [00:00<00:03,  1.02it/s]"
     ]
    },
    {
     "name": "stdout",
     "output_type": "stream",
     "text": [
      "[LightGBM] [Warning] min_data_in_leaf is set=7, min_child_samples=24 will be ignored. Current value: min_data_in_leaf=7\n"
     ]
    },
    {
     "name": "stderr",
     "output_type": "stream",
     "text": [
      " 40%|██████████████████████████████████████████████████████████████████████████████▊                                                                                                                      | 2/5 [00:01<00:02,  1.03it/s]"
     ]
    },
    {
     "name": "stdout",
     "output_type": "stream",
     "text": [
      "[LightGBM] [Warning] min_data_in_leaf is set=7, min_child_samples=24 will be ignored. Current value: min_data_in_leaf=7\n"
     ]
    },
    {
     "name": "stderr",
     "output_type": "stream",
     "text": [
      " 60%|██████████████████████████████████████████████████████████████████████████████████████████████████████████████████████▏                                                                              | 3/5 [00:03<00:02,  1.05s/it]"
     ]
    },
    {
     "name": "stdout",
     "output_type": "stream",
     "text": [
      "[LightGBM] [Warning] min_data_in_leaf is set=7, min_child_samples=24 will be ignored. Current value: min_data_in_leaf=7\n"
     ]
    },
    {
     "name": "stderr",
     "output_type": "stream",
     "text": [
      " 80%|█████████████████████████████████████████████████████████████████████████████████████████████████████████████████████████████████████████████████████████████▌                                       | 4/5 [00:04<00:00,  1.00it/s]"
     ]
    },
    {
     "name": "stdout",
     "output_type": "stream",
     "text": [
      "[LightGBM] [Warning] min_data_in_leaf is set=7, min_child_samples=24 will be ignored. Current value: min_data_in_leaf=7\n"
     ]
    },
    {
     "name": "stderr",
     "output_type": "stream",
     "text": [
      "100%|█████████████████████████████████████████████████████████████████████████████████████████████████████████████████████████████████████████████████████████████████████████████████████████████████████| 5/5 [00:04<00:00,  1.01it/s]\n",
      "\u001b[32m[I 2021-11-12 11:19:44,667]\u001b[0m Trial 99 finished with value: 0.13880716991216743 and parameters: {'num_leaves': 123, 'min_data_in_leaf': 7, 'max_depth': 24, 'max_bin': 237, 'lambda_l1': 0.014370380874165777, 'lambda_l2': 2.2153335329675658e-05, 'min_child_samples': 24}. Best is trial 78 with value: 0.13847979781263725.\u001b[0m\n"
     ]
    },
    {
     "name": "stdout",
     "output_type": "stream",
     "text": [
      "Model: lgbm | Mean train rsmle: 0.07659946256871605 | Standard deviation: 0.0006538075782422549\n",
      "Model: lgbm | Mean val rsmle: 0.13880716991216743 | Standard deviation: 0.003761557849523122\n",
      "FrozenTrial(number=78, values=[0.13847979781263725], datetime_start=datetime.datetime(2021, 11, 12, 11, 18, 6, 783726), datetime_complete=datetime.datetime(2021, 11, 12, 11, 18, 11, 679465), params={'num_leaves': 125, 'min_data_in_leaf': 11, 'max_depth': 26, 'max_bin': 275, 'lambda_l1': 0.15174110493905657, 'lambda_l2': 0.0004906616428548153, 'min_child_samples': 5}, distributions={'num_leaves': IntUniformDistribution(high=128, low=2, step=1), 'min_data_in_leaf': IntUniformDistribution(high=100, low=5, step=1), 'max_depth': IntUniformDistribution(high=30, low=2, step=1), 'max_bin': IntUniformDistribution(high=300, low=100, step=1), 'lambda_l1': LogUniformDistribution(high=10.0, low=1e-08), 'lambda_l2': LogUniformDistribution(high=10.0, low=1e-08), 'min_child_samples': IntUniformDistribution(high=100, low=5, step=1)}, user_attrs={}, system_attrs={}, intermediate_values={}, trial_id=78, state=TrialState.COMPLETE, value=None)\n"
     ]
    }
   ],
   "source": [
    "def lgbm_objective(trial):\n",
    "    #train_data = train_with_feats.copy()\n",
    "    #test_data = test_with_feats.copy()\n",
    "    #train_data, test_data, features = prepare_data(train_data, test_data, config,)\n",
    "\n",
    "    lgbm_num_leaves=trial.suggest_int(\"num_leaves\", 2, 128),\n",
    "    lgbm_min_data_in_leaf=trial.suggest_int(\"min_data_in_leaf\", 5, 100),\n",
    "    lgbm_max_depth=trial.suggest_int(\"max_depth\", 2, 30),\n",
    "    lgbm_max_bin=trial.suggest_int(\"max_bin\", 100, 300)\n",
    "    lgbm_reg_alpha=trial.suggest_float(\"lambda_l1\", 1e-8, 10.0, log=True),\n",
    "    lgbm_reg_lambda=trial.suggest_float(\"lambda_l2\", 1e-8, 10.0, log=True),\n",
    "    lgbm_min_child_samples=trial.suggest_int(\"min_child_samples\", 5, 100),\n",
    "    gbm = lgbm.LGBMRegressor(\n",
    "        random_state=42,\n",
    "        learning_rate=0.1,\n",
    "        n_estimators=100,\n",
    "        boosting_type='gbdt',\n",
    "        n_jobs=2,\n",
    "        num_leaves=lgbm_num_leaves,\n",
    "        min_data_in_leaf=lgbm_min_data_in_leaf,\n",
    "        max_depth=lgbm_max_depth,\n",
    "        max_bin=lgbm_max_bin,\n",
    "        reg_alpha=lgbm_reg_alpha,\n",
    "        reg_lambda=lgbm_reg_lambda,\n",
    "        min_child_samples=lgbm_min_child_samples,\n",
    "    )\n",
    "    scores = cross_validation({\"lgbm\": gbm}, train_data, features, {\"lgbm\": \"log_price\"}, k=5)\n",
    "    return scores[\"lgbm\"]\n",
    "\n",
    "study = optuna.create_study(direction=\"minimize\")\n",
    "study.optimize(lgbm_objective, n_trials=100)\n",
    "print(study.best_trial)"
   ]
  },
  {
   "cell_type": "code",
   "execution_count": 36,
   "id": "f28fe2f2-d5ed-40fe-8793-89e65375ecaa",
   "metadata": {},
   "outputs": [
    {
     "name": "stderr",
     "output_type": "stream",
     "text": [
      "\u001b[32m[I 2021-11-12 11:19:44,674]\u001b[0m A new study created in memory with name: no-name-8c44c23c-2f76-4c3d-bfa4-2088f4a387c8\u001b[0m\n",
      "100%|█████████████████████████████████████████████████████████████████████████████████████████████████████████████████████████████████████████████████████████████████████████████████████████████████████| 5/5 [00:05<00:00,  1.04s/it]\n",
      "\u001b[32m[I 2021-11-12 11:19:49,917]\u001b[0m Trial 0 finished with value: 0.16252476880169786 and parameters: {'depth': 6, 'l2_leaf_reg': 2.100108989899761, 'bagging_temperature': 81, 'min_data_in_leaf': 25}. Best is trial 0 with value: 0.16252476880169786.\u001b[0m\n"
     ]
    },
    {
     "name": "stdout",
     "output_type": "stream",
     "text": [
      "Model: cb | Mean train rsmle: 0.14686618784205258 | Standard deviation: 0.00061468549536872\n",
      "Model: cb | Mean val rsmle: 0.16252476880169786 | Standard deviation: 0.0033005159221732054\n"
     ]
    },
    {
     "name": "stderr",
     "output_type": "stream",
     "text": [
      "100%|█████████████████████████████████████████████████████████████████████████████████████████████████████████████████████████████████████████████████████████████████████████████████████████████████████| 5/5 [00:19<00:00,  3.83s/it]\n",
      "\u001b[32m[I 2021-11-12 11:20:09,074]\u001b[0m Trial 1 finished with value: 0.1394933419817067 and parameters: {'depth': 10, 'l2_leaf_reg': 0.00020242452858250457, 'bagging_temperature': 62, 'min_data_in_leaf': 15}. Best is trial 1 with value: 0.1394933419817067.\u001b[0m\n"
     ]
    },
    {
     "name": "stdout",
     "output_type": "stream",
     "text": [
      "Model: cb | Mean train rsmle: 0.08626613954011025 | Standard deviation: 0.0002551455283576847\n",
      "Model: cb | Mean val rsmle: 0.1394933419817067 | Standard deviation: 0.001912333439481999\n"
     ]
    },
    {
     "name": "stderr",
     "output_type": "stream",
     "text": [
      "100%|█████████████████████████████████████████████████████████████████████████████████████████████████████████████████████████████████████████████████████████████████████████████████████████████████████| 5/5 [00:04<00:00,  1.13it/s]\n",
      "\u001b[32m[I 2021-11-12 11:20:13,503]\u001b[0m Trial 2 finished with value: 0.18118510656005302 and parameters: {'depth': 4, 'l2_leaf_reg': 0.0005277591418034059, 'bagging_temperature': 37, 'min_data_in_leaf': 30}. Best is trial 1 with value: 0.1394933419817067.\u001b[0m\n"
     ]
    },
    {
     "name": "stdout",
     "output_type": "stream",
     "text": [
      "Model: cb | Mean train rsmle: 0.17144411811603102 | Standard deviation: 0.001283795855358668\n",
      "Model: cb | Mean val rsmle: 0.18118510656005302 | Standard deviation: 0.002377687399757231\n"
     ]
    },
    {
     "name": "stderr",
     "output_type": "stream",
     "text": [
      "100%|█████████████████████████████████████████████████████████████████████████████████████████████████████████████████████████████████████████████████████████████████████████████████████████████████████| 5/5 [00:11<00:00,  2.24s/it]\n",
      "\u001b[32m[I 2021-11-12 11:20:24,732]\u001b[0m Trial 3 finished with value: 0.14326905072038376 and parameters: {'depth': 9, 'l2_leaf_reg': 1.957076744696834e-05, 'bagging_temperature': 51, 'min_data_in_leaf': 42}. Best is trial 1 with value: 0.1394933419817067.\u001b[0m\n"
     ]
    },
    {
     "name": "stdout",
     "output_type": "stream",
     "text": [
      "Model: cb | Mean train rsmle: 0.10074758664434494 | Standard deviation: 0.0009074456894213966\n",
      "Model: cb | Mean val rsmle: 0.14326905072038376 | Standard deviation: 0.0026563543996364104\n"
     ]
    },
    {
     "name": "stderr",
     "output_type": "stream",
     "text": [
      "100%|█████████████████████████████████████████████████████████████████████████████████████████████████████████████████████████████████████████████████████████████████████████████████████████████████████| 5/5 [00:05<00:00,  1.05s/it]\n",
      "\u001b[32m[I 2021-11-12 11:20:30,002]\u001b[0m Trial 4 finished with value: 0.16022303102649763 and parameters: {'depth': 6, 'l2_leaf_reg': 0.0007499325607911515, 'bagging_temperature': 28, 'min_data_in_leaf': 23}. Best is trial 1 with value: 0.1394933419817067.\u001b[0m\n"
     ]
    },
    {
     "name": "stdout",
     "output_type": "stream",
     "text": [
      "Model: cb | Mean train rsmle: 0.14193612284403456 | Standard deviation: 0.000862860199453127\n",
      "Model: cb | Mean val rsmle: 0.16022303102649763 | Standard deviation: 0.0024433582545682043\n"
     ]
    },
    {
     "name": "stderr",
     "output_type": "stream",
     "text": [
      "100%|█████████████████████████████████████████████████████████████████████████████████████████████████████████████████████████████████████████████████████████████████████████████████████████████████████| 5/5 [00:04<00:00,  1.12it/s]\n",
      "\u001b[32m[I 2021-11-12 11:20:34,478]\u001b[0m Trial 5 finished with value: 0.18118476633137187 and parameters: {'depth': 4, 'l2_leaf_reg': 4.1437060800599876e-05, 'bagging_temperature': 53, 'min_data_in_leaf': 1}. Best is trial 1 with value: 0.1394933419817067.\u001b[0m\n"
     ]
    },
    {
     "name": "stdout",
     "output_type": "stream",
     "text": [
      "Model: cb | Mean train rsmle: 0.1714434198756643 | Standard deviation: 0.00128383855113441\n",
      "Model: cb | Mean val rsmle: 0.18118476633137187 | Standard deviation: 0.002377532467608579\n"
     ]
    },
    {
     "name": "stderr",
     "output_type": "stream",
     "text": [
      "100%|█████████████████████████████████████████████████████████████████████████████████████████████████████████████████████████████████████████████████████████████████████████████████████████████████████| 5/5 [00:04<00:00,  1.07it/s]\n",
      "\u001b[32m[I 2021-11-12 11:20:39,162]\u001b[0m Trial 6 finished with value: 0.17023027413120878 and parameters: {'depth': 5, 'l2_leaf_reg': 0.0001328100328940495, 'bagging_temperature': 14, 'min_data_in_leaf': 40}. Best is trial 1 with value: 0.1394933419817067.\u001b[0m\n"
     ]
    },
    {
     "name": "stdout",
     "output_type": "stream",
     "text": [
      "Model: cb | Mean train rsmle: 0.15666880484701812 | Standard deviation: 0.0011410665557695441\n",
      "Model: cb | Mean val rsmle: 0.17023027413120878 | Standard deviation: 0.0033217619393980536\n"
     ]
    },
    {
     "name": "stderr",
     "output_type": "stream",
     "text": [
      "100%|█████████████████████████████████████████████████████████████████████████████████████████████████████████████████████████████████████████████████████████████████████████████████████████████████████| 5/5 [00:11<00:00,  2.21s/it]\n",
      "\u001b[32m[I 2021-11-12 11:20:50,205]\u001b[0m Trial 7 finished with value: 0.14329445780365566 and parameters: {'depth': 9, 'l2_leaf_reg': 3.350097941436694e-06, 'bagging_temperature': 8, 'min_data_in_leaf': 43}. Best is trial 1 with value: 0.1394933419817067.\u001b[0m\n"
     ]
    },
    {
     "name": "stdout",
     "output_type": "stream",
     "text": [
      "Model: cb | Mean train rsmle: 0.10054123058868672 | Standard deviation: 0.0010058097790429327\n",
      "Model: cb | Mean val rsmle: 0.14329445780365566 | Standard deviation: 0.0026301684904170386\n"
     ]
    },
    {
     "name": "stderr",
     "output_type": "stream",
     "text": [
      "100%|█████████████████████████████████████████████████████████████████████████████████████████████████████████████████████████████████████████████████████████████████████████████████████████████████████| 5/5 [00:06<00:00,  1.21s/it]\n",
      "\u001b[32m[I 2021-11-12 11:20:56,288]\u001b[0m Trial 8 finished with value: 0.15227767924912566 and parameters: {'depth': 7, 'l2_leaf_reg': 0.0006666904376156967, 'bagging_temperature': 21, 'min_data_in_leaf': 46}. Best is trial 1 with value: 0.1394933419817067.\u001b[0m\n"
     ]
    },
    {
     "name": "stdout",
     "output_type": "stream",
     "text": [
      "Model: cb | Mean train rsmle: 0.12721722341270433 | Standard deviation: 0.0008856165668627017\n",
      "Model: cb | Mean val rsmle: 0.15227767924912566 | Standard deviation: 0.0024848926477965957\n"
     ]
    },
    {
     "name": "stderr",
     "output_type": "stream",
     "text": [
      "100%|█████████████████████████████████████████████████████████████████████████████████████████████████████████████████████████████████████████████████████████████████████████████████████████████████████| 5/5 [00:05<00:00,  1.03s/it]\n",
      "\u001b[32m[I 2021-11-12 11:21:01,469]\u001b[0m Trial 9 finished with value: 0.16621120705325368 and parameters: {'depth': 6, 'l2_leaf_reg': 5.3347928011716945, 'bagging_temperature': 47, 'min_data_in_leaf': 13}. Best is trial 1 with value: 0.1394933419817067.\u001b[0m\n"
     ]
    },
    {
     "name": "stdout",
     "output_type": "stream",
     "text": [
      "Model: cb | Mean train rsmle: 0.15152463725237614 | Standard deviation: 0.0007396211703569923\n",
      "Model: cb | Mean val rsmle: 0.16621120705325368 | Standard deviation: 0.003006788816834108\n"
     ]
    },
    {
     "name": "stderr",
     "output_type": "stream",
     "text": [
      "100%|█████████████████████████████████████████████████████████████████████████████████████████████████████████████████████████████████████████████████████████████████████████████████████████████████████| 5/5 [00:04<00:00,  1.24it/s]\n",
      "\u001b[32m[I 2021-11-12 11:21:05,520]\u001b[0m Trial 10 finished with value: 0.21513693940314732 and parameters: {'depth': 2, 'l2_leaf_reg': 5.351525065600906e-08, 'bagging_temperature': 86, 'min_data_in_leaf': 11}. Best is trial 1 with value: 0.1394933419817067.\u001b[0m\n"
     ]
    },
    {
     "name": "stdout",
     "output_type": "stream",
     "text": [
      "Model: cb | Mean train rsmle: 0.21088463795296475 | Standard deviation: 0.00047220690484270675\n",
      "Model: cb | Mean val rsmle: 0.21513693940314732 | Standard deviation: 0.00348524975649807\n"
     ]
    },
    {
     "name": "stderr",
     "output_type": "stream",
     "text": [
      "100%|█████████████████████████████████████████████████████████████████████████████████████████████████████████████████████████████████████████████████████████████████████████████████████████████████████| 5/5 [00:18<00:00,  3.77s/it]\n",
      "\u001b[32m[I 2021-11-12 11:21:24,385]\u001b[0m Trial 11 finished with value: 0.14053389071993702 and parameters: {'depth': 10, 'l2_leaf_reg': 0.03718255269847115, 'bagging_temperature': 67, 'min_data_in_leaf': 34}. Best is trial 1 with value: 0.1394933419817067.\u001b[0m\n"
     ]
    },
    {
     "name": "stdout",
     "output_type": "stream",
     "text": [
      "Model: cb | Mean train rsmle: 0.08640308874282868 | Standard deviation: 0.0006601425909062083\n",
      "Model: cb | Mean val rsmle: 0.14053389071993702 | Standard deviation: 0.0017429134395957758\n"
     ]
    },
    {
     "name": "stderr",
     "output_type": "stream",
     "text": [
      "100%|█████████████████████████████████████████████████████████████████████████████████████████████████████████████████████████████████████████████████████████████████████████████████████████████████████| 5/5 [00:18<00:00,  3.71s/it]\n",
      "\u001b[32m[I 2021-11-12 11:21:42,979]\u001b[0m Trial 12 finished with value: 0.14030577646780612 and parameters: {'depth': 10, 'l2_leaf_reg': 0.056290478386003005, 'bagging_temperature': 69, 'min_data_in_leaf': 33}. Best is trial 1 with value: 0.1394933419817067.\u001b[0m\n"
     ]
    },
    {
     "name": "stdout",
     "output_type": "stream",
     "text": [
      "Model: cb | Mean train rsmle: 0.08542737639515353 | Standard deviation: 0.0012321578166103583\n",
      "Model: cb | Mean val rsmle: 0.14030577646780612 | Standard deviation: 0.0017904277675637424\n"
     ]
    },
    {
     "name": "stderr",
     "output_type": "stream",
     "text": [
      "100%|█████████████████████████████████████████████████████████████████████████████████████████████████████████████████████████████████████████████████████████████████████████████████████████████████████| 5/5 [00:18<00:00,  3.61s/it]\n",
      "\u001b[32m[I 2021-11-12 11:22:01,041]\u001b[0m Trial 13 finished with value: 0.14117720971479153 and parameters: {'depth': 10, 'l2_leaf_reg': 0.03403224391079478, 'bagging_temperature': 69, 'min_data_in_leaf': 17}. Best is trial 1 with value: 0.1394933419817067.\u001b[0m\n"
     ]
    },
    {
     "name": "stdout",
     "output_type": "stream",
     "text": [
      "Model: cb | Mean train rsmle: 0.08637079834552422 | Standard deviation: 0.0005984637463928975\n",
      "Model: cb | Mean val rsmle: 0.14117720971479153 | Standard deviation: 0.0012969530968221738\n"
     ]
    },
    {
     "name": "stderr",
     "output_type": "stream",
     "text": [
      "100%|█████████████████████████████████████████████████████████████████████████████████████████████████████████████████████████████████████████████████████████████████████████████████████████████████████| 5/5 [00:07<00:00,  1.52s/it]\n",
      "\u001b[32m[I 2021-11-12 11:22:08,655]\u001b[0m Trial 14 finished with value: 0.14686251064703998 and parameters: {'depth': 8, 'l2_leaf_reg': 0.04419877006990506, 'bagging_temperature': 100, 'min_data_in_leaf': 4}. Best is trial 1 with value: 0.1394933419817067.\u001b[0m\n"
     ]
    },
    {
     "name": "stdout",
     "output_type": "stream",
     "text": [
      "Model: cb | Mean train rsmle: 0.11445076155731604 | Standard deviation: 0.0011057207662441078\n",
      "Model: cb | Mean val rsmle: 0.14686251064703998 | Standard deviation: 0.002076546909541309\n"
     ]
    },
    {
     "name": "stderr",
     "output_type": "stream",
     "text": [
      "100%|█████████████████████████████████████████████████████████████████████████████████████████████████████████████████████████████████████████████████████████████████████████████████████████████████████| 5/5 [00:07<00:00,  1.51s/it]\n",
      "\u001b[32m[I 2021-11-12 11:22:16,248]\u001b[0m Trial 15 finished with value: 0.14683844379859692 and parameters: {'depth': 8, 'l2_leaf_reg': 1.1132394821876306e-06, 'bagging_temperature': 67, 'min_data_in_leaf': 33}. Best is trial 1 with value: 0.1394933419817067.\u001b[0m\n"
     ]
    },
    {
     "name": "stdout",
     "output_type": "stream",
     "text": [
      "Model: cb | Mean train rsmle: 0.11415448025623645 | Standard deviation: 0.0002790892996402188\n",
      "Model: cb | Mean val rsmle: 0.14683844379859692 | Standard deviation: 0.0030553691211163835\n"
     ]
    },
    {
     "name": "stderr",
     "output_type": "stream",
     "text": [
      "100%|█████████████████████████████████████████████████████████████████████████████████████████████████████████████████████████████████████████████████████████████████████████████████████████████████████| 5/5 [00:17<00:00,  3.43s/it]\n",
      "\u001b[32m[I 2021-11-12 11:22:33,435]\u001b[0m Trial 16 finished with value: 0.14051851159082682 and parameters: {'depth': 10, 'l2_leaf_reg': 0.007215514516100582, 'bagging_temperature': 81, 'min_data_in_leaf': 18}. Best is trial 1 with value: 0.1394933419817067.\u001b[0m\n"
     ]
    },
    {
     "name": "stdout",
     "output_type": "stream",
     "text": [
      "Model: cb | Mean train rsmle: 0.08601774701040943 | Standard deviation: 0.0006030088141845336\n",
      "Model: cb | Mean val rsmle: 0.14051851159082682 | Standard deviation: 0.0012073498971950085\n"
     ]
    },
    {
     "name": "stderr",
     "output_type": "stream",
     "text": [
      "100%|█████████████████████████████████████████████████████████████████████████████████████████████████████████████████████████████████████████████████████████████████████████████████████████████████████| 5/5 [00:07<00:00,  1.54s/it]\n",
      "\u001b[32m[I 2021-11-12 11:22:41,157]\u001b[0m Trial 17 finished with value: 0.1479814751098122 and parameters: {'depth': 8, 'l2_leaf_reg': 0.6819690568029176, 'bagging_temperature': 61, 'min_data_in_leaf': 7}. Best is trial 1 with value: 0.1394933419817067.\u001b[0m\n"
     ]
    },
    {
     "name": "stdout",
     "output_type": "stream",
     "text": [
      "Model: cb | Mean train rsmle: 0.11849535577603362 | Standard deviation: 0.0008606008768519505\n",
      "Model: cb | Mean val rsmle: 0.1479814751098122 | Standard deviation: 0.0027827421248802085\n"
     ]
    },
    {
     "name": "stderr",
     "output_type": "stream",
     "text": [
      "100%|█████████████████████████████████████████████████████████████████████████████████████████████████████████████████████████████████████████████████████████████████████████████████████████████████████| 5/5 [00:10<00:00,  2.19s/it]\n",
      "\u001b[32m[I 2021-11-12 11:22:52,141]\u001b[0m Trial 18 finished with value: 0.14305053096888296 and parameters: {'depth': 9, 'l2_leaf_reg': 0.003074053686033743, 'bagging_temperature': 37, 'min_data_in_leaf': 22}. Best is trial 1 with value: 0.1394933419817067.\u001b[0m\n"
     ]
    },
    {
     "name": "stdout",
     "output_type": "stream",
     "text": [
      "Model: cb | Mean train rsmle: 0.09927769817805938 | Standard deviation: 0.001085025332583349\n",
      "Model: cb | Mean val rsmle: 0.14305053096888296 | Standard deviation: 0.0025109944421159757\n"
     ]
    },
    {
     "name": "stderr",
     "output_type": "stream",
     "text": [
      "100%|█████████████████████████████████████████████████████████████████████████████████████████████████████████████████████████████████████████████████████████████████████████████████████████████████████| 5/5 [00:03<00:00,  1.26it/s]\n",
      "\u001b[32m[I 2021-11-12 11:22:56,151]\u001b[0m Trial 19 finished with value: 0.21509178169610807 and parameters: {'depth': 2, 'l2_leaf_reg': 0.28178934053563887, 'bagging_temperature': 89, 'min_data_in_leaf': 29}. Best is trial 1 with value: 0.1394933419817067.\u001b[0m\n"
     ]
    },
    {
     "name": "stdout",
     "output_type": "stream",
     "text": [
      "Model: cb | Mean train rsmle: 0.21111648698716728 | Standard deviation: 0.0006096195081069654\n",
      "Model: cb | Mean val rsmle: 0.21509178169610807 | Standard deviation: 0.003449130709572148\n"
     ]
    },
    {
     "name": "stderr",
     "output_type": "stream",
     "text": [
      "100%|█████████████████████████████████████████████████████████████████████████████████████████████████████████████████████████████████████████████████████████████████████████████████████████████████████| 5/5 [00:06<00:00,  1.20s/it]\n",
      "\u001b[32m[I 2021-11-12 11:23:02,186]\u001b[0m Trial 20 finished with value: 0.15217886083179816 and parameters: {'depth': 7, 'l2_leaf_reg': 1.3875419613561608e-08, 'bagging_temperature': 73, 'min_data_in_leaf': 35}. Best is trial 1 with value: 0.1394933419817067.\u001b[0m\n"
     ]
    },
    {
     "name": "stdout",
     "output_type": "stream",
     "text": [
      "Model: cb | Mean train rsmle: 0.12726381854884536 | Standard deviation: 0.0008967031138640781\n",
      "Model: cb | Mean val rsmle: 0.15217886083179816 | Standard deviation: 0.0024599434012202103\n"
     ]
    },
    {
     "name": "stderr",
     "output_type": "stream",
     "text": [
      "100%|█████████████████████████████████████████████████████████████████████████████████████████████████████████████████████████████████████████████████████████████████████████████████████████████████████| 5/5 [00:16<00:00,  3.39s/it]\n",
      "\u001b[32m[I 2021-11-12 11:23:19,145]\u001b[0m Trial 21 finished with value: 0.1405597799149143 and parameters: {'depth': 10, 'l2_leaf_reg': 0.004673907630797775, 'bagging_temperature': 78, 'min_data_in_leaf': 17}. Best is trial 1 with value: 0.1394933419817067.\u001b[0m\n"
     ]
    },
    {
     "name": "stdout",
     "output_type": "stream",
     "text": [
      "Model: cb | Mean train rsmle: 0.0863347595494217 | Standard deviation: 0.0004673220918533061\n",
      "Model: cb | Mean val rsmle: 0.1405597799149143 | Standard deviation: 0.002133465147355633\n"
     ]
    },
    {
     "name": "stderr",
     "output_type": "stream",
     "text": [
      "100%|█████████████████████████████████████████████████████████████████████████████████████████████████████████████████████████████████████████████████████████████████████████████████████████████████████| 5/5 [00:17<00:00,  3.43s/it]\n",
      "\u001b[32m[I 2021-11-12 11:23:36,324]\u001b[0m Trial 22 finished with value: 0.14091587600899075 and parameters: {'depth': 10, 'l2_leaf_reg': 0.008358404505002977, 'bagging_temperature': 96, 'min_data_in_leaf': 20}. Best is trial 1 with value: 0.1394933419817067.\u001b[0m\n"
     ]
    },
    {
     "name": "stdout",
     "output_type": "stream",
     "text": [
      "Model: cb | Mean train rsmle: 0.08602129292720426 | Standard deviation: 0.0008086515943213694\n",
      "Model: cb | Mean val rsmle: 0.14091587600899075 | Standard deviation: 0.0019200148449903492\n"
     ]
    },
    {
     "name": "stderr",
     "output_type": "stream",
     "text": [
      "100%|█████████████████████████████████████████████████████████████████████████████████████████████████████████████████████████████████████████████████████████████████████████████████████████████████████| 5/5 [00:10<00:00,  2.20s/it]\n",
      "\u001b[32m[I 2021-11-12 11:23:47,331]\u001b[0m Trial 23 finished with value: 0.1420502185469088 and parameters: {'depth': 9, 'l2_leaf_reg': 0.22406459650229943, 'bagging_temperature': 55, 'min_data_in_leaf': 50}. Best is trial 1 with value: 0.1394933419817067.\u001b[0m\n"
     ]
    },
    {
     "name": "stdout",
     "output_type": "stream",
     "text": [
      "Model: cb | Mean train rsmle: 0.10119933141045105 | Standard deviation: 0.0005802452886885902\n",
      "Model: cb | Mean val rsmle: 0.1420502185469088 | Standard deviation: 0.0029575788945931532\n"
     ]
    },
    {
     "name": "stderr",
     "output_type": "stream",
     "text": [
      "100%|█████████████████████████████████████████████████████████████████████████████████████████████████████████████████████████████████████████████████████████████████████████████████████████████████████| 5/5 [00:17<00:00,  3.41s/it]\n",
      "\u001b[32m[I 2021-11-12 11:24:04,398]\u001b[0m Trial 24 finished with value: 0.140518507155091 and parameters: {'depth': 10, 'l2_leaf_reg': 0.007201746484447888, 'bagging_temperature': 77, 'min_data_in_leaf': 13}. Best is trial 1 with value: 0.1394933419817067.\u001b[0m\n"
     ]
    },
    {
     "name": "stdout",
     "output_type": "stream",
     "text": [
      "Model: cb | Mean train rsmle: 0.08601760973686587 | Standard deviation: 0.0006030116835748116\n",
      "Model: cb | Mean val rsmle: 0.140518507155091 | Standard deviation: 0.0012073537285795393\n"
     ]
    },
    {
     "name": "stderr",
     "output_type": "stream",
     "text": [
      "100%|█████████████████████████████████████████████████████████████████████████████████████████████████████████████████████████████████████████████████████████████████████████████████████████████████████| 5/5 [00:10<00:00,  2.18s/it]\n",
      "\u001b[32m[I 2021-11-12 11:24:15,338]\u001b[0m Trial 25 finished with value: 0.14326904017575978 and parameters: {'depth': 9, 'l2_leaf_reg': 6.814815342685161e-06, 'bagging_temperature': 43, 'min_data_in_leaf': 12}. Best is trial 1 with value: 0.1394933419817067.\u001b[0m\n"
     ]
    },
    {
     "name": "stdout",
     "output_type": "stream",
     "text": [
      "Model: cb | Mean train rsmle: 0.10074748310374501 | Standard deviation: 0.0009074450292115736\n",
      "Model: cb | Mean val rsmle: 0.14326904017575978 | Standard deviation: 0.0026563547718307713\n"
     ]
    },
    {
     "name": "stderr",
     "output_type": "stream",
     "text": [
      "100%|█████████████████████████████████████████████████████████████████████████████████████████████████████████████████████████████████████████████████████████████████████████████████████████████████████| 5/5 [00:07<00:00,  1.50s/it]\n",
      "\u001b[32m[I 2021-11-12 11:24:22,867]\u001b[0m Trial 26 finished with value: 0.1468385824382334 and parameters: {'depth': 8, 'l2_leaf_reg': 0.00011174125728823282, 'bagging_temperature': 60, 'min_data_in_leaf': 8}. Best is trial 1 with value: 0.1394933419817067.\u001b[0m\n"
     ]
    },
    {
     "name": "stdout",
     "output_type": "stream",
     "text": [
      "Model: cb | Mean train rsmle: 0.11415517258539247 | Standard deviation: 0.00027906482653548766\n",
      "Model: cb | Mean val rsmle: 0.1468385824382334 | Standard deviation: 0.0030553133433185975\n"
     ]
    },
    {
     "name": "stderr",
     "output_type": "stream",
     "text": [
      "100%|█████████████████████████████████████████████████████████████████████████████████████████████████████████████████████████████████████████████████████████████████████████████████████████████████████| 5/5 [00:17<00:00,  3.42s/it]\n",
      "\u001b[32m[I 2021-11-12 11:24:39,978]\u001b[0m Trial 27 finished with value: 0.13963218819370682 and parameters: {'depth': 10, 'l2_leaf_reg': 0.10980315562039963, 'bagging_temperature': 61, 'min_data_in_leaf': 27}. Best is trial 1 with value: 0.1394933419817067.\u001b[0m\n"
     ]
    },
    {
     "name": "stdout",
     "output_type": "stream",
     "text": [
      "Model: cb | Mean train rsmle: 0.08779560685645811 | Standard deviation: 0.000774567483842062\n",
      "Model: cb | Mean val rsmle: 0.13963218819370682 | Standard deviation: 0.0020846593916542065\n"
     ]
    },
    {
     "name": "stderr",
     "output_type": "stream",
     "text": [
      "100%|█████████████████████████████████████████████████████████████████████████████████████████████████████████████████████████████████████████████████████████████████████████████████████████████████████| 5/5 [00:05<00:00,  1.19s/it]\n",
      "\u001b[32m[I 2021-11-12 11:24:45,972]\u001b[0m Trial 28 finished with value: 0.15251517841367424 and parameters: {'depth': 7, 'l2_leaf_reg': 0.1554994282271755, 'bagging_temperature': 60, 'min_data_in_leaf': 28}. Best is trial 1 with value: 0.1394933419817067.\u001b[0m\n"
     ]
    },
    {
     "name": "stdout",
     "output_type": "stream",
     "text": [
      "Model: cb | Mean train rsmle: 0.1288583944671417 | Standard deviation: 0.0007947173537167166\n",
      "Model: cb | Mean val rsmle: 0.15251517841367424 | Standard deviation: 0.0027344016283954832\n"
     ]
    },
    {
     "name": "stderr",
     "output_type": "stream",
     "text": [
      "100%|█████████████████████████████████████████████████████████████████████████████████████████████████████████████████████████████████████████████████████████████████████████████████████████████████████| 5/5 [00:11<00:00,  2.32s/it]\n",
      "\u001b[32m[I 2021-11-12 11:24:57,607]\u001b[0m Trial 29 finished with value: 0.14469293128846583 and parameters: {'depth': 9, 'l2_leaf_reg': 1.5031446566911562, 'bagging_temperature': 42, 'min_data_in_leaf': 26}. Best is trial 1 with value: 0.1394933419817067.\u001b[0m\n"
     ]
    },
    {
     "name": "stdout",
     "output_type": "stream",
     "text": [
      "Model: cb | Mean train rsmle: 0.10944456967110597 | Standard deviation: 0.0007801772598911649\n",
      "Model: cb | Mean val rsmle: 0.14469293128846583 | Standard deviation: 0.0019496197026888896\n"
     ]
    },
    {
     "name": "stderr",
     "output_type": "stream",
     "text": [
      "100%|█████████████████████████████████████████████████████████████████████████████████████████████████████████████████████████████████████████████████████████████████████████████████████████████████████| 5/5 [00:09<00:00,  1.84s/it]\n",
      "\u001b[32m[I 2021-11-12 11:25:06,841]\u001b[0m Trial 30 finished with value: 0.15475726479012863 and parameters: {'depth': 8, 'l2_leaf_reg': 6.032643417020737, 'bagging_temperature': 89, 'min_data_in_leaf': 37}. Best is trial 1 with value: 0.1394933419817067.\u001b[0m\n"
     ]
    },
    {
     "name": "stdout",
     "output_type": "stream",
     "text": [
      "Model: cb | Mean train rsmle: 0.1313476880517392 | Standard deviation: 0.0006143767974835561\n",
      "Model: cb | Mean val rsmle: 0.15475726479012863 | Standard deviation: 0.0024679823028633855\n"
     ]
    },
    {
     "name": "stderr",
     "output_type": "stream",
     "text": [
      "100%|█████████████████████████████████████████████████████████████████████████████████████████████████████████████████████████████████████████████████████████████████████████████████████████████████████| 5/5 [00:19<00:00,  3.81s/it]\n",
      "\u001b[32m[I 2021-11-12 11:25:25,942]\u001b[0m Trial 31 finished with value: 0.13977158716669863 and parameters: {'depth': 10, 'l2_leaf_reg': 0.0019224674610865242, 'bagging_temperature': 75, 'min_data_in_leaf': 15}. Best is trial 1 with value: 0.1394933419817067.\u001b[0m\n"
     ]
    },
    {
     "name": "stdout",
     "output_type": "stream",
     "text": [
      "Model: cb | Mean train rsmle: 0.08591901686120676 | Standard deviation: 0.0011981891206420375\n",
      "Model: cb | Mean val rsmle: 0.13977158716669863 | Standard deviation: 0.0018443751482342197\n"
     ]
    },
    {
     "name": "stderr",
     "output_type": "stream",
     "text": [
      "100%|█████████████████████████████████████████████████████████████████████████████████████████████████████████████████████████████████████████████████████████████████████████████████████████████████████| 5/5 [00:16<00:00,  3.32s/it]\n",
      "\u001b[32m[I 2021-11-12 11:25:42,592]\u001b[0m Trial 32 finished with value: 0.13974794686179592 and parameters: {'depth': 10, 'l2_leaf_reg': 0.0011434362501311992, 'bagging_temperature': 72, 'min_data_in_leaf': 24}. Best is trial 1 with value: 0.1394933419817067.\u001b[0m\n"
     ]
    },
    {
     "name": "stdout",
     "output_type": "stream",
     "text": [
      "Model: cb | Mean train rsmle: 0.08616507532318747 | Standard deviation: 0.0010778680057244975\n",
      "Model: cb | Mean val rsmle: 0.13974794686179592 | Standard deviation: 0.0021462524758281924\n"
     ]
    },
    {
     "name": "stderr",
     "output_type": "stream",
     "text": [
      "100%|█████████████████████████████████████████████████████████████████████████████████████████████████████████████████████████████████████████████████████████████████████████████████████████████████████| 5/5 [00:10<00:00,  2.14s/it]\n",
      "\u001b[32m[I 2021-11-12 11:25:53,332]\u001b[0m Trial 33 finished with value: 0.14334402855681877 and parameters: {'depth': 9, 'l2_leaf_reg': 0.00024553322790225694, 'bagging_temperature': 75, 'min_data_in_leaf': 24}. Best is trial 1 with value: 0.1394933419817067.\u001b[0m\n"
     ]
    },
    {
     "name": "stdout",
     "output_type": "stream",
     "text": [
      "Model: cb | Mean train rsmle: 0.10075652696454662 | Standard deviation: 0.000910845503297821\n",
      "Model: cb | Mean val rsmle: 0.14334402855681877 | Standard deviation: 0.0025994131796848266\n"
     ]
    },
    {
     "name": "stderr",
     "output_type": "stream",
     "text": [
      "100%|█████████████████████████████████████████████████████████████████████████████████████████████████████████████████████████████████████████████████████████████████████████████████████████████████████| 5/5 [00:17<00:00,  3.45s/it]\n",
      "\u001b[32m[I 2021-11-12 11:26:10,627]\u001b[0m Trial 34 finished with value: 0.13984185476478558 and parameters: {'depth': 10, 'l2_leaf_reg': 0.001293640369170557, 'bagging_temperature': 84, 'min_data_in_leaf': 20}. Best is trial 1 with value: 0.1394933419817067.\u001b[0m\n"
     ]
    },
    {
     "name": "stdout",
     "output_type": "stream",
     "text": [
      "Model: cb | Mean train rsmle: 0.0861023507491079 | Standard deviation: 0.0010272448670073891\n",
      "Model: cb | Mean val rsmle: 0.13984185476478558 | Standard deviation: 0.0022905960760610617\n"
     ]
    },
    {
     "name": "stderr",
     "output_type": "stream",
     "text": [
      "100%|█████████████████████████████████████████████████████████████████████████████████████████████████████████████████████████████████████████████████████████████████████████████████████████████████████| 5/5 [00:11<00:00,  2.21s/it]\n",
      "\u001b[32m[I 2021-11-12 11:26:21,696]\u001b[0m Trial 35 finished with value: 0.14326905475343438 and parameters: {'depth': 9, 'l2_leaf_reg': 2.444938299442013e-05, 'bagging_temperature': 62, 'min_data_in_leaf': 26}. Best is trial 1 with value: 0.1394933419817067.\u001b[0m\n"
     ]
    },
    {
     "name": "stdout",
     "output_type": "stream",
     "text": [
      "Model: cb | Mean train rsmle: 0.100747626244033 | Standard deviation: 0.0009074459419263394\n",
      "Model: cb | Mean val rsmle: 0.14326905475343438 | Standard deviation: 0.0026563542572577863\n"
     ]
    },
    {
     "name": "stderr",
     "output_type": "stream",
     "text": [
      "100%|█████████████████████████████████████████████████████████████████████████████████████████████████████████████████████████████████████████████████████████████████████████████████████████████████████| 5/5 [00:04<00:00,  1.11it/s]\n",
      "\u001b[32m[I 2021-11-12 11:26:26,223]\u001b[0m Trial 36 finished with value: 0.1811856814246778 and parameters: {'depth': 4, 'l2_leaf_reg': 0.0013496170175505222, 'bagging_temperature': 54, 'min_data_in_leaf': 15}. Best is trial 1 with value: 0.1394933419817067.\u001b[0m\n"
     ]
    },
    {
     "name": "stdout",
     "output_type": "stream",
     "text": [
      "Model: cb | Mean train rsmle: 0.17144529758406665 | Standard deviation: 0.0012837237570369657\n",
      "Model: cb | Mean val rsmle: 0.1811856814246778 | Standard deviation: 0.0023779489650527443\n"
     ]
    },
    {
     "name": "stderr",
     "output_type": "stream",
     "text": [
      "100%|█████████████████████████████████████████████████████████████████████████████████████████████████████████████████████████████████████████████████████████████████████████████████████████████████████| 5/5 [00:17<00:00,  3.52s/it]\n",
      "\u001b[32m[I 2021-11-12 11:26:43,872]\u001b[0m Trial 37 finished with value: 0.1395322724250621 and parameters: {'depth': 10, 'l2_leaf_reg': 6.694008052899467e-05, 'bagging_temperature': 48, 'min_data_in_leaf': 21}. Best is trial 1 with value: 0.1394933419817067.\u001b[0m\n"
     ]
    },
    {
     "name": "stdout",
     "output_type": "stream",
     "text": [
      "Model: cb | Mean train rsmle: 0.08636050691046901 | Standard deviation: 0.0006228413125605766\n",
      "Model: cb | Mean val rsmle: 0.1395322724250621 | Standard deviation: 0.002209035015255602\n"
     ]
    },
    {
     "name": "stderr",
     "output_type": "stream",
     "text": [
      "100%|█████████████████████████████████████████████████████████████████████████████████████████████████████████████████████████████████████████████████████████████████████████████████████████████████████| 5/5 [00:04<00:00,  1.21it/s]\n",
      "\u001b[32m[I 2021-11-12 11:26:48,015]\u001b[0m Trial 38 finished with value: 0.19599609914932098 and parameters: {'depth': 3, 'l2_leaf_reg': 1.169405558565493e-05, 'bagging_temperature': 29, 'min_data_in_leaf': 21}. Best is trial 1 with value: 0.1394933419817067.\u001b[0m\n"
     ]
    },
    {
     "name": "stdout",
     "output_type": "stream",
     "text": [
      "Model: cb | Mean train rsmle: 0.18919092133613485 | Standard deviation: 0.0010345877251716662\n",
      "Model: cb | Mean val rsmle: 0.19599609914932098 | Standard deviation: 0.0036891677548222777\n"
     ]
    },
    {
     "name": "stderr",
     "output_type": "stream",
     "text": [
      "100%|█████████████████████████████████████████████████████████████████████████████████████████████████████████████████████████████████████████████████████████████████████████████████████████████████████| 5/5 [00:04<00:00,  1.05it/s]\n",
      "\u001b[32m[I 2021-11-12 11:26:52,838]\u001b[0m Trial 39 finished with value: 0.1702301354109786 and parameters: {'depth': 5, 'l2_leaf_reg': 1.609808592714483e-06, 'bagging_temperature': 50, 'min_data_in_leaf': 31}. Best is trial 1 with value: 0.1394933419817067.\u001b[0m\n"
     ]
    },
    {
     "name": "stdout",
     "output_type": "stream",
     "text": [
      "Model: cb | Mean train rsmle: 0.15666849962611115 | Standard deviation: 0.0011410634363992786\n",
      "Model: cb | Mean val rsmle: 0.1702301354109786 | Standard deviation: 0.0033217937998831536\n"
     ]
    },
    {
     "name": "stderr",
     "output_type": "stream",
     "text": [
      "100%|█████████████████████████████████████████████████████████████████████████████████████████████████████████████████████████████████████████████████████████████████████████████████████████████████████| 5/5 [00:11<00:00,  2.21s/it]\n",
      "\u001b[32m[I 2021-11-12 11:27:03,907]\u001b[0m Trial 40 finished with value: 0.14326908665899157 and parameters: {'depth': 9, 'l2_leaf_reg': 6.304008334106088e-05, 'bagging_temperature': 33, 'min_data_in_leaf': 24}. Best is trial 1 with value: 0.1394933419817067.\u001b[0m\n"
     ]
    },
    {
     "name": "stdout",
     "output_type": "stream",
     "text": [
      "Model: cb | Mean train rsmle: 0.10074793947990186 | Standard deviation: 0.0009074479393327378\n",
      "Model: cb | Mean val rsmle: 0.14326908665899157 | Standard deviation: 0.00265635313043283\n"
     ]
    },
    {
     "name": "stderr",
     "output_type": "stream",
     "text": [
      "100%|█████████████████████████████████████████████████████████████████████████████████████████████████████████████████████████████████████████████████████████████████████████████████████████████████████| 5/5 [00:19<00:00,  3.89s/it]\n",
      "\u001b[32m[I 2021-11-12 11:27:23,369]\u001b[0m Trial 41 finished with value: 0.1393238407407395 and parameters: {'depth': 10, 'l2_leaf_reg': 0.00013527453816603987, 'bagging_temperature': 57, 'min_data_in_leaf': 15}. Best is trial 41 with value: 0.1393238407407395.\u001b[0m\n"
     ]
    },
    {
     "name": "stdout",
     "output_type": "stream",
     "text": [
      "Model: cb | Mean train rsmle: 0.0861513551720495 | Standard deviation: 0.0006025896480039058\n",
      "Model: cb | Mean val rsmle: 0.1393238407407395 | Standard deviation: 0.0019041905865803959\n"
     ]
    },
    {
     "name": "stderr",
     "output_type": "stream",
     "text": [
      "100%|█████████████████████████████████████████████████████████████████████████████████████████████████████████████████████████████████████████████████████████████████████████████████████████████████████| 5/5 [00:20<00:00,  4.03s/it]\n",
      "\u001b[32m[I 2021-11-12 11:27:43,533]\u001b[0m Trial 42 finished with value: 0.1394933758141609 and parameters: {'depth': 10, 'l2_leaf_reg': 0.0002882969705224654, 'bagging_temperature': 46, 'min_data_in_leaf': 8}. Best is trial 41 with value: 0.1393238407407395.\u001b[0m\n"
     ]
    },
    {
     "name": "stdout",
     "output_type": "stream",
     "text": [
      "Model: cb | Mean train rsmle: 0.0862670103308402 | Standard deviation: 0.0002551440254485988\n",
      "Model: cb | Mean val rsmle: 0.1394933758141609 | Standard deviation: 0.001912291547592713\n"
     ]
    },
    {
     "name": "stderr",
     "output_type": "stream",
     "text": [
      "100%|█████████████████████████████████████████████████████████████████████████████████████████████████████████████████████████████████████████████████████████████████████████████████████████████████████| 5/5 [00:20<00:00,  4.02s/it]\n",
      "\u001b[32m[I 2021-11-12 11:28:03,662]\u001b[0m Trial 43 finished with value: 0.1397504062042922 and parameters: {'depth': 10, 'l2_leaf_reg': 0.000499775357169992, 'bagging_temperature': 46, 'min_data_in_leaf': 9}. Best is trial 41 with value: 0.1393238407407395.\u001b[0m\n"
     ]
    },
    {
     "name": "stdout",
     "output_type": "stream",
     "text": [
      "Model: cb | Mean train rsmle: 0.0866549737535793 | Standard deviation: 0.000724227236299367\n",
      "Model: cb | Mean val rsmle: 0.1397504062042922 | Standard deviation: 0.002050312453250472\n"
     ]
    },
    {
     "name": "stderr",
     "output_type": "stream",
     "text": [
      "100%|█████████████████████████████████████████████████████████████████████████████████████████████████████████████████████████████████████████████████████████████████████████████████████████████████████| 5/5 [00:12<00:00,  2.54s/it]\n",
      "\u001b[32m[I 2021-11-12 11:28:16,374]\u001b[0m Trial 44 finished with value: 0.14326920149422404 and parameters: {'depth': 9, 'l2_leaf_reg': 0.00020187591724684436, 'bagging_temperature': 39, 'min_data_in_leaf': 5}. Best is trial 41 with value: 0.1393238407407395.\u001b[0m\n"
     ]
    },
    {
     "name": "stdout",
     "output_type": "stream",
     "text": [
      "Model: cb | Mean train rsmle: 0.10074906632524808 | Standard deviation: 0.0009074551260060397\n",
      "Model: cb | Mean val rsmle: 0.14326920149422404 | Standard deviation: 0.0026563490679232487\n"
     ]
    },
    {
     "name": "stderr",
     "output_type": "stream",
     "text": [
      "100%|█████████████████████████████████████████████████████████████████████████████████████████████████████████████████████████████████████████████████████████████████████████████████████████████████████| 5/5 [00:19<00:00,  3.98s/it]\n",
      "\u001b[32m[I 2021-11-12 11:28:36,314]\u001b[0m Trial 45 finished with value: 0.13953226579647782 and parameters: {'depth': 10, 'l2_leaf_reg': 4.993822145518955e-05, 'bagging_temperature': 57, 'min_data_in_leaf': 2}. Best is trial 41 with value: 0.1393238407407395.\u001b[0m\n"
     ]
    },
    {
     "name": "stdout",
     "output_type": "stream",
     "text": [
      "Model: cb | Mean train rsmle: 0.08636033589899672 | Standard deviation: 0.0006228414707931785\n",
      "Model: cb | Mean val rsmle: 0.13953226579647782 | Standard deviation: 0.0022090434153751505\n"
     ]
    },
    {
     "name": "stderr",
     "output_type": "stream",
     "text": [
      "100%|█████████████████████████████████████████████████████████████████████████████████████████████████████████████████████████████████████████████████████████████████████████████████████████████████████| 5/5 [00:12<00:00,  2.44s/it]\n",
      "\u001b[32m[I 2021-11-12 11:28:48,565]\u001b[0m Trial 46 finished with value: 0.1432690795792274 and parameters: {'depth': 9, 'l2_leaf_reg': 5.44775358402981e-05, 'bagging_temperature': 49, 'min_data_in_leaf': 2}. Best is trial 41 with value: 0.1393238407407395.\u001b[0m\n"
     ]
    },
    {
     "name": "stdout",
     "output_type": "stream",
     "text": [
      "Model: cb | Mean train rsmle: 0.10074786997948941 | Standard deviation: 0.0009074474961386414\n",
      "Model: cb | Mean val rsmle: 0.1432690795792274 | Standard deviation: 0.0026563533805436784\n"
     ]
    },
    {
     "name": "stderr",
     "output_type": "stream",
     "text": [
      "100%|█████████████████████████████████████████████████████████████████████████████████████████████████████████████████████████████████████████████████████████████████████████████████████████████████████| 5/5 [00:20<00:00,  4.13s/it]\n",
      "\u001b[32m[I 2021-11-12 11:29:09,240]\u001b[0m Trial 47 finished with value: 0.13965169885301876 and parameters: {'depth': 10, 'l2_leaf_reg': 5.516403544299132e-07, 'bagging_temperature': 55, 'min_data_in_leaf': 10}. Best is trial 41 with value: 0.1393238407407395.\u001b[0m\n"
     ]
    },
    {
     "name": "stdout",
     "output_type": "stream",
     "text": [
      "Model: cb | Mean train rsmle: 0.08656978815478157 | Standard deviation: 0.0010390956308769519\n",
      "Model: cb | Mean val rsmle: 0.13965169885301876 | Standard deviation: 0.002368241259589786\n"
     ]
    },
    {
     "name": "stderr",
     "output_type": "stream",
     "text": [
      "100%|█████████████████████████████████████████████████████████████████████████████████████████████████████████████████████████████████████████████████████████████████████████████████████████████████████| 5/5 [00:10<00:00,  2.04s/it]\n",
      "\u001b[32m[I 2021-11-12 11:29:19,456]\u001b[0m Trial 48 finished with value: 0.14683847118450738 and parameters: {'depth': 8, 'l2_leaf_reg': 2.2968036375502665e-05, 'bagging_temperature': 65, 'min_data_in_leaf': 6}. Best is trial 41 with value: 0.1393238407407395.\u001b[0m\n"
     ]
    },
    {
     "name": "stdout",
     "output_type": "stream",
     "text": [
      "Model: cb | Mean train rsmle: 0.11415461703146138 | Standard deviation: 0.0002790844644422579\n",
      "Model: cb | Mean val rsmle: 0.14683847118450738 | Standard deviation: 0.003055358100874392\n"
     ]
    },
    {
     "name": "stderr",
     "output_type": "stream",
     "text": [
      "100%|█████████████████████████████████████████████████████████████████████████████████████████████████████████████████████████████████████████████████████████████████████████████████████████████████████| 5/5 [00:17<00:00,  3.51s/it]\n",
      "\u001b[32m[I 2021-11-12 11:29:37,031]\u001b[0m Trial 49 finished with value: 0.14329445971142732 and parameters: {'depth': 9, 'l2_leaf_reg': 5.5202574384133795e-06, 'bagging_temperature': 22, 'min_data_in_leaf': 1}. Best is trial 41 with value: 0.1393238407407395.\u001b[0m\n"
     ]
    },
    {
     "name": "stdout",
     "output_type": "stream",
     "text": [
      "Model: cb | Mean train rsmle: 0.1005412482212749 | Standard deviation: 0.0010058096792772146\n",
      "Model: cb | Mean val rsmle: 0.14329445971142732 | Standard deviation: 0.0026301683156305564\n"
     ]
    },
    {
     "name": "stderr",
     "output_type": "stream",
     "text": [
      "100%|█████████████████████████████████████████████████████████████████████████████████████████████████████████████████████████████████████████████████████████████████████████████████████████████████████| 5/5 [00:06<00:00,  1.37s/it]\n",
      "\u001b[32m[I 2021-11-12 11:29:43,923]\u001b[0m Trial 50 finished with value: 0.16989565924886066 and parameters: {'depth': 5, 'l2_leaf_reg': 0.00040550670622075, 'bagging_temperature': 0, 'min_data_in_leaf': 3}. Best is trial 41 with value: 0.1393238407407395.\u001b[0m\n"
     ]
    },
    {
     "name": "stdout",
     "output_type": "stream",
     "text": [
      "Model: cb | Mean train rsmle: 0.15645952004827515 | Standard deviation: 0.0010104851025234372\n",
      "Model: cb | Mean val rsmle: 0.16989565924886066 | Standard deviation: 0.003644208975065861\n"
     ]
    },
    {
     "name": "stderr",
     "output_type": "stream",
     "text": [
      "100%|█████████████████████████████████████████████████████████████████████████████████████████████████████████████████████████████████████████████████████████████████████████████████████████████████████| 5/5 [00:30<00:00,  6.17s/it]\n",
      "\u001b[32m[I 2021-11-12 11:30:14,799]\u001b[0m Trial 51 finished with value: 0.1393238287942345 and parameters: {'depth': 10, 'l2_leaf_reg': 0.00010301859484918617, 'bagging_temperature': 59, 'min_data_in_leaf': 15}. Best is trial 51 with value: 0.1393238287942345.\u001b[0m\n"
     ]
    },
    {
     "name": "stdout",
     "output_type": "stream",
     "text": [
      "Model: cb | Mean train rsmle: 0.08615102947437048 | Standard deviation: 0.0006025890797586088\n",
      "Model: cb | Mean val rsmle: 0.1393238287942345 | Standard deviation: 0.0019042071727686436\n"
     ]
    },
    {
     "name": "stderr",
     "output_type": "stream",
     "text": [
      "100%|█████████████████████████████████████████████████████████████████████████████████████████████████████████████████████████████████████████████████████████████████████████████████████████████████████| 5/5 [00:28<00:00,  5.70s/it]\n",
      "\u001b[32m[I 2021-11-12 11:30:43,351]\u001b[0m Trial 52 finished with value: 0.1395322678825537 and parameters: {'depth': 10, 'l2_leaf_reg': 5.528937033205533e-05, 'bagging_temperature': 55, 'min_data_in_leaf': 15}. Best is trial 51 with value: 0.1393238287942345.\u001b[0m\n"
     ]
    },
    {
     "name": "stdout",
     "output_type": "stream",
     "text": [
      "Model: cb | Mean train rsmle: 0.08636038972315943 | Standard deviation: 0.0006228414209906172\n",
      "Model: cb | Mean val rsmle: 0.1395322678825537 | Standard deviation: 0.002209040771532695\n"
     ]
    },
    {
     "name": "stderr",
     "output_type": "stream",
     "text": [
      "100%|█████████████████████████████████████████████████████████████████████████████████████████████████████████████████████████████████████████████████████████████████████████████████████████████████████| 5/5 [00:17<00:00,  3.41s/it]\n",
      "\u001b[32m[I 2021-11-12 11:31:00,408]\u001b[0m Trial 53 finished with value: 0.13932383506027993 and parameters: {'depth': 10, 'l2_leaf_reg': 0.00011993935817687353, 'bagging_temperature': 55, 'min_data_in_leaf': 15}. Best is trial 51 with value: 0.1393238287942345.\u001b[0m\n"
     ]
    },
    {
     "name": "stdout",
     "output_type": "stream",
     "text": [
      "Model: cb | Mean train rsmle: 0.08615120032915877 | Standard deviation: 0.000602589377834488\n",
      "Model: cb | Mean val rsmle: 0.13932383506027993 | Standard deviation: 0.0019041984720004704\n"
     ]
    },
    {
     "name": "stderr",
     "output_type": "stream",
     "text": [
      "100%|█████████████████████████████████████████████████████████████████████████████████████████████████████████████████████████████████████████████████████████████████████████████████████████████████████| 5/5 [00:16<00:00,  3.39s/it]\n",
      "\u001b[32m[I 2021-11-12 11:31:17,384]\u001b[0m Trial 54 finished with value: 0.1393689742814981 and parameters: {'depth': 10, 'l2_leaf_reg': 0.00015444131611969485, 'bagging_temperature': 58, 'min_data_in_leaf': 11}. Best is trial 51 with value: 0.1393238287942345.\u001b[0m\n"
     ]
    },
    {
     "name": "stdout",
     "output_type": "stream",
     "text": [
      "Model: cb | Mean train rsmle: 0.08603707394034663 | Standard deviation: 0.00050554203287566\n",
      "Model: cb | Mean val rsmle: 0.1393689742814981 | Standard deviation: 0.001936470344482414\n"
     ]
    },
    {
     "name": "stderr",
     "output_type": "stream",
     "text": [
      "100%|█████████████████████████████████████████████████████████████████████████████████████████████████████████████████████████████████████████████████████████████████████████████████████████████████████| 5/5 [00:16<00:00,  3.27s/it]\n",
      "\u001b[32m[I 2021-11-12 11:31:33,754]\u001b[0m Trial 55 finished with value: 0.13936897806613419 and parameters: {'depth': 10, 'l2_leaf_reg': 0.0001639925901762799, 'bagging_temperature': 65, 'min_data_in_leaf': 13}. Best is trial 51 with value: 0.1393238287942345.\u001b[0m\n"
     ]
    },
    {
     "name": "stdout",
     "output_type": "stream",
     "text": [
      "Model: cb | Mean train rsmle: 0.0860371706550042 | Standard deviation: 0.0005055421615717165\n",
      "Model: cb | Mean val rsmle: 0.13936897806613419 | Standard deviation: 0.001936465584290252\n"
     ]
    },
    {
     "name": "stderr",
     "output_type": "stream",
     "text": [
      "100%|█████████████████████████████████████████████████████████████████████████████████████████████████████████████████████████████████████████████████████████████████████████████████████████████████████| 5/5 [00:13<00:00,  2.69s/it]\n",
      "\u001b[32m[I 2021-11-12 11:31:47,235]\u001b[0m Trial 56 finished with value: 0.1432691497364688 and parameters: {'depth': 9, 'l2_leaf_reg': 0.0001393125204390452, 'bagging_temperature': 65, 'min_data_in_leaf': 14}. Best is trial 51 with value: 0.1393238287942345.\u001b[0m\n"
     ]
    },
    {
     "name": "stdout",
     "output_type": "stream",
     "text": [
      "Model: cb | Mean train rsmle: 0.10074855854970029 | Standard deviation: 0.000907451887349701\n",
      "Model: cb | Mean val rsmle: 0.1432691497364688 | Standard deviation: 0.0026563509002692737\n"
     ]
    },
    {
     "name": "stderr",
     "output_type": "stream",
     "text": [
      "100%|█████████████████████████████████████████████████████████████████████████████████████████████████████████████████████████████████████████████████████████████████████████████████████████████████████| 5/5 [00:08<00:00,  1.75s/it]\n",
      "\u001b[32m[I 2021-11-12 11:31:56,036]\u001b[0m Trial 57 finished with value: 0.1468384631276193 and parameters: {'depth': 8, 'l2_leaf_reg': 1.653850127809379e-05, 'bagging_temperature': 70, 'min_data_in_leaf': 17}. Best is trial 51 with value: 0.1393238287942345.\u001b[0m\n"
     ]
    },
    {
     "name": "stdout",
     "output_type": "stream",
     "text": [
      "Model: cb | Mean train rsmle: 0.11415457679331006 | Standard deviation: 0.0002790858869005917\n",
      "Model: cb | Mean val rsmle: 0.1468384631276193 | Standard deviation: 0.0030553613428939462\n"
     ]
    },
    {
     "name": "stderr",
     "output_type": "stream",
     "text": [
      "100%|█████████████████████████████████████████████████████████████████████████████████████████████████████████████████████████████████████████████████████████████████████████████████████████████████████| 5/5 [00:05<00:00,  1.13s/it]\n",
      "\u001b[32m[I 2021-11-12 11:32:01,713]\u001b[0m Trial 58 finished with value: 0.16022288756353387 and parameters: {'depth': 6, 'l2_leaf_reg': 0.0005941446512471931, 'bagging_temperature': 65, 'min_data_in_leaf': 12}. Best is trial 51 with value: 0.1393238287942345.\u001b[0m\n"
     ]
    },
    {
     "name": "stdout",
     "output_type": "stream",
     "text": [
      "Model: cb | Mean train rsmle: 0.1419356094315833 | Standard deviation: 0.0008628732275910272\n",
      "Model: cb | Mean val rsmle: 0.16022288756353387 | Standard deviation: 0.002443364558263306\n"
     ]
    },
    {
     "name": "stderr",
     "output_type": "stream",
     "text": [
      "100%|█████████████████████████████████████████████████████████████████████████████████████████████████████████████████████████████████████████████████████████████████████████████████████████████████████| 5/5 [00:20<00:00,  4.04s/it]\n",
      "\u001b[32m[I 2021-11-12 11:32:21,927]\u001b[0m Trial 59 finished with value: 0.1407441154815679 and parameters: {'depth': 10, 'l2_leaf_reg': 0.018154501295921967, 'bagging_temperature': 51, 'min_data_in_leaf': 19}. Best is trial 51 with value: 0.1393238287942345.\u001b[0m\n"
     ]
    },
    {
     "name": "stdout",
     "output_type": "stream",
     "text": [
      "Model: cb | Mean train rsmle: 0.08625485047926365 | Standard deviation: 0.0006437142710852046\n",
      "Model: cb | Mean val rsmle: 0.1407441154815679 | Standard deviation: 0.0011406567240820444\n"
     ]
    },
    {
     "name": "stderr",
     "output_type": "stream",
     "text": [
      "100%|█████████████████████████████████████████████████████████████████████████████████████████████████████████████████████████████████████████████████████████████████████████████████████████████████████| 5/5 [00:06<00:00,  1.28s/it]\n",
      "\u001b[32m[I 2021-11-12 11:32:28,373]\u001b[0m Trial 60 finished with value: 0.15227713143652488 and parameters: {'depth': 7, 'l2_leaf_reg': 0.00013604249759194395, 'bagging_temperature': 58, 'min_data_in_leaf': 11}. Best is trial 51 with value: 0.1393238287942345.\u001b[0m\n"
     ]
    },
    {
     "name": "stdout",
     "output_type": "stream",
     "text": [
      "Model: cb | Mean train rsmle: 0.12721456380409266 | Standard deviation: 0.0008855542080156775\n",
      "Model: cb | Mean val rsmle: 0.15227713143652488 | Standard deviation: 0.002484978819052343\n"
     ]
    },
    {
     "name": "stderr",
     "output_type": "stream",
     "text": [
      "100%|█████████████████████████████████████████████████████████████████████████████████████████████████████████████████████████████████████████████████████████████████████████████████████████████████████| 5/5 [00:20<00:00,  4.17s/it]\n",
      "\u001b[32m[I 2021-11-12 11:32:49,268]\u001b[0m Trial 61 finished with value: 0.1396889558359215 and parameters: {'depth': 10, 'l2_leaf_reg': 0.00036023540127787777, 'bagging_temperature': 44, 'min_data_in_leaf': 9}. Best is trial 51 with value: 0.1393238287942345.\u001b[0m\n"
     ]
    },
    {
     "name": "stdout",
     "output_type": "stream",
     "text": [
      "Model: cb | Mean train rsmle: 0.08627405208847329 | Standard deviation: 0.000262270181308738\n",
      "Model: cb | Mean val rsmle: 0.1396889558359215 | Standard deviation: 0.0015954084901633819\n"
     ]
    },
    {
     "name": "stderr",
     "output_type": "stream",
     "text": [
      "100%|█████████████████████████████████████████████████████████████████████████████████████████████████████████████████████████████████████████████████████████████████████████████████████████████████████| 5/5 [00:17<00:00,  3.53s/it]\n",
      "\u001b[32m[I 2021-11-12 11:33:06,984]\u001b[0m Trial 62 finished with value: 0.14067787435726553 and parameters: {'depth': 10, 'l2_leaf_reg': 0.003111960537194403, 'bagging_temperature': 58, 'min_data_in_leaf': 7}. Best is trial 51 with value: 0.1393238287942345.\u001b[0m\n"
     ]
    },
    {
     "name": "stdout",
     "output_type": "stream",
     "text": [
      "Model: cb | Mean train rsmle: 0.08574043718670243 | Standard deviation: 0.0007726089171494875\n",
      "Model: cb | Mean val rsmle: 0.14067787435726553 | Standard deviation: 0.0020005738654503866\n"
     ]
    },
    {
     "name": "stderr",
     "output_type": "stream",
     "text": [
      "100%|█████████████████████████████████████████████████████████████████████████████████████████████████████████████████████████████████████████████████████████████████████████████████████████████████████| 5/5 [00:12<00:00,  2.57s/it]\n",
      "\u001b[32m[I 2021-11-12 11:33:19,883]\u001b[0m Trial 63 finished with value: 0.1433440418159873 and parameters: {'depth': 9, 'l2_leaf_reg': 0.00026325238239737804, 'bagging_temperature': 62, 'min_data_in_leaf': 16}. Best is trial 51 with value: 0.1393238287942345.\u001b[0m\n"
     ]
    },
    {
     "name": "stdout",
     "output_type": "stream",
     "text": [
      "Model: cb | Mean train rsmle: 0.10075667110440725 | Standard deviation: 0.0009108465676918633\n",
      "Model: cb | Mean val rsmle: 0.1433440418159873 | Standard deviation: 0.002599413315887034\n"
     ]
    },
    {
     "name": "stderr",
     "output_type": "stream",
     "text": [
      "100%|█████████████████████████████████████████████████████████████████████████████████████████████████████████████████████████████████████████████████████████████████████████████████████████████████████| 5/5 [00:17<00:00,  3.55s/it]\n",
      "\u001b[32m[I 2021-11-12 11:33:37,671]\u001b[0m Trial 64 finished with value: 0.13977069356769498 and parameters: {'depth': 10, 'l2_leaf_reg': 0.0007878281421714249, 'bagging_temperature': 51, 'min_data_in_leaf': 12}. Best is trial 51 with value: 0.1393238287942345.\u001b[0m\n"
     ]
    },
    {
     "name": "stdout",
     "output_type": "stream",
     "text": [
      "Model: cb | Mean train rsmle: 0.08677129865756149 | Standard deviation: 0.0007488365630689594\n",
      "Model: cb | Mean val rsmle: 0.13977069356769498 | Standard deviation: 0.0023731344272102076\n"
     ]
    },
    {
     "name": "stderr",
     "output_type": "stream",
     "text": [
      "100%|█████████████████████████████████████████████████████████████████████████████████████████████████████████████████████████████████████████████████████████████████████████████████████████████████████| 5/5 [00:19<00:00,  3.91s/it]\n",
      "\u001b[32m[I 2021-11-12 11:33:57,261]\u001b[0m Trial 65 finished with value: 0.13932382978837105 and parameters: {'depth': 10, 'l2_leaf_reg': 0.0001057034797243885, 'bagging_temperature': 69, 'min_data_in_leaf': 13}. Best is trial 51 with value: 0.1393238287942345.\u001b[0m\n"
     ]
    },
    {
     "name": "stdout",
     "output_type": "stream",
     "text": [
      "Model: cb | Mean train rsmle: 0.0861510565847234 | Standard deviation: 0.000602589127053564\n",
      "Model: cb | Mean val rsmle: 0.13932382978837105 | Standard deviation: 0.0019042057921801183\n"
     ]
    },
    {
     "name": "stderr",
     "output_type": "stream",
     "text": [
      "100%|█████████████████████████████████████████████████████████████████████████████████████████████████████████████████████████████████████████████████████████████████████████████████████████████████████| 5/5 [00:14<00:00,  2.94s/it]\n",
      "\u001b[32m[I 2021-11-12 11:34:11,988]\u001b[0m Trial 66 finished with value: 0.1432691181006654 and parameters: {'depth': 9, 'l2_leaf_reg': 0.00010106251895309351, 'bagging_temperature': 68, 'min_data_in_leaf': 18}. Best is trial 51 with value: 0.1393238287942345.\u001b[0m\n"
     ]
    },
    {
     "name": "stdout",
     "output_type": "stream",
     "text": [
      "Model: cb | Mean train rsmle: 0.1007482480952511 | Standard deviation: 0.0009074499074098625\n",
      "Model: cb | Mean val rsmle: 0.1432691181006654 | Standard deviation: 0.002656352019185189\n"
     ]
    },
    {
     "name": "stderr",
     "output_type": "stream",
     "text": [
      "100%|█████████████████████████████████████████████████████████████████████████████████████████████████████████████████████████████████████████████████████████████████████████████████████████████████████| 5/5 [00:20<00:00,  4.12s/it]\n",
      "\u001b[32m[I 2021-11-12 11:34:32,630]\u001b[0m Trial 67 finished with value: 0.13953225917619355 and parameters: {'depth': 10, 'l2_leaf_reg': 3.295296343942601e-05, 'bagging_temperature': 71, 'min_data_in_leaf': 14}. Best is trial 51 with value: 0.1393238287942345.\u001b[0m\n"
     ]
    },
    {
     "name": "stdout",
     "output_type": "stream",
     "text": [
      "Model: cb | Mean train rsmle: 0.08636016505264324 | Standard deviation: 0.0006228416288768615\n",
      "Model: cb | Mean val rsmle: 0.13953225917619355 | Standard deviation: 0.0022090518072775092\n"
     ]
    },
    {
     "name": "stderr",
     "output_type": "stream",
     "text": [
      "100%|█████████████████████████████████████████████████████████████████████████████████████████████████████████████████████████████████████████████████████████████████████████████████████████████████████| 5/5 [00:20<00:00,  4.13s/it]\n",
      "\u001b[32m[I 2021-11-12 11:34:53,296]\u001b[0m Trial 68 finished with value: 0.13966696099546935 and parameters: {'depth': 10, 'l2_leaf_reg': 1.160487782853638e-05, 'bagging_temperature': 79, 'min_data_in_leaf': 10}. Best is trial 51 with value: 0.1393238287942345.\u001b[0m\n"
     ]
    },
    {
     "name": "stdout",
     "output_type": "stream",
     "text": [
      "Model: cb | Mean train rsmle: 0.08656466395620672 | Standard deviation: 0.001037661457097483\n",
      "Model: cb | Mean val rsmle: 0.13966696099546935 | Standard deviation: 0.0023891395007323733\n"
     ]
    },
    {
     "name": "stderr",
     "output_type": "stream",
     "text": [
      "100%|█████████████████████████████████████████████████████████████████████████████████████████████████████████████████████████████████████████████████████████████████████████████████████████████████████| 5/5 [00:12<00:00,  2.58s/it]\n",
      "\u001b[32m[I 2021-11-12 11:35:06,224]\u001b[0m Trial 69 finished with value: 0.1432944602412794 and parameters: {'depth': 9, 'l2_leaf_reg': 6.122979176222526e-06, 'bagging_temperature': 64, 'min_data_in_leaf': 18}. Best is trial 51 with value: 0.1393238287942345.\u001b[0m\n"
     ]
    },
    {
     "name": "stdout",
     "output_type": "stream",
     "text": [
      "Model: cb | Mean train rsmle: 0.10054125311840026 | Standard deviation: 0.001005809651569161\n",
      "Model: cb | Mean val rsmle: 0.1432944602412794 | Standard deviation: 0.002630168267086234\n"
     ]
    },
    {
     "name": "stderr",
     "output_type": "stream",
     "text": [
      "100%|█████████████████████████████████████████████████████████████████████████████████████████████████████████████████████████████████████████████████████████████████████████████████████████████████████| 5/5 [00:22<00:00,  4.57s/it]\n",
      "\u001b[32m[I 2021-11-12 11:35:29,118]\u001b[0m Trial 70 finished with value: 0.13932383044259927 and parameters: {'depth': 10, 'l2_leaf_reg': 0.0001074703004195476, 'bagging_temperature': 58, 'min_data_in_leaf': 13}. Best is trial 51 with value: 0.1393238287942345.\u001b[0m\n"
     ]
    },
    {
     "name": "stdout",
     "output_type": "stream",
     "text": [
      "Model: cb | Mean train rsmle: 0.08615107442498 | Standard deviation: 0.0006025891581769525\n",
      "Model: cb | Mean val rsmle: 0.13932383044259927 | Standard deviation: 0.0019042048836682376\n"
     ]
    },
    {
     "name": "stderr",
     "output_type": "stream",
     "text": [
      "100%|█████████████████████████████████████████████████████████████████████████████████████████████████████████████████████████████████████████████████████████████████████████████████████████████████████| 5/5 [00:18<00:00,  3.76s/it]\n",
      "\u001b[32m[I 2021-11-12 11:35:47,953]\u001b[0m Trial 71 finished with value: 0.13936897765304535 and parameters: {'depth': 10, 'l2_leaf_reg': 0.00016295015041438294, 'bagging_temperature': 53, 'min_data_in_leaf': 13}. Best is trial 51 with value: 0.1393238287942345.\u001b[0m\n"
     ]
    },
    {
     "name": "stdout",
     "output_type": "stream",
     "text": [
      "Model: cb | Mean train rsmle: 0.08603716009945156 | Standard deviation: 0.0005055421475255085\n",
      "Model: cb | Mean val rsmle: 0.13936897765304535 | Standard deviation: 0.0019364661038242942\n"
     ]
    },
    {
     "name": "stderr",
     "output_type": "stream",
     "text": [
      "100%|█████████████████████████████████████████████████████████████████████████████████████████████████████████████████████████████████████████████████████████████████████████████████████████████████████| 5/5 [00:25<00:00,  5.03s/it]\n",
      "\u001b[32m[I 2021-11-12 11:36:13,138]\u001b[0m Trial 72 finished with value: 0.1393238288914752 and parameters: {'depth': 10, 'l2_leaf_reg': 0.0001032812222858421, 'bagging_temperature': 53, 'min_data_in_leaf': 14}. Best is trial 51 with value: 0.1393238287942345.\u001b[0m\n"
     ]
    },
    {
     "name": "stdout",
     "output_type": "stream",
     "text": [
      "Model: cb | Mean train rsmle: 0.08615103212620721 | Standard deviation: 0.0006025890843847784\n",
      "Model: cb | Mean val rsmle: 0.1393238288914752 | Standard deviation: 0.0019042070377245201\n"
     ]
    },
    {
     "name": "stderr",
     "output_type": "stream",
     "text": [
      "100%|█████████████████████████████████████████████████████████████████████████████████████████████████████████████████████████████████████████████████████████████████████████████████████████████████████| 5/5 [00:24<00:00,  4.87s/it]\n",
      "\u001b[32m[I 2021-11-12 11:36:37,515]\u001b[0m Trial 73 finished with value: 0.1395322841618603 and parameters: {'depth': 10, 'l2_leaf_reg': 9.7032659177538e-05, 'bagging_temperature': 58, 'min_data_in_leaf': 11}. Best is trial 51 with value: 0.1393238287942345.\u001b[0m\n"
     ]
    },
    {
     "name": "stdout",
     "output_type": "stream",
     "text": [
      "Model: cb | Mean train rsmle: 0.08636080958890462 | Standard deviation: 0.0006228410325095945\n",
      "Model: cb | Mean val rsmle: 0.1395322841618603 | Standard deviation: 0.002209020147365806\n"
     ]
    },
    {
     "name": "stderr",
     "output_type": "stream",
     "text": [
      "100%|█████████████████████████████████████████████████████████████████████████████████████████████████████████████████████████████████████████████████████████████████████████████████████████████████████| 5/5 [00:15<00:00,  3.12s/it]\n",
      "\u001b[32m[I 2021-11-12 11:36:53,176]\u001b[0m Trial 74 finished with value: 0.14326906081595267 and parameters: {'depth': 9, 'l2_leaf_reg': 3.178273845329782e-05, 'bagging_temperature': 52, 'min_data_in_leaf': 16}. Best is trial 51 with value: 0.1393238287942345.\u001b[0m\n"
     ]
    },
    {
     "name": "stdout",
     "output_type": "stream",
     "text": [
      "Model: cb | Mean train rsmle: 0.1007476857686052 | Standard deviation: 0.0009074463214851866\n",
      "Model: cb | Mean val rsmle: 0.14326906081595267 | Standard deviation: 0.002656354043208302\n"
     ]
    },
    {
     "name": "stderr",
     "output_type": "stream",
     "text": [
      "100%|█████████████████████████████████████████████████████████████████████████████████████████████████████████████████████████████████████████████████████████████████████████████████████████████████████| 5/5 [00:19<00:00,  3.92s/it]\n",
      "\u001b[32m[I 2021-11-12 11:37:12,781]\u001b[0m Trial 75 finished with value: 0.13991626299641255 and parameters: {'depth': 10, 'l2_leaf_reg': 0.0006479560577468375, 'bagging_temperature': 56, 'min_data_in_leaf': 14}. Best is trial 51 with value: 0.1393238287942345.\u001b[0m\n"
     ]
    },
    {
     "name": "stdout",
     "output_type": "stream",
     "text": [
      "Model: cb | Mean train rsmle: 0.08665813607685216 | Standard deviation: 0.0007265626687309218\n",
      "Model: cb | Mean val rsmle: 0.13991626299641255 | Standard deviation: 0.00218340350398861\n"
     ]
    },
    {
     "name": "stderr",
     "output_type": "stream",
     "text": [
      "100%|█████████████████████████████████████████████████████████████████████████████████████████████████████████████████████████████████████████████████████████████████████████████████████████████████████| 5/5 [00:18<00:00,  3.60s/it]\n",
      "\u001b[32m[I 2021-11-12 11:37:30,828]\u001b[0m Trial 76 finished with value: 0.13953227978689975 and parameters: {'depth': 10, 'l2_leaf_reg': 8.581719294802811e-05, 'bagging_temperature': 52, 'min_data_in_leaf': 16}. Best is trial 51 with value: 0.1393238287942345.\u001b[0m\n"
     ]
    },
    {
     "name": "stdout",
     "output_type": "stream",
     "text": [
      "Model: cb | Mean train rsmle: 0.08636069678170626 | Standard deviation: 0.0006228411368821612\n",
      "Model: cb | Mean val rsmle: 0.13953227978689975 | Standard deviation: 0.0022090256886155833\n"
     ]
    },
    {
     "name": "stderr",
     "output_type": "stream",
     "text": [
      "100%|█████████████████████████████████████████████████████████████████████████████████████████████████████████████████████████████████████████████████████████████████████████████████████████████████████| 5/5 [00:19<00:00,  3.86s/it]\n",
      "\u001b[32m[I 2021-11-12 11:37:50,168]\u001b[0m Trial 77 finished with value: 0.1432692059240799 and parameters: {'depth': 9, 'l2_leaf_reg': 0.00020722970157242352, 'bagging_temperature': 60, 'min_data_in_leaf': 13}. Best is trial 51 with value: 0.1393238287942345.\u001b[0m\n"
     ]
    },
    {
     "name": "stdout",
     "output_type": "stream",
     "text": [
      "Model: cb | Mean train rsmle: 0.10074910977660308 | Standard deviation: 0.0009074554031609986\n",
      "Model: cb | Mean val rsmle: 0.1432692059240799 | Standard deviation: 0.0026563489109954685\n"
     ]
    },
    {
     "name": "stderr",
     "output_type": "stream",
     "text": [
      "100%|█████████████████████████████████████████████████████████████████████████████████████████████████████████████████████████████████████████████████████████████████████████████████████████████████████| 5/5 [00:20<00:00,  4.14s/it]\n",
      "\u001b[32m[I 2021-11-12 11:38:10,929]\u001b[0m Trial 78 finished with value: 0.1395582168081721 and parameters: {'depth': 10, 'l2_leaf_reg': 0.0020592813720712836, 'bagging_temperature': 47, 'min_data_in_leaf': 10}. Best is trial 51 with value: 0.1393238287942345.\u001b[0m\n"
     ]
    },
    {
     "name": "stdout",
     "output_type": "stream",
     "text": [
      "Model: cb | Mean train rsmle: 0.08590005630410803 | Standard deviation: 0.0012452260743701959\n",
      "Model: cb | Mean val rsmle: 0.1395582168081721 | Standard deviation: 0.0021975154117402167\n"
     ]
    },
    {
     "name": "stderr",
     "output_type": "stream",
     "text": [
      "100%|█████████████████████████████████████████████████████████████████████████████████████████████████████████████████████████████████████████████████████████████████████████████████████████████████████| 5/5 [00:12<00:00,  2.57s/it]\n",
      "\u001b[32m[I 2021-11-12 11:38:23,801]\u001b[0m Trial 79 finished with value: 0.14326904617805275 and parameters: {'depth': 9, 'l2_leaf_reg': 1.4075955923179035e-05, 'bagging_temperature': 54, 'min_data_in_leaf': 19}. Best is trial 51 with value: 0.1393238287942345.\u001b[0m\n"
     ]
    },
    {
     "name": "stdout",
     "output_type": "stream",
     "text": [
      "Model: cb | Mean train rsmle: 0.10074754204283884 | Standard deviation: 0.0009074454050252555\n",
      "Model: cb | Mean val rsmle: 0.14326904617805275 | Standard deviation: 0.0026563545599785415\n"
     ]
    },
    {
     "name": "stderr",
     "output_type": "stream",
     "text": [
      "100%|█████████████████████████████████████████████████████████████████████████████████████████████████████████████████████████████████████████████████████████████████████████████████████████████████████| 5/5 [00:18<00:00,  3.75s/it]\n",
      "\u001b[32m[I 2021-11-12 11:38:42,584]\u001b[0m Trial 80 finished with value: 0.1396669568410056 and parameters: {'depth': 10, 'l2_leaf_reg': 2.9283363775445373e-06, 'bagging_temperature': 40, 'min_data_in_leaf': 12}. Best is trial 51 with value: 0.1393238287942345.\u001b[0m\n"
     ]
    },
    {
     "name": "stdout",
     "output_type": "stream",
     "text": [
      "Model: cb | Mean train rsmle: 0.0865645768657564 | Standard deviation: 0.0010376609787729496\n",
      "Model: cb | Mean val rsmle: 0.1396669568410056 | Standard deviation: 0.0023891432344449954\n"
     ]
    },
    {
     "name": "stderr",
     "output_type": "stream",
     "text": [
      "100%|█████████████████████████████████████████████████████████████████████████████████████████████████████████████████████████████████████████████████████████████████████████████████████████████████████| 5/5 [00:18<00:00,  3.63s/it]\n",
      "\u001b[32m[I 2021-11-12 11:39:00,780]\u001b[0m Trial 81 finished with value: 0.13936897301706205 and parameters: {'depth': 10, 'l2_leaf_reg': 0.00015124993018112394, 'bagging_temperature': 67, 'min_data_in_leaf': 14}. Best is trial 51 with value: 0.1393238287942345.\u001b[0m\n"
     ]
    },
    {
     "name": "stdout",
     "output_type": "stream",
     "text": [
      "Model: cb | Mean train rsmle: 0.0860370416248307 | Standard deviation: 0.0005055419898748671\n",
      "Model: cb | Mean val rsmle: 0.13936897301706205 | Standard deviation: 0.0019364719350127705\n"
     ]
    },
    {
     "name": "stderr",
     "output_type": "stream",
     "text": [
      "100%|█████████████████████████████████████████████████████████████████████████████████████████████████████████████████████████████████████████████████████████████████████████████████████████████████████| 5/5 [00:19<00:00,  3.90s/it]\n",
      "\u001b[32m[I 2021-11-12 11:39:20,313]\u001b[0m Trial 82 finished with value: 0.139532259633164 and parameters: {'depth': 10, 'l2_leaf_reg': 3.4125536258317675e-05, 'bagging_temperature': 74, 'min_data_in_leaf': 15}. Best is trial 51 with value: 0.1393238287942345.\u001b[0m\n"
     ]
    },
    {
     "name": "stdout",
     "output_type": "stream",
     "text": [
      "Model: cb | Mean train rsmle: 0.08636017684702417 | Standard deviation: 0.000622841617963443\n",
      "Model: cb | Mean val rsmle: 0.139532259633164 | Standard deviation: 0.0022090512279458467\n"
     ]
    },
    {
     "name": "stderr",
     "output_type": "stream",
     "text": [
      "100%|█████████████████████████████████████████████████████████████████████████████████████████████████████████████████████████████████████████████████████████████████████████████████████████████████████| 5/5 [00:17<00:00,  3.55s/it]\n",
      "\u001b[32m[I 2021-11-12 11:39:38,075]\u001b[0m Trial 83 finished with value: 0.1395672520893151 and parameters: {'depth': 10, 'l2_leaf_reg': 0.0009745610379810507, 'bagging_temperature': 68, 'min_data_in_leaf': 17}. Best is trial 51 with value: 0.1393238287942345.\u001b[0m\n"
     ]
    },
    {
     "name": "stdout",
     "output_type": "stream",
     "text": [
      "Model: cb | Mean train rsmle: 0.08657909826950119 | Standard deviation: 0.0007540647348778926\n",
      "Model: cb | Mean val rsmle: 0.1395672520893151 | Standard deviation: 0.0021502718685935942\n"
     ]
    },
    {
     "name": "stderr",
     "output_type": "stream",
     "text": [
      "100%|█████████████████████████████████████████████████████████████████████████████████████████████████████████████████████████████████████████████████████████████████████████████████████████████████████| 5/5 [00:18<00:00,  3.71s/it]\n",
      "\u001b[32m[I 2021-11-12 11:39:56,659]\u001b[0m Trial 84 finished with value: 0.13968893758552728 and parameters: {'depth': 10, 'l2_leaf_reg': 0.0003129989477291316, 'bagging_temperature': 60, 'min_data_in_leaf': 9}. Best is trial 51 with value: 0.1393238287942345.\u001b[0m\n"
     ]
    },
    {
     "name": "stdout",
     "output_type": "stream",
     "text": [
      "Model: cb | Mean train rsmle: 0.0862735736268179 | Standard deviation: 0.0002622717146951361\n",
      "Model: cb | Mean val rsmle: 0.13968893758552728 | Standard deviation: 0.0015954324429171812\n"
     ]
    },
    {
     "name": "stderr",
     "output_type": "stream",
     "text": [
      "100%|█████████████████████████████████████████████████████████████████████████████████████████████████████████████████████████████████████████████████████████████████████████████████████████████████████| 5/5 [00:16<00:00,  3.38s/it]\n",
      "\u001b[32m[I 2021-11-12 11:40:13,603]\u001b[0m Trial 85 finished with value: 0.13953228254525324 and parameters: {'depth': 10, 'l2_leaf_reg': 9.288863033093234e-05, 'bagging_temperature': 63, 'min_data_in_leaf': 14}. Best is trial 51 with value: 0.1393238287942345.\u001b[0m\n"
     ]
    },
    {
     "name": "stdout",
     "output_type": "stream",
     "text": [
      "Model: cb | Mean train rsmle: 0.0863607679076056 | Standard deviation: 0.0006228410710741749\n",
      "Model: cb | Mean val rsmle: 0.13953228254525324 | Standard deviation: 0.0022090221948158134\n"
     ]
    },
    {
     "name": "stderr",
     "output_type": "stream",
     "text": [
      "100%|█████████████████████████████████████████████████████████████████████████████████████████████████████████████████████████████████████████████████████████████████████████████████████████████████████| 5/5 [00:10<00:00,  2.10s/it]\n",
      "\u001b[32m[I 2021-11-12 11:40:24,112]\u001b[0m Trial 86 finished with value: 0.14326916762271072 and parameters: {'depth': 9, 'l2_leaf_reg': 0.0001609351195273074, 'bagging_temperature': 57, 'min_data_in_leaf': 7}. Best is trial 51 with value: 0.1393238287942345.\u001b[0m\n"
     ]
    },
    {
     "name": "stdout",
     "output_type": "stream",
     "text": [
      "Model: cb | Mean train rsmle: 0.10074873404490754 | Standard deviation: 0.0009074530066393955\n",
      "Model: cb | Mean val rsmle: 0.14326916762271072 | Standard deviation: 0.0026563502672989118\n"
     ]
    },
    {
     "name": "stderr",
     "output_type": "stream",
     "text": [
      "100%|█████████████████████████████████████████████████████████████████████████████████████████████████████████████████████████████████████████████████████████████████████████████████████████████████████| 5/5 [00:03<00:00,  1.29it/s]\n",
      "\u001b[32m[I 2021-11-12 11:40:28,025]\u001b[0m Trial 87 finished with value: 0.195996111609736 and parameters: {'depth': 3, 'l2_leaf_reg': 4.963572218127426e-05, 'bagging_temperature': 53, 'min_data_in_leaf': 11}. Best is trial 51 with value: 0.1393238287942345.\u001b[0m\n"
     ]
    },
    {
     "name": "stdout",
     "output_type": "stream",
     "text": [
      "Model: cb | Mean train rsmle: 0.189190947206103 | Standard deviation: 0.0010345866803138687\n",
      "Model: cb | Mean val rsmle: 0.195996111609736 | Standard deviation: 0.003689166632708994\n"
     ]
    },
    {
     "name": "stderr",
     "output_type": "stream",
     "text": [
      "100%|█████████████████████████████████████████████████████████████████████████████████████████████████████████████████████████████████████████████████████████████████████████████████████████████████████| 5/5 [00:16<00:00,  3.27s/it]\n",
      "\u001b[32m[I 2021-11-12 11:40:44,421]\u001b[0m Trial 88 finished with value: 0.13975042181891797 and parameters: {'depth': 10, 'l2_leaf_reg': 0.0005251361989729066, 'bagging_temperature': 44, 'min_data_in_leaf': 22}. Best is trial 51 with value: 0.1393238287942345.\u001b[0m\n"
     ]
    },
    {
     "name": "stdout",
     "output_type": "stream",
     "text": [
      "Model: cb | Mean train rsmle: 0.08665523007209723 | Standard deviation: 0.0007242293180874902\n",
      "Model: cb | Mean val rsmle: 0.13975042181891797 | Standard deviation: 0.002050304556521791\n"
     ]
    },
    {
     "name": "stderr",
     "output_type": "stream",
     "text": [
      "100%|█████████████████████████████████████████████████████████████████████████████████████████████████████████████████████████████████████████████████████████████████████████████████████████████████████| 5/5 [00:16<00:00,  3.21s/it]\n",
      "\u001b[32m[I 2021-11-12 11:41:00,494]\u001b[0m Trial 89 finished with value: 0.1397553847308789 and parameters: {'depth': 10, 'l2_leaf_reg': 2.0805931590393157e-05, 'bagging_temperature': 49, 'min_data_in_leaf': 19}. Best is trial 51 with value: 0.1393238287942345.\u001b[0m\n"
     ]
    },
    {
     "name": "stdout",
     "output_type": "stream",
     "text": [
      "Model: cb | Mean train rsmle: 0.08664967663221543 | Standard deviation: 0.0010033124521258362\n",
      "Model: cb | Mean val rsmle: 0.1397553847308789 | Standard deviation: 0.002357754030013503\n"
     ]
    },
    {
     "name": "stderr",
     "output_type": "stream",
     "text": [
      "100%|█████████████████████████████████████████████████████████████████████████████████████████████████████████████████████████████████████████████████████████████████████████████████████████████████████| 5/5 [00:10<00:00,  2.10s/it]\n",
      "\u001b[32m[I 2021-11-12 11:41:11,014]\u001b[0m Trial 90 finished with value: 0.14326904151079906 and parameters: {'depth': 9, 'l2_leaf_reg': 8.429871353112799e-06, 'bagging_temperature': 67, 'min_data_in_leaf': 13}. Best is trial 51 with value: 0.1393238287942345.\u001b[0m\n"
     ]
    },
    {
     "name": "stdout",
     "output_type": "stream",
     "text": [
      "Model: cb | Mean train rsmle: 0.10074749621327683 | Standard deviation: 0.0009074451128015286\n",
      "Model: cb | Mean val rsmle: 0.14326904151079906 | Standard deviation: 0.002656354724712778\n"
     ]
    },
    {
     "name": "stderr",
     "output_type": "stream",
     "text": [
      "100%|█████████████████████████████████████████████████████████████████████████████████████████████████████████████████████████████████████████████████████████████████████████████████████████████████████| 5/5 [00:16<00:00,  3.24s/it]\n",
      "\u001b[32m[I 2021-11-12 11:41:27,230]\u001b[0m Trial 91 finished with value: 0.13936898426547348 and parameters: {'depth': 10, 'l2_leaf_reg': 0.00017963470930221887, 'bagging_temperature': 62, 'min_data_in_leaf': 13}. Best is trial 51 with value: 0.1393238287942345.\u001b[0m\n"
     ]
    },
    {
     "name": "stdout",
     "output_type": "stream",
     "text": [
      "Model: cb | Mean train rsmle: 0.08603732904312959 | Standard deviation: 0.0005055423723421602\n",
      "Model: cb | Mean val rsmle: 0.13936898426547348 | Standard deviation: 0.0019364577885476475\n"
     ]
    },
    {
     "name": "stderr",
     "output_type": "stream",
     "text": [
      "100%|█████████████████████████████████████████████████████████████████████████████████████████████████████████████████████████████████████████████████████████████████████████████████████████████████████| 5/5 [00:17<00:00,  3.43s/it]\n",
      "\u001b[32m[I 2021-11-12 11:41:44,391]\u001b[0m Trial 92 finished with value: 0.1393689706983721 and parameters: {'depth': 10, 'l2_leaf_reg': 0.00014539723838575291, 'bagging_temperature': 65, 'min_data_in_leaf': 16}. Best is trial 51 with value: 0.1393238287942345.\u001b[0m\n"
     ]
    },
    {
     "name": "stdout",
     "output_type": "stream",
     "text": [
      "Model: cb | Mean train rsmle: 0.08603698236102611 | Standard deviation: 0.0005055419110160303\n",
      "Model: cb | Mean val rsmle: 0.1393689706983721 | Standard deviation: 0.0019364748518982467\n"
     ]
    },
    {
     "name": "stderr",
     "output_type": "stream",
     "text": [
      "100%|█████████████████████████████████████████████████████████████████████████████████████████████████████████████████████████████████████████████████████████████████████████████████████████████████████| 5/5 [00:16<00:00,  3.27s/it]\n",
      "\u001b[32m[I 2021-11-12 11:42:00,786]\u001b[0m Trial 93 finished with value: 0.13953227504095256 and parameters: {'depth': 10, 'l2_leaf_reg': 7.364837067110484e-05, 'bagging_temperature': 72, 'min_data_in_leaf': 16}. Best is trial 51 with value: 0.1393238287942345.\u001b[0m\n"
     ]
    },
    {
     "name": "stdout",
     "output_type": "stream",
     "text": [
      "Model: cb | Mean train rsmle: 0.08636057438456797 | Standard deviation: 0.0006228412501295983\n",
      "Model: cb | Mean val rsmle: 0.13953227504095256 | Standard deviation: 0.002209031700884458\n"
     ]
    },
    {
     "name": "stderr",
     "output_type": "stream",
     "text": [
      "100%|█████████████████████████████████████████████████████████████████████████████████████████████████████████████████████████████████████████████████████████████████████████████████████████████████████| 5/5 [00:21<00:00,  4.30s/it]\n",
      "\u001b[32m[I 2021-11-12 11:42:22,331]\u001b[0m Trial 94 finished with value: 0.13968893531133605 and parameters: {'depth': 10, 'l2_leaf_reg': 0.0003071101870692003, 'bagging_temperature': 60, 'min_data_in_leaf': 17}. Best is trial 51 with value: 0.1393238287942345.\u001b[0m\n"
     ]
    },
    {
     "name": "stdout",
     "output_type": "stream",
     "text": [
      "Model: cb | Mean train rsmle: 0.08627351397815045 | Standard deviation: 0.0002622719058922348\n",
      "Model: cb | Mean val rsmle: 0.13968893531133605 | Standard deviation: 0.0015954354290083964\n"
     ]
    },
    {
     "name": "stderr",
     "output_type": "stream",
     "text": [
      "100%|█████████████████████████████████████████████████████████████████████████████████████████████████████████████████████████████████████████████████████████████████████████████████████████████████████| 5/5 [00:18<00:00,  3.79s/it]\n",
      "\u001b[32m[I 2021-11-12 11:42:41,306]\u001b[0m Trial 95 finished with value: 0.1395322597359258 and parameters: {'depth': 10, 'l2_leaf_reg': 3.438921801688543e-05, 'bagging_temperature': 58, 'min_data_in_leaf': 15}. Best is trial 51 with value: 0.1393238287942345.\u001b[0m\n"
     ]
    },
    {
     "name": "stdout",
     "output_type": "stream",
     "text": [
      "Model: cb | Mean train rsmle: 0.0863601794992711 | Standard deviation: 0.00062284161550931\n",
      "Model: cb | Mean val rsmle: 0.1395322597359258 | Standard deviation: 0.0022090510976691506\n"
     ]
    },
    {
     "name": "stderr",
     "output_type": "stream",
     "text": [
      "100%|█████████████████████████████████████████████████████████████████████████████████████████████████████████████████████████████████████████████████████████████████████████████████████████████████████| 5/5 [00:12<00:00,  2.49s/it]\n",
      "\u001b[32m[I 2021-11-12 11:42:53,807]\u001b[0m Trial 96 finished with value: 0.14326913079896805 and parameters: {'depth': 9, 'l2_leaf_reg': 0.00011641656373662141, 'bagging_temperature': 69, 'min_data_in_leaf': 12}. Best is trial 51 with value: 0.1393238287942345.\u001b[0m\n"
     ]
    },
    {
     "name": "stdout",
     "output_type": "stream",
     "text": [
      "Model: cb | Mean train rsmle: 0.10074837271663273 | Standard deviation: 0.0009074507021731625\n",
      "Model: cb | Mean val rsmle: 0.14326913079896805 | Standard deviation: 0.0026563515701604635\n"
     ]
    },
    {
     "name": "stderr",
     "output_type": "stream",
     "text": [
      "100%|█████████████████████████████████████████████████████████████████████████████████████████████████████████████████████████████████████████████████████████████████████████████████████████████████████| 5/5 [00:17<00:00,  3.58s/it]\n",
      "\u001b[32m[I 2021-11-12 11:43:11,760]\u001b[0m Trial 97 finished with value: 0.14013979770284551 and parameters: {'depth': 10, 'l2_leaf_reg': 0.0016794082340296542, 'bagging_temperature': 66, 'min_data_in_leaf': 8}. Best is trial 51 with value: 0.1393238287942345.\u001b[0m\n"
     ]
    },
    {
     "name": "stdout",
     "output_type": "stream",
     "text": [
      "Model: cb | Mean train rsmle: 0.08652047579753408 | Standard deviation: 0.000802072573244722\n",
      "Model: cb | Mean val rsmle: 0.14013979770284551 | Standard deviation: 0.0017732475400707832\n"
     ]
    },
    {
     "name": "stderr",
     "output_type": "stream",
     "text": [
      "100%|█████████████████████████████████████████████████████████████████████████████████████████████████████████████████████████████████████████████████████████████████████████████████████████████████████| 5/5 [00:17<00:00,  3.58s/it]\n",
      "\u001b[32m[I 2021-11-12 11:43:29,680]\u001b[0m Trial 98 finished with value: 0.13957251960228984 and parameters: {'depth': 10, 'l2_leaf_reg': 0.0004314399374657399, 'bagging_temperature': 55, 'min_data_in_leaf': 10}. Best is trial 51 with value: 0.1393238287942345.\u001b[0m\n"
     ]
    },
    {
     "name": "stdout",
     "output_type": "stream",
     "text": [
      "Model: cb | Mean train rsmle: 0.0863410740583999 | Standard deviation: 0.00047285856401181196\n",
      "Model: cb | Mean val rsmle: 0.13957251960228984 | Standard deviation: 0.0018240234490356632\n"
     ]
    },
    {
     "name": "stderr",
     "output_type": "stream",
     "text": [
      "100%|█████████████████████████████████████████████████████████████████████████████████████████████████████████████████████████████████████████████████████████████████████████████████████████████████████| 5/5 [00:11<00:00,  2.39s/it]\n",
      "\u001b[32m[I 2021-11-12 11:43:41,684]\u001b[0m Trial 99 finished with value: 0.14326908722158227 and parameters: {'depth': 9, 'l2_leaf_reg': 6.372048951405966e-05, 'bagging_temperature': 63, 'min_data_in_leaf': 14}. Best is trial 51 with value: 0.1393238287942345.\u001b[0m\n"
     ]
    },
    {
     "name": "stdout",
     "output_type": "stream",
     "text": [
      "Model: cb | Mean train rsmle: 0.10074794500258151 | Standard deviation: 0.0009074479745503462\n",
      "Model: cb | Mean val rsmle: 0.14326908722158227 | Standard deviation: 0.002656353110556162\n",
      "FrozenTrial(number=51, values=[0.1393238287942345], datetime_start=datetime.datetime(2021, 11, 12, 11, 29, 43, 925683), datetime_complete=datetime.datetime(2021, 11, 12, 11, 30, 14, 799415), params={'depth': 10, 'l2_leaf_reg': 0.00010301859484918617, 'bagging_temperature': 59, 'min_data_in_leaf': 15}, distributions={'depth': IntUniformDistribution(high=10, low=2, step=1), 'l2_leaf_reg': LogUniformDistribution(high=10.0, low=1e-08), 'bagging_temperature': IntUniformDistribution(high=100, low=0, step=1), 'min_data_in_leaf': IntUniformDistribution(high=50, low=1, step=1)}, user_attrs={}, system_attrs={}, intermediate_values={}, trial_id=51, state=TrialState.COMPLETE, value=None)\n"
     ]
    }
   ],
   "source": [
    "def cb_objective(trial):\n",
    "    cb_depth=trial.suggest_int(\"depth\", 2, 10)\n",
    "    cb_l2_leaf_reg = trial.suggest_float(\"l2_leaf_reg\", 1e-8, 10.0, log=True)\n",
    "    cb_bagging_temperature = trial.suggest_int(\"bagging_temperature\", 0, 100)\n",
    "    cb_min_data_in_leaf = trial.suggest_int(\"min_data_in_leaf\", 1, 50)\n",
    "    cb = CatBoostRegressor(\n",
    "        n_estimators=100,\n",
    "        learning_rate=0.2,\n",
    "        l2_leaf_reg=cb_l2_leaf_reg,\n",
    "        bagging_temperature=cb_bagging_temperature,\n",
    "        thread_count=2,\n",
    "        depth=cb_depth,\n",
    "        silent=True,\n",
    "        random_seed=42,\n",
    "        min_data_in_leaf=cb_min_data_in_leaf\n",
    "    )    \n",
    "    scores = cross_validation({\"cb\": cb}, train_data, features, {\"cb\": \"log_price\"}, k=5)\n",
    "    return scores[\"cb\"]\n",
    "\n",
    "study = optuna.create_study(direction=\"minimize\")\n",
    "study.optimize(cb_objective, n_trials=100)\n",
    "print(study.best_trial)"
   ]
  },
  {
   "cell_type": "code",
   "execution_count": 37,
   "id": "b967f626-0c24-4c49-9ab0-7edaabfd2b57",
   "metadata": {},
   "outputs": [],
   "source": [
    "import xgboost as xgb\n",
    "\n",
    "def xgb_objective(trial):\n",
    "\n",
    "    dtrain = xgb.DMatrix(train_x, label=train_y)\n",
    "    dvalid = xgb.DMatrix(valid_x, label=valid_y)\n",
    "    param = {\n",
    "        \"verbosity\": 0,\n",
    "        \"objective\": \"binary:logistic\",\n",
    "        # use exact for small dataset.\n",
    "        \"tree_method\": \"exact\",\n",
    "        # defines booster, gblinear for linear functions.\n",
    "        \"booster\": trial.suggest_categorical(\"booster\", [\"gbtree\", \"gblinear\", \"dart\"]),\n",
    "        # L2 regularization weight.\n",
    "        \"lambda\": trial.suggest_float(\"lambda\", 1e-8, 1.0, log=True),\n",
    "        # L1 regularization weight.\n",
    "        \"alpha\": trial.suggest_float(\"alpha\", 1e-8, 1.0, log=True),\n",
    "        # sampling ratio for training data.\n",
    "        \"subsample\": trial.suggest_float(\"subsample\", 0.2, 1.0),\n",
    "        # sampling according to each tree.\n",
    "        \"colsample_bytree\": trial.suggest_float(\"colsample_bytree\", 0.2, 1.0),\n",
    "    }\n",
    "\n",
    "    if param[\"booster\"] in [\"gbtree\", \"dart\"]:\n",
    "        # maximum depth of the tree, signifies complexity of the tree.\n",
    "        param[\"max_depth\"] = trial.suggest_int(\"max_depth\", 3, 9, step=2)\n",
    "        # minimum child weight, larger the term more conservative the tree.\n",
    "        param[\"min_child_weight\"] = trial.suggest_int(\"min_child_weight\", 2, 10)\n",
    "        param[\"eta\"] = trial.suggest_float(\"eta\", 1e-8, 1.0, log=True)\n",
    "        # defines how selective algorithm is.\n",
    "        param[\"gamma\"] = trial.suggest_float(\"gamma\", 1e-8, 1.0, log=True)\n",
    "        param[\"grow_policy\"] = trial.suggest_categorical(\"grow_policy\", [\"depthwise\", \"lossguide\"])\n",
    "\n",
    "    if param[\"booster\"] == \"dart\":\n",
    "        param[\"sample_type\"] = trial.suggest_categorical(\"sample_type\", [\"uniform\", \"weighted\"])\n",
    "        param[\"normalize_type\"] = trial.suggest_categorical(\"normalize_type\", [\"tree\", \"forest\"])\n",
    "        param[\"rate_drop\"] = trial.suggest_float(\"rate_drop\", 1e-8, 1.0, log=True)\n",
    "        param[\"skip_drop\"] = trial.suggest_float(\"skip_drop\", 1e-8, 1.0, log=True)\n",
    "\n",
    "    bst = xgb.train(param, dtrain)\n",
    "    preds = bst.predict(dvalid)\n",
    "    pred_labels = np.rint(preds)\n",
    "    accuracy = sklearn.metrics.accuracy_score(valid_y, pred_labels)\n",
    "    return accuracy"
   ]
  },
  {
   "cell_type": "markdown",
   "id": "e6849153-d04c-4f96-958f-da3b49774788",
   "metadata": {
    "jp-MarkdownHeadingCollapsed": true,
    "tags": []
   },
   "source": [
    "# Log settings"
   ]
  },
  {
   "cell_type": "code",
   "execution_count": 38,
   "id": "564d07a9-f12a-4aa5-8b7d-e86fbcdf1bf7",
   "metadata": {},
   "outputs": [
    {
     "ename": "NameError",
     "evalue": "name 'rsmle_train' is not defined",
     "output_type": "error",
     "traceback": [
      "\u001b[0;31m---------------------------------------------------------------------------\u001b[0m",
      "\u001b[0;31mNameError\u001b[0m                                 Traceback (most recent call last)",
      "\u001b[0;32m/tmp/ipykernel_2826/2594559655.py\u001b[0m in \u001b[0;36m<module>\u001b[0;34m\u001b[0m\n\u001b[1;32m     49\u001b[0m     \u001b[0mdf\u001b[0m\u001b[0;34m.\u001b[0m\u001b[0mto_csv\u001b[0m\u001b[0;34m(\u001b[0m\u001b[0;34m\"log.csv\"\u001b[0m\u001b[0;34m)\u001b[0m\u001b[0;34m\u001b[0m\u001b[0;34m\u001b[0m\u001b[0m\n\u001b[1;32m     50\u001b[0m \u001b[0;34m\u001b[0m\u001b[0m\n\u001b[0;32m---> 51\u001b[0;31m \u001b[0mlog_performance\u001b[0m\u001b[0;34m(\u001b[0m\u001b[0msettings\u001b[0m\u001b[0;34m,\u001b[0m \u001b[0mrsmle_train\u001b[0m\u001b[0;34m,\u001b[0m \u001b[0mrsmle_test\u001b[0m\u001b[0;34m)\u001b[0m\u001b[0;34m\u001b[0m\u001b[0;34m\u001b[0m\u001b[0m\n\u001b[0m",
      "\u001b[0;31mNameError\u001b[0m: name 'rsmle_train' is not defined"
     ]
    }
   ],
   "source": [
    "import os.path\n",
    "settings = {\n",
    "    \"distance_to_center\": True,\n",
    "    \"distance_to_metro\": True,\n",
    "    \"distance_to_hospital\": True,\n",
    "    \"elevator\": True,\n",
    "    \"has_seller\": True,\n",
    "    \"bathrooms\": True,\n",
    "    \"bearing\": True,\n",
    "    \"top_floor\": True,\n",
    "    \"random_forest\": True,\n",
    "    \"lgbm\": True,\n",
    "    \"cat_boost\": True,\n",
    "    \"gbm\": False,\n",
    "    \"xgb\": False,\n",
    "    \"drop_features\": [\"area_living\", \"area_kitchen\"],\n",
    "    \"random_forest_target\": \"price_per_m2\",\n",
    "    \"lgbm_target\": \"log_price\",\n",
    "    \"cat_boost_target\": \"log_price\",\n",
    "    \"gbm_target\": \"log_price\",\n",
    "    \"xgb_target\": \"price_per_m2\",\n",
    "    \"area_living\": \"impute_bins\",\n",
    "    \"area_kitchen\": \"impute_bins\",\n",
    "    \"bathrooms\": \"impute_bins\",\n",
    "    \"constructed\": \"impute_bins\",\n",
    "    \"material\": \"impute_bins\",\n",
    "    \"heating\": \"impute_bins\",\n",
    "    \"parking\": \"impute_category\",\n",
    "    \"elevator_without\": \"impute_bins\",\n",
    "    \"remove_outliers\": False,\n",
    "    \"remove_min_max_outliers\": False,\n",
    "    \"one_hot_encoding\": True,\n",
    "    \"nan_threshold\": 0,\n",
    "    \"corr_threshold\": 0,\n",
    "    \"split_method\": \"random\",\n",
    "    \"split_ratio\": 0.2,\n",
    "    \"retrain_with_full_data\": True,\n",
    "    \"prediction_file\": \"submissions_02.csv\"\n",
    "}\n",
    "def log_performance(settings, rsmle_train, rsmle_val):\n",
    "    for k, v in scores.items():\n",
    "        settings[\"{}\".format(k)] = v\n",
    "    if os.path.isfile(\"log.csv\"):\n",
    "        df = pd.read_csv(\"log.csv\")\n",
    "        df = df.drop(df.columns[0], axis=1)\n",
    "        df = df.append(pd.Series(settings), ignore_index=True)\n",
    "    else:\n",
    "        df = pd.DataFrame.from_records([settings])\n",
    "    df.to_csv(\"log.csv\")\n",
    "\n",
    "log_performance(settings, rsmle_train, rsmle_test)"
   ]
  },
  {
   "cell_type": "code",
   "execution_count": null,
   "id": "6f19956b-2d32-4a6e-94fa-9e4b8d868cf6",
   "metadata": {},
   "outputs": [],
   "source": []
  },
  {
   "cell_type": "code",
   "execution_count": null,
   "id": "058f46a1-8955-4e66-bc87-a87a7cbdbd6e",
   "metadata": {},
   "outputs": [],
   "source": []
  }
 ],
 "metadata": {
  "kernelspec": {
   "display_name": "Python 3 (ipykernel)",
   "language": "python",
   "name": "python3"
  },
  "language_info": {
   "codemirror_mode": {
    "name": "ipython",
    "version": 3
   },
   "file_extension": ".py",
   "mimetype": "text/x-python",
   "name": "python",
   "nbconvert_exporter": "python",
   "pygments_lexer": "ipython3",
   "version": "3.8.10"
  },
  "toc-autonumbering": true
 },
 "nbformat": 4,
 "nbformat_minor": 5
}
