{
 "cells": [
  {
   "cell_type": "markdown",
   "id": "3aa5e9b0-03a8-4bd6-a8cb-da3b49217274",
   "metadata": {},
   "source": [
    "# Data\n",
    "\n",
    "- apartments_(train|test).csv contains information about specific apartments.\n",
    "- buildings_(train|test).csv contains suplementary information about the building each apartment is located in.\n",
    "- (apartments|buildings)_meta.json contains meta information about the specific columns\n"
   ]
  },
  {
   "cell_type": "code",
   "execution_count": 100,
   "id": "83ebb65f-5601-4754-80ab-854774966273",
   "metadata": {},
   "outputs": [],
   "source": [
    "def describe_column(meta):\n",
    "    \"\"\"\n",
    "    Utility function for describing a dataset column (see below for usage)\n",
    "    \"\"\"\n",
    "    def f(x):\n",
    "        d = pd.Series(name=x.name, dtype=object)\n",
    "        m = next(m for m in meta if m['name'] == x.name)\n",
    "        d['Type'] = m['type']\n",
    "        d['#NaN'] = x.isna().sum()\n",
    "        d['Description'] = m['desc']\n",
    "        if m['type'] == 'categorical':\n",
    "            counts = x.dropna().map(dict(enumerate(m['cats']))).value_counts().sort_index()\n",
    "            d['Statistics'] = ', '.join(f'{c}({n})' for c, n in counts.items())\n",
    "        elif m['type'] == 'real' or m['type'] == 'integer':\n",
    "            stats = x.dropna().agg(['mean', 'std', 'min', 'max'])\n",
    "            d['Statistics'] = ', '.join(f'{s}={v :.1f}' for s, v in stats.items())\n",
    "        elif m['type'] == 'boolean':\n",
    "            counts = x.dropna().astype(bool).value_counts().sort_index()\n",
    "            d['Statistics'] = ', '.join(f'{c}({n})' for c, n in counts.items())\n",
    "        else:\n",
    "            d['Statistics'] = f'#unique={x.nunique()}'\n",
    "        return d\n",
    "    return f\n",
    "\n",
    "def describe_data(data, meta):\n",
    "    desc = data.apply(describe_column(meta)).T\n",
    "    desc = desc.style.set_properties(**{'text-align': 'left'})\n",
    "    desc = desc.set_table_styles([ dict(selector='th', props=[('text-align', 'left')])])\n",
    "    return desc "
   ]
  },
  {
   "cell_type": "code",
   "execution_count": 101,
   "id": "f8a3707f-26da-48e4-8701-9c25a09a612f",
   "metadata": {},
   "outputs": [],
   "source": [
    "import matplotlib.pyplot as plt\n",
    "import numpy as np\n",
    "import pandas as pd\n",
    "import seaborn as sns\n",
    "import geopy.distance"
   ]
  },
  {
   "cell_type": "markdown",
   "id": "63bd5cff-4a6c-4b45-8f42-f705f8a01f0a",
   "metadata": {},
   "source": [
    "# Load data"
   ]
  },
  {
   "cell_type": "code",
   "execution_count": 102,
   "id": "e420cd45-7068-4db3-84b7-fd517bfbf67f",
   "metadata": {},
   "outputs": [
    {
     "data": {
      "text/html": [
       "<div>\n",
       "<style scoped>\n",
       "    .dataframe tbody tr th:only-of-type {\n",
       "        vertical-align: middle;\n",
       "    }\n",
       "\n",
       "    .dataframe tbody tr th {\n",
       "        vertical-align: top;\n",
       "    }\n",
       "\n",
       "    .dataframe thead th {\n",
       "        text-align: right;\n",
       "    }\n",
       "</style>\n",
       "<table border=\"1\" class=\"dataframe\">\n",
       "  <thead>\n",
       "    <tr style=\"text-align: right;\">\n",
       "      <th></th>\n",
       "      <th>id</th>\n",
       "      <th>seller</th>\n",
       "      <th>area_total</th>\n",
       "      <th>area_kitchen</th>\n",
       "      <th>area_living</th>\n",
       "      <th>floor</th>\n",
       "      <th>rooms</th>\n",
       "      <th>layout</th>\n",
       "      <th>ceiling</th>\n",
       "      <th>bathrooms_shared</th>\n",
       "      <th>...</th>\n",
       "      <th>address</th>\n",
       "      <th>constructed</th>\n",
       "      <th>material</th>\n",
       "      <th>stories</th>\n",
       "      <th>elevator_without</th>\n",
       "      <th>elevator_passenger</th>\n",
       "      <th>elevator_service</th>\n",
       "      <th>parking</th>\n",
       "      <th>garbage_chute</th>\n",
       "      <th>heating</th>\n",
       "    </tr>\n",
       "  </thead>\n",
       "  <tbody>\n",
       "    <tr>\n",
       "      <th>0</th>\n",
       "      <td>23285</td>\n",
       "      <td>NaN</td>\n",
       "      <td>71.4</td>\n",
       "      <td>NaN</td>\n",
       "      <td>NaN</td>\n",
       "      <td>2.0</td>\n",
       "      <td>1.0</td>\n",
       "      <td>NaN</td>\n",
       "      <td>NaN</td>\n",
       "      <td>NaN</td>\n",
       "      <td>...</td>\n",
       "      <td>6к3</td>\n",
       "      <td>2017.0</td>\n",
       "      <td>2.0</td>\n",
       "      <td>20.0</td>\n",
       "      <td>1.0</td>\n",
       "      <td>1.0</td>\n",
       "      <td>1.0</td>\n",
       "      <td>NaN</td>\n",
       "      <td>1.0</td>\n",
       "      <td>0.0</td>\n",
       "    </tr>\n",
       "    <tr>\n",
       "      <th>1</th>\n",
       "      <td>23286</td>\n",
       "      <td>NaN</td>\n",
       "      <td>54.0</td>\n",
       "      <td>4.0</td>\n",
       "      <td>50.0</td>\n",
       "      <td>4.0</td>\n",
       "      <td>1.0</td>\n",
       "      <td>NaN</td>\n",
       "      <td>3.00</td>\n",
       "      <td>NaN</td>\n",
       "      <td>...</td>\n",
       "      <td>3к2</td>\n",
       "      <td>2017.0</td>\n",
       "      <td>2.0</td>\n",
       "      <td>15.0</td>\n",
       "      <td>0.0</td>\n",
       "      <td>1.0</td>\n",
       "      <td>1.0</td>\n",
       "      <td>0.0</td>\n",
       "      <td>0.0</td>\n",
       "      <td>0.0</td>\n",
       "    </tr>\n",
       "    <tr>\n",
       "      <th>2</th>\n",
       "      <td>23287</td>\n",
       "      <td>3.0</td>\n",
       "      <td>39.4</td>\n",
       "      <td>19.6</td>\n",
       "      <td>11.2</td>\n",
       "      <td>10.0</td>\n",
       "      <td>1.0</td>\n",
       "      <td>NaN</td>\n",
       "      <td>2.65</td>\n",
       "      <td>1.0</td>\n",
       "      <td>...</td>\n",
       "      <td>27</td>\n",
       "      <td>2021.0</td>\n",
       "      <td>3.0</td>\n",
       "      <td>9.0</td>\n",
       "      <td>0.0</td>\n",
       "      <td>1.0</td>\n",
       "      <td>1.0</td>\n",
       "      <td>1.0</td>\n",
       "      <td>NaN</td>\n",
       "      <td>NaN</td>\n",
       "    </tr>\n",
       "    <tr>\n",
       "      <th>3</th>\n",
       "      <td>23288</td>\n",
       "      <td>NaN</td>\n",
       "      <td>60.9</td>\n",
       "      <td>NaN</td>\n",
       "      <td>NaN</td>\n",
       "      <td>5.0</td>\n",
       "      <td>2.0</td>\n",
       "      <td>1.0</td>\n",
       "      <td>NaN</td>\n",
       "      <td>1.0</td>\n",
       "      <td>...</td>\n",
       "      <td>23</td>\n",
       "      <td>2014.0</td>\n",
       "      <td>2.0</td>\n",
       "      <td>17.0</td>\n",
       "      <td>1.0</td>\n",
       "      <td>1.0</td>\n",
       "      <td>0.0</td>\n",
       "      <td>NaN</td>\n",
       "      <td>1.0</td>\n",
       "      <td>3.0</td>\n",
       "    </tr>\n",
       "    <tr>\n",
       "      <th>4</th>\n",
       "      <td>23289</td>\n",
       "      <td>NaN</td>\n",
       "      <td>34.0</td>\n",
       "      <td>9.0</td>\n",
       "      <td>17.0</td>\n",
       "      <td>14.0</td>\n",
       "      <td>1.0</td>\n",
       "      <td>NaN</td>\n",
       "      <td>2.75</td>\n",
       "      <td>1.0</td>\n",
       "      <td>...</td>\n",
       "      <td>13к1</td>\n",
       "      <td>2016.0</td>\n",
       "      <td>2.0</td>\n",
       "      <td>17.0</td>\n",
       "      <td>0.0</td>\n",
       "      <td>1.0</td>\n",
       "      <td>1.0</td>\n",
       "      <td>NaN</td>\n",
       "      <td>1.0</td>\n",
       "      <td>0.0</td>\n",
       "    </tr>\n",
       "  </tbody>\n",
       "</table>\n",
       "<p>5 rows × 33 columns</p>\n",
       "</div>"
      ],
      "text/plain": [
       "      id  seller  area_total  area_kitchen  area_living  floor  rooms  layout  \\\n",
       "0  23285     NaN        71.4           NaN          NaN    2.0    1.0     NaN   \n",
       "1  23286     NaN        54.0           4.0         50.0    4.0    1.0     NaN   \n",
       "2  23287     3.0        39.4          19.6         11.2   10.0    1.0     NaN   \n",
       "3  23288     NaN        60.9           NaN          NaN    5.0    2.0     1.0   \n",
       "4  23289     NaN        34.0           9.0         17.0   14.0    1.0     NaN   \n",
       "\n",
       "   ceiling  bathrooms_shared  ...  address  constructed  material  stories  \\\n",
       "0      NaN               NaN  ...      6к3       2017.0       2.0     20.0   \n",
       "1     3.00               NaN  ...      3к2       2017.0       2.0     15.0   \n",
       "2     2.65               1.0  ...       27       2021.0       3.0      9.0   \n",
       "3      NaN               1.0  ...       23       2014.0       2.0     17.0   \n",
       "4     2.75               1.0  ...     13к1       2016.0       2.0     17.0   \n",
       "\n",
       "   elevator_without  elevator_passenger  elevator_service  parking  \\\n",
       "0               1.0                 1.0               1.0      NaN   \n",
       "1               0.0                 1.0               1.0      0.0   \n",
       "2               0.0                 1.0               1.0      1.0   \n",
       "3               1.0                 1.0               0.0      NaN   \n",
       "4               0.0                 1.0               1.0      NaN   \n",
       "\n",
       "   garbage_chute  heating  \n",
       "0            1.0      0.0  \n",
       "1            0.0      0.0  \n",
       "2            NaN      NaN  \n",
       "3            1.0      3.0  \n",
       "4            1.0      0.0  \n",
       "\n",
       "[5 rows x 33 columns]"
      ]
     },
     "execution_count": 102,
     "metadata": {},
     "output_type": "execute_result"
    }
   ],
   "source": [
    "# Merge apartments and buildings data\n",
    "\n",
    "apartments_train = pd.read_csv('data/apartments_train.csv')\n",
    "buildings_train = pd.read_csv('data/buildings_train.csv')\n",
    "apartments_test = pd.read_csv('data/apartments_test.csv')\n",
    "buildings_test = pd.read_csv('data/buildings_test.csv')\n",
    "data_train = pd.merge(\n",
    "    apartments_train, \n",
    "    buildings_train.set_index('id'), \n",
    "    how='left', \n",
    "    left_on='building_id', \n",
    "    right_index=True\n",
    ")\n",
    "data_test = pd.merge(\n",
    "    apartments_test, \n",
    "    buildings_test.set_index('id'), \n",
    "    how='left', \n",
    "    left_on='building_id', \n",
    "    right_index=True\n",
    ")\n",
    "data_train.head()\n",
    "data_test.head()"
   ]
  },
  {
   "cell_type": "markdown",
   "id": "a459e7ae-3335-4950-8e87-973bce4540e3",
   "metadata": {
    "tags": []
   },
   "source": [
    "## Prepare Training Data"
   ]
  },
  {
   "cell_type": "code",
   "execution_count": 103,
   "id": "0ca16dbf-10ab-4628-9e49-518b955fe109",
   "metadata": {},
   "outputs": [
    {
     "data": {
      "text/plain": [
       "<AxesSubplot:title={'center':'Fraction of NaN values in the training set'}>"
      ]
     },
     "execution_count": 103,
     "metadata": {},
     "output_type": "execute_result"
    },
    {
     "data": {
      "image/png": "[encoded data removed]",
      "text/plain": [
       "<Figure size 1600x400 with 1 Axes>"
      ]
     },
     "metadata": {
      "needs_background": "light"
     },
     "output_type": "display_data"
    }
   ],
   "source": [
    "\n",
    "def prepare_data(data):\n",
    "    \n",
    "    # remove irrelevant features\n",
    "    irrelevant_features = [\n",
    "        'seller',\n",
    "        'layout',\n",
    "        'area_kitchen',\n",
    "        'area_living',\n",
    "        'bathrooms_shared',\n",
    "        'bathrooms_private',\n",
    "        'phones',\n",
    "        'condition',\n",
    "        'heating',\n",
    "        'material',\n",
    "        'ceiling',\n",
    "        'windows_court',\n",
    "        'windows_street',\n",
    "    ]\n",
    "    data.drop(\n",
    "        irrelevant_features, \n",
    "        axis=1, \n",
    "        inplace=True\n",
    "    )\n",
    "    \n",
    "    # drop rows containing NaN values for specific features\n",
    "    data.drop(data[data['district'].isna()].index, inplace=True)\n",
    "    data.drop(data[data['constructed'].isna()].index, inplace=True)\n",
    "    \n",
    "    # fill data gaps\n",
    "    data['loggias'] = data['loggias'].fillna(0)\n",
    "    data['balconies'] = data['balconies'].fillna(0)\n",
    "    data['parking'] = data['parking'].fillna(0)\n",
    "    data['garbage_chute'] = data['garbage_chute'].fillna(False)\n",
    "    data['elevator_without'] = data['elevator_without'].fillna(False)\n",
    "    data['elevator_passenger'] = data['elevator_passenger'].fillna(False)\n",
    "    data['elevator_service'] = data['elevator_service'].fillna(False)\n",
    "    data['new'] = data['new'].fillna(False)\n",
    "    \n",
    "    return data\n",
    "\n",
    "\n",
    "data_train = prepare_data(data_train)\n",
    "\n",
    "fig, ax1 = plt.subplots(figsize=(16, 4), ncols=1, dpi=100)\n",
    "data_train.isna().mean().plot.bar(ax=ax1, title='Fraction of NaN values in the training set')"
   ]
  },
  {
   "cell_type": "markdown",
   "id": "c62267e7-183a-4a70-acde-334fd4661449",
   "metadata": {},
   "source": [
    "## Feature Construction"
   ]
  },
  {
   "cell_type": "code",
   "execution_count": null,
   "id": "ac589afa-6d00-44a8-824b-9588059425a1",
   "metadata": {},
   "outputs": [],
   "source": [
    "def construct_features(data):\n",
    "    \n",
    "    # replacing longitude and latitude with distance in km\n",
    "    moscow_center = [55.751244, 37.618423]\n",
    "    coordinates = data[['latitude', 'longitude']].to_numpy()\n",
    "    dist = [geopy.distance.distance(moscow_center, coordinate).km for coordinate in coordinates]\n",
    "    data.drop(['latitude', 'longitude'], axis=1, inplace=True)\n",
    "    data['distance'] = dist\n",
    "    \n",
    "    # computing age based on year constructed\n",
    "    data['age'] = 2021 - data['constructed']\n",
    "    \n",
    "    return data\n",
    "\n",
    "data_train = construct_features(data_train)\n",
    "data_train.head()"
   ]
  },
  {
   "cell_type": "markdown",
   "id": "19e1221d-d29b-48b1-8318-5251f3e94d46",
   "metadata": {},
   "source": [
    "## Log Transform"
   ]
  },
  {
   "cell_type": "code",
   "execution_count": null,
   "id": "9675e201-7059-4146-b941-329a827d221e",
   "metadata": {},
   "outputs": [],
   "source": [
    "data_train['area_total'] = (data_train['area_total'] + 1).transform(np.log)\n"
   ]
  },
  {
   "cell_type": "markdown",
   "id": "3b52dc2c-11a7-440b-a57c-8404cfb69fc3",
   "metadata": {},
   "source": [
    "## Outliers"
   ]
  },
  {
   "cell_type": "code",
   "execution_count": null,
   "id": "b003beb7-9d0e-4713-bb8b-4aaa7cc4d96e",
   "metadata": {},
   "outputs": [],
   "source": [
    "#sns.pairplot(data_train[['area_total', 'distance', 'floor', 'rooms', 'price']])"
   ]
  },
  {
   "cell_type": "code",
   "execution_count": null,
   "id": "e3a456e6-b2bb-4de3-a7e5-3f5eb6ef939a",
   "metadata": {},
   "outputs": [],
   "source": [
    "factor = 3\n",
    "upper_lim = data_train['price'].mean () + data_train['price'].std () * factor\n",
    "lower_lim = data_train['price'].mean () - data_train['price'].std () * factor\n",
    "\n",
    "data_train = data_train[(data_train['price'] < upper_lim) & (data_train['price'] > lower_lim)]\n",
    "\n",
    "#sns.pairplot(data_train[['area_total', 'distance', 'floor', 'rooms', 'price']])"
   ]
  },
  {
   "cell_type": "markdown",
   "id": "80d6eb0a-da03-4e44-a74e-c06230b0f69a",
   "metadata": {},
   "source": [
    "# Data Exploration"
   ]
  },
  {
   "cell_type": "code",
   "execution_count": null,
   "id": "9694f5c9-7da3-4f31-8127-3ee9e5e842a8",
   "metadata": {},
   "outputs": [],
   "source": [
    "fig, ax = plt.subplots(figsize=(10,10))   \n",
    "sns.heatmap(data_train.corr(), ax=ax, annot=True)"
   ]
  },
  {
   "cell_type": "markdown",
   "id": "2da8dc14-4f5f-46f5-80f0-1b956396326a",
   "metadata": {},
   "source": [
    "# Data Preparation"
   ]
  },
  {
   "cell_type": "code",
   "execution_count": null,
   "id": "84a214be-cc5e-4637-9d92-179cf136ddf2",
   "metadata": {},
   "outputs": [],
   "source": [
    "from sklearn.model_selection import train_test_split\n",
    "\n",
    "relevant_features = ['distance', 'area_total', 'floor', 'stories', 'district', 'age',]\n",
    "X = data_train[relevant_features]\n",
    "y = data_train['price']\n",
    "\n",
    "X_train, X_val, y_train, y_val = train_test_split(X, y, test_size=0.3, stratify=np.log(data_train.price).round())\n",
    "\n",
    "fig, (ax1, ax2) = plt.subplots(figsize=(12, 4), ncols=2, dpi=100)\n",
    "sns.histplot(np.log10(y_train).rename('log10(price)'), ax=ax1)\n",
    "sns.histplot(np.log10(y_val).rename('log10(price)'), ax=ax2)\n",
    "ax1.set_title('Training set log prices'); ax2.set_title('Validation set log prices')"
   ]
  },
  {
   "cell_type": "markdown",
   "id": "11a3513b-f0cd-46bf-bd42-3c2510dd5b02",
   "metadata": {},
   "source": [
    "# Define Loss Function and Baseline"
   ]
  },
  {
   "cell_type": "code",
   "execution_count": null,
   "id": "9a280e88-18cd-4339-966c-2c7c3deb2c4e",
   "metadata": {},
   "outputs": [],
   "source": [
    "from sklearn.metrics import mean_squared_log_error\n",
    "\n",
    "def root_mean_squared_log_error(y_true, y_pred):\n",
    "    # Alternatively: sklearn.metrics.mean_squared_log_error(y_true, y_pred) ** 0.5\n",
    "    # assert (y_true >= 0).all() \n",
    "    # assert (y_pred >= 0).all()\n",
    "    # log_error = np.log1p(y_pred) - np.log1p(y_true)  # Note: log1p(x) = log(1 + x)\n",
    "    # return np.mean(log_error ** 2) ** 0.5\n",
    "    return np.sqrt(mean_squared_log_error(y_true, y_pred))\n",
    "\n",
    "mean = y_train.mean()\n",
    "y_train_hat = np.full(len(y_train), mean)\n",
    "y_val_hat = np.full(len(y_val), mean)\n",
    "print(f'Train rmsle: {root_mean_squared_log_error(y_true=y_train, y_pred=y_train_hat) :.4f}')\n",
    "print(f'Valid rmsle: {root_mean_squared_log_error(y_true=y_val, y_pred=y_val_hat) :.4f}')"
   ]
  },
  {
   "cell_type": "markdown",
   "id": "d401562c-681b-4839-be54-b240d6b297bf",
   "metadata": {},
   "source": [
    "# Random Forest Regressor"
   ]
  },
  {
   "cell_type": "code",
   "execution_count": null,
   "id": "df30c150-d4af-4741-a7b4-3e09b5c3bba4",
   "metadata": {},
   "outputs": [],
   "source": [
    "from sklearn.ensemble import RandomForestRegressor\n",
    "\n",
    "rf_reg = RandomForestRegressor(\n",
    "    n_estimators=100, \n",
    "    criterion='mse',\n",
    "    n_jobs=2,\n",
    "    random_state=42,\n",
    "    max_features='auto',\n",
    ")\n",
    "rf_reg.fit(X_train, y_train)\n",
    "\n",
    "rf_pred = rf_reg.predict(X_val)\n",
    "print(f'Valid rmsle: {root_mean_squared_log_error(y_true=y_val, y_pred=rf_pred) :.4f}')\n",
    "\n",
    "plt.scatter(rf_pred, y_val)\n",
    "plt.xlabel('Random Forest prediction')\n",
    "plt.ylabel('Ground Truth')"
   ]
  },
  {
   "cell_type": "code",
   "execution_count": null,
   "id": "a007298e-3c90-4cf0-b70d-c526ee161cf5",
   "metadata": {},
   "outputs": [],
   "source": [
    "X_test = data_test[relevant_features]\n",
    "rf_reg.predict(X_test)"
   ]
  },
  {
   "cell_type": "markdown",
   "id": "f63b7629-da13-447c-ae16-808119436942",
   "metadata": {},
   "source": [
    "**Gini Importance / Mean decrease in impurity (MDI)** counts the number of times a feature is used to split a node, weighted by the number of samples it splits.\n"
   ]
  },
  {
   "cell_type": "code",
   "execution_count": null,
   "id": "32864009-59f0-40d3-bf96-9f343ba76da6",
   "metadata": {},
   "outputs": [],
   "source": [
    "# Feature importance\n",
    "importances = rf_reg.feature_importances_\n",
    "forest_importances = pd.Series(importances, index=X_train.columns)\n",
    "\n",
    "fig, ax = plt.subplots()\n",
    "forest_importances.plot.bar(ax=ax)\n",
    "ax.set_title(\"MDI or Gini Importance\")\n",
    "ax.set_ylabel(\"Mean decrease in impurity\")\n",
    "fig.tight_layout()"
   ]
  },
  {
   "cell_type": "code",
   "execution_count": null,
   "id": "b5cddf16-566d-40da-b5f7-eb8c8d102e61",
   "metadata": {},
   "outputs": [],
   "source": [
    "import lightgbm as lgbm\n",
    "\n",
    "lgbm_reg = lgbm.LGBMRegressor(\n",
    "    random_state=42, \n",
    "    silent=True, \n",
    "    metric='mse',\n",
    "    n_jobs=4,\n",
    "    n_estimators=2000,\n",
    "    learning_rate=0.05\n",
    ")\n",
    "\n",
    "lgbm_reg.fit(X_train, y_train)\n",
    "\n",
    "lgbm_pred = lgbm_reg.predict(X_val)\n",
    "print(f'Valid rmsle: {root_mean_squared_log_error(y_true=y_val, y_pred=lgbm_pred) :.4f}')\n",
    "\n",
    "plt.scatter(lgbm_pred, y_val)\n",
    "plt.xlabel('LGBM prediction')\n",
    "plt.ylabel('Ground Truth')"
   ]
  },
  {
   "cell_type": "code",
   "execution_count": null,
   "id": "13bab851-87d6-4530-b18a-23286fc9a72b",
   "metadata": {},
   "outputs": [],
   "source": [
    "avg_prediction = np.mean([rf_pred, lgbm_pred, cb_pred], axis=0)\n",
    "print('Val RMSLE:', round(root_mean_squared_log_error(avg_prediction, y_val), 4))"
   ]
  },
  {
   "cell_type": "markdown",
   "id": "de620b2c-2c08-40d0-a6d1-45f5cd874546",
   "metadata": {
    "tags": []
   },
   "source": [
    "# Ensemble Learning\n",
    "\n",
    "**Background:** Individual makes mistakes, but the “majority” is less likely to make mistakes."
   ]
  },
  {
   "cell_type": "code",
   "execution_count": null,
   "id": "45e181f6-e73c-4572-9aa6-8b37e145eda7",
   "metadata": {},
   "outputs": [],
   "source": [
    "from sklearn.model_selection import KFold\n",
    "\n",
    "# Using k-fold cross validation to improve \n",
    "# generalisation and obtain a model with less bias\n",
    "\n",
    "n_splits = 8\n",
    "random_state = 42\n",
    "\n",
    "kf = KFold(\n",
    "    n_splits=n_splits,\n",
    "    shuffle=True,\n",
    "    random_state=random_state\n",
    ")\n",
    "\n"
   ]
  },
  {
   "cell_type": "code",
   "execution_count": null,
   "id": "3bcf27b2-2fd2-435b-9101-cd7f889c7fa5",
   "metadata": {},
   "outputs": [],
   "source": []
  }
 ],
 "metadata": {
  "kernelspec": {
   "display_name": "venv",
   "language": "python",
   "name": "venv"
  },
  "language_info": {
   "codemirror_mode": {
    "name": "ipython",
    "version": 3
   },
   "file_extension": ".py",
   "mimetype": "text/x-python",
   "name": "python",
   "nbconvert_exporter": "python",
   "pygments_lexer": "ipython3",
   "version": "3.9.6"
  },
  "toc-autonumbering": true,
  "toc-showmarkdowntxt": false
 },
 "nbformat": 4,
 "nbformat_minor": 5
}