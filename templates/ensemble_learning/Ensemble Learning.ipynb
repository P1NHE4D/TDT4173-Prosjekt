{
 "cells": [
  {
   "cell_type": "code",
   "execution_count": 1,
   "metadata": {},
   "outputs": [],
   "source": [
    "import pandas as pd\n",
    "import numpy as np\n",
    "from sklearn.model_selection import train_test_split, KFold\n",
    "from sklearn.tree import DecisionTreeRegressor\n",
    "from sklearn.metrics import mean_squared_error\n",
    "from sklearn.ensemble import RandomForestRegressor\n",
    "from sklearn.ensemble import AdaBoostRegressor\n",
    "from sklearn.ensemble import GradientBoostingRegressor\n",
    "import lightgbm as lgb\n",
    "from catboost import CatBoostRegressor\n",
    "\n",
    "import matplotlib.pylab as plt\n",
    "plt.style.use('ggplot')"
   ]
  },
  {
   "cell_type": "markdown",
   "metadata": {},
   "source": [
    "# Boston Housing Dataset"
   ]
  },
  {
   "cell_type": "markdown",
   "metadata": {},
   "source": [
    "This dataset contains information collected by the U.S Census Service concerning housing in the area of Boston Mass. It was obtained from the StatLib archive (http://lib.stat.cmu.edu/datasets/boston), and has been used extensively throughout the literature to benchmark algorithms.\n",
    "\n",
    "Warning. The Boston housing prices dataset has an ethical problem: the authors of this dataset engineered a non-invertible variable “B” assuming that racial self-segregation had a positive impact on house prices.\n",
    "\n",
    "Column names:\n",
    " - CRIM - per capita crime rate by town\n",
    " - ZN - proportion of residential land zoned for lots over 25,000 sq.ft.\n",
    " - INDUS - proportion of non-retail business acres per town.\n",
    " - CHAS - Charles River dummy variable (1 if tract bounds river; 0 otherwise)\n",
    " - NOX - nitric oxides concentration (parts per 10 million)\n",
    " - RM - average number of rooms per dwelling\n",
    " - AGE - proportion of owner-occupied units built prior to 1940\n",
    " - DIS - weighted distances to five Boston employment centres\n",
    " - RAD - index of accessibility to radial highways\n",
    " - TAX - full-value property-tax rate per \\$10,000\n",
    " - PTRATIO - pupil-teacher ratio by town\n",
    " - B - 1000(Bk - 0.63)^2\n",
    " - LSTAT - perc. lower status of the population\n",
    " - MEDV - Median value of owner-occupied homes in $1000's\n",
    " \n",
    "### Target: MEDV\n"
   ]
  },
  {
   "cell_type": "code",
   "execution_count": 2,
   "metadata": {},
   "outputs": [],
   "source": [
    "column_names = [\n",
    "    'CRIM', 'ZN', 'INDUS', 'CHAS', 'NOX', 'RM', 'AGE',\n",
    "    'DIS', 'RAD', 'TAX', 'PTRATIO', 'B', 'LSTAT', 'MEDV'\n",
    "]\n",
    "data = pd.read_csv('housing.csv', header=None, delimiter=r\"\\s+\", names=column_names)"
   ]
  },
  {
   "cell_type": "code",
   "execution_count": 3,
   "metadata": {},
   "outputs": [
    {
     "data": {
      "text/html": [
       "<div>\n",
       "<style scoped>\n",
       "    .dataframe tbody tr th:only-of-type {\n",
       "        vertical-align: middle;\n",
       "    }\n",
       "\n",
       "    .dataframe tbody tr th {\n",
       "        vertical-align: top;\n",
       "    }\n",
       "\n",
       "    .dataframe thead th {\n",
       "        text-align: right;\n",
       "    }\n",
       "</style>\n",
       "<table border=\"1\" class=\"dataframe\">\n",
       "  <thead>\n",
       "    <tr style=\"text-align: right;\">\n",
       "      <th></th>\n",
       "      <th>CRIM</th>\n",
       "      <th>ZN</th>\n",
       "      <th>INDUS</th>\n",
       "      <th>CHAS</th>\n",
       "      <th>NOX</th>\n",
       "      <th>RM</th>\n",
       "      <th>AGE</th>\n",
       "      <th>DIS</th>\n",
       "      <th>RAD</th>\n",
       "      <th>TAX</th>\n",
       "      <th>PTRATIO</th>\n",
       "      <th>B</th>\n",
       "      <th>LSTAT</th>\n",
       "      <th>MEDV</th>\n",
       "    </tr>\n",
       "  </thead>\n",
       "  <tbody>\n",
       "    <tr>\n",
       "      <th>0</th>\n",
       "      <td>0.00632</td>\n",
       "      <td>18.0</td>\n",
       "      <td>2.31</td>\n",
       "      <td>0</td>\n",
       "      <td>0.538</td>\n",
       "      <td>6.575</td>\n",
       "      <td>65.2</td>\n",
       "      <td>4.0900</td>\n",
       "      <td>1</td>\n",
       "      <td>296.0</td>\n",
       "      <td>15.3</td>\n",
       "      <td>396.90</td>\n",
       "      <td>4.98</td>\n",
       "      <td>24.0</td>\n",
       "    </tr>\n",
       "    <tr>\n",
       "      <th>1</th>\n",
       "      <td>0.02731</td>\n",
       "      <td>0.0</td>\n",
       "      <td>7.07</td>\n",
       "      <td>0</td>\n",
       "      <td>0.469</td>\n",
       "      <td>6.421</td>\n",
       "      <td>78.9</td>\n",
       "      <td>4.9671</td>\n",
       "      <td>2</td>\n",
       "      <td>242.0</td>\n",
       "      <td>17.8</td>\n",
       "      <td>396.90</td>\n",
       "      <td>9.14</td>\n",
       "      <td>21.6</td>\n",
       "    </tr>\n",
       "    <tr>\n",
       "      <th>2</th>\n",
       "      <td>0.02729</td>\n",
       "      <td>0.0</td>\n",
       "      <td>7.07</td>\n",
       "      <td>0</td>\n",
       "      <td>0.469</td>\n",
       "      <td>7.185</td>\n",
       "      <td>61.1</td>\n",
       "      <td>4.9671</td>\n",
       "      <td>2</td>\n",
       "      <td>242.0</td>\n",
       "      <td>17.8</td>\n",
       "      <td>392.83</td>\n",
       "      <td>4.03</td>\n",
       "      <td>34.7</td>\n",
       "    </tr>\n",
       "    <tr>\n",
       "      <th>3</th>\n",
       "      <td>0.03237</td>\n",
       "      <td>0.0</td>\n",
       "      <td>2.18</td>\n",
       "      <td>0</td>\n",
       "      <td>0.458</td>\n",
       "      <td>6.998</td>\n",
       "      <td>45.8</td>\n",
       "      <td>6.0622</td>\n",
       "      <td>3</td>\n",
       "      <td>222.0</td>\n",
       "      <td>18.7</td>\n",
       "      <td>394.63</td>\n",
       "      <td>2.94</td>\n",
       "      <td>33.4</td>\n",
       "    </tr>\n",
       "    <tr>\n",
       "      <th>4</th>\n",
       "      <td>0.06905</td>\n",
       "      <td>0.0</td>\n",
       "      <td>2.18</td>\n",
       "      <td>0</td>\n",
       "      <td>0.458</td>\n",
       "      <td>7.147</td>\n",
       "      <td>54.2</td>\n",
       "      <td>6.0622</td>\n",
       "      <td>3</td>\n",
       "      <td>222.0</td>\n",
       "      <td>18.7</td>\n",
       "      <td>396.90</td>\n",
       "      <td>5.33</td>\n",
       "      <td>36.2</td>\n",
       "    </tr>\n",
       "    <tr>\n",
       "      <th>...</th>\n",
       "      <td>...</td>\n",
       "      <td>...</td>\n",
       "      <td>...</td>\n",
       "      <td>...</td>\n",
       "      <td>...</td>\n",
       "      <td>...</td>\n",
       "      <td>...</td>\n",
       "      <td>...</td>\n",
       "      <td>...</td>\n",
       "      <td>...</td>\n",
       "      <td>...</td>\n",
       "      <td>...</td>\n",
       "      <td>...</td>\n",
       "      <td>...</td>\n",
       "    </tr>\n",
       "    <tr>\n",
       "      <th>501</th>\n",
       "      <td>0.06263</td>\n",
       "      <td>0.0</td>\n",
       "      <td>11.93</td>\n",
       "      <td>0</td>\n",
       "      <td>0.573</td>\n",
       "      <td>6.593</td>\n",
       "      <td>69.1</td>\n",
       "      <td>2.4786</td>\n",
       "      <td>1</td>\n",
       "      <td>273.0</td>\n",
       "      <td>21.0</td>\n",
       "      <td>391.99</td>\n",
       "      <td>9.67</td>\n",
       "      <td>22.4</td>\n",
       "    </tr>\n",
       "    <tr>\n",
       "      <th>502</th>\n",
       "      <td>0.04527</td>\n",
       "      <td>0.0</td>\n",
       "      <td>11.93</td>\n",
       "      <td>0</td>\n",
       "      <td>0.573</td>\n",
       "      <td>6.120</td>\n",
       "      <td>76.7</td>\n",
       "      <td>2.2875</td>\n",
       "      <td>1</td>\n",
       "      <td>273.0</td>\n",
       "      <td>21.0</td>\n",
       "      <td>396.90</td>\n",
       "      <td>9.08</td>\n",
       "      <td>20.6</td>\n",
       "    </tr>\n",
       "    <tr>\n",
       "      <th>503</th>\n",
       "      <td>0.06076</td>\n",
       "      <td>0.0</td>\n",
       "      <td>11.93</td>\n",
       "      <td>0</td>\n",
       "      <td>0.573</td>\n",
       "      <td>6.976</td>\n",
       "      <td>91.0</td>\n",
       "      <td>2.1675</td>\n",
       "      <td>1</td>\n",
       "      <td>273.0</td>\n",
       "      <td>21.0</td>\n",
       "      <td>396.90</td>\n",
       "      <td>5.64</td>\n",
       "      <td>23.9</td>\n",
       "    </tr>\n",
       "    <tr>\n",
       "      <th>504</th>\n",
       "      <td>0.10959</td>\n",
       "      <td>0.0</td>\n",
       "      <td>11.93</td>\n",
       "      <td>0</td>\n",
       "      <td>0.573</td>\n",
       "      <td>6.794</td>\n",
       "      <td>89.3</td>\n",
       "      <td>2.3889</td>\n",
       "      <td>1</td>\n",
       "      <td>273.0</td>\n",
       "      <td>21.0</td>\n",
       "      <td>393.45</td>\n",
       "      <td>6.48</td>\n",
       "      <td>22.0</td>\n",
       "    </tr>\n",
       "    <tr>\n",
       "      <th>505</th>\n",
       "      <td>0.04741</td>\n",
       "      <td>0.0</td>\n",
       "      <td>11.93</td>\n",
       "      <td>0</td>\n",
       "      <td>0.573</td>\n",
       "      <td>6.030</td>\n",
       "      <td>80.8</td>\n",
       "      <td>2.5050</td>\n",
       "      <td>1</td>\n",
       "      <td>273.0</td>\n",
       "      <td>21.0</td>\n",
       "      <td>396.90</td>\n",
       "      <td>7.88</td>\n",
       "      <td>11.9</td>\n",
       "    </tr>\n",
       "  </tbody>\n",
       "</table>\n",
       "<p>506 rows × 14 columns</p>\n",
       "</div>"
      ],
      "text/plain": [
       "        CRIM    ZN  INDUS  CHAS    NOX     RM   AGE     DIS  RAD    TAX  \\\n",
       "0    0.00632  18.0   2.31     0  0.538  6.575  65.2  4.0900    1  296.0   \n",
       "1    0.02731   0.0   7.07     0  0.469  6.421  78.9  4.9671    2  242.0   \n",
       "2    0.02729   0.0   7.07     0  0.469  7.185  61.1  4.9671    2  242.0   \n",
       "3    0.03237   0.0   2.18     0  0.458  6.998  45.8  6.0622    3  222.0   \n",
       "4    0.06905   0.0   2.18     0  0.458  7.147  54.2  6.0622    3  222.0   \n",
       "..       ...   ...    ...   ...    ...    ...   ...     ...  ...    ...   \n",
       "501  0.06263   0.0  11.93     0  0.573  6.593  69.1  2.4786    1  273.0   \n",
       "502  0.04527   0.0  11.93     0  0.573  6.120  76.7  2.2875    1  273.0   \n",
       "503  0.06076   0.0  11.93     0  0.573  6.976  91.0  2.1675    1  273.0   \n",
       "504  0.10959   0.0  11.93     0  0.573  6.794  89.3  2.3889    1  273.0   \n",
       "505  0.04741   0.0  11.93     0  0.573  6.030  80.8  2.5050    1  273.0   \n",
       "\n",
       "     PTRATIO       B  LSTAT  MEDV  \n",
       "0       15.3  396.90   4.98  24.0  \n",
       "1       17.8  396.90   9.14  21.6  \n",
       "2       17.8  392.83   4.03  34.7  \n",
       "3       18.7  394.63   2.94  33.4  \n",
       "4       18.7  396.90   5.33  36.2  \n",
       "..       ...     ...    ...   ...  \n",
       "501     21.0  391.99   9.67  22.4  \n",
       "502     21.0  396.90   9.08  20.6  \n",
       "503     21.0  396.90   5.64  23.9  \n",
       "504     21.0  393.45   6.48  22.0  \n",
       "505     21.0  396.90   7.88  11.9  \n",
       "\n",
       "[506 rows x 14 columns]"
      ]
     },
     "execution_count": 3,
     "metadata": {},
     "output_type": "execute_result"
    }
   ],
   "source": [
    "data"
   ]
  },
  {
   "cell_type": "code",
   "execution_count": 4,
   "metadata": {},
   "outputs": [],
   "source": [
    "features = column_names[:-1]\n",
    "X, y = data[features], data['MEDV']"
   ]
  },
  {
   "cell_type": "code",
   "execution_count": 5,
   "metadata": {},
   "outputs": [],
   "source": [
    "X_train, X_test, y_train, y_test = train_test_split(X, y, test_size=0.2, random_state=42)\n"
   ]
  },
  {
   "cell_type": "code",
   "execution_count": 6,
   "metadata": {},
   "outputs": [
    {
     "data": {
      "text/html": [
       "<div>\n",
       "<style scoped>\n",
       "    .dataframe tbody tr th:only-of-type {\n",
       "        vertical-align: middle;\n",
       "    }\n",
       "\n",
       "    .dataframe tbody tr th {\n",
       "        vertical-align: top;\n",
       "    }\n",
       "\n",
       "    .dataframe thead th {\n",
       "        text-align: right;\n",
       "    }\n",
       "</style>\n",
       "<table border=\"1\" class=\"dataframe\">\n",
       "  <thead>\n",
       "    <tr style=\"text-align: right;\">\n",
       "      <th></th>\n",
       "      <th>CRIM</th>\n",
       "      <th>ZN</th>\n",
       "      <th>INDUS</th>\n",
       "      <th>CHAS</th>\n",
       "      <th>NOX</th>\n",
       "      <th>RM</th>\n",
       "      <th>AGE</th>\n",
       "      <th>DIS</th>\n",
       "      <th>RAD</th>\n",
       "      <th>TAX</th>\n",
       "      <th>PTRATIO</th>\n",
       "      <th>B</th>\n",
       "      <th>LSTAT</th>\n",
       "    </tr>\n",
       "  </thead>\n",
       "  <tbody>\n",
       "    <tr>\n",
       "      <th>173</th>\n",
       "      <td>0.09178</td>\n",
       "      <td>0.0</td>\n",
       "      <td>4.05</td>\n",
       "      <td>0</td>\n",
       "      <td>0.510</td>\n",
       "      <td>6.416</td>\n",
       "      <td>84.1</td>\n",
       "      <td>2.6463</td>\n",
       "      <td>5</td>\n",
       "      <td>296.0</td>\n",
       "      <td>16.6</td>\n",
       "      <td>395.50</td>\n",
       "      <td>9.04</td>\n",
       "    </tr>\n",
       "    <tr>\n",
       "      <th>274</th>\n",
       "      <td>0.05644</td>\n",
       "      <td>40.0</td>\n",
       "      <td>6.41</td>\n",
       "      <td>1</td>\n",
       "      <td>0.447</td>\n",
       "      <td>6.758</td>\n",
       "      <td>32.9</td>\n",
       "      <td>4.0776</td>\n",
       "      <td>4</td>\n",
       "      <td>254.0</td>\n",
       "      <td>17.6</td>\n",
       "      <td>396.90</td>\n",
       "      <td>3.53</td>\n",
       "    </tr>\n",
       "    <tr>\n",
       "      <th>491</th>\n",
       "      <td>0.10574</td>\n",
       "      <td>0.0</td>\n",
       "      <td>27.74</td>\n",
       "      <td>0</td>\n",
       "      <td>0.609</td>\n",
       "      <td>5.983</td>\n",
       "      <td>98.8</td>\n",
       "      <td>1.8681</td>\n",
       "      <td>4</td>\n",
       "      <td>711.0</td>\n",
       "      <td>20.1</td>\n",
       "      <td>390.11</td>\n",
       "      <td>18.07</td>\n",
       "    </tr>\n",
       "    <tr>\n",
       "      <th>72</th>\n",
       "      <td>0.09164</td>\n",
       "      <td>0.0</td>\n",
       "      <td>10.81</td>\n",
       "      <td>0</td>\n",
       "      <td>0.413</td>\n",
       "      <td>6.065</td>\n",
       "      <td>7.8</td>\n",
       "      <td>5.2873</td>\n",
       "      <td>4</td>\n",
       "      <td>305.0</td>\n",
       "      <td>19.2</td>\n",
       "      <td>390.91</td>\n",
       "      <td>5.52</td>\n",
       "    </tr>\n",
       "    <tr>\n",
       "      <th>452</th>\n",
       "      <td>5.09017</td>\n",
       "      <td>0.0</td>\n",
       "      <td>18.10</td>\n",
       "      <td>0</td>\n",
       "      <td>0.713</td>\n",
       "      <td>6.297</td>\n",
       "      <td>91.8</td>\n",
       "      <td>2.3682</td>\n",
       "      <td>24</td>\n",
       "      <td>666.0</td>\n",
       "      <td>20.2</td>\n",
       "      <td>385.09</td>\n",
       "      <td>17.27</td>\n",
       "    </tr>\n",
       "    <tr>\n",
       "      <th>...</th>\n",
       "      <td>...</td>\n",
       "      <td>...</td>\n",
       "      <td>...</td>\n",
       "      <td>...</td>\n",
       "      <td>...</td>\n",
       "      <td>...</td>\n",
       "      <td>...</td>\n",
       "      <td>...</td>\n",
       "      <td>...</td>\n",
       "      <td>...</td>\n",
       "      <td>...</td>\n",
       "      <td>...</td>\n",
       "      <td>...</td>\n",
       "    </tr>\n",
       "    <tr>\n",
       "      <th>412</th>\n",
       "      <td>18.81100</td>\n",
       "      <td>0.0</td>\n",
       "      <td>18.10</td>\n",
       "      <td>0</td>\n",
       "      <td>0.597</td>\n",
       "      <td>4.628</td>\n",
       "      <td>100.0</td>\n",
       "      <td>1.5539</td>\n",
       "      <td>24</td>\n",
       "      <td>666.0</td>\n",
       "      <td>20.2</td>\n",
       "      <td>28.79</td>\n",
       "      <td>34.37</td>\n",
       "    </tr>\n",
       "    <tr>\n",
       "      <th>436</th>\n",
       "      <td>14.42080</td>\n",
       "      <td>0.0</td>\n",
       "      <td>18.10</td>\n",
       "      <td>0</td>\n",
       "      <td>0.740</td>\n",
       "      <td>6.461</td>\n",
       "      <td>93.3</td>\n",
       "      <td>2.0026</td>\n",
       "      <td>24</td>\n",
       "      <td>666.0</td>\n",
       "      <td>20.2</td>\n",
       "      <td>27.49</td>\n",
       "      <td>18.05</td>\n",
       "    </tr>\n",
       "    <tr>\n",
       "      <th>411</th>\n",
       "      <td>14.05070</td>\n",
       "      <td>0.0</td>\n",
       "      <td>18.10</td>\n",
       "      <td>0</td>\n",
       "      <td>0.597</td>\n",
       "      <td>6.657</td>\n",
       "      <td>100.0</td>\n",
       "      <td>1.5275</td>\n",
       "      <td>24</td>\n",
       "      <td>666.0</td>\n",
       "      <td>20.2</td>\n",
       "      <td>35.05</td>\n",
       "      <td>21.22</td>\n",
       "    </tr>\n",
       "    <tr>\n",
       "      <th>86</th>\n",
       "      <td>0.05188</td>\n",
       "      <td>0.0</td>\n",
       "      <td>4.49</td>\n",
       "      <td>0</td>\n",
       "      <td>0.449</td>\n",
       "      <td>6.015</td>\n",
       "      <td>45.1</td>\n",
       "      <td>4.4272</td>\n",
       "      <td>3</td>\n",
       "      <td>247.0</td>\n",
       "      <td>18.5</td>\n",
       "      <td>395.99</td>\n",
       "      <td>12.86</td>\n",
       "    </tr>\n",
       "    <tr>\n",
       "      <th>75</th>\n",
       "      <td>0.09512</td>\n",
       "      <td>0.0</td>\n",
       "      <td>12.83</td>\n",
       "      <td>0</td>\n",
       "      <td>0.437</td>\n",
       "      <td>6.286</td>\n",
       "      <td>45.0</td>\n",
       "      <td>4.5026</td>\n",
       "      <td>5</td>\n",
       "      <td>398.0</td>\n",
       "      <td>18.7</td>\n",
       "      <td>383.23</td>\n",
       "      <td>8.94</td>\n",
       "    </tr>\n",
       "  </tbody>\n",
       "</table>\n",
       "<p>102 rows × 13 columns</p>\n",
       "</div>"
      ],
      "text/plain": [
       "         CRIM    ZN  INDUS  CHAS    NOX     RM    AGE     DIS  RAD    TAX  \\\n",
       "173   0.09178   0.0   4.05     0  0.510  6.416   84.1  2.6463    5  296.0   \n",
       "274   0.05644  40.0   6.41     1  0.447  6.758   32.9  4.0776    4  254.0   \n",
       "491   0.10574   0.0  27.74     0  0.609  5.983   98.8  1.8681    4  711.0   \n",
       "72    0.09164   0.0  10.81     0  0.413  6.065    7.8  5.2873    4  305.0   \n",
       "452   5.09017   0.0  18.10     0  0.713  6.297   91.8  2.3682   24  666.0   \n",
       "..        ...   ...    ...   ...    ...    ...    ...     ...  ...    ...   \n",
       "412  18.81100   0.0  18.10     0  0.597  4.628  100.0  1.5539   24  666.0   \n",
       "436  14.42080   0.0  18.10     0  0.740  6.461   93.3  2.0026   24  666.0   \n",
       "411  14.05070   0.0  18.10     0  0.597  6.657  100.0  1.5275   24  666.0   \n",
       "86    0.05188   0.0   4.49     0  0.449  6.015   45.1  4.4272    3  247.0   \n",
       "75    0.09512   0.0  12.83     0  0.437  6.286   45.0  4.5026    5  398.0   \n",
       "\n",
       "     PTRATIO       B  LSTAT  \n",
       "173     16.6  395.50   9.04  \n",
       "274     17.6  396.90   3.53  \n",
       "491     20.1  390.11  18.07  \n",
       "72      19.2  390.91   5.52  \n",
       "452     20.2  385.09  17.27  \n",
       "..       ...     ...    ...  \n",
       "412     20.2   28.79  34.37  \n",
       "436     20.2   27.49  18.05  \n",
       "411     20.2   35.05  21.22  \n",
       "86      18.5  395.99  12.86  \n",
       "75      18.7  383.23   8.94  \n",
       "\n",
       "[102 rows x 13 columns]"
      ]
     },
     "execution_count": 6,
     "metadata": {},
     "output_type": "execute_result"
    }
   ],
   "source": [
    "X_test"
   ]
  },
  {
   "cell_type": "markdown",
   "metadata": {},
   "source": [
    "# Decision Tree"
   ]
  },
  {
   "cell_type": "code",
   "execution_count": 7,
   "metadata": {},
   "outputs": [],
   "source": [
    "model1 = DecisionTreeRegressor(\n",
    "    criterion = 'mse',\n",
    "    max_depth = 5,\n",
    "    min_samples_split = 4,\n",
    "    min_samples_leaf = 2,\n",
    "    random_state=42\n",
    ")"
   ]
  },
  {
   "cell_type": "code",
   "execution_count": 8,
   "metadata": {},
   "outputs": [
    {
     "data": {
      "text/plain": [
       "DecisionTreeRegressor(max_depth=5, min_samples_leaf=2, min_samples_split=4,\n",
       "                      random_state=42)"
      ]
     },
     "execution_count": 8,
     "metadata": {},
     "output_type": "execute_result"
    }
   ],
   "source": [
    "model1.fit(X_train, y_train)"
   ]
  },
  {
   "cell_type": "code",
   "execution_count": 9,
   "metadata": {},
   "outputs": [],
   "source": [
    "dt_prediction = model1.predict(X_test)"
   ]
  },
  {
   "cell_type": "code",
   "execution_count": 10,
   "metadata": {},
   "outputs": [
    {
     "name": "stdout",
     "output_type": "stream",
     "text": [
      "Test MSE: 9.34\n"
     ]
    }
   ],
   "source": [
    "dt_mse = round(mean_squared_error(dt_prediction, y_test), 2)\n",
    "print('Test MSE:', dt_mse)"
   ]
  },
  {
   "cell_type": "code",
   "execution_count": 11,
   "metadata": {},
   "outputs": [
    {
     "data": {
      "text/plain": [
       "Text(0, 0.5, 'Ground Truth')"
      ]
     },
     "execution_count": 11,
     "metadata": {},
     "output_type": "execute_result"
    },
    {
     "data": {
      "image/png": "[encoded data removed]",
      "text/plain": [
       "<Figure size 432x288 with 1 Axes>"
      ]
     },
     "metadata": {},
     "output_type": "display_data"
    }
   ],
   "source": [
    "plt.scatter(dt_prediction, y_test)\n",
    "plt.xlabel('Decision Tree prediction')\n",
    "plt.ylabel('Ground Truth')"
   ]
  },
  {
   "cell_type": "markdown",
   "metadata": {},
   "source": [
    "# Random Forest"
   ]
  },
  {
   "cell_type": "code",
   "execution_count": 12,
   "metadata": {},
   "outputs": [],
   "source": [
    "model2 = RandomForestRegressor(\n",
    "    n_estimators=100,\n",
    "    criterion='mse',\n",
    "    max_depth=None,\n",
    "#     min_samples_split=2,\n",
    "#     min_samples_leaf=2,\n",
    "    min_weight_fraction_leaf=0.0,\n",
    "    max_features='auto',\n",
    "    max_leaf_nodes=None,\n",
    "    min_impurity_decrease=0.0,\n",
    "    bootstrap=True,\n",
    "    oob_score=False,\n",
    "    n_jobs=None,\n",
    "    random_state=42,\n",
    "    verbose=0,\n",
    "    warm_start=False,\n",
    "    ccp_alpha=0.0,\n",
    "    max_samples=None\n",
    ")"
   ]
  },
  {
   "cell_type": "code",
   "execution_count": 13,
   "metadata": {},
   "outputs": [
    {
     "data": {
      "text/plain": [
       "RandomForestRegressor(random_state=42)"
      ]
     },
     "execution_count": 13,
     "metadata": {},
     "output_type": "execute_result"
    }
   ],
   "source": [
    "model2.fit(X_train, y_train)"
   ]
  },
  {
   "cell_type": "code",
   "execution_count": 14,
   "metadata": {},
   "outputs": [],
   "source": [
    "rf_prediction = model2.predict(X_test)"
   ]
  },
  {
   "cell_type": "code",
   "execution_count": 15,
   "metadata": {},
   "outputs": [
    {
     "name": "stdout",
     "output_type": "stream",
     "text": [
      "Test MSE: 7.9\n"
     ]
    }
   ],
   "source": [
    "rf_mse = round(mean_squared_error(rf_prediction, y_test), 2)\n",
    "print('Test MSE:', rf_mse)"
   ]
  },
  {
   "cell_type": "code",
   "execution_count": 16,
   "metadata": {},
   "outputs": [
    {
     "data": {
      "text/plain": [
       "Text(0, 0.5, 'Ground Truth')"
      ]
     },
     "execution_count": 16,
     "metadata": {},
     "output_type": "execute_result"
    },
    {
     "data": {
      "image/png": "[encoded data removed]",
      "text/plain": [
       "<Figure size 432x288 with 1 Axes>"
      ]
     },
     "metadata": {},
     "output_type": "display_data"
    }
   ],
   "source": [
    "plt.scatter(rf_prediction, y_test)\n",
    "plt.xlabel('Random Forest prediction')\n",
    "plt.ylabel('Ground Truth')"
   ]
  },
  {
   "cell_type": "markdown",
   "metadata": {},
   "source": [
    "# Analysing feature importance using mean decrease in impurity (MDI)"
   ]
  },
  {
   "cell_type": "markdown",
   "metadata": {},
   "source": [
    "Gini Importance or Mean Decrease in Impurity (MDI) calculates each feature importance as the sum over the number of splits (across all tress) that include the feature, proportionally to the number of samples it splits."
   ]
  },
  {
   "cell_type": "code",
   "execution_count": 17,
   "metadata": {},
   "outputs": [
    {
     "data": {
      "image/png": "[encoded data removed]",
      "text/plain": [
       "<Figure size 432x288 with 1 Axes>"
      ]
     },
     "metadata": {},
     "output_type": "display_data"
    }
   ],
   "source": [
    "importances = model2.feature_importances_\n",
    "forest_importances = pd.Series(importances, index=X.columns)\n",
    "\n",
    "fig, ax = plt.subplots()\n",
    "forest_importances.plot.bar(ax=ax)\n",
    "ax.set_title(\"MDI or Gini Importance\")\n",
    "ax.set_ylabel(\"Mean decrease in impurity\")\n",
    "fig.tight_layout()\n"
   ]
  },
  {
   "cell_type": "markdown",
   "metadata": {},
   "source": [
    "# AdaBoost"
   ]
  },
  {
   "cell_type": "code",
   "execution_count": 18,
   "metadata": {},
   "outputs": [],
   "source": [
    "model3 = AdaBoostRegressor(\n",
    "    n_estimators=1500,\n",
    "    learning_rate=0.05,\n",
    "    loss='square',\n",
    "    random_state=42\n",
    ")"
   ]
  },
  {
   "cell_type": "code",
   "execution_count": 19,
   "metadata": {},
   "outputs": [
    {
     "data": {
      "text/plain": [
       "AdaBoostRegressor(learning_rate=0.05, loss='square', n_estimators=1500,\n",
       "                  random_state=42)"
      ]
     },
     "execution_count": 19,
     "metadata": {},
     "output_type": "execute_result"
    }
   ],
   "source": [
    "model3.fit(X_train, y_train)"
   ]
  },
  {
   "cell_type": "code",
   "execution_count": 20,
   "metadata": {},
   "outputs": [],
   "source": [
    "ada_prediction = model3.predict(X_test)"
   ]
  },
  {
   "cell_type": "code",
   "execution_count": 21,
   "metadata": {},
   "outputs": [
    {
     "name": "stdout",
     "output_type": "stream",
     "text": [
      "Test MSE: 10.54\n"
     ]
    }
   ],
   "source": [
    "ada_mse = round(mean_squared_error(ada_prediction, y_test), 2)\n",
    "print('Test MSE:', ada_mse)"
   ]
  },
  {
   "cell_type": "code",
   "execution_count": 22,
   "metadata": {},
   "outputs": [
    {
     "data": {
      "text/plain": [
       "Text(0, 0.5, 'Ground Truth')"
      ]
     },
     "execution_count": 22,
     "metadata": {},
     "output_type": "execute_result"
    },
    {
     "data": {
      "image/png": "[encoded data removed]",
      "text/plain": [
       "<Figure size 432x288 with 1 Axes>"
      ]
     },
     "metadata": {},
     "output_type": "display_data"
    }
   ],
   "source": [
    "plt.scatter(ada_prediction, y_test)\n",
    "plt.xlabel('Adaboost prediction')\n",
    "plt.ylabel('Ground Truth')"
   ]
  },
  {
   "cell_type": "markdown",
   "metadata": {},
   "source": [
    "# Gradient Boosting Machine"
   ]
  },
  {
   "cell_type": "code",
   "execution_count": 23,
   "metadata": {},
   "outputs": [],
   "source": [
    "model4 = GradientBoostingRegressor(\n",
    "    learning_rate=0.01,\n",
    "    n_estimators=2000,\n",
    "    subsample=1.0, \n",
    "    criterion='mse', \n",
    "    min_samples_split=4, \n",
    "    min_samples_leaf=2, \n",
    "    min_weight_fraction_leaf=0.0, \n",
    "    max_depth=9, \n",
    "    min_impurity_decrease=0.0, \n",
    "    init=None, \n",
    "    random_state=0, \n",
    "    max_features=None,\n",
    "    alpha=0.9,\n",
    "    verbose=0,\n",
    "    max_leaf_nodes=None,\n",
    "    warm_start=False,\n",
    "    validation_fraction=0.1,\n",
    "    n_iter_no_change=None,\n",
    "    tol=0.0001,\n",
    "    ccp_alpha=0.0\n",
    ")"
   ]
  },
  {
   "cell_type": "code",
   "execution_count": 24,
   "metadata": {},
   "outputs": [
    {
     "data": {
      "text/plain": [
       "GradientBoostingRegressor(criterion='mse', learning_rate=0.01, max_depth=9,\n",
       "                          min_samples_leaf=2, min_samples_split=4,\n",
       "                          n_estimators=2000, random_state=0)"
      ]
     },
     "execution_count": 24,
     "metadata": {},
     "output_type": "execute_result"
    }
   ],
   "source": [
    "model4.fit(X_train, y_train)"
   ]
  },
  {
   "cell_type": "code",
   "execution_count": 25,
   "metadata": {},
   "outputs": [],
   "source": [
    "gb_prediction = model4.predict(X_test)"
   ]
  },
  {
   "cell_type": "code",
   "execution_count": 26,
   "metadata": {},
   "outputs": [
    {
     "name": "stdout",
     "output_type": "stream",
     "text": [
      "Test MSE: 7.67\n"
     ]
    }
   ],
   "source": [
    "gb_mse = round(mean_squared_error(gb_prediction, y_test), 2)\n",
    "print('Test MSE:', gb_mse)"
   ]
  },
  {
   "cell_type": "code",
   "execution_count": 27,
   "metadata": {},
   "outputs": [
    {
     "data": {
      "text/plain": [
       "Text(0, 0.5, 'Ground Truth')"
      ]
     },
     "execution_count": 27,
     "metadata": {},
     "output_type": "execute_result"
    },
    {
     "data": {
      "image/png": "[encoded data removed]",
      "text/plain": [
       "<Figure size 432x288 with 1 Axes>"
      ]
     },
     "metadata": {},
     "output_type": "display_data"
    }
   ],
   "source": [
    "plt.scatter(gb_prediction, y_test)\n",
    "plt.xlabel('Gradient Boosting prediction')\n",
    "plt.ylabel('Ground Truth')"
   ]
  },
  {
   "cell_type": "code",
   "execution_count": 28,
   "metadata": {},
   "outputs": [
    {
     "data": {
      "image/png": "[encoded data removed]",
      "text/plain": [
       "<Figure size 432x288 with 1 Axes>"
      ]
     },
     "metadata": {},
     "output_type": "display_data"
    }
   ],
   "source": [
    "importances = model4.feature_importances_\n",
    "forest_importances = pd.Series(importances, index=X.columns)\n",
    "\n",
    "fig, ax = plt.subplots()\n",
    "forest_importances.plot.bar(ax=ax)\n",
    "ax.set_title(\"MDI or Gini Importance\")\n",
    "ax.set_ylabel(\"Mean decrease in impurity\")\n",
    "fig.tight_layout()\n"
   ]
  },
  {
   "cell_type": "markdown",
   "metadata": {},
   "source": [
    "# LightGBM"
   ]
  },
  {
   "cell_type": "code",
   "execution_count": 29,
   "metadata": {},
   "outputs": [],
   "source": [
    "model5 = lgb.LGBMRegressor(\n",
    "    num_leaves=10,\n",
    "    max_depth=5, \n",
    "    random_state=42, \n",
    "    silent=True, \n",
    "    metric='mse',\n",
    "    n_jobs=4, \n",
    "    n_estimators=2000,\n",
    "    colsample_bytree=0.95,\n",
    "    subsample=0.9,\n",
    "    learning_rate=0.05\n",
    ")"
   ]
  },
  {
   "cell_type": "code",
   "execution_count": 30,
   "metadata": {},
   "outputs": [
    {
     "data": {
      "text/plain": [
       "LGBMRegressor(colsample_bytree=0.95, learning_rate=0.05, max_depth=5,\n",
       "              metric='mse', n_estimators=2000, n_jobs=4, num_leaves=10,\n",
       "              random_state=42, subsample=0.9)"
      ]
     },
     "execution_count": 30,
     "metadata": {},
     "output_type": "execute_result"
    }
   ],
   "source": [
    "model5.fit(X_train, y_train)"
   ]
  },
  {
   "cell_type": "code",
   "execution_count": 31,
   "metadata": {},
   "outputs": [],
   "source": [
    "lgbm_prediction = model5.predict(X_test)"
   ]
  },
  {
   "cell_type": "code",
   "execution_count": 32,
   "metadata": {},
   "outputs": [
    {
     "name": "stdout",
     "output_type": "stream",
     "text": [
      "Test MSE: 6.57\n"
     ]
    }
   ],
   "source": [
    "lgb_mse = round(mean_squared_error(lgbm_prediction, y_test), 2)\n",
    "print('Test MSE:', lgb_mse)"
   ]
  },
  {
   "cell_type": "code",
   "execution_count": 33,
   "metadata": {},
   "outputs": [
    {
     "data": {
      "text/plain": [
       "Text(0, 0.5, 'Ground Truth')"
      ]
     },
     "execution_count": 33,
     "metadata": {},
     "output_type": "execute_result"
    },
    {
     "data": {
      "image/png": "[encoded data removed]",
      "text/plain": [
       "<Figure size 432x288 with 1 Axes>"
      ]
     },
     "metadata": {},
     "output_type": "display_data"
    }
   ],
   "source": [
    "plt.scatter(lgbm_prediction, y_test)\n",
    "plt.xlabel('LightGBM prediction')\n",
    "plt.ylabel('Ground Truth')"
   ]
  },
  {
   "cell_type": "code",
   "execution_count": 34,
   "metadata": {},
   "outputs": [
    {
     "data": {
      "image/png": "[encoded data removed]",
      "text/plain": [
       "<Figure size 432x288 with 1 Axes>"
      ]
     },
     "metadata": {},
     "output_type": "display_data"
    }
   ],
   "source": [
    "importances = model5.feature_importances_\n",
    "forest_importances = pd.Series(importances, index=X.columns)\n",
    "\n",
    "fig, ax = plt.subplots()\n",
    "forest_importances.plot.bar(ax=ax)\n",
    "ax.set_title(\"Gini Importance\")\n",
    "ax.set_ylabel(\"Importance\")\n",
    "fig.tight_layout()"
   ]
  },
  {
   "cell_type": "markdown",
   "metadata": {},
   "source": [
    "# CatBoost"
   ]
  },
  {
   "cell_type": "code",
   "execution_count": 35,
   "metadata": {},
   "outputs": [],
   "source": [
    "model6 = CatBoostRegressor(\n",
    "    n_estimators=500,\n",
    "    learning_rate=0.1,\n",
    "    thread_count=-1,\n",
    "    depth=7,\n",
    "    silent=True,\n",
    "    random_seed=42,\n",
    "    bagging_temperature=0.2\n",
    "#     od_type=\"Iter\"\n",
    ")"
   ]
  },
  {
   "cell_type": "code",
   "execution_count": 36,
   "metadata": {},
   "outputs": [
    {
     "data": {
      "text/plain": [
       "<catboost.core.CatBoostRegressor at 0x1358ee3a0>"
      ]
     },
     "execution_count": 36,
     "metadata": {},
     "output_type": "execute_result"
    }
   ],
   "source": [
    "model6.fit(X_train, y_train)"
   ]
  },
  {
   "cell_type": "code",
   "execution_count": 37,
   "metadata": {},
   "outputs": [],
   "source": [
    "cat_prediction = model6.predict(X_test)"
   ]
  },
  {
   "cell_type": "code",
   "execution_count": 38,
   "metadata": {},
   "outputs": [
    {
     "name": "stdout",
     "output_type": "stream",
     "text": [
      "Test MSE: 8.35\n"
     ]
    }
   ],
   "source": [
    "cat_mse = round(mean_squared_error(cat_prediction, y_test), 2)\n",
    "print('Test MSE:', cat_mse)"
   ]
  },
  {
   "cell_type": "code",
   "execution_count": 39,
   "metadata": {},
   "outputs": [
    {
     "data": {
      "text/plain": [
       "Text(0, 0.5, 'Ground Truth')"
      ]
     },
     "execution_count": 39,
     "metadata": {},
     "output_type": "execute_result"
    },
    {
     "data": {
      "image/png": "[encoded data removed]",
      "text/plain": [
       "<Figure size 432x288 with 1 Axes>"
      ]
     },
     "metadata": {},
     "output_type": "display_data"
    }
   ],
   "source": [
    "plt.scatter(cat_prediction, y_test)\n",
    "plt.xlabel('CatBoost prediction')\n",
    "plt.ylabel('Ground Truth')"
   ]
  },
  {
   "cell_type": "markdown",
   "metadata": {},
   "source": [
    "# Stacking"
   ]
  },
  {
   "cell_type": "code",
   "execution_count": 40,
   "metadata": {},
   "outputs": [
    {
     "data": {
      "text/html": [
       "<div>\n",
       "<style scoped>\n",
       "    .dataframe tbody tr th:only-of-type {\n",
       "        vertical-align: middle;\n",
       "    }\n",
       "\n",
       "    .dataframe tbody tr th {\n",
       "        vertical-align: top;\n",
       "    }\n",
       "\n",
       "    .dataframe thead th {\n",
       "        text-align: right;\n",
       "    }\n",
       "</style>\n",
       "<table border=\"1\" class=\"dataframe\">\n",
       "  <thead>\n",
       "    <tr style=\"text-align: right;\">\n",
       "      <th></th>\n",
       "      <th>MSE</th>\n",
       "    </tr>\n",
       "  </thead>\n",
       "  <tbody>\n",
       "    <tr>\n",
       "      <th>Decision Tree</th>\n",
       "      <td>9.34</td>\n",
       "    </tr>\n",
       "    <tr>\n",
       "      <th>Random Forest</th>\n",
       "      <td>7.90</td>\n",
       "    </tr>\n",
       "    <tr>\n",
       "      <th>AdaBoost</th>\n",
       "      <td>10.54</td>\n",
       "    </tr>\n",
       "    <tr>\n",
       "      <th>GBM</th>\n",
       "      <td>7.67</td>\n",
       "    </tr>\n",
       "    <tr>\n",
       "      <th>LightGBM</th>\n",
       "      <td>6.57</td>\n",
       "    </tr>\n",
       "    <tr>\n",
       "      <th>CatBoost</th>\n",
       "      <td>8.35</td>\n",
       "    </tr>\n",
       "  </tbody>\n",
       "</table>\n",
       "</div>"
      ],
      "text/plain": [
       "                 MSE\n",
       "Decision Tree   9.34\n",
       "Random Forest   7.90\n",
       "AdaBoost       10.54\n",
       "GBM             7.67\n",
       "LightGBM        6.57\n",
       "CatBoost        8.35"
      ]
     },
     "execution_count": 40,
     "metadata": {},
     "output_type": "execute_result"
    }
   ],
   "source": [
    "acc = pd.DataFrame(\n",
    "    {'Decision Tree': dt_mse,\n",
    "     'Random Forest': rf_mse,\n",
    "     'AdaBoost':      ada_mse,\n",
    "     'GBM':           gb_mse,\n",
    "     'LightGBM':      lgb_mse,\n",
    "     'CatBoost':      cat_mse},\n",
    "    index=[0]\n",
    ")\n",
    "acc = acc.T\n",
    "acc.columns = ['MSE']\n",
    "acc"
   ]
  },
  {
   "cell_type": "markdown",
   "metadata": {},
   "source": [
    "## Simple averaging"
   ]
  },
  {
   "cell_type": "code",
   "execution_count": 41,
   "metadata": {},
   "outputs": [
    {
     "name": "stdout",
     "output_type": "stream",
     "text": [
      "Test MSE: 8.38\n"
     ]
    }
   ],
   "source": [
    "# Let's average some models\n",
    "avg_prediction = np.mean([dt_prediction, ada_prediction], axis=0)\n",
    "print('Test MSE:', round(mean_squared_error(avg_prediction, y_test), 2))"
   ]
  },
  {
   "cell_type": "code",
   "execution_count": 42,
   "metadata": {},
   "outputs": [
    {
     "name": "stdout",
     "output_type": "stream",
     "text": [
      "Test MSE: 6.17\n"
     ]
    }
   ],
   "source": [
    "avg_prediction = np.mean([gb_prediction, lgbm_prediction], axis=0)\n",
    "print('Test MSE:', round(mean_squared_error(avg_prediction, y_test), 2))"
   ]
  },
  {
   "cell_type": "code",
   "execution_count": 43,
   "metadata": {},
   "outputs": [
    {
     "name": "stdout",
     "output_type": "stream",
     "text": [
      "Test MSE: 6.04\n"
     ]
    }
   ],
   "source": [
    "avg_prediction = np.average(\n",
    "    [dt_prediction,\n",
    "     lgbm_prediction,\n",
    "     ada_prediction,\n",
    "     gb_prediction,\n",
    "     lgbm_prediction,\n",
    "     cat_prediction\n",
    "    ],\n",
    "    weights = 1 / acc['MSE'] ** 4,\n",
    "    axis=0\n",
    ")\n",
    "print('Test MSE:', round(mean_squared_error(avg_prediction, y_test), 2))"
   ]
  },
  {
   "cell_type": "code",
   "execution_count": 44,
   "metadata": {},
   "outputs": [
    {
     "data": {
      "text/plain": [
       "Text(0, 0.5, 'Ground Truth')"
      ]
     },
     "execution_count": 44,
     "metadata": {},
     "output_type": "execute_result"
    },
    {
     "data": {
      "image/png": "[encoded data removed]",
      "text/plain": [
       "<Figure size 432x288 with 1 Axes>"
      ]
     },
     "metadata": {},
     "output_type": "display_data"
    }
   ],
   "source": [
    "plt.scatter(avg_prediction, y_test)\n",
    "plt.xlabel('Average Prediction')\n",
    "plt.ylabel('Ground Truth')"
   ]
  },
  {
   "cell_type": "markdown",
   "metadata": {},
   "source": [
    "## True Stacking"
   ]
  },
  {
   "cell_type": "markdown",
   "metadata": {},
   "source": [
    "![alt text](stacking.png \"Stacking\")"
   ]
  },
  {
   "cell_type": "markdown",
   "metadata": {},
   "source": [
    "## First step"
   ]
  },
  {
   "cell_type": "code",
   "execution_count": 45,
   "metadata": {},
   "outputs": [],
   "source": [
    "ntrain = X_train.shape[0]\n",
    "ntest = X_test.shape[0]\n",
    "SEED = 42 # for reproducibility\n",
    "NFOLDS = 5 # set number of folds for out-of-fold prediction\n",
    "kf = KFold(\n",
    "    n_splits=NFOLDS,\n",
    "    shuffle=True,\n",
    "    random_state=SEED\n",
    ") # K-Folds cross-validator\n",
    "\n",
    "def get_oof(clf, x_train, y_train, x_test):\n",
    "    \"\"\"\n",
    "    Popular function on Kaggle.\n",
    "    \n",
    "    Trains a classifier on 4/5 of the training data and\n",
    "    predicts the rest (1/5). This procedure is repeated for all 5 folds,\n",
    "    thus we have predictions for all training set. This prediction is one\n",
    "    column of meta-data, later on used as a feature column by a meta-algorithm.\n",
    "    We predict the test part and average predictions across all 5 models.\n",
    "    \n",
    "    Keyword arguments:\n",
    "    clf -- classifier\n",
    "    x_train -- 4/5 of training data\n",
    "    y_train -- corresponding labels\n",
    "    x_test -- all test data\n",
    "    \n",
    "    \"\"\"\n",
    "    oof_train = np.zeros((ntrain,))\n",
    "    oof_test = np.zeros((ntest,))\n",
    "    oof_test_skf = np.empty((NFOLDS, ntest))\n",
    "\n",
    "    for i, (train_index, test_index) in enumerate(kf.split(x_train)):\n",
    "        x_tr = x_train[train_index]\n",
    "        y_tr = y_train[train_index]\n",
    "        x_te = x_train[test_index]\n",
    "\n",
    "        clf.fit(x_tr, y_tr)\n",
    "\n",
    "        oof_train[test_index] = clf.predict(x_te)\n",
    "        oof_test_skf[i, :] = clf.predict(x_test)\n",
    "\n",
    "    oof_test[:] = oof_test_skf.mean(axis=0)\n",
    "    return oof_train.reshape(-1, 1), oof_test.reshape(-1, 1)"
   ]
  },
  {
   "cell_type": "code",
   "execution_count": 46,
   "metadata": {},
   "outputs": [],
   "source": [
    "model1 = DecisionTreeRegressor(\n",
    "    criterion = 'mse',\n",
    "    max_depth = 5,\n",
    "    min_samples_split = 4,\n",
    "    min_samples_leaf = 2,\n",
    "    random_state=SEED\n",
    ")\n",
    "\n",
    "model2 = RandomForestRegressor(\n",
    "    n_estimators=100,\n",
    "    criterion='mse',\n",
    "    max_depth=None,\n",
    "    min_weight_fraction_leaf=0.0,\n",
    "    max_features='auto',\n",
    "    max_leaf_nodes=None,\n",
    "    min_impurity_decrease=0.0,\n",
    "    bootstrap=True,\n",
    "    oob_score=False,\n",
    "    n_jobs=None,\n",
    "    random_state=SEED,\n",
    "    verbose=0,\n",
    "    warm_start=False,\n",
    "    ccp_alpha=0.0,\n",
    "    max_samples=None\n",
    ")\n",
    "\n",
    "model3 = AdaBoostRegressor(\n",
    "    n_estimators=1500,\n",
    "    learning_rate=0.05,\n",
    "    loss='square',\n",
    "    random_state=SEED\n",
    ")\n",
    "\n",
    "model4 = GradientBoostingRegressor(\n",
    "    learning_rate=0.01,\n",
    "    n_estimators=2000,\n",
    "    subsample=1.0, \n",
    "    criterion='mse', \n",
    "    min_samples_split=4, \n",
    "    min_samples_leaf=2, \n",
    "    min_weight_fraction_leaf=0.0, \n",
    "    max_depth=9, \n",
    "    min_impurity_decrease=0.0, \n",
    "    init=None, \n",
    "    random_state=42, \n",
    "    max_features=None,\n",
    "    alpha=0.9,\n",
    "    verbose=0,\n",
    "    max_leaf_nodes=None,\n",
    "    warm_start=False,\n",
    "    validation_fraction=0.1,\n",
    "    n_iter_no_change=None,\n",
    "    tol=0.0001,\n",
    "    ccp_alpha=0.0\n",
    ")\n",
    "\n",
    "model5 = lgb.LGBMRegressor(\n",
    "    num_leaves=10,\n",
    "    max_depth=5, \n",
    "    random_state=SEED, \n",
    "    silent=True, \n",
    "    metric='mse',\n",
    "    n_jobs=4, \n",
    "    n_estimators=2000,\n",
    "    colsample_bytree=0.95,\n",
    "    subsample=0.9,\n",
    "    learning_rate=0.05\n",
    ")\n",
    "\n",
    "model6 = CatBoostRegressor(\n",
    "    n_estimators=500,\n",
    "    learning_rate=0.1,\n",
    "    thread_count=-1,\n",
    "    depth=7,\n",
    "    silent=True,\n",
    "    random_seed=SEED,\n",
    "    bagging_temperature=0.2\n",
    ")"
   ]
  },
  {
   "cell_type": "code",
   "execution_count": 56,
   "metadata": {},
   "outputs": [
    {
     "name": "stdout",
     "output_type": "stream",
     "text": [
      "All preictions for train set: 404\n",
      "All preictions for test set: 102\n"
     ]
    },
    {
     "data": {
      "text/plain": [
       "array([[22.00979099],\n",
       "       [29.04425641],\n",
       "       [18.45621285],\n",
       "       [22.92620921],\n",
       "       [15.55391539],\n",
       "       [21.56856282],\n",
       "       [18.32729344],\n",
       "       [16.83537952],\n",
       "       [21.56856282],\n",
       "       [20.66967236],\n",
       "       [18.45621285],\n",
       "       [18.45621285],\n",
       "       [ 9.06080056],\n",
       "       [21.56856282],\n",
       "       [20.66967236],\n",
       "       [28.418     ],\n",
       "       [18.45621285],\n",
       "       [10.13703133],\n",
       "       [44.72971429],\n",
       "       [14.47033467],\n",
       "       [22.5806125 ],\n",
       "       [22.5806125 ],\n",
       "       [14.19986987],\n",
       "       [22.93895918],\n",
       "       [13.11956543],\n",
       "       [13.80127839],\n",
       "       [21.11090052],\n",
       "       [13.81833467],\n",
       "       [18.45621285],\n",
       "       [20.66967236],\n",
       "       [18.33940476],\n",
       "       [22.5806125 ],\n",
       "       [33.02      ],\n",
       "       [20.66967236],\n",
       "       [14.71102578],\n",
       "       [15.04275948],\n",
       "       [33.94108726],\n",
       "       [20.66967236],\n",
       "       [20.23429487],\n",
       "       [22.00979099],\n",
       "       [18.25262821],\n",
       "       [28.96442424],\n",
       "       [44.72971429],\n",
       "       [20.66967236],\n",
       "       [22.00979099],\n",
       "       [13.11956543],\n",
       "       [15.0257032 ],\n",
       "       [22.5806125 ],\n",
       "       [16.77111013],\n",
       "       [27.96125641],\n",
       "       [20.66967236],\n",
       "       [32.85042059],\n",
       "       [15.53685911],\n",
       "       [25.74987522],\n",
       "       [46.31      ],\n",
       "       [21.56856282],\n",
       "       [15.55391539],\n",
       "       [30.65417798],\n",
       "       [22.00979099],\n",
       "       [20.66679487],\n",
       "       [27.28987522],\n",
       "       [33.94108726],\n",
       "       [27.16858974],\n",
       "       [20.66967236],\n",
       "       [27.96125641],\n",
       "       [15.5377381 ],\n",
       "       [13.11956543],\n",
       "       [22.5806125 ],\n",
       "       [28.80925641],\n",
       "       [15.55391539],\n",
       "       [20.66967236],\n",
       "       [34.43654189],\n",
       "       [10.13703133],\n",
       "       [22.92620921],\n",
       "       [21.56856282],\n",
       "       [ 9.06080056],\n",
       "       [21.56856282],\n",
       "       [45.66      ],\n",
       "       [12.18705314],\n",
       "       [16.3242236 ],\n",
       "       [21.11090052],\n",
       "       [15.06867521],\n",
       "       [21.11090052],\n",
       "       [10.13703133],\n",
       "       [20.66967236],\n",
       "       [27.28987522],\n",
       "       [15.55391539],\n",
       "       [22.5806125 ],\n",
       "       [22.5806125 ],\n",
       "       [17.23556068],\n",
       "       [20.66967236],\n",
       "       [ 9.06080056],\n",
       "       [21.56856282],\n",
       "       [20.66967236],\n",
       "       [21.68172203],\n",
       "       [21.56856282],\n",
       "       [37.8553125 ],\n",
       "       [14.70444444],\n",
       "       [12.98151648],\n",
       "       [15.06867521],\n",
       "       [20.66967236],\n",
       "       [22.00979099]])"
      ]
     },
     "execution_count": 56,
     "metadata": {},
     "output_type": "execute_result"
    }
   ],
   "source": [
    "X_train = X_train\n",
    "X_test = X_test\n",
    "y_train = y_train\n",
    "# dt predictions for train data, dt predictions for test data\n",
    "dt_oof_train, dt_oof_test = get_oof(model1, X_train, y_train, X_test)\n",
    "print('All preictions for train set:', len(dt_oof_train))\n",
    "print('All preictions for test set:', len(dt_oof_test))\n",
    "dt_oof_test"
   ]
  },
  {
   "cell_type": "code",
   "execution_count": 50,
   "metadata": {},
   "outputs": [],
   "source": [
    "rf_oof_train, rf_oof_test = get_oof(model2, X_train, y_train, X_test)\n",
    "ada_oof_train, ada_oof_test = get_oof(model3, X_train, y_train, X_test)\n",
    "gb_oof_train, gb_oof_test = get_oof(model4, X_train, y_train, X_test)\n",
    "lgbm_oof_train, lgbm_oof_test = get_oof(model5, X_train, y_train, X_test)\n",
    "cat_oof_train, cat_oof_test = get_oof(model6, X_train, y_train, X_test)"
   ]
  },
  {
   "cell_type": "markdown",
   "metadata": {},
   "source": [
    "### First-level output as new features\n"
   ]
  },
  {
   "cell_type": "markdown",
   "metadata": {},
   "source": [
    "## Second step"
   ]
  },
  {
   "cell_type": "code",
   "execution_count": 52,
   "metadata": {},
   "outputs": [
    {
     "data": {
      "text/plain": [
       "array([[22.00979099, 22.7906    , 25.25687858, 23.81398772, 26.53155786,\n",
       "        24.6354869 ],\n",
       "       [29.04425641, 31.6402    , 30.52017489, 31.66328404, 34.58137929,\n",
       "        31.09317872],\n",
       "       [18.45621285, 16.9134    , 17.35422702, 18.22838451, 15.88723968,\n",
       "        16.38416856],\n",
       "       [22.92620921, 23.4328    , 26.10427016, 23.39296317, 22.76053019,\n",
       "        23.52863905],\n",
       "       [15.55391539, 16.6156    , 17.17563993, 17.14533563, 17.06637784,\n",
       "        16.77306107],\n",
       "       [21.56856282, 21.5008    , 21.90617607, 21.22834999, 21.6470854 ,\n",
       "        21.58888465],\n",
       "       [18.32729344, 19.1624    , 18.55238018, 19.08852737, 19.14286192,\n",
       "        18.20015538],\n",
       "       [16.83537952, 15.6848    , 15.68225674, 15.5983238 , 16.27390369,\n",
       "        15.31550306],\n",
       "       [21.56856282, 21.1332    , 20.16496307, 20.88013219, 21.90852242,\n",
       "        21.53689666],\n",
       "       [20.66967236, 20.7778    , 19.38489933, 20.65836761, 19.91835271,\n",
       "        20.05614156],\n",
       "       [18.45621285, 20.293     , 18.81187879, 21.54828874, 21.12890023,\n",
       "        21.7120571 ],\n",
       "       [18.45621285, 19.5188    , 19.12933261, 19.63767969, 19.49968677,\n",
       "        18.84132478],\n",
       "       [ 9.06080056,  8.5926    , 10.97809792,  9.07528868,  5.31625548,\n",
       "         7.75418741],\n",
       "       [21.56856282, 21.5728    , 21.67750553, 21.84129171, 21.33313514,\n",
       "        21.50345133],\n",
       "       [20.66967236, 19.675     , 20.77391034, 18.90737662, 18.56225402,\n",
       "        18.96850746],\n",
       "       [28.418     , 27.0192    , 22.92750161, 28.23511463, 26.00480579,\n",
       "        25.03631621],\n",
       "       [18.45621285, 19.1126    , 19.1831486 , 19.40034889, 20.01675914,\n",
       "        19.99421869],\n",
       "       [10.13703133,  8.5488    , 11.90029292,  8.27690746,  8.3640106 ,\n",
       "         9.44928498],\n",
       "       [44.72971429, 44.5078    , 44.43818854, 44.65390483, 45.19126702,\n",
       "        43.58170119],\n",
       "       [14.47033467, 14.8766    , 16.471995  , 15.49905456, 15.08722425,\n",
       "        13.73250305],\n",
       "       [22.5806125 , 24.6902    , 27.08905871, 25.080061  , 25.26277704,\n",
       "        24.75680565],\n",
       "       [22.5806125 , 23.9404    , 27.11380753, 24.14295022, 25.82411611,\n",
       "        25.46665181],\n",
       "       [14.19986987, 14.6688    , 16.92356906, 13.99302023, 13.13842094,\n",
       "        13.42961202],\n",
       "       [22.93895918, 23.0982    , 20.92100035, 23.22986116, 21.75261872,\n",
       "        21.36960808],\n",
       "       [13.11956543, 14.7804    , 16.00656901, 14.23700604, 15.12700356,\n",
       "        15.28100014],\n",
       "       [13.80127839, 14.7828    , 17.86933453, 14.12005499, 15.46315285,\n",
       "        15.52281108],\n",
       "       [21.11090052, 21.3418    , 22.91917387, 21.52407441, 23.21602367,\n",
       "        22.13298314],\n",
       "       [13.81833467, 14.2524    , 16.10093517, 13.91837201, 13.36953572,\n",
       "        13.03603015],\n",
       "       [18.45621285, 19.3304    , 18.75289861, 19.66691668, 20.74513632,\n",
       "        20.6884347 ],\n",
       "       [20.66967236, 20.8628    , 19.54926046, 21.09217511, 21.1286769 ,\n",
       "        20.43048948],\n",
       "       [18.33940476, 19.649     , 20.47456454, 20.33525385, 20.38891413,\n",
       "        20.58421934],\n",
       "       [22.5806125 , 23.3072    , 26.04055967, 23.50983453, 23.01897495,\n",
       "        23.23044615],\n",
       "       [33.02      , 29.597     , 20.42274857, 27.49798383, 22.7105188 ,\n",
       "        22.13761858],\n",
       "       [20.66967236, 20.5654    , 18.92331082, 18.92288142, 22.44809527,\n",
       "        21.58101275],\n",
       "       [14.71102578, 14.5276    , 16.43515675, 13.90000888, 15.44877269,\n",
       "        15.05761695],\n",
       "       [15.04275948, 16.1424    , 17.09330539, 15.54841817, 14.70157726,\n",
       "        16.41446964],\n",
       "       [33.94108726, 35.5808    , 35.43231845, 34.01831976, 33.75007116,\n",
       "        36.03923191],\n",
       "       [20.66967236, 19.4432    , 21.63528714, 19.15080413, 18.14979833,\n",
       "        18.60222047],\n",
       "       [20.23429487, 20.9226    , 19.99917246, 21.2423449 , 23.60974157,\n",
       "        23.12687604],\n",
       "       [22.00979099, 24.2434    , 25.86058922, 24.70635277, 23.60586765,\n",
       "        23.5970999 ],\n",
       "       [18.25262821, 18.9682    , 17.4125563 , 19.7355092 , 18.69429856,\n",
       "        18.23711204],\n",
       "       [28.96442424, 29.3556    , 28.45843581, 29.9479901 , 29.14487064,\n",
       "        29.73865752],\n",
       "       [44.72971429, 44.3514    , 44.69568322, 44.51612231, 46.01806012,\n",
       "        42.98734273],\n",
       "       [20.66967236, 19.2982    , 20.3188172 , 19.17107186, 20.2455559 ,\n",
       "        19.27343422],\n",
       "       [22.00979099, 22.7854    , 24.86176724, 22.21536655, 24.90139094,\n",
       "        22.99733   ],\n",
       "       [13.11956543, 13.6852    , 15.68823304, 13.87553051, 13.80318676,\n",
       "        13.66709979],\n",
       "       [15.0257032 , 15.3402    , 18.12600675, 14.89632098, 14.84188405,\n",
       "        14.47519185],\n",
       "       [22.5806125 , 24.3826    , 26.21319395, 24.68674182, 24.11090818,\n",
       "        24.17755211],\n",
       "       [16.77111013, 18.3556    , 18.55227972, 18.56323378, 19.62711455,\n",
       "        19.55856127],\n",
       "       [27.96125641, 27.9326    , 26.74084038, 27.44707636, 28.06511846,\n",
       "        25.04748995],\n",
       "       [20.66967236, 20.9992    , 20.95489593, 21.70760703, 21.46629815,\n",
       "        21.78254168],\n",
       "       [32.85042059, 33.6594    , 33.78285304, 33.65303875, 37.25594772,\n",
       "        36.82728467],\n",
       "       [15.53685911, 16.6304    , 18.67635956, 16.4868682 , 17.79026193,\n",
       "        18.43516752],\n",
       "       [25.74987522, 25.7506    , 25.26542369, 26.8294665 , 25.59417163,\n",
       "        25.57212516],\n",
       "       [46.31      , 44.9758    , 45.52174241, 45.72054045, 49.05306435,\n",
       "        43.48645162],\n",
       "       [21.56856282, 21.8026    , 20.8140911 , 22.72004779, 21.54485958,\n",
       "        21.99643453],\n",
       "       [15.55391539, 15.5136    , 16.83973799, 16.12603543, 14.73057405,\n",
       "        14.31651651],\n",
       "       [30.65417798, 31.9628    , 30.47117372, 32.63474711, 33.37104228,\n",
       "        32.31562831],\n",
       "       [22.00979099, 22.284     , 24.61851877, 22.43705878, 22.07636668,\n",
       "        22.10253609],\n",
       "       [20.66679487, 20.4752    , 18.69474533, 20.67111684, 19.37301162,\n",
       "        19.59916302],\n",
       "       [27.28987522, 25.6474    , 24.54867537, 25.85295448, 24.88817296,\n",
       "        24.16261345],\n",
       "       [33.94108726, 33.9192    , 33.31072424, 33.31307246, 35.4443556 ,\n",
       "        35.65256046],\n",
       "       [27.16858974, 29.8888    , 28.91199799, 29.06692345, 34.85615806,\n",
       "        30.90238425],\n",
       "       [20.66967236, 18.6706    , 19.36579421, 18.59876332, 16.85396635,\n",
       "        18.32528609],\n",
       "       [27.96125641, 26.8818    , 26.62684842, 26.43318385, 23.40893125,\n",
       "        23.72260162],\n",
       "       [15.5377381 , 16.9648    , 17.87716288, 16.64785916, 17.54899887,\n",
       "        18.74901444],\n",
       "       [13.11956543, 13.856     , 15.90460478, 14.06505936, 12.13708284,\n",
       "        13.98697288],\n",
       "       [22.5806125 , 23.1814    , 25.80172466, 23.17462095, 23.55366272,\n",
       "        23.81327253],\n",
       "       [28.80925641, 28.6452    , 27.81856844, 28.35106595, 30.27220339,\n",
       "        28.86725891],\n",
       "       [15.55391539, 15.5594    , 16.50747438, 15.42320707, 16.20676195,\n",
       "        14.53870682],\n",
       "       [20.66967236, 20.575     , 21.32983057, 20.9599778 , 20.71922264,\n",
       "        20.37280055],\n",
       "       [34.43654189, 28.3944    , 24.85649653, 30.72813875, 25.49319972,\n",
       "        25.4192304 ],\n",
       "       [10.13703133, 10.4226    , 12.00461526, 10.5051448 , 10.59243516,\n",
       "        11.32650665],\n",
       "       [22.92620921, 21.9278    , 25.70185357, 21.60277958, 20.95849351,\n",
       "        20.75639704],\n",
       "       [21.56856282, 21.9672    , 21.95764281, 22.16854435, 22.18264691,\n",
       "        22.47460735],\n",
       "       [ 9.06080056,  7.595     , 10.83091256,  6.86677898,  7.46594044,\n",
       "         7.23051124],\n",
       "       [21.56856282, 20.3266    , 20.82668511, 20.16929632, 21.30145484,\n",
       "        20.56008573],\n",
       "       [45.66      , 44.8352    , 44.86427159, 46.06600983, 46.25319309,\n",
       "        43.85899884],\n",
       "       [12.18705314, 11.2538    , 12.52145402, 11.68492668,  9.69560619,\n",
       "        10.83851423],\n",
       "       [16.3242236 , 13.0956    , 14.5167973 , 12.31724764, 12.12828796,\n",
       "        12.50992049],\n",
       "       [21.11090052, 21.3912    , 23.19943452, 21.76426448, 23.05913743,\n",
       "        21.52176867],\n",
       "       [15.06867521, 12.6172    , 15.629397  , 12.52576784, 16.19958325,\n",
       "        14.12715669],\n",
       "       [21.11090052, 20.4292    , 23.4985916 , 19.0051528 , 20.94903455,\n",
       "        20.04638992],\n",
       "       [10.13703133,  9.702     , 11.98625743,  9.23124782,  8.89730289,\n",
       "        10.21181631],\n",
       "       [20.66967236, 20.4854    , 20.54926676, 19.66583276, 19.24312215,\n",
       "        19.44693264],\n",
       "       [27.28987522, 26.7918    , 25.91457972, 27.6378779 , 30.29956886,\n",
       "        27.24364521],\n",
       "       [15.55391539, 15.8398    , 17.27704097, 15.244112  , 16.13177503,\n",
       "        15.90487513],\n",
       "       [22.5806125 , 23.463     , 26.13634741, 23.23862622, 22.71394006,\n",
       "        23.44325218],\n",
       "       [22.5806125 , 23.9474    , 25.83764649, 23.81981799, 23.84858547,\n",
       "        24.52206326],\n",
       "       [17.23556068, 17.8718    , 18.89652956, 17.67055279, 17.598782  ,\n",
       "        18.80570894],\n",
       "       [20.66967236, 21.6762    , 22.58386608, 22.17096698, 22.21360869,\n",
       "        22.91684289],\n",
       "       [ 9.06080056,  8.382     , 11.05758583,  8.50320495,  6.969972  ,\n",
       "         9.50412546],\n",
       "       [21.56856282, 19.5468    , 20.44680729, 19.2682914 , 18.81460327,\n",
       "        19.82637461],\n",
       "       [20.66967236, 19.0988    , 20.62040787, 18.33367502, 17.1961986 ,\n",
       "        18.25966392],\n",
       "       [21.68172203, 23.939     , 25.7098438 , 19.86485478, 25.68659229,\n",
       "        28.06197278],\n",
       "       [21.56856282, 19.8228    , 20.61345538, 19.38569657, 20.41100945,\n",
       "        20.03257948],\n",
       "       [37.8553125 , 35.2292    , 31.349913  , 41.46939382, 35.44855674,\n",
       "        32.80018135],\n",
       "       [14.70444444, 12.1688    , 14.55196176, 13.53152496, 10.86281981,\n",
       "        10.29836734],\n",
       "       [12.98151648, 12.4496    , 15.01020907, 12.23868653, 12.62002961,\n",
       "        11.84384241],\n",
       "       [15.06867521, 13.2486    , 16.52234025, 14.35243325, 15.7640753 ,\n",
       "        14.67444814],\n",
       "       [20.66967236, 20.2578    , 22.03703598, 20.08601634, 19.48369265,\n",
       "        19.99403423],\n",
       "       [22.00979099, 23.6416    , 23.98085042, 24.60671808, 24.934068  ,\n",
       "        23.66494321]])"
      ]
     },
     "execution_count": 52,
     "metadata": {},
     "output_type": "execute_result"
    }
   ],
   "source": [
    "# row 1: dt_pred, rf_pred, ada_pred, gb_pred, lgbm_pred, cat_pred\n",
    "# row 2: dt_pred, rf_pred, ada_pred, gb_pred, lgbm_pred, cat_pred\n",
    "# row 3: ...\n",
    "# row 4: ...\n",
    "# .\n",
    "# .\n",
    "# .\n",
    "x_train = np.concatenate((\n",
    "    dt_oof_train,\n",
    "    rf_oof_train,\n",
    "    ada_oof_train,\n",
    "    gb_oof_train,\n",
    "    lgbm_oof_train,\n",
    "    cat_oof_train\n",
    "), axis=1)\n",
    "\n",
    "x_test = np.concatenate((\n",
    "    dt_oof_test,\n",
    "    rf_oof_test,\n",
    "    ada_oof_test,\n",
    "    gb_oof_test,\n",
    "    lgbm_oof_test,\n",
    "    cat_oof_test\n",
    "), axis=1)\n",
    "x_test"
   ]
  },
  {
   "cell_type": "raw",
   "metadata": {},
   "source": [
    "META_MODEL = lgb.LGBMRegressor(\n",
    "    num_leaves=5,\n",
    "    max_depth=7, \n",
    "    random_state=SEED, \n",
    "    silent=True, \n",
    "    metric='mse',\n",
    "    n_jobs=4, \n",
    "    n_estimators=200,\n",
    "    colsample_bytree=1,\n",
    "    subsample=0.9,\n",
    "    learning_rate=0.05\n",
    ")\n",
    "\n",
    "# fit with estimations of training data and decrease the error in predicting the true data\n",
    "META_MODEL.fit(x_train, y_train)\n",
    "# predict the test data based on the output of the other models\n",
    "final_predictions = META_MODEL.predict(x_test)\n"
   ]
  },
  {
   "cell_type": "code",
   "execution_count": 51,
   "metadata": {},
   "outputs": [
    {
     "name": "stdout",
     "output_type": "stream",
     "text": [
      "Test MSE: 5.99\n"
     ]
    }
   ],
   "source": [
    "cat_mse = round(mean_squared_error(final_predictions, y_test), 2)\n",
    "print('Test MSE:', cat_mse)"
   ]
  },
  {
   "cell_type": "code",
   "execution_count": 52,
   "metadata": {},
   "outputs": [
    {
     "data": {
      "text/plain": [
       "Text(0, 0.5, 'Ground Truth')"
      ]
     },
     "execution_count": 52,
     "metadata": {},
     "output_type": "execute_result"
    },
    {
     "data": {
      "image/png": "[encoded data removed]",
      "text/plain": [
       "<Figure size 432x288 with 1 Axes>"
      ]
     },
     "metadata": {},
     "output_type": "display_data"
    }
   ],
   "source": [
    "plt.scatter(final_predictions, y_test)\n",
    "plt.xlabel('Stacked Prediction')\n",
    "plt.ylabel('Ground Truth')"
   ]
  },
  {
   "cell_type": "code",
   "execution_count": null,
   "metadata": {},
   "outputs": [],
   "source": []
  }
 ],
 "metadata": {
  "kernelspec": {
   "display_name": "Python 3 (ipykernel)",
   "language": "python",
   "name": "python3"
  },
  "language_info": {
   "codemirror_mode": {
    "name": "ipython",
    "version": 3
   },
   "file_extension": ".py",
   "mimetype": "text/x-python",
   "name": "python",
   "nbconvert_exporter": "python",
   "pygments_lexer": "ipython3",
   "version": "3.8.9"
  }
 },
 "nbformat": 4,
 "nbformat_minor": 4
}
